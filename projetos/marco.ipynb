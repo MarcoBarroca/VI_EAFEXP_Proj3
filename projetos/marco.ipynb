{
  "nbformat": 4,
  "nbformat_minor": 0,
  "metadata": {
    "colab": {
      "provenance": [],
      "authorship_tag": "ABX9TyO/ZXl7616fwNraG4eCZJPi",
      "include_colab_link": true
    },
    "kernelspec": {
      "name": "python3",
      "display_name": "Python 3"
    },
    "language_info": {
      "name": "python"
    },
    "accelerator": "GPU",
    "gpuClass": "standard",
    "widgets": {
      "application/vnd.jupyter.widget-state+json": {
        "5409894ff2384570820043aaed377d4e": {
          "model_module": "@jupyter-widgets/controls",
          "model_name": "HBoxModel",
          "model_module_version": "1.5.0",
          "state": {
            "_dom_classes": [],
            "_model_module": "@jupyter-widgets/controls",
            "_model_module_version": "1.5.0",
            "_model_name": "HBoxModel",
            "_view_count": null,
            "_view_module": "@jupyter-widgets/controls",
            "_view_module_version": "1.5.0",
            "_view_name": "HBoxView",
            "box_style": "",
            "children": [
              "IPY_MODEL_df7da87d53364e05bd93cce547ba968e",
              "IPY_MODEL_95b6d51039ca41fcbab054cdd753440a",
              "IPY_MODEL_8a592a0ccb1641b2bb457ed255c54271"
            ],
            "layout": "IPY_MODEL_00787b2fdc9f407a951e9f59e6d25b3d"
          }
        },
        "df7da87d53364e05bd93cce547ba968e": {
          "model_module": "@jupyter-widgets/controls",
          "model_name": "HTMLModel",
          "model_module_version": "1.5.0",
          "state": {
            "_dom_classes": [],
            "_model_module": "@jupyter-widgets/controls",
            "_model_module_version": "1.5.0",
            "_model_name": "HTMLModel",
            "_view_count": null,
            "_view_module": "@jupyter-widgets/controls",
            "_view_module_version": "1.5.0",
            "_view_name": "HTMLView",
            "description": "",
            "description_tooltip": null,
            "layout": "IPY_MODEL_1adc667bf7d6415e936ab218074aa1a1",
            "placeholder": "​",
            "style": "IPY_MODEL_92d73bb4bafa4a60b69064387de528d6",
            "value": "100%"
          }
        },
        "95b6d51039ca41fcbab054cdd753440a": {
          "model_module": "@jupyter-widgets/controls",
          "model_name": "FloatProgressModel",
          "model_module_version": "1.5.0",
          "state": {
            "_dom_classes": [],
            "_model_module": "@jupyter-widgets/controls",
            "_model_module_version": "1.5.0",
            "_model_name": "FloatProgressModel",
            "_view_count": null,
            "_view_module": "@jupyter-widgets/controls",
            "_view_module_version": "1.5.0",
            "_view_name": "ProgressView",
            "bar_style": "success",
            "description": "",
            "description_tooltip": null,
            "layout": "IPY_MODEL_947f2cc4cb5048b3b03fb3dd900f2011",
            "max": 7848,
            "min": 0,
            "orientation": "horizontal",
            "style": "IPY_MODEL_0f5e7012c8cb414188f050f862d1c3f3",
            "value": 7848
          }
        },
        "8a592a0ccb1641b2bb457ed255c54271": {
          "model_module": "@jupyter-widgets/controls",
          "model_name": "HTMLModel",
          "model_module_version": "1.5.0",
          "state": {
            "_dom_classes": [],
            "_model_module": "@jupyter-widgets/controls",
            "_model_module_version": "1.5.0",
            "_model_name": "HTMLModel",
            "_view_count": null,
            "_view_module": "@jupyter-widgets/controls",
            "_view_module_version": "1.5.0",
            "_view_name": "HTMLView",
            "description": "",
            "description_tooltip": null,
            "layout": "IPY_MODEL_807a88f460534dc8afe95157db9f6d0a",
            "placeholder": "​",
            "style": "IPY_MODEL_85e21690567f4a45b8502580442cdb1d",
            "value": " 7848/7848 [00:12&lt;00:00, 702.99it/s]"
          }
        },
        "00787b2fdc9f407a951e9f59e6d25b3d": {
          "model_module": "@jupyter-widgets/base",
          "model_name": "LayoutModel",
          "model_module_version": "1.2.0",
          "state": {
            "_model_module": "@jupyter-widgets/base",
            "_model_module_version": "1.2.0",
            "_model_name": "LayoutModel",
            "_view_count": null,
            "_view_module": "@jupyter-widgets/base",
            "_view_module_version": "1.2.0",
            "_view_name": "LayoutView",
            "align_content": null,
            "align_items": null,
            "align_self": null,
            "border": null,
            "bottom": null,
            "display": null,
            "flex": null,
            "flex_flow": null,
            "grid_area": null,
            "grid_auto_columns": null,
            "grid_auto_flow": null,
            "grid_auto_rows": null,
            "grid_column": null,
            "grid_gap": null,
            "grid_row": null,
            "grid_template_areas": null,
            "grid_template_columns": null,
            "grid_template_rows": null,
            "height": null,
            "justify_content": null,
            "justify_items": null,
            "left": null,
            "margin": null,
            "max_height": null,
            "max_width": null,
            "min_height": null,
            "min_width": null,
            "object_fit": null,
            "object_position": null,
            "order": null,
            "overflow": null,
            "overflow_x": null,
            "overflow_y": null,
            "padding": null,
            "right": null,
            "top": null,
            "visibility": null,
            "width": null
          }
        },
        "1adc667bf7d6415e936ab218074aa1a1": {
          "model_module": "@jupyter-widgets/base",
          "model_name": "LayoutModel",
          "model_module_version": "1.2.0",
          "state": {
            "_model_module": "@jupyter-widgets/base",
            "_model_module_version": "1.2.0",
            "_model_name": "LayoutModel",
            "_view_count": null,
            "_view_module": "@jupyter-widgets/base",
            "_view_module_version": "1.2.0",
            "_view_name": "LayoutView",
            "align_content": null,
            "align_items": null,
            "align_self": null,
            "border": null,
            "bottom": null,
            "display": null,
            "flex": null,
            "flex_flow": null,
            "grid_area": null,
            "grid_auto_columns": null,
            "grid_auto_flow": null,
            "grid_auto_rows": null,
            "grid_column": null,
            "grid_gap": null,
            "grid_row": null,
            "grid_template_areas": null,
            "grid_template_columns": null,
            "grid_template_rows": null,
            "height": null,
            "justify_content": null,
            "justify_items": null,
            "left": null,
            "margin": null,
            "max_height": null,
            "max_width": null,
            "min_height": null,
            "min_width": null,
            "object_fit": null,
            "object_position": null,
            "order": null,
            "overflow": null,
            "overflow_x": null,
            "overflow_y": null,
            "padding": null,
            "right": null,
            "top": null,
            "visibility": null,
            "width": null
          }
        },
        "92d73bb4bafa4a60b69064387de528d6": {
          "model_module": "@jupyter-widgets/controls",
          "model_name": "DescriptionStyleModel",
          "model_module_version": "1.5.0",
          "state": {
            "_model_module": "@jupyter-widgets/controls",
            "_model_module_version": "1.5.0",
            "_model_name": "DescriptionStyleModel",
            "_view_count": null,
            "_view_module": "@jupyter-widgets/base",
            "_view_module_version": "1.2.0",
            "_view_name": "StyleView",
            "description_width": ""
          }
        },
        "947f2cc4cb5048b3b03fb3dd900f2011": {
          "model_module": "@jupyter-widgets/base",
          "model_name": "LayoutModel",
          "model_module_version": "1.2.0",
          "state": {
            "_model_module": "@jupyter-widgets/base",
            "_model_module_version": "1.2.0",
            "_model_name": "LayoutModel",
            "_view_count": null,
            "_view_module": "@jupyter-widgets/base",
            "_view_module_version": "1.2.0",
            "_view_name": "LayoutView",
            "align_content": null,
            "align_items": null,
            "align_self": null,
            "border": null,
            "bottom": null,
            "display": null,
            "flex": null,
            "flex_flow": null,
            "grid_area": null,
            "grid_auto_columns": null,
            "grid_auto_flow": null,
            "grid_auto_rows": null,
            "grid_column": null,
            "grid_gap": null,
            "grid_row": null,
            "grid_template_areas": null,
            "grid_template_columns": null,
            "grid_template_rows": null,
            "height": null,
            "justify_content": null,
            "justify_items": null,
            "left": null,
            "margin": null,
            "max_height": null,
            "max_width": null,
            "min_height": null,
            "min_width": null,
            "object_fit": null,
            "object_position": null,
            "order": null,
            "overflow": null,
            "overflow_x": null,
            "overflow_y": null,
            "padding": null,
            "right": null,
            "top": null,
            "visibility": null,
            "width": null
          }
        },
        "0f5e7012c8cb414188f050f862d1c3f3": {
          "model_module": "@jupyter-widgets/controls",
          "model_name": "ProgressStyleModel",
          "model_module_version": "1.5.0",
          "state": {
            "_model_module": "@jupyter-widgets/controls",
            "_model_module_version": "1.5.0",
            "_model_name": "ProgressStyleModel",
            "_view_count": null,
            "_view_module": "@jupyter-widgets/base",
            "_view_module_version": "1.2.0",
            "_view_name": "StyleView",
            "bar_color": null,
            "description_width": ""
          }
        },
        "807a88f460534dc8afe95157db9f6d0a": {
          "model_module": "@jupyter-widgets/base",
          "model_name": "LayoutModel",
          "model_module_version": "1.2.0",
          "state": {
            "_model_module": "@jupyter-widgets/base",
            "_model_module_version": "1.2.0",
            "_model_name": "LayoutModel",
            "_view_count": null,
            "_view_module": "@jupyter-widgets/base",
            "_view_module_version": "1.2.0",
            "_view_name": "LayoutView",
            "align_content": null,
            "align_items": null,
            "align_self": null,
            "border": null,
            "bottom": null,
            "display": null,
            "flex": null,
            "flex_flow": null,
            "grid_area": null,
            "grid_auto_columns": null,
            "grid_auto_flow": null,
            "grid_auto_rows": null,
            "grid_column": null,
            "grid_gap": null,
            "grid_row": null,
            "grid_template_areas": null,
            "grid_template_columns": null,
            "grid_template_rows": null,
            "height": null,
            "justify_content": null,
            "justify_items": null,
            "left": null,
            "margin": null,
            "max_height": null,
            "max_width": null,
            "min_height": null,
            "min_width": null,
            "object_fit": null,
            "object_position": null,
            "order": null,
            "overflow": null,
            "overflow_x": null,
            "overflow_y": null,
            "padding": null,
            "right": null,
            "top": null,
            "visibility": null,
            "width": null
          }
        },
        "85e21690567f4a45b8502580442cdb1d": {
          "model_module": "@jupyter-widgets/controls",
          "model_name": "DescriptionStyleModel",
          "model_module_version": "1.5.0",
          "state": {
            "_model_module": "@jupyter-widgets/controls",
            "_model_module_version": "1.5.0",
            "_model_name": "DescriptionStyleModel",
            "_view_count": null,
            "_view_module": "@jupyter-widgets/base",
            "_view_module_version": "1.2.0",
            "_view_name": "StyleView",
            "description_width": ""
          }
        },
        "7346af76d44a43df955270c624d84286": {
          "model_module": "@jupyter-widgets/controls",
          "model_name": "HBoxModel",
          "model_module_version": "1.5.0",
          "state": {
            "_dom_classes": [],
            "_model_module": "@jupyter-widgets/controls",
            "_model_module_version": "1.5.0",
            "_model_name": "HBoxModel",
            "_view_count": null,
            "_view_module": "@jupyter-widgets/controls",
            "_view_module_version": "1.5.0",
            "_view_name": "HBoxView",
            "box_style": "",
            "children": [
              "IPY_MODEL_9f9b659e3eef45b4971ab51d250a9382",
              "IPY_MODEL_eeac756b6de24be6b487eb7918ef8676",
              "IPY_MODEL_4601d87e21e448c78916f97b4cb0d28e"
            ],
            "layout": "IPY_MODEL_13cd9fbcb5704d868bf57021671d16a8"
          }
        },
        "9f9b659e3eef45b4971ab51d250a9382": {
          "model_module": "@jupyter-widgets/controls",
          "model_name": "HTMLModel",
          "model_module_version": "1.5.0",
          "state": {
            "_dom_classes": [],
            "_model_module": "@jupyter-widgets/controls",
            "_model_module_version": "1.5.0",
            "_model_name": "HTMLModel",
            "_view_count": null,
            "_view_module": "@jupyter-widgets/controls",
            "_view_module_version": "1.5.0",
            "_view_name": "HTMLView",
            "description": "",
            "description_tooltip": null,
            "layout": "IPY_MODEL_e228d36045344beda00cfd7bfaceab69",
            "placeholder": "​",
            "style": "IPY_MODEL_77367906232443768bc00346a4dc20d2",
            "value": "100%"
          }
        },
        "eeac756b6de24be6b487eb7918ef8676": {
          "model_module": "@jupyter-widgets/controls",
          "model_name": "FloatProgressModel",
          "model_module_version": "1.5.0",
          "state": {
            "_dom_classes": [],
            "_model_module": "@jupyter-widgets/controls",
            "_model_module_version": "1.5.0",
            "_model_name": "FloatProgressModel",
            "_view_count": null,
            "_view_module": "@jupyter-widgets/controls",
            "_view_module_version": "1.5.0",
            "_view_name": "ProgressView",
            "bar_style": "success",
            "description": "",
            "description_tooltip": null,
            "layout": "IPY_MODEL_ae81eecb61134370ad94e8bffb941c13",
            "max": 19920,
            "min": 0,
            "orientation": "horizontal",
            "style": "IPY_MODEL_dfe859f0ad2e4e3f9e1beab2019a281f",
            "value": 19920
          }
        },
        "4601d87e21e448c78916f97b4cb0d28e": {
          "model_module": "@jupyter-widgets/controls",
          "model_name": "HTMLModel",
          "model_module_version": "1.5.0",
          "state": {
            "_dom_classes": [],
            "_model_module": "@jupyter-widgets/controls",
            "_model_module_version": "1.5.0",
            "_model_name": "HTMLModel",
            "_view_count": null,
            "_view_module": "@jupyter-widgets/controls",
            "_view_module_version": "1.5.0",
            "_view_name": "HTMLView",
            "description": "",
            "description_tooltip": null,
            "layout": "IPY_MODEL_fd3e45cc4d0349d195f9f9a81d7ec089",
            "placeholder": "​",
            "style": "IPY_MODEL_32aeb248a00c4e84a6aed21b0427cf28",
            "value": " 19920/19920 [00:25&lt;00:00, 891.00it/s]"
          }
        },
        "13cd9fbcb5704d868bf57021671d16a8": {
          "model_module": "@jupyter-widgets/base",
          "model_name": "LayoutModel",
          "model_module_version": "1.2.0",
          "state": {
            "_model_module": "@jupyter-widgets/base",
            "_model_module_version": "1.2.0",
            "_model_name": "LayoutModel",
            "_view_count": null,
            "_view_module": "@jupyter-widgets/base",
            "_view_module_version": "1.2.0",
            "_view_name": "LayoutView",
            "align_content": null,
            "align_items": null,
            "align_self": null,
            "border": null,
            "bottom": null,
            "display": null,
            "flex": null,
            "flex_flow": null,
            "grid_area": null,
            "grid_auto_columns": null,
            "grid_auto_flow": null,
            "grid_auto_rows": null,
            "grid_column": null,
            "grid_gap": null,
            "grid_row": null,
            "grid_template_areas": null,
            "grid_template_columns": null,
            "grid_template_rows": null,
            "height": null,
            "justify_content": null,
            "justify_items": null,
            "left": null,
            "margin": null,
            "max_height": null,
            "max_width": null,
            "min_height": null,
            "min_width": null,
            "object_fit": null,
            "object_position": null,
            "order": null,
            "overflow": null,
            "overflow_x": null,
            "overflow_y": null,
            "padding": null,
            "right": null,
            "top": null,
            "visibility": null,
            "width": null
          }
        },
        "e228d36045344beda00cfd7bfaceab69": {
          "model_module": "@jupyter-widgets/base",
          "model_name": "LayoutModel",
          "model_module_version": "1.2.0",
          "state": {
            "_model_module": "@jupyter-widgets/base",
            "_model_module_version": "1.2.0",
            "_model_name": "LayoutModel",
            "_view_count": null,
            "_view_module": "@jupyter-widgets/base",
            "_view_module_version": "1.2.0",
            "_view_name": "LayoutView",
            "align_content": null,
            "align_items": null,
            "align_self": null,
            "border": null,
            "bottom": null,
            "display": null,
            "flex": null,
            "flex_flow": null,
            "grid_area": null,
            "grid_auto_columns": null,
            "grid_auto_flow": null,
            "grid_auto_rows": null,
            "grid_column": null,
            "grid_gap": null,
            "grid_row": null,
            "grid_template_areas": null,
            "grid_template_columns": null,
            "grid_template_rows": null,
            "height": null,
            "justify_content": null,
            "justify_items": null,
            "left": null,
            "margin": null,
            "max_height": null,
            "max_width": null,
            "min_height": null,
            "min_width": null,
            "object_fit": null,
            "object_position": null,
            "order": null,
            "overflow": null,
            "overflow_x": null,
            "overflow_y": null,
            "padding": null,
            "right": null,
            "top": null,
            "visibility": null,
            "width": null
          }
        },
        "77367906232443768bc00346a4dc20d2": {
          "model_module": "@jupyter-widgets/controls",
          "model_name": "DescriptionStyleModel",
          "model_module_version": "1.5.0",
          "state": {
            "_model_module": "@jupyter-widgets/controls",
            "_model_module_version": "1.5.0",
            "_model_name": "DescriptionStyleModel",
            "_view_count": null,
            "_view_module": "@jupyter-widgets/base",
            "_view_module_version": "1.2.0",
            "_view_name": "StyleView",
            "description_width": ""
          }
        },
        "ae81eecb61134370ad94e8bffb941c13": {
          "model_module": "@jupyter-widgets/base",
          "model_name": "LayoutModel",
          "model_module_version": "1.2.0",
          "state": {
            "_model_module": "@jupyter-widgets/base",
            "_model_module_version": "1.2.0",
            "_model_name": "LayoutModel",
            "_view_count": null,
            "_view_module": "@jupyter-widgets/base",
            "_view_module_version": "1.2.0",
            "_view_name": "LayoutView",
            "align_content": null,
            "align_items": null,
            "align_self": null,
            "border": null,
            "bottom": null,
            "display": null,
            "flex": null,
            "flex_flow": null,
            "grid_area": null,
            "grid_auto_columns": null,
            "grid_auto_flow": null,
            "grid_auto_rows": null,
            "grid_column": null,
            "grid_gap": null,
            "grid_row": null,
            "grid_template_areas": null,
            "grid_template_columns": null,
            "grid_template_rows": null,
            "height": null,
            "justify_content": null,
            "justify_items": null,
            "left": null,
            "margin": null,
            "max_height": null,
            "max_width": null,
            "min_height": null,
            "min_width": null,
            "object_fit": null,
            "object_position": null,
            "order": null,
            "overflow": null,
            "overflow_x": null,
            "overflow_y": null,
            "padding": null,
            "right": null,
            "top": null,
            "visibility": null,
            "width": null
          }
        },
        "dfe859f0ad2e4e3f9e1beab2019a281f": {
          "model_module": "@jupyter-widgets/controls",
          "model_name": "ProgressStyleModel",
          "model_module_version": "1.5.0",
          "state": {
            "_model_module": "@jupyter-widgets/controls",
            "_model_module_version": "1.5.0",
            "_model_name": "ProgressStyleModel",
            "_view_count": null,
            "_view_module": "@jupyter-widgets/base",
            "_view_module_version": "1.2.0",
            "_view_name": "StyleView",
            "bar_color": null,
            "description_width": ""
          }
        },
        "fd3e45cc4d0349d195f9f9a81d7ec089": {
          "model_module": "@jupyter-widgets/base",
          "model_name": "LayoutModel",
          "model_module_version": "1.2.0",
          "state": {
            "_model_module": "@jupyter-widgets/base",
            "_model_module_version": "1.2.0",
            "_model_name": "LayoutModel",
            "_view_count": null,
            "_view_module": "@jupyter-widgets/base",
            "_view_module_version": "1.2.0",
            "_view_name": "LayoutView",
            "align_content": null,
            "align_items": null,
            "align_self": null,
            "border": null,
            "bottom": null,
            "display": null,
            "flex": null,
            "flex_flow": null,
            "grid_area": null,
            "grid_auto_columns": null,
            "grid_auto_flow": null,
            "grid_auto_rows": null,
            "grid_column": null,
            "grid_gap": null,
            "grid_row": null,
            "grid_template_areas": null,
            "grid_template_columns": null,
            "grid_template_rows": null,
            "height": null,
            "justify_content": null,
            "justify_items": null,
            "left": null,
            "margin": null,
            "max_height": null,
            "max_width": null,
            "min_height": null,
            "min_width": null,
            "object_fit": null,
            "object_position": null,
            "order": null,
            "overflow": null,
            "overflow_x": null,
            "overflow_y": null,
            "padding": null,
            "right": null,
            "top": null,
            "visibility": null,
            "width": null
          }
        },
        "32aeb248a00c4e84a6aed21b0427cf28": {
          "model_module": "@jupyter-widgets/controls",
          "model_name": "DescriptionStyleModel",
          "model_module_version": "1.5.0",
          "state": {
            "_model_module": "@jupyter-widgets/controls",
            "_model_module_version": "1.5.0",
            "_model_name": "DescriptionStyleModel",
            "_view_count": null,
            "_view_module": "@jupyter-widgets/base",
            "_view_module_version": "1.2.0",
            "_view_name": "StyleView",
            "description_width": ""
          }
        }
      }
    }
  },
  "cells": [
    {
      "cell_type": "markdown",
      "metadata": {
        "id": "view-in-github",
        "colab_type": "text"
      },
      "source": [
        "<a href=\"https://colab.research.google.com/github/MarcoBarroca/VI_EAFEXP_Proj3/blob/main/projetos/marco.ipynb\" target=\"_parent\"><img src=\"https://colab.research.google.com/assets/colab-badge.svg\" alt=\"Open In Colab\"/></a>"
      ]
    },
    {
      "cell_type": "code",
      "execution_count": 2,
      "metadata": {
        "id": "LujkxF66Ablk"
      },
      "outputs": [],
      "source": [
        "\n",
        "import os\n",
        "import random\n",
        "import pandas as pd\n",
        "import numpy as np\n",
        "import matplotlib.pyplot as plt\n",
        "plt.style.use(\"ggplot\")\n",
        "\n",
        "from tqdm import tqdm, tnrange\n",
        "from itertools import chain\n",
        "from skimage.io import imread, imshow, concatenate_images\n",
        "from skimage.transform import resize\n",
        "from skimage.morphology import label\n",
        "from sklearn.model_selection import train_test_split\n",
        "\n",
        "import tensorflow as tf\n",
        "\n",
        "from tensorflow.keras.models import Model, load_model\n",
        "from tensorflow.keras.layers import Input, BatchNormalization, Activation, Dense, Dropout\n",
        "from tensorflow.keras.layers import Conv2D, Conv2DTranspose\n",
        "from tensorflow.keras.layers import MaxPooling2D, GlobalMaxPool2D\n",
        "from tensorflow.keras.layers import concatenate, add\n",
        "from tensorflow.keras.callbacks import EarlyStopping, ModelCheckpoint, ReduceLROnPlateau\n",
        "from tensorflow.keras.optimizers import Adam\n",
        "from tensorflow.keras.preprocessing.image import ImageDataGenerator, array_to_img, img_to_array, load_img\n",
        "from tensorflow.keras import backend as K"
      ]
    },
    {
      "cell_type": "code",
      "source": [
        "from google.colab import drive\n",
        "drive.mount('/content/drive')"
      ],
      "metadata": {
        "colab": {
          "base_uri": "https://localhost:8080/"
        },
        "id": "OsqXUHVgCeoM",
        "outputId": "547a18de-4a58-4f56-bc79-1675e46f0087"
      },
      "execution_count": 3,
      "outputs": [
        {
          "output_type": "stream",
          "name": "stdout",
          "text": [
            "Mounted at /content/drive\n"
          ]
        }
      ]
    },
    {
      "cell_type": "code",
      "source": [
        "WORK_DIR = '/content/drive/MyDrive/DataP03/'\n",
        "METADATA_TRAIN='/content/drive/MyDrive/DataP03/plasticc_train_metadata.csv.gz'\n",
        "DATA_TRAIN='/content/drive/MyDrive/DataP03/plasticc_train_lightcurves.csv.gz'\n",
        "DATA_TEST='/content/drive/MyDrive/DataP03/plasticc_test_metadata.csv.gz'\n",
        "DATA_EXTRA='/content/drive/MyDrive/DataP03/plasticc_lightcurves_extra.csv.gz'"
      ],
      "metadata": {
        "id": "VvzFbNs0CkgU"
      },
      "execution_count": 4,
      "outputs": []
    },
    {
      "cell_type": "code",
      "source": [
        "\n",
        "train_data = pd.read_csv(DATA_TRAIN,\n",
        ")\n",
        "\n",
        "metadata_test=pd.read_csv(DATA_TEST)\n",
        "test_data=pd.read_csv(DATA_EXTRA)\n",
        "metadata_train=pd.read_csv(METADATA_TRAIN)\n"
      ],
      "metadata": {
        "id": "tqwgC60MC5Wz"
      },
      "execution_count": 221,
      "outputs": []
    },
    {
      "cell_type": "code",
      "source": [
        "metadata_train"
      ],
      "metadata": {
        "colab": {
          "base_uri": "https://localhost:8080/",
          "height": 488
        },
        "id": "b3Lvzd4RFAKm",
        "outputId": "749d4dc8-815e-4287-ef5f-63743fae69cb"
      },
      "execution_count": 64,
      "outputs": [
        {
          "output_type": "execute_result",
          "data": {
            "text/plain": [
              "      object_id        ra     decl  ddf_bool  hostgal_specz  hostgal_photoz  \\\n",
              "0           615  349.0461 -61.9438         1          0.000           0.000   \n",
              "1           713   53.0859 -27.7844         1          1.818           1.627   \n",
              "2           730   33.5742  -6.5796         1          0.232           0.226   \n",
              "3           745    0.1899 -45.5867         1          0.304           0.281   \n",
              "4          1124  352.7113 -63.8237         1          0.193           0.241   \n",
              "...         ...       ...      ...       ...            ...             ...   \n",
              "7843  130739978   26.7188 -14.9403         0          0.000           0.000   \n",
              "7844  130755807  120.1013 -62.6967         0          0.172           2.561   \n",
              "7845  130762946  203.1081 -55.6821         0          0.000           0.000   \n",
              "7846  130772921   79.1016 -35.5018         0          0.000           0.000   \n",
              "7847  130779836  301.9922 -17.4263         0          0.000           0.000   \n",
              "\n",
              "      hostgal_photoz_err  distmod  mwebv  target  ...  true_rv  true_av  \\\n",
              "0                  0.000   -9.000  0.017      92  ...      0.0      0.0   \n",
              "1                  0.255   45.406  0.007      88  ...      0.0      0.0   \n",
              "2                  0.016   40.256  0.021      42  ...      0.0      0.0   \n",
              "3                  1.152   40.795  0.007      90  ...      0.0      0.0   \n",
              "4                  0.018   40.417  0.024      90  ...      0.0      0.0   \n",
              "...                  ...      ...    ...     ...  ...      ...      ...   \n",
              "7843               0.000   -9.000  0.013      65  ...      0.0      0.0   \n",
              "7844               1.115   46.611  0.136      90  ...      0.0      0.0   \n",
              "7845               0.000   -9.000  0.430      16  ...      0.0      0.0   \n",
              "7846               0.000   -9.000  0.034      65  ...      0.0      0.0   \n",
              "7847               0.000   -9.000  0.091       6  ...      0.0      0.0   \n",
              "\n",
              "      true_peakmjd  libid_cadence  tflux_u  tflux_g  tflux_r  tflux_i  \\\n",
              "0        59570.000             69    484.7   3286.7   3214.1   3039.7   \n",
              "1        59570.000             34    108.7    117.7    119.9    149.6   \n",
              "2        60444.379              9      0.0      0.0      0.0      0.0   \n",
              "3        60130.453             38      0.0      0.0      0.0      0.0   \n",
              "4        60452.641              1      0.0      0.0      0.0      0.0   \n",
              "...            ...            ...      ...      ...      ...      ...   \n",
              "7843     59570.000          18232     26.4    267.6    742.8   3295.1   \n",
              "7844     60056.809          14934      0.0      0.0      0.0      0.0   \n",
              "7845     59570.000          47805     83.8   1124.7   1445.1   1191.2   \n",
              "7846     59570.000          22240      1.9     14.4     49.4    244.3   \n",
              "7847     59905.160            305   6134.1  23008.9  36299.5  41257.7   \n",
              "\n",
              "      tflux_z  tflux_y  \n",
              "0      2854.5   2837.0  \n",
              "1       147.9    150.5  \n",
              "2         0.0      0.0  \n",
              "3         0.0      0.0  \n",
              "4         0.0      0.0  \n",
              "...       ...      ...  \n",
              "7843   6047.5   7955.2  \n",
              "7844      0.0      0.0  \n",
              "7845    848.9    382.5  \n",
              "7846    534.8    897.2  \n",
              "7847  43047.7  44230.7  \n",
              "\n",
              "[7848 rows x 26 columns]"
            ],
            "text/html": [
              "\n",
              "  <div id=\"df-53702ec1-f40b-4ab1-9d3c-1595819d0a09\">\n",
              "    <div class=\"colab-df-container\">\n",
              "      <div>\n",
              "<style scoped>\n",
              "    .dataframe tbody tr th:only-of-type {\n",
              "        vertical-align: middle;\n",
              "    }\n",
              "\n",
              "    .dataframe tbody tr th {\n",
              "        vertical-align: top;\n",
              "    }\n",
              "\n",
              "    .dataframe thead th {\n",
              "        text-align: right;\n",
              "    }\n",
              "</style>\n",
              "<table border=\"1\" class=\"dataframe\">\n",
              "  <thead>\n",
              "    <tr style=\"text-align: right;\">\n",
              "      <th></th>\n",
              "      <th>object_id</th>\n",
              "      <th>ra</th>\n",
              "      <th>decl</th>\n",
              "      <th>ddf_bool</th>\n",
              "      <th>hostgal_specz</th>\n",
              "      <th>hostgal_photoz</th>\n",
              "      <th>hostgal_photoz_err</th>\n",
              "      <th>distmod</th>\n",
              "      <th>mwebv</th>\n",
              "      <th>target</th>\n",
              "      <th>...</th>\n",
              "      <th>true_rv</th>\n",
              "      <th>true_av</th>\n",
              "      <th>true_peakmjd</th>\n",
              "      <th>libid_cadence</th>\n",
              "      <th>tflux_u</th>\n",
              "      <th>tflux_g</th>\n",
              "      <th>tflux_r</th>\n",
              "      <th>tflux_i</th>\n",
              "      <th>tflux_z</th>\n",
              "      <th>tflux_y</th>\n",
              "    </tr>\n",
              "  </thead>\n",
              "  <tbody>\n",
              "    <tr>\n",
              "      <th>0</th>\n",
              "      <td>615</td>\n",
              "      <td>349.0461</td>\n",
              "      <td>-61.9438</td>\n",
              "      <td>1</td>\n",
              "      <td>0.000</td>\n",
              "      <td>0.000</td>\n",
              "      <td>0.000</td>\n",
              "      <td>-9.000</td>\n",
              "      <td>0.017</td>\n",
              "      <td>92</td>\n",
              "      <td>...</td>\n",
              "      <td>0.0</td>\n",
              "      <td>0.0</td>\n",
              "      <td>59570.000</td>\n",
              "      <td>69</td>\n",
              "      <td>484.7</td>\n",
              "      <td>3286.7</td>\n",
              "      <td>3214.1</td>\n",
              "      <td>3039.7</td>\n",
              "      <td>2854.5</td>\n",
              "      <td>2837.0</td>\n",
              "    </tr>\n",
              "    <tr>\n",
              "      <th>1</th>\n",
              "      <td>713</td>\n",
              "      <td>53.0859</td>\n",
              "      <td>-27.7844</td>\n",
              "      <td>1</td>\n",
              "      <td>1.818</td>\n",
              "      <td>1.627</td>\n",
              "      <td>0.255</td>\n",
              "      <td>45.406</td>\n",
              "      <td>0.007</td>\n",
              "      <td>88</td>\n",
              "      <td>...</td>\n",
              "      <td>0.0</td>\n",
              "      <td>0.0</td>\n",
              "      <td>59570.000</td>\n",
              "      <td>34</td>\n",
              "      <td>108.7</td>\n",
              "      <td>117.7</td>\n",
              "      <td>119.9</td>\n",
              "      <td>149.6</td>\n",
              "      <td>147.9</td>\n",
              "      <td>150.5</td>\n",
              "    </tr>\n",
              "    <tr>\n",
              "      <th>2</th>\n",
              "      <td>730</td>\n",
              "      <td>33.5742</td>\n",
              "      <td>-6.5796</td>\n",
              "      <td>1</td>\n",
              "      <td>0.232</td>\n",
              "      <td>0.226</td>\n",
              "      <td>0.016</td>\n",
              "      <td>40.256</td>\n",
              "      <td>0.021</td>\n",
              "      <td>42</td>\n",
              "      <td>...</td>\n",
              "      <td>0.0</td>\n",
              "      <td>0.0</td>\n",
              "      <td>60444.379</td>\n",
              "      <td>9</td>\n",
              "      <td>0.0</td>\n",
              "      <td>0.0</td>\n",
              "      <td>0.0</td>\n",
              "      <td>0.0</td>\n",
              "      <td>0.0</td>\n",
              "      <td>0.0</td>\n",
              "    </tr>\n",
              "    <tr>\n",
              "      <th>3</th>\n",
              "      <td>745</td>\n",
              "      <td>0.1899</td>\n",
              "      <td>-45.5867</td>\n",
              "      <td>1</td>\n",
              "      <td>0.304</td>\n",
              "      <td>0.281</td>\n",
              "      <td>1.152</td>\n",
              "      <td>40.795</td>\n",
              "      <td>0.007</td>\n",
              "      <td>90</td>\n",
              "      <td>...</td>\n",
              "      <td>0.0</td>\n",
              "      <td>0.0</td>\n",
              "      <td>60130.453</td>\n",
              "      <td>38</td>\n",
              "      <td>0.0</td>\n",
              "      <td>0.0</td>\n",
              "      <td>0.0</td>\n",
              "      <td>0.0</td>\n",
              "      <td>0.0</td>\n",
              "      <td>0.0</td>\n",
              "    </tr>\n",
              "    <tr>\n",
              "      <th>4</th>\n",
              "      <td>1124</td>\n",
              "      <td>352.7113</td>\n",
              "      <td>-63.8237</td>\n",
              "      <td>1</td>\n",
              "      <td>0.193</td>\n",
              "      <td>0.241</td>\n",
              "      <td>0.018</td>\n",
              "      <td>40.417</td>\n",
              "      <td>0.024</td>\n",
              "      <td>90</td>\n",
              "      <td>...</td>\n",
              "      <td>0.0</td>\n",
              "      <td>0.0</td>\n",
              "      <td>60452.641</td>\n",
              "      <td>1</td>\n",
              "      <td>0.0</td>\n",
              "      <td>0.0</td>\n",
              "      <td>0.0</td>\n",
              "      <td>0.0</td>\n",
              "      <td>0.0</td>\n",
              "      <td>0.0</td>\n",
              "    </tr>\n",
              "    <tr>\n",
              "      <th>...</th>\n",
              "      <td>...</td>\n",
              "      <td>...</td>\n",
              "      <td>...</td>\n",
              "      <td>...</td>\n",
              "      <td>...</td>\n",
              "      <td>...</td>\n",
              "      <td>...</td>\n",
              "      <td>...</td>\n",
              "      <td>...</td>\n",
              "      <td>...</td>\n",
              "      <td>...</td>\n",
              "      <td>...</td>\n",
              "      <td>...</td>\n",
              "      <td>...</td>\n",
              "      <td>...</td>\n",
              "      <td>...</td>\n",
              "      <td>...</td>\n",
              "      <td>...</td>\n",
              "      <td>...</td>\n",
              "      <td>...</td>\n",
              "      <td>...</td>\n",
              "    </tr>\n",
              "    <tr>\n",
              "      <th>7843</th>\n",
              "      <td>130739978</td>\n",
              "      <td>26.7188</td>\n",
              "      <td>-14.9403</td>\n",
              "      <td>0</td>\n",
              "      <td>0.000</td>\n",
              "      <td>0.000</td>\n",
              "      <td>0.000</td>\n",
              "      <td>-9.000</td>\n",
              "      <td>0.013</td>\n",
              "      <td>65</td>\n",
              "      <td>...</td>\n",
              "      <td>0.0</td>\n",
              "      <td>0.0</td>\n",
              "      <td>59570.000</td>\n",
              "      <td>18232</td>\n",
              "      <td>26.4</td>\n",
              "      <td>267.6</td>\n",
              "      <td>742.8</td>\n",
              "      <td>3295.1</td>\n",
              "      <td>6047.5</td>\n",
              "      <td>7955.2</td>\n",
              "    </tr>\n",
              "    <tr>\n",
              "      <th>7844</th>\n",
              "      <td>130755807</td>\n",
              "      <td>120.1013</td>\n",
              "      <td>-62.6967</td>\n",
              "      <td>0</td>\n",
              "      <td>0.172</td>\n",
              "      <td>2.561</td>\n",
              "      <td>1.115</td>\n",
              "      <td>46.611</td>\n",
              "      <td>0.136</td>\n",
              "      <td>90</td>\n",
              "      <td>...</td>\n",
              "      <td>0.0</td>\n",
              "      <td>0.0</td>\n",
              "      <td>60056.809</td>\n",
              "      <td>14934</td>\n",
              "      <td>0.0</td>\n",
              "      <td>0.0</td>\n",
              "      <td>0.0</td>\n",
              "      <td>0.0</td>\n",
              "      <td>0.0</td>\n",
              "      <td>0.0</td>\n",
              "    </tr>\n",
              "    <tr>\n",
              "      <th>7845</th>\n",
              "      <td>130762946</td>\n",
              "      <td>203.1081</td>\n",
              "      <td>-55.6821</td>\n",
              "      <td>0</td>\n",
              "      <td>0.000</td>\n",
              "      <td>0.000</td>\n",
              "      <td>0.000</td>\n",
              "      <td>-9.000</td>\n",
              "      <td>0.430</td>\n",
              "      <td>16</td>\n",
              "      <td>...</td>\n",
              "      <td>0.0</td>\n",
              "      <td>0.0</td>\n",
              "      <td>59570.000</td>\n",
              "      <td>47805</td>\n",
              "      <td>83.8</td>\n",
              "      <td>1124.7</td>\n",
              "      <td>1445.1</td>\n",
              "      <td>1191.2</td>\n",
              "      <td>848.9</td>\n",
              "      <td>382.5</td>\n",
              "    </tr>\n",
              "    <tr>\n",
              "      <th>7846</th>\n",
              "      <td>130772921</td>\n",
              "      <td>79.1016</td>\n",
              "      <td>-35.5018</td>\n",
              "      <td>0</td>\n",
              "      <td>0.000</td>\n",
              "      <td>0.000</td>\n",
              "      <td>0.000</td>\n",
              "      <td>-9.000</td>\n",
              "      <td>0.034</td>\n",
              "      <td>65</td>\n",
              "      <td>...</td>\n",
              "      <td>0.0</td>\n",
              "      <td>0.0</td>\n",
              "      <td>59570.000</td>\n",
              "      <td>22240</td>\n",
              "      <td>1.9</td>\n",
              "      <td>14.4</td>\n",
              "      <td>49.4</td>\n",
              "      <td>244.3</td>\n",
              "      <td>534.8</td>\n",
              "      <td>897.2</td>\n",
              "    </tr>\n",
              "    <tr>\n",
              "      <th>7847</th>\n",
              "      <td>130779836</td>\n",
              "      <td>301.9922</td>\n",
              "      <td>-17.4263</td>\n",
              "      <td>0</td>\n",
              "      <td>0.000</td>\n",
              "      <td>0.000</td>\n",
              "      <td>0.000</td>\n",
              "      <td>-9.000</td>\n",
              "      <td>0.091</td>\n",
              "      <td>6</td>\n",
              "      <td>...</td>\n",
              "      <td>0.0</td>\n",
              "      <td>0.0</td>\n",
              "      <td>59905.160</td>\n",
              "      <td>305</td>\n",
              "      <td>6134.1</td>\n",
              "      <td>23008.9</td>\n",
              "      <td>36299.5</td>\n",
              "      <td>41257.7</td>\n",
              "      <td>43047.7</td>\n",
              "      <td>44230.7</td>\n",
              "    </tr>\n",
              "  </tbody>\n",
              "</table>\n",
              "<p>7848 rows × 26 columns</p>\n",
              "</div>\n",
              "      <button class=\"colab-df-convert\" onclick=\"convertToInteractive('df-53702ec1-f40b-4ab1-9d3c-1595819d0a09')\"\n",
              "              title=\"Convert this dataframe to an interactive table.\"\n",
              "              style=\"display:none;\">\n",
              "        \n",
              "  <svg xmlns=\"http://www.w3.org/2000/svg\" height=\"24px\"viewBox=\"0 0 24 24\"\n",
              "       width=\"24px\">\n",
              "    <path d=\"M0 0h24v24H0V0z\" fill=\"none\"/>\n",
              "    <path d=\"M18.56 5.44l.94 2.06.94-2.06 2.06-.94-2.06-.94-.94-2.06-.94 2.06-2.06.94zm-11 1L8.5 8.5l.94-2.06 2.06-.94-2.06-.94L8.5 2.5l-.94 2.06-2.06.94zm10 10l.94 2.06.94-2.06 2.06-.94-2.06-.94-.94-2.06-.94 2.06-2.06.94z\"/><path d=\"M17.41 7.96l-1.37-1.37c-.4-.4-.92-.59-1.43-.59-.52 0-1.04.2-1.43.59L10.3 9.45l-7.72 7.72c-.78.78-.78 2.05 0 2.83L4 21.41c.39.39.9.59 1.41.59.51 0 1.02-.2 1.41-.59l7.78-7.78 2.81-2.81c.8-.78.8-2.07 0-2.86zM5.41 20L4 18.59l7.72-7.72 1.47 1.35L5.41 20z\"/>\n",
              "  </svg>\n",
              "      </button>\n",
              "      \n",
              "  <style>\n",
              "    .colab-df-container {\n",
              "      display:flex;\n",
              "      flex-wrap:wrap;\n",
              "      gap: 12px;\n",
              "    }\n",
              "\n",
              "    .colab-df-convert {\n",
              "      background-color: #E8F0FE;\n",
              "      border: none;\n",
              "      border-radius: 50%;\n",
              "      cursor: pointer;\n",
              "      display: none;\n",
              "      fill: #1967D2;\n",
              "      height: 32px;\n",
              "      padding: 0 0 0 0;\n",
              "      width: 32px;\n",
              "    }\n",
              "\n",
              "    .colab-df-convert:hover {\n",
              "      background-color: #E2EBFA;\n",
              "      box-shadow: 0px 1px 2px rgba(60, 64, 67, 0.3), 0px 1px 3px 1px rgba(60, 64, 67, 0.15);\n",
              "      fill: #174EA6;\n",
              "    }\n",
              "\n",
              "    [theme=dark] .colab-df-convert {\n",
              "      background-color: #3B4455;\n",
              "      fill: #D2E3FC;\n",
              "    }\n",
              "\n",
              "    [theme=dark] .colab-df-convert:hover {\n",
              "      background-color: #434B5C;\n",
              "      box-shadow: 0px 1px 3px 1px rgba(0, 0, 0, 0.15);\n",
              "      filter: drop-shadow(0px 1px 2px rgba(0, 0, 0, 0.3));\n",
              "      fill: #FFFFFF;\n",
              "    }\n",
              "  </style>\n",
              "\n",
              "      <script>\n",
              "        const buttonEl =\n",
              "          document.querySelector('#df-53702ec1-f40b-4ab1-9d3c-1595819d0a09 button.colab-df-convert');\n",
              "        buttonEl.style.display =\n",
              "          google.colab.kernel.accessAllowed ? 'block' : 'none';\n",
              "\n",
              "        async function convertToInteractive(key) {\n",
              "          const element = document.querySelector('#df-53702ec1-f40b-4ab1-9d3c-1595819d0a09');\n",
              "          const dataTable =\n",
              "            await google.colab.kernel.invokeFunction('convertToInteractive',\n",
              "                                                     [key], {});\n",
              "          if (!dataTable) return;\n",
              "\n",
              "          const docLinkHtml = 'Like what you see? Visit the ' +\n",
              "            '<a target=\"_blank\" href=https://colab.research.google.com/notebooks/data_table.ipynb>data table notebook</a>'\n",
              "            + ' to learn more about interactive tables.';\n",
              "          element.innerHTML = '';\n",
              "          dataTable['output_type'] = 'display_data';\n",
              "          await google.colab.output.renderOutput(dataTable, element);\n",
              "          const docLink = document.createElement('div');\n",
              "          docLink.innerHTML = docLinkHtml;\n",
              "          element.appendChild(docLink);\n",
              "        }\n",
              "      </script>\n",
              "    </div>\n",
              "  </div>\n",
              "  "
            ]
          },
          "metadata": {},
          "execution_count": 64
        }
      ]
    },
    {
      "cell_type": "code",
      "source": [
        "train_data"
      ],
      "metadata": {
        "colab": {
          "base_uri": "https://localhost:8080/",
          "height": 424
        },
        "id": "jHojPqbQFFfs",
        "outputId": "0c238a92-da66-4a18-9a52-c16f0954f4fb"
      },
      "execution_count": 93,
      "outputs": [
        {
          "output_type": "execute_result",
          "data": {
            "text/plain": [
              "         object_id         mjd  passband        flux   flux_err  detected_bool\n",
              "0              615  59750.4229         2 -544.810303   3.622952              1\n",
              "1              615  59750.4306         1 -816.434326   5.553370              1\n",
              "2              615  59750.4383         3 -471.385529   3.801213              1\n",
              "3              615  59750.4450         4 -388.984985  11.395031              1\n",
              "4              615  59752.4070         2 -681.858887   4.041204              1\n",
              "...            ...         ...       ...         ...        ...            ...\n",
              "1421700  130779836  60555.9838         4  -39.881969  46.477093              0\n",
              "1421701  130779836  60560.0459         1   14.894439  18.947685              0\n",
              "1421702  130779836  60571.0225         5   30.593130  50.695290              0\n",
              "1421703  130779836  60585.9974         4  -23.471439  44.819859              0\n",
              "1421704  130779836  60588.0372         0  -41.214264  51.665123              0\n",
              "\n",
              "[1421705 rows x 6 columns]"
            ],
            "text/html": [
              "\n",
              "  <div id=\"df-e424459e-c7fb-4383-b947-07223f311716\">\n",
              "    <div class=\"colab-df-container\">\n",
              "      <div>\n",
              "<style scoped>\n",
              "    .dataframe tbody tr th:only-of-type {\n",
              "        vertical-align: middle;\n",
              "    }\n",
              "\n",
              "    .dataframe tbody tr th {\n",
              "        vertical-align: top;\n",
              "    }\n",
              "\n",
              "    .dataframe thead th {\n",
              "        text-align: right;\n",
              "    }\n",
              "</style>\n",
              "<table border=\"1\" class=\"dataframe\">\n",
              "  <thead>\n",
              "    <tr style=\"text-align: right;\">\n",
              "      <th></th>\n",
              "      <th>object_id</th>\n",
              "      <th>mjd</th>\n",
              "      <th>passband</th>\n",
              "      <th>flux</th>\n",
              "      <th>flux_err</th>\n",
              "      <th>detected_bool</th>\n",
              "    </tr>\n",
              "  </thead>\n",
              "  <tbody>\n",
              "    <tr>\n",
              "      <th>0</th>\n",
              "      <td>615</td>\n",
              "      <td>59750.4229</td>\n",
              "      <td>2</td>\n",
              "      <td>-544.810303</td>\n",
              "      <td>3.622952</td>\n",
              "      <td>1</td>\n",
              "    </tr>\n",
              "    <tr>\n",
              "      <th>1</th>\n",
              "      <td>615</td>\n",
              "      <td>59750.4306</td>\n",
              "      <td>1</td>\n",
              "      <td>-816.434326</td>\n",
              "      <td>5.553370</td>\n",
              "      <td>1</td>\n",
              "    </tr>\n",
              "    <tr>\n",
              "      <th>2</th>\n",
              "      <td>615</td>\n",
              "      <td>59750.4383</td>\n",
              "      <td>3</td>\n",
              "      <td>-471.385529</td>\n",
              "      <td>3.801213</td>\n",
              "      <td>1</td>\n",
              "    </tr>\n",
              "    <tr>\n",
              "      <th>3</th>\n",
              "      <td>615</td>\n",
              "      <td>59750.4450</td>\n",
              "      <td>4</td>\n",
              "      <td>-388.984985</td>\n",
              "      <td>11.395031</td>\n",
              "      <td>1</td>\n",
              "    </tr>\n",
              "    <tr>\n",
              "      <th>4</th>\n",
              "      <td>615</td>\n",
              "      <td>59752.4070</td>\n",
              "      <td>2</td>\n",
              "      <td>-681.858887</td>\n",
              "      <td>4.041204</td>\n",
              "      <td>1</td>\n",
              "    </tr>\n",
              "    <tr>\n",
              "      <th>...</th>\n",
              "      <td>...</td>\n",
              "      <td>...</td>\n",
              "      <td>...</td>\n",
              "      <td>...</td>\n",
              "      <td>...</td>\n",
              "      <td>...</td>\n",
              "    </tr>\n",
              "    <tr>\n",
              "      <th>1421700</th>\n",
              "      <td>130779836</td>\n",
              "      <td>60555.9838</td>\n",
              "      <td>4</td>\n",
              "      <td>-39.881969</td>\n",
              "      <td>46.477093</td>\n",
              "      <td>0</td>\n",
              "    </tr>\n",
              "    <tr>\n",
              "      <th>1421701</th>\n",
              "      <td>130779836</td>\n",
              "      <td>60560.0459</td>\n",
              "      <td>1</td>\n",
              "      <td>14.894439</td>\n",
              "      <td>18.947685</td>\n",
              "      <td>0</td>\n",
              "    </tr>\n",
              "    <tr>\n",
              "      <th>1421702</th>\n",
              "      <td>130779836</td>\n",
              "      <td>60571.0225</td>\n",
              "      <td>5</td>\n",
              "      <td>30.593130</td>\n",
              "      <td>50.695290</td>\n",
              "      <td>0</td>\n",
              "    </tr>\n",
              "    <tr>\n",
              "      <th>1421703</th>\n",
              "      <td>130779836</td>\n",
              "      <td>60585.9974</td>\n",
              "      <td>4</td>\n",
              "      <td>-23.471439</td>\n",
              "      <td>44.819859</td>\n",
              "      <td>0</td>\n",
              "    </tr>\n",
              "    <tr>\n",
              "      <th>1421704</th>\n",
              "      <td>130779836</td>\n",
              "      <td>60588.0372</td>\n",
              "      <td>0</td>\n",
              "      <td>-41.214264</td>\n",
              "      <td>51.665123</td>\n",
              "      <td>0</td>\n",
              "    </tr>\n",
              "  </tbody>\n",
              "</table>\n",
              "<p>1421705 rows × 6 columns</p>\n",
              "</div>\n",
              "      <button class=\"colab-df-convert\" onclick=\"convertToInteractive('df-e424459e-c7fb-4383-b947-07223f311716')\"\n",
              "              title=\"Convert this dataframe to an interactive table.\"\n",
              "              style=\"display:none;\">\n",
              "        \n",
              "  <svg xmlns=\"http://www.w3.org/2000/svg\" height=\"24px\"viewBox=\"0 0 24 24\"\n",
              "       width=\"24px\">\n",
              "    <path d=\"M0 0h24v24H0V0z\" fill=\"none\"/>\n",
              "    <path d=\"M18.56 5.44l.94 2.06.94-2.06 2.06-.94-2.06-.94-.94-2.06-.94 2.06-2.06.94zm-11 1L8.5 8.5l.94-2.06 2.06-.94-2.06-.94L8.5 2.5l-.94 2.06-2.06.94zm10 10l.94 2.06.94-2.06 2.06-.94-2.06-.94-.94-2.06-.94 2.06-2.06.94z\"/><path d=\"M17.41 7.96l-1.37-1.37c-.4-.4-.92-.59-1.43-.59-.52 0-1.04.2-1.43.59L10.3 9.45l-7.72 7.72c-.78.78-.78 2.05 0 2.83L4 21.41c.39.39.9.59 1.41.59.51 0 1.02-.2 1.41-.59l7.78-7.78 2.81-2.81c.8-.78.8-2.07 0-2.86zM5.41 20L4 18.59l7.72-7.72 1.47 1.35L5.41 20z\"/>\n",
              "  </svg>\n",
              "      </button>\n",
              "      \n",
              "  <style>\n",
              "    .colab-df-container {\n",
              "      display:flex;\n",
              "      flex-wrap:wrap;\n",
              "      gap: 12px;\n",
              "    }\n",
              "\n",
              "    .colab-df-convert {\n",
              "      background-color: #E8F0FE;\n",
              "      border: none;\n",
              "      border-radius: 50%;\n",
              "      cursor: pointer;\n",
              "      display: none;\n",
              "      fill: #1967D2;\n",
              "      height: 32px;\n",
              "      padding: 0 0 0 0;\n",
              "      width: 32px;\n",
              "    }\n",
              "\n",
              "    .colab-df-convert:hover {\n",
              "      background-color: #E2EBFA;\n",
              "      box-shadow: 0px 1px 2px rgba(60, 64, 67, 0.3), 0px 1px 3px 1px rgba(60, 64, 67, 0.15);\n",
              "      fill: #174EA6;\n",
              "    }\n",
              "\n",
              "    [theme=dark] .colab-df-convert {\n",
              "      background-color: #3B4455;\n",
              "      fill: #D2E3FC;\n",
              "    }\n",
              "\n",
              "    [theme=dark] .colab-df-convert:hover {\n",
              "      background-color: #434B5C;\n",
              "      box-shadow: 0px 1px 3px 1px rgba(0, 0, 0, 0.15);\n",
              "      filter: drop-shadow(0px 1px 2px rgba(0, 0, 0, 0.3));\n",
              "      fill: #FFFFFF;\n",
              "    }\n",
              "  </style>\n",
              "\n",
              "      <script>\n",
              "        const buttonEl =\n",
              "          document.querySelector('#df-e424459e-c7fb-4383-b947-07223f311716 button.colab-df-convert');\n",
              "        buttonEl.style.display =\n",
              "          google.colab.kernel.accessAllowed ? 'block' : 'none';\n",
              "\n",
              "        async function convertToInteractive(key) {\n",
              "          const element = document.querySelector('#df-e424459e-c7fb-4383-b947-07223f311716');\n",
              "          const dataTable =\n",
              "            await google.colab.kernel.invokeFunction('convertToInteractive',\n",
              "                                                     [key], {});\n",
              "          if (!dataTable) return;\n",
              "\n",
              "          const docLinkHtml = 'Like what you see? Visit the ' +\n",
              "            '<a target=\"_blank\" href=https://colab.research.google.com/notebooks/data_table.ipynb>data table notebook</a>'\n",
              "            + ' to learn more about interactive tables.';\n",
              "          element.innerHTML = '';\n",
              "          dataTable['output_type'] = 'display_data';\n",
              "          await google.colab.output.renderOutput(dataTable, element);\n",
              "          const docLink = document.createElement('div');\n",
              "          docLink.innerHTML = docLinkHtml;\n",
              "          element.appendChild(docLink);\n",
              "        }\n",
              "      </script>\n",
              "    </div>\n",
              "  </div>\n",
              "  "
            ]
          },
          "metadata": {},
          "execution_count": 93
        }
      ]
    },
    {
      "cell_type": "code",
      "source": [
        "test[0][0]"
      ],
      "metadata": {
        "colab": {
          "base_uri": "https://localhost:8080/"
        },
        "id": "bBDYEnVyKVua",
        "outputId": "2cc88ff9-0c25-4036-cc94-317b912b3f40"
      },
      "execution_count": 39,
      "outputs": [
        {
          "output_type": "execute_result",
          "data": {
            "text/plain": [
              "615.0"
            ]
          },
          "metadata": {},
          "execution_count": 39
        }
      ]
    },
    {
      "cell_type": "code",
      "source": [
        "time=[]\n",
        "flux=[]\n",
        "flux_error=[]\n",
        "for i in range(len(train_data_array)):\n",
        "  if train_data_array[i][0]==713 and train_data_array[i][2]==0:\n",
        "    time.append(test[i][1])\n",
        "    flux.append(test[i][3])\n",
        "    flux_error.append(test[i][4])"
      ],
      "metadata": {
        "id": "ESeVzEkILg6k"
      },
      "execution_count": 105,
      "outputs": []
    },
    {
      "cell_type": "code",
      "source": [
        "train_data.iloc[0]"
      ],
      "metadata": {
        "colab": {
          "base_uri": "https://localhost:8080/"
        },
        "id": "6-3RUNWZUjXM",
        "outputId": "e099f724-8f88-41a8-93ed-8c0c44bff90b"
      },
      "execution_count": 106,
      "outputs": [
        {
          "output_type": "execute_result",
          "data": {
            "text/plain": [
              "object_id          615.000000\n",
              "mjd              59750.422900\n",
              "passband             2.000000\n",
              "flux              -544.810303\n",
              "flux_err             3.622952\n",
              "detected_bool        1.000000\n",
              "Name: 0, dtype: float64"
            ]
          },
          "metadata": {},
          "execution_count": 106
        }
      ]
    },
    {
      "cell_type": "code",
      "source": [
        "time=time-np.min(time)"
      ],
      "metadata": {
        "id": "DkxJxHTwM1T7"
      },
      "execution_count": 107,
      "outputs": []
    },
    {
      "cell_type": "code",
      "source": [
        "end=600\n",
        "plt.figure(figsize=(10,8))\n",
        "#plt.plot(time[:end],flux[:end], label='train')\n",
        "plt.plot(time,flux, label='train')\n",
        "\n",
        "plt.xlabel('time', fontsize=14)\n",
        "plt.ylabel('flux', fontsize=14)\n",
        "plt.legend()"
      ],
      "metadata": {
        "colab": {
          "base_uri": "https://localhost:8080/",
          "height": 519
        },
        "id": "6t4GqImrM2-e",
        "outputId": "9bf5a7d8-d817-4c00-d217-2de970924055"
      },
      "execution_count": 108,
      "outputs": [
        {
          "output_type": "execute_result",
          "data": {
            "text/plain": [
              "<matplotlib.legend.Legend at 0x7f27dfef7370>"
            ]
          },
          "metadata": {},
          "execution_count": 108
        },
        {
          "output_type": "display_data",
          "data": {
            "text/plain": [
              "<Figure size 720x576 with 1 Axes>"
            ],
            "image/png": "[encoded data removed]"
          },
          "metadata": {}
        }
      ]
    },
    {
      "cell_type": "code",
      "source": [
        "metadata_train_array=np.array(metadata_train)[:,:-1]\n",
        "for  i in range(len(metadata_train_array)):\n",
        "  if metadata_train_array[i][0]==713:\n",
        "    print(metadata_train_array[i][11])\n"
      ],
      "metadata": {
        "colab": {
          "base_uri": "https://localhost:8080/"
        },
        "id": "vGMRZ5enNQQU",
        "outputId": "6381947d-c166-42a5-c432-c26f4dca7262"
      },
      "execution_count": 92,
      "outputs": [
        {
          "output_type": "stream",
          "name": "stdout",
          "text": [
            "1.0\n"
          ]
        }
      ]
    },
    {
      "cell_type": "code",
      "source": [
        "metadata_train_array=np.array(metadata_train)[:,:-1]"
      ],
      "metadata": {
        "id": "CetdYK--SWEt"
      },
      "execution_count": 88,
      "outputs": []
    },
    {
      "cell_type": "code",
      "source": [
        "metadata_train"
      ],
      "metadata": {
        "colab": {
          "base_uri": "https://localhost:8080/",
          "height": 488
        },
        "id": "b3CzpcYjXKE_",
        "outputId": "d06d1cf4-4ea8-44ca-8c87-f779a52ff154"
      },
      "execution_count": 109,
      "outputs": [
        {
          "output_type": "execute_result",
          "data": {
            "text/plain": [
              "      object_id        ra     decl  ddf_bool  hostgal_specz  hostgal_photoz  \\\n",
              "0           615  349.0461 -61.9438         1          0.000           0.000   \n",
              "1           713   53.0859 -27.7844         1          1.818           1.627   \n",
              "2           730   33.5742  -6.5796         1          0.232           0.226   \n",
              "3           745    0.1899 -45.5867         1          0.304           0.281   \n",
              "4          1124  352.7113 -63.8237         1          0.193           0.241   \n",
              "...         ...       ...      ...       ...            ...             ...   \n",
              "7843  130739978   26.7188 -14.9403         0          0.000           0.000   \n",
              "7844  130755807  120.1013 -62.6967         0          0.172           2.561   \n",
              "7845  130762946  203.1081 -55.6821         0          0.000           0.000   \n",
              "7846  130772921   79.1016 -35.5018         0          0.000           0.000   \n",
              "7847  130779836  301.9922 -17.4263         0          0.000           0.000   \n",
              "\n",
              "      hostgal_photoz_err  distmod  mwebv  target  ...  true_rv  true_av  \\\n",
              "0                  0.000   -9.000  0.017      92  ...      0.0      0.0   \n",
              "1                  0.255   45.406  0.007      88  ...      0.0      0.0   \n",
              "2                  0.016   40.256  0.021      42  ...      0.0      0.0   \n",
              "3                  1.152   40.795  0.007      90  ...      0.0      0.0   \n",
              "4                  0.018   40.417  0.024      90  ...      0.0      0.0   \n",
              "...                  ...      ...    ...     ...  ...      ...      ...   \n",
              "7843               0.000   -9.000  0.013      65  ...      0.0      0.0   \n",
              "7844               1.115   46.611  0.136      90  ...      0.0      0.0   \n",
              "7845               0.000   -9.000  0.430      16  ...      0.0      0.0   \n",
              "7846               0.000   -9.000  0.034      65  ...      0.0      0.0   \n",
              "7847               0.000   -9.000  0.091       6  ...      0.0      0.0   \n",
              "\n",
              "      true_peakmjd  libid_cadence  tflux_u  tflux_g  tflux_r  tflux_i  \\\n",
              "0        59570.000             69    484.7   3286.7   3214.1   3039.7   \n",
              "1        59570.000             34    108.7    117.7    119.9    149.6   \n",
              "2        60444.379              9      0.0      0.0      0.0      0.0   \n",
              "3        60130.453             38      0.0      0.0      0.0      0.0   \n",
              "4        60452.641              1      0.0      0.0      0.0      0.0   \n",
              "...            ...            ...      ...      ...      ...      ...   \n",
              "7843     59570.000          18232     26.4    267.6    742.8   3295.1   \n",
              "7844     60056.809          14934      0.0      0.0      0.0      0.0   \n",
              "7845     59570.000          47805     83.8   1124.7   1445.1   1191.2   \n",
              "7846     59570.000          22240      1.9     14.4     49.4    244.3   \n",
              "7847     59905.160            305   6134.1  23008.9  36299.5  41257.7   \n",
              "\n",
              "      tflux_z  tflux_y  \n",
              "0      2854.5   2837.0  \n",
              "1       147.9    150.5  \n",
              "2         0.0      0.0  \n",
              "3         0.0      0.0  \n",
              "4         0.0      0.0  \n",
              "...       ...      ...  \n",
              "7843   6047.5   7955.2  \n",
              "7844      0.0      0.0  \n",
              "7845    848.9    382.5  \n",
              "7846    534.8    897.2  \n",
              "7847  43047.7  44230.7  \n",
              "\n",
              "[7848 rows x 26 columns]"
            ],
            "text/html": [
              "\n",
              "  <div id=\"df-f36925ae-c525-4f52-b5e6-068f610385e8\">\n",
              "    <div class=\"colab-df-container\">\n",
              "      <div>\n",
              "<style scoped>\n",
              "    .dataframe tbody tr th:only-of-type {\n",
              "        vertical-align: middle;\n",
              "    }\n",
              "\n",
              "    .dataframe tbody tr th {\n",
              "        vertical-align: top;\n",
              "    }\n",
              "\n",
              "    .dataframe thead th {\n",
              "        text-align: right;\n",
              "    }\n",
              "</style>\n",
              "<table border=\"1\" class=\"dataframe\">\n",
              "  <thead>\n",
              "    <tr style=\"text-align: right;\">\n",
              "      <th></th>\n",
              "      <th>object_id</th>\n",
              "      <th>ra</th>\n",
              "      <th>decl</th>\n",
              "      <th>ddf_bool</th>\n",
              "      <th>hostgal_specz</th>\n",
              "      <th>hostgal_photoz</th>\n",
              "      <th>hostgal_photoz_err</th>\n",
              "      <th>distmod</th>\n",
              "      <th>mwebv</th>\n",
              "      <th>target</th>\n",
              "      <th>...</th>\n",
              "      <th>true_rv</th>\n",
              "      <th>true_av</th>\n",
              "      <th>true_peakmjd</th>\n",
              "      <th>libid_cadence</th>\n",
              "      <th>tflux_u</th>\n",
              "      <th>tflux_g</th>\n",
              "      <th>tflux_r</th>\n",
              "      <th>tflux_i</th>\n",
              "      <th>tflux_z</th>\n",
              "      <th>tflux_y</th>\n",
              "    </tr>\n",
              "  </thead>\n",
              "  <tbody>\n",
              "    <tr>\n",
              "      <th>0</th>\n",
              "      <td>615</td>\n",
              "      <td>349.0461</td>\n",
              "      <td>-61.9438</td>\n",
              "      <td>1</td>\n",
              "      <td>0.000</td>\n",
              "      <td>0.000</td>\n",
              "      <td>0.000</td>\n",
              "      <td>-9.000</td>\n",
              "      <td>0.017</td>\n",
              "      <td>92</td>\n",
              "      <td>...</td>\n",
              "      <td>0.0</td>\n",
              "      <td>0.0</td>\n",
              "      <td>59570.000</td>\n",
              "      <td>69</td>\n",
              "      <td>484.7</td>\n",
              "      <td>3286.7</td>\n",
              "      <td>3214.1</td>\n",
              "      <td>3039.7</td>\n",
              "      <td>2854.5</td>\n",
              "      <td>2837.0</td>\n",
              "    </tr>\n",
              "    <tr>\n",
              "      <th>1</th>\n",
              "      <td>713</td>\n",
              "      <td>53.0859</td>\n",
              "      <td>-27.7844</td>\n",
              "      <td>1</td>\n",
              "      <td>1.818</td>\n",
              "      <td>1.627</td>\n",
              "      <td>0.255</td>\n",
              "      <td>45.406</td>\n",
              "      <td>0.007</td>\n",
              "      <td>88</td>\n",
              "      <td>...</td>\n",
              "      <td>0.0</td>\n",
              "      <td>0.0</td>\n",
              "      <td>59570.000</td>\n",
              "      <td>34</td>\n",
              "      <td>108.7</td>\n",
              "      <td>117.7</td>\n",
              "      <td>119.9</td>\n",
              "      <td>149.6</td>\n",
              "      <td>147.9</td>\n",
              "      <td>150.5</td>\n",
              "    </tr>\n",
              "    <tr>\n",
              "      <th>2</th>\n",
              "      <td>730</td>\n",
              "      <td>33.5742</td>\n",
              "      <td>-6.5796</td>\n",
              "      <td>1</td>\n",
              "      <td>0.232</td>\n",
              "      <td>0.226</td>\n",
              "      <td>0.016</td>\n",
              "      <td>40.256</td>\n",
              "      <td>0.021</td>\n",
              "      <td>42</td>\n",
              "      <td>...</td>\n",
              "      <td>0.0</td>\n",
              "      <td>0.0</td>\n",
              "      <td>60444.379</td>\n",
              "      <td>9</td>\n",
              "      <td>0.0</td>\n",
              "      <td>0.0</td>\n",
              "      <td>0.0</td>\n",
              "      <td>0.0</td>\n",
              "      <td>0.0</td>\n",
              "      <td>0.0</td>\n",
              "    </tr>\n",
              "    <tr>\n",
              "      <th>3</th>\n",
              "      <td>745</td>\n",
              "      <td>0.1899</td>\n",
              "      <td>-45.5867</td>\n",
              "      <td>1</td>\n",
              "      <td>0.304</td>\n",
              "      <td>0.281</td>\n",
              "      <td>1.152</td>\n",
              "      <td>40.795</td>\n",
              "      <td>0.007</td>\n",
              "      <td>90</td>\n",
              "      <td>...</td>\n",
              "      <td>0.0</td>\n",
              "      <td>0.0</td>\n",
              "      <td>60130.453</td>\n",
              "      <td>38</td>\n",
              "      <td>0.0</td>\n",
              "      <td>0.0</td>\n",
              "      <td>0.0</td>\n",
              "      <td>0.0</td>\n",
              "      <td>0.0</td>\n",
              "      <td>0.0</td>\n",
              "    </tr>\n",
              "    <tr>\n",
              "      <th>4</th>\n",
              "      <td>1124</td>\n",
              "      <td>352.7113</td>\n",
              "      <td>-63.8237</td>\n",
              "      <td>1</td>\n",
              "      <td>0.193</td>\n",
              "      <td>0.241</td>\n",
              "      <td>0.018</td>\n",
              "      <td>40.417</td>\n",
              "      <td>0.024</td>\n",
              "      <td>90</td>\n",
              "      <td>...</td>\n",
              "      <td>0.0</td>\n",
              "      <td>0.0</td>\n",
              "      <td>60452.641</td>\n",
              "      <td>1</td>\n",
              "      <td>0.0</td>\n",
              "      <td>0.0</td>\n",
              "      <td>0.0</td>\n",
              "      <td>0.0</td>\n",
              "      <td>0.0</td>\n",
              "      <td>0.0</td>\n",
              "    </tr>\n",
              "    <tr>\n",
              "      <th>...</th>\n",
              "      <td>...</td>\n",
              "      <td>...</td>\n",
              "      <td>...</td>\n",
              "      <td>...</td>\n",
              "      <td>...</td>\n",
              "      <td>...</td>\n",
              "      <td>...</td>\n",
              "      <td>...</td>\n",
              "      <td>...</td>\n",
              "      <td>...</td>\n",
              "      <td>...</td>\n",
              "      <td>...</td>\n",
              "      <td>...</td>\n",
              "      <td>...</td>\n",
              "      <td>...</td>\n",
              "      <td>...</td>\n",
              "      <td>...</td>\n",
              "      <td>...</td>\n",
              "      <td>...</td>\n",
              "      <td>...</td>\n",
              "      <td>...</td>\n",
              "    </tr>\n",
              "    <tr>\n",
              "      <th>7843</th>\n",
              "      <td>130739978</td>\n",
              "      <td>26.7188</td>\n",
              "      <td>-14.9403</td>\n",
              "      <td>0</td>\n",
              "      <td>0.000</td>\n",
              "      <td>0.000</td>\n",
              "      <td>0.000</td>\n",
              "      <td>-9.000</td>\n",
              "      <td>0.013</td>\n",
              "      <td>65</td>\n",
              "      <td>...</td>\n",
              "      <td>0.0</td>\n",
              "      <td>0.0</td>\n",
              "      <td>59570.000</td>\n",
              "      <td>18232</td>\n",
              "      <td>26.4</td>\n",
              "      <td>267.6</td>\n",
              "      <td>742.8</td>\n",
              "      <td>3295.1</td>\n",
              "      <td>6047.5</td>\n",
              "      <td>7955.2</td>\n",
              "    </tr>\n",
              "    <tr>\n",
              "      <th>7844</th>\n",
              "      <td>130755807</td>\n",
              "      <td>120.1013</td>\n",
              "      <td>-62.6967</td>\n",
              "      <td>0</td>\n",
              "      <td>0.172</td>\n",
              "      <td>2.561</td>\n",
              "      <td>1.115</td>\n",
              "      <td>46.611</td>\n",
              "      <td>0.136</td>\n",
              "      <td>90</td>\n",
              "      <td>...</td>\n",
              "      <td>0.0</td>\n",
              "      <td>0.0</td>\n",
              "      <td>60056.809</td>\n",
              "      <td>14934</td>\n",
              "      <td>0.0</td>\n",
              "      <td>0.0</td>\n",
              "      <td>0.0</td>\n",
              "      <td>0.0</td>\n",
              "      <td>0.0</td>\n",
              "      <td>0.0</td>\n",
              "    </tr>\n",
              "    <tr>\n",
              "      <th>7845</th>\n",
              "      <td>130762946</td>\n",
              "      <td>203.1081</td>\n",
              "      <td>-55.6821</td>\n",
              "      <td>0</td>\n",
              "      <td>0.000</td>\n",
              "      <td>0.000</td>\n",
              "      <td>0.000</td>\n",
              "      <td>-9.000</td>\n",
              "      <td>0.430</td>\n",
              "      <td>16</td>\n",
              "      <td>...</td>\n",
              "      <td>0.0</td>\n",
              "      <td>0.0</td>\n",
              "      <td>59570.000</td>\n",
              "      <td>47805</td>\n",
              "      <td>83.8</td>\n",
              "      <td>1124.7</td>\n",
              "      <td>1445.1</td>\n",
              "      <td>1191.2</td>\n",
              "      <td>848.9</td>\n",
              "      <td>382.5</td>\n",
              "    </tr>\n",
              "    <tr>\n",
              "      <th>7846</th>\n",
              "      <td>130772921</td>\n",
              "      <td>79.1016</td>\n",
              "      <td>-35.5018</td>\n",
              "      <td>0</td>\n",
              "      <td>0.000</td>\n",
              "      <td>0.000</td>\n",
              "      <td>0.000</td>\n",
              "      <td>-9.000</td>\n",
              "      <td>0.034</td>\n",
              "      <td>65</td>\n",
              "      <td>...</td>\n",
              "      <td>0.0</td>\n",
              "      <td>0.0</td>\n",
              "      <td>59570.000</td>\n",
              "      <td>22240</td>\n",
              "      <td>1.9</td>\n",
              "      <td>14.4</td>\n",
              "      <td>49.4</td>\n",
              "      <td>244.3</td>\n",
              "      <td>534.8</td>\n",
              "      <td>897.2</td>\n",
              "    </tr>\n",
              "    <tr>\n",
              "      <th>7847</th>\n",
              "      <td>130779836</td>\n",
              "      <td>301.9922</td>\n",
              "      <td>-17.4263</td>\n",
              "      <td>0</td>\n",
              "      <td>0.000</td>\n",
              "      <td>0.000</td>\n",
              "      <td>0.000</td>\n",
              "      <td>-9.000</td>\n",
              "      <td>0.091</td>\n",
              "      <td>6</td>\n",
              "      <td>...</td>\n",
              "      <td>0.0</td>\n",
              "      <td>0.0</td>\n",
              "      <td>59905.160</td>\n",
              "      <td>305</td>\n",
              "      <td>6134.1</td>\n",
              "      <td>23008.9</td>\n",
              "      <td>36299.5</td>\n",
              "      <td>41257.7</td>\n",
              "      <td>43047.7</td>\n",
              "      <td>44230.7</td>\n",
              "    </tr>\n",
              "  </tbody>\n",
              "</table>\n",
              "<p>7848 rows × 26 columns</p>\n",
              "</div>\n",
              "      <button class=\"colab-df-convert\" onclick=\"convertToInteractive('df-f36925ae-c525-4f52-b5e6-068f610385e8')\"\n",
              "              title=\"Convert this dataframe to an interactive table.\"\n",
              "              style=\"display:none;\">\n",
              "        \n",
              "  <svg xmlns=\"http://www.w3.org/2000/svg\" height=\"24px\"viewBox=\"0 0 24 24\"\n",
              "       width=\"24px\">\n",
              "    <path d=\"M0 0h24v24H0V0z\" fill=\"none\"/>\n",
              "    <path d=\"M18.56 5.44l.94 2.06.94-2.06 2.06-.94-2.06-.94-.94-2.06-.94 2.06-2.06.94zm-11 1L8.5 8.5l.94-2.06 2.06-.94-2.06-.94L8.5 2.5l-.94 2.06-2.06.94zm10 10l.94 2.06.94-2.06 2.06-.94-2.06-.94-.94-2.06-.94 2.06-2.06.94z\"/><path d=\"M17.41 7.96l-1.37-1.37c-.4-.4-.92-.59-1.43-.59-.52 0-1.04.2-1.43.59L10.3 9.45l-7.72 7.72c-.78.78-.78 2.05 0 2.83L4 21.41c.39.39.9.59 1.41.59.51 0 1.02-.2 1.41-.59l7.78-7.78 2.81-2.81c.8-.78.8-2.07 0-2.86zM5.41 20L4 18.59l7.72-7.72 1.47 1.35L5.41 20z\"/>\n",
              "  </svg>\n",
              "      </button>\n",
              "      \n",
              "  <style>\n",
              "    .colab-df-container {\n",
              "      display:flex;\n",
              "      flex-wrap:wrap;\n",
              "      gap: 12px;\n",
              "    }\n",
              "\n",
              "    .colab-df-convert {\n",
              "      background-color: #E8F0FE;\n",
              "      border: none;\n",
              "      border-radius: 50%;\n",
              "      cursor: pointer;\n",
              "      display: none;\n",
              "      fill: #1967D2;\n",
              "      height: 32px;\n",
              "      padding: 0 0 0 0;\n",
              "      width: 32px;\n",
              "    }\n",
              "\n",
              "    .colab-df-convert:hover {\n",
              "      background-color: #E2EBFA;\n",
              "      box-shadow: 0px 1px 2px rgba(60, 64, 67, 0.3), 0px 1px 3px 1px rgba(60, 64, 67, 0.15);\n",
              "      fill: #174EA6;\n",
              "    }\n",
              "\n",
              "    [theme=dark] .colab-df-convert {\n",
              "      background-color: #3B4455;\n",
              "      fill: #D2E3FC;\n",
              "    }\n",
              "\n",
              "    [theme=dark] .colab-df-convert:hover {\n",
              "      background-color: #434B5C;\n",
              "      box-shadow: 0px 1px 3px 1px rgba(0, 0, 0, 0.15);\n",
              "      filter: drop-shadow(0px 1px 2px rgba(0, 0, 0, 0.3));\n",
              "      fill: #FFFFFF;\n",
              "    }\n",
              "  </style>\n",
              "\n",
              "      <script>\n",
              "        const buttonEl =\n",
              "          document.querySelector('#df-f36925ae-c525-4f52-b5e6-068f610385e8 button.colab-df-convert');\n",
              "        buttonEl.style.display =\n",
              "          google.colab.kernel.accessAllowed ? 'block' : 'none';\n",
              "\n",
              "        async function convertToInteractive(key) {\n",
              "          const element = document.querySelector('#df-f36925ae-c525-4f52-b5e6-068f610385e8');\n",
              "          const dataTable =\n",
              "            await google.colab.kernel.invokeFunction('convertToInteractive',\n",
              "                                                     [key], {});\n",
              "          if (!dataTable) return;\n",
              "\n",
              "          const docLinkHtml = 'Like what you see? Visit the ' +\n",
              "            '<a target=\"_blank\" href=https://colab.research.google.com/notebooks/data_table.ipynb>data table notebook</a>'\n",
              "            + ' to learn more about interactive tables.';\n",
              "          element.innerHTML = '';\n",
              "          dataTable['output_type'] = 'display_data';\n",
              "          await google.colab.output.renderOutput(dataTable, element);\n",
              "          const docLink = document.createElement('div');\n",
              "          docLink.innerHTML = docLinkHtml;\n",
              "          element.appendChild(docLink);\n",
              "        }\n",
              "      </script>\n",
              "    </div>\n",
              "  </div>\n",
              "  "
            ]
          },
          "metadata": {},
          "execution_count": 109
        }
      ]
    },
    {
      "cell_type": "code",
      "source": [
        "my_dict={42: 0,\n",
        "        52: 0,\n",
        "        62: 0,\n",
        "        67: 0,\n",
        "        90: 0,\n",
        "        6: 1,\n",
        "       64: 1,\n",
        "       65: 1,\n",
        "       15: 2,\n",
        "       95: 2,\n",
        "       16: 3,\n",
        "        53: 3,\n",
        "        92: 3,\n",
        "        88:4\n",
        "        }\n",
        "metadata_train['target_mapped']=metadata_train['target'].map(my_dict)\n",
        "classes=[0,1,2,3,4]\n",
        "counts=[]\n",
        "for i in range(len(classes)):\n",
        "  train_data[train_data['object_id']==obj_ids[i]]\n",
        "  count=np.array(metadata_train)==classes[i]\n",
        "  counts.append(np.sum(count))\n",
        "\n",
        "\n"
      ],
      "metadata": {
        "id": "XDO8ImlMihV3"
      },
      "execution_count": 247,
      "outputs": []
    },
    {
      "cell_type": "code",
      "source": [
        "metadata_train['target_mapped'].values"
      ],
      "metadata": {
        "colab": {
          "base_uri": "https://localhost:8080/"
        },
        "id": "ghjuhvToj3XC",
        "outputId": "4e5c3d65-b4cb-4230-b80d-2a6ac5136fa7"
      },
      "execution_count": 248,
      "outputs": [
        {
          "output_type": "execute_result",
          "data": {
            "text/plain": [
              "array([3, 4, 0, ..., 3, 1, 1])"
            ]
          },
          "metadata": {},
          "execution_count": 248
        }
      ]
    },
    {
      "cell_type": "code",
      "source": [
        "plt.bar(range(len(classes)),counts)\n",
        "plt.xlabel('counts')\n",
        "plt.ylabel('classes ')"
      ],
      "metadata": {
        "colab": {
          "base_uri": "https://localhost:8080/",
          "height": 300
        },
        "id": "F6j_h4M1lxBt",
        "outputId": "1febf216-4f45-4202-854f-162d6e044084"
      },
      "execution_count": 122,
      "outputs": [
        {
          "output_type": "execute_result",
          "data": {
            "text/plain": [
              "Text(0, 0.5, 'classes ')"
            ]
          },
          "metadata": {},
          "execution_count": 122
        },
        {
          "output_type": "display_data",
          "data": {
            "text/plain": [
              "<Figure size 432x288 with 1 Axes>"
            ],
            "image/png": "[encoded data removed]"
          },
          "metadata": {}
        }
      ]
    },
    {
      "cell_type": "code",
      "source": [
        "counts=np.unique(y.argmax(1), return_counts=True)[1]\n",
        "plt.bar(range(len(classes)),counts)\n",
        "plt.xlabel('counts')\n",
        "plt.ylabel('classes ')"
      ],
      "metadata": {
        "id": "TMAyESMOWksM",
        "outputId": "e0375fba-7dc1-49ae-b96c-d769f5712fcc",
        "colab": {
          "base_uri": "https://localhost:8080/",
          "height": 300
        }
      },
      "execution_count": 284,
      "outputs": [
        {
          "output_type": "execute_result",
          "data": {
            "text/plain": [
              "Text(0, 0.5, 'classes ')"
            ]
          },
          "metadata": {},
          "execution_count": 284
        },
        {
          "output_type": "display_data",
          "data": {
            "text/plain": [
              "<Figure size 432x288 with 1 Axes>"
            ],
            "image/png": "[encoded data removed]"
          },
          "metadata": {}
        }
      ]
    },
    {
      "cell_type": "code",
      "source": [
        "counts"
      ],
      "metadata": {
        "id": "ifx3kmHBf9b6",
        "outputId": "65425102-0b37-4590-c101-41bc207611d0",
        "colab": {
          "base_uri": "https://localhost:8080/"
        }
      },
      "execution_count": 277,
      "outputs": [
        {
          "output_type": "execute_result",
          "data": {
            "text/plain": [
              "[71912, 10283, 1525, 1339, 393]"
            ]
          },
          "metadata": {},
          "execution_count": 277
        }
      ]
    },
    {
      "cell_type": "code",
      "source": [
        "filters=[0,1,2,3,4,5]\n",
        "counts=[]\n",
        "for i in range(len(filters)):\n",
        "  count=np.array(train_data)==filters[i]\n",
        "  counts.append(np.sum(count))\n",
        "\n",
        "plt.bar(range(len(filters)),counts)\n",
        "plt.xlabel('counts')\n",
        "plt.ylabel('filters ')"
      ],
      "metadata": {
        "colab": {
          "base_uri": "https://localhost:8080/",
          "height": 311
        },
        "id": "Vx0i8S7jmNIQ",
        "outputId": "f7678eda-6fc9-4937-d5ab-7857abd53bad"
      },
      "execution_count": 129,
      "outputs": [
        {
          "output_type": "execute_result",
          "data": {
            "text/plain": [
              "Text(0, 0.5, 'filters ')"
            ]
          },
          "metadata": {},
          "execution_count": 129
        },
        {
          "output_type": "display_data",
          "data": {
            "text/plain": [
              "<Figure size 432x288 with 1 Axes>"
            ],
            "image/png": "[encoded data removed]"
          },
          "metadata": {}
        }
      ]
    },
    {
      "cell_type": "code",
      "source": [
        "counts"
      ],
      "metadata": {
        "colab": {
          "base_uri": "https://localhost:8080/"
        },
        "id": "J_CXATpInorT",
        "outputId": "16a7984e-fc06-4dfb-9db5-9fc6611fa764"
      },
      "execution_count": 128,
      "outputs": [
        {
          "output_type": "execute_result",
          "data": {
            "text/plain": [
              "[0, 299025]"
            ]
          },
          "metadata": {},
          "execution_count": 128
        }
      ]
    },
    {
      "cell_type": "code",
      "source": [
        "obj_ids=train_data['object_id'].values\n",
        "obj_ids_unique=np.unique(obj_ids)"
      ],
      "metadata": {
        "id": "rnXebp8an1g4"
      },
      "execution_count": 8,
      "outputs": []
    },
    {
      "cell_type": "code",
      "source": [
        "counts=[]\n",
        "for i in range(len(obj_ids_unique)):\n",
        "  count=np.array(train_data)==obj_ids_unique[i]\n",
        "  counts.append(np.sum(count))\n",
        "\n",
        "plt.bar(range(len(obj_ids_unique)),counts)\n",
        "plt.xlabel('counts')\n",
        "plt.ylabel('filters ')"
      ],
      "metadata": {
        "colab": {
          "base_uri": "https://localhost:8080/",
          "height": 300
        },
        "id": "xl7yB6l7ozYy",
        "outputId": "41901d19-51d0-433d-99b7-dc203d7b8404"
      },
      "execution_count": 137,
      "outputs": [
        {
          "output_type": "execute_result",
          "data": {
            "text/plain": [
              "Text(0, 0.5, 'filters ')"
            ]
          },
          "metadata": {},
          "execution_count": 137
        },
        {
          "output_type": "display_data",
          "data": {
            "text/plain": [
              "<Figure size 432x288 with 1 Axes>"
            ],
            "image/png": "[encoded data removed]"
          },
          "metadata": {}
        }
      ]
    },
    {
      "cell_type": "code",
      "source": [
        "plt.bar(range(len(obj_ids_unique)),counts)\n",
        "plt.xlabel('counts')\n",
        "plt.ylabel('obj_ids ')"
      ],
      "metadata": {
        "colab": {
          "base_uri": "https://localhost:8080/",
          "height": 300
        },
        "id": "8TuEWU7rpHSe",
        "outputId": "5016cec4-4647-4ed6-ca1d-816e8be28a14"
      },
      "execution_count": 140,
      "outputs": [
        {
          "output_type": "execute_result",
          "data": {
            "text/plain": [
              "Text(0, 0.5, 'obj_ids ')"
            ]
          },
          "metadata": {},
          "execution_count": 140
        },
        {
          "output_type": "display_data",
          "data": {
            "text/plain": [
              "<Figure size 432x288 with 1 Axes>"
            ],
            "image/png": "[encoded data removed]"
          },
          "metadata": {}
        }
      ]
    },
    {
      "cell_type": "code",
      "source": [
        "np.min(counts)"
      ],
      "metadata": {
        "colab": {
          "base_uri": "https://localhost:8080/"
        },
        "id": "TYEHLLXbpN4J",
        "outputId": "77869b60-5fd3-4386-e481-4143dcf3417c"
      },
      "execution_count": 141,
      "outputs": [
        {
          "output_type": "execute_result",
          "data": {
            "text/plain": [
              "255"
            ]
          },
          "metadata": {},
          "execution_count": 141
        }
      ]
    },
    {
      "cell_type": "code",
      "source": [
        "amplitudes=[]\n",
        "for i in range(len(obj_ids_unique)):\n",
        "  lines=train_data[train_data['object_id']==obj_ids_unique[i]]\n",
        "  flux=lines['flux'].values\n",
        "  amplitudes.append(abs(np.max(flux))+abs(np.min(flux)))"
      ],
      "metadata": {
        "id": "XZU7_v5sr1us"
      },
      "execution_count": 151,
      "outputs": []
    },
    {
      "cell_type": "code",
      "source": [
        "end=20\n",
        "plt.bar(range(len(obj_ids_unique[:end])),amplitudes[:end])\n",
        "#plt.bar(range(len(obj_ids_unique)),amplitudes)\n",
        "plt.xlabel('objs')\n",
        "plt.ylabel('amplitudes ')"
      ],
      "metadata": {
        "colab": {
          "base_uri": "https://localhost:8080/",
          "height": 302
        },
        "id": "KiZlD61Or4T0",
        "outputId": "8a806c7f-9112-475f-aa7f-64aaf8bada6b"
      },
      "execution_count": 166,
      "outputs": [
        {
          "output_type": "execute_result",
          "data": {
            "text/plain": [
              "Text(0, 0.5, 'amplitudes ')"
            ]
          },
          "metadata": {},
          "execution_count": 166
        },
        {
          "output_type": "display_data",
          "data": {
            "text/plain": [
              "<Figure size 432x288 with 1 Axes>"
            ],
            "image/png": "[encoded data removed]"
          },
          "metadata": {}
        }
      ]
    },
    {
      "cell_type": "code",
      "source": [
        "fluxes=[]\n",
        "for i in range(len(obj_ids_unique)):\n",
        "  lines=train_data[train_data['object_id']==obj_ids_unique[i]]\n",
        "  flux=lines['flux'].values\n",
        "  #fluxes.append([])\n",
        "  fluxes.append(flux)"
      ],
      "metadata": {
        "id": "oF1TRzGUvD2x"
      },
      "execution_count": 84,
      "outputs": []
    },
    {
      "cell_type": "code",
      "source": [
        "import sklearn.preprocessing as pre\n",
        "fluxes[0] = fluxes[0].reshape(-1, 1)\n",
        "\n",
        "x_norm = pre.MinMaxScaler(feature_range=(-1,1)).fit_transform(fluxes[0])"
      ],
      "metadata": {
        "id": "BGe4iMmyxQmt"
      },
      "execution_count": 36,
      "outputs": []
    },
    {
      "cell_type": "code",
      "source": [
        "np.array(len(fluxes[i]))"
      ],
      "metadata": {
        "colab": {
          "base_uri": "https://localhost:8080/"
        },
        "id": "IiiCcCJrxYRG",
        "outputId": "4c0dfb4a-6909-4c28-b462-89513ff19b8e"
      },
      "execution_count": 39,
      "outputs": [
        {
          "output_type": "execute_result",
          "data": {
            "text/plain": [
              "array(7848)"
            ]
          },
          "metadata": {},
          "execution_count": 39
        }
      ]
    },
    {
      "cell_type": "code",
      "source": [
        "u=[]\n",
        "g=[]\n",
        "r=[]\n",
        "i=[]\n",
        "z=[]\n",
        "Y=[]\n",
        "\n",
        "for j in range(len(filters)):\n",
        "  u=\n",
        "\n",
        "for i in range(len(obj_ids_unique)):\n",
        "  for j in range(len(filters)):\n",
        "\n",
        "    fluxes[i] = fluxes[i].reshape(-1, 1)\n",
        "    x_norm = pre.MinMaxScaler(feature_range=(-1,1)).fit_transform(fluxes[i])"
      ],
      "metadata": {
        "id": "4YNm3GWQWpHN"
      },
      "execution_count": null,
      "outputs": []
    },
    {
      "cell_type": "code",
      "source": [
        "rt=tf.ragged.constant(fluxes)\n",
        "rt = rt.to_tensor()"
      ],
      "metadata": {
        "id": "3HEkGxarayu_"
      },
      "execution_count": 65,
      "outputs": []
    },
    {
      "cell_type": "code",
      "source": [
        "np.max(rt[0])"
      ],
      "metadata": {
        "colab": {
          "base_uri": "https://localhost:8080/"
        },
        "id": "LFt3uiJXa2X-",
        "outputId": "1e72bc0c-a4f0-410b-f9ca-87753dff31a0"
      },
      "execution_count": 62,
      "outputs": [
        {
          "output_type": "execute_result",
          "data": {
            "text/plain": [
              "0.32104570497163804"
            ]
          },
          "metadata": {},
          "execution_count": 62
        }
      ]
    },
    {
      "cell_type": "code",
      "source": [
        "test=tf.reduce_min(rt[0])\n",
        "test"
      ],
      "metadata": {
        "colab": {
          "base_uri": "https://localhost:8080/"
        },
        "id": "yzkPPdG7a9Rq",
        "outputId": "268b9861-6d06-4032-f0fc-972223a6ed17"
      },
      "execution_count": 71,
      "outputs": [
        {
          "output_type": "execute_result",
          "data": {
            "text/plain": [
              "<tf.Tensor: shape=(), dtype=float64, numpy=-1100.440063>"
            ]
          },
          "metadata": {},
          "execution_count": 71
        }
      ]
    },
    {
      "cell_type": "code",
      "source": [
        "x_train = tf.keras.preprocessing.sequence.pad_sequences(fluxes, maxlen=352, padding='post')\n",
        "x_norm = pre.MinMaxScaler(feature_range=(-1,1)).fit_transform(x_norm)"
      ],
      "metadata": {
        "id": "TCTWdDE4f6GG"
      },
      "execution_count": 86,
      "outputs": []
    },
    {
      "cell_type": "code",
      "source": [
        "x_train"
      ],
      "metadata": {
        "colab": {
          "base_uri": "https://localhost:8080/"
        },
        "id": "DOPE_xNyhEvO",
        "outputId": "2f198a7c-9bcd-408c-b6cd-c00d1d123bdd"
      },
      "execution_count": 87,
      "outputs": [
        {
          "output_type": "execute_result",
          "data": {
            "text/plain": [
              "array([[-544, -816, -471, ...,  296,  235,  157],\n",
              "       [   9,    7,    6, ...,   -8,    0,    0],\n",
              "       [   1,    2,    2, ...,    0,    0,    0],\n",
              "       ...,\n",
              "       [  59,  -14,    7, ...,    0,    0,    0],\n",
              "       [   8,  -10,   -2, ...,    0,    0,    0],\n",
              "       [ 571,  749,  811, ...,    0,    0,    0]], dtype=int32)"
            ]
          },
          "metadata": {},
          "execution_count": 87
        }
      ]
    },
    {
      "cell_type": "code",
      "source": [
        "x_norm = pre.MinMaxScaler(feature_range=(-1,1)).fit_transform(x_norm)"
      ],
      "metadata": {
        "id": "-CUXTfEVhIl6"
      },
      "execution_count": 88,
      "outputs": []
    },
    {
      "cell_type": "code",
      "source": [
        "np.min(x_norm[2])"
      ],
      "metadata": {
        "colab": {
          "base_uri": "https://localhost:8080/"
        },
        "id": "kmowTaB6hfL2",
        "outputId": "660da876-386b-4479-822b-4d8851aebd0e"
      },
      "execution_count": 91,
      "outputs": [
        {
          "output_type": "execute_result",
          "data": {
            "text/plain": [
              "-0.979298306561611"
            ]
          },
          "metadata": {},
          "execution_count": 91
        }
      ]
    },
    {
      "cell_type": "code",
      "source": [
        "metadata_train['target'].values"
      ],
      "metadata": {
        "colab": {
          "base_uri": "https://localhost:8080/"
        },
        "id": "66lN5h2KhgUQ",
        "outputId": "3f2aaa56-0629-4f00-fd6a-ab98a003b778"
      },
      "execution_count": 93,
      "outputs": [
        {
          "output_type": "execute_result",
          "data": {
            "text/plain": [
              "array([92, 88, 42, ..., 16, 65,  6])"
            ]
          },
          "metadata": {},
          "execution_count": 93
        }
      ]
    },
    {
      "cell_type": "code",
      "source": [
        "metadata_train['object_id']"
      ],
      "metadata": {
        "colab": {
          "base_uri": "https://localhost:8080/"
        },
        "id": "PXBVnnb7w8l6",
        "outputId": "3f7ecaf5-d8c2-47b4-8c8e-e2ebf2a0757a"
      },
      "execution_count": 94,
      "outputs": [
        {
          "output_type": "execute_result",
          "data": {
            "text/plain": [
              "0             615\n",
              "1             713\n",
              "2             730\n",
              "3             745\n",
              "4            1124\n",
              "          ...    \n",
              "7843    130739978\n",
              "7844    130755807\n",
              "7845    130762946\n",
              "7846    130772921\n",
              "7847    130779836\n",
              "Name: object_id, Length: 7848, dtype: int64"
            ]
          },
          "metadata": {},
          "execution_count": 94
        }
      ]
    },
    {
      "cell_type": "code",
      "source": [
        "obj_ids_unique"
      ],
      "metadata": {
        "colab": {
          "base_uri": "https://localhost:8080/"
        },
        "id": "neEfiTcnxCyN",
        "outputId": "12470e3e-1b14-46c2-db6c-4d1b788131de"
      },
      "execution_count": 96,
      "outputs": [
        {
          "output_type": "execute_result",
          "data": {
            "text/plain": [
              "array([      615,       713,       730, ..., 130762946, 130772921,\n",
              "       130779836])"
            ]
          },
          "metadata": {},
          "execution_count": 96
        }
      ]
    },
    {
      "cell_type": "code",
      "source": [
        "obj_ids=metadata_train['object_id'].values\n",
        "tables=[]\n",
        "for i in range(len(obj_ids)):\n",
        "  lines=train_data[train_data['object_id']==obj_ids[i]]\n",
        "  flux=lines['flux'].values\n",
        "  error=lines['flux_err'].values\n",
        "  mjd=lines['mjd'].values\n",
        "  filter=lines['passband'].values\n",
        "  fluxes.append(flux)\n",
        "  errors.append(error)\n",
        "  mjds.append(mjd)\n",
        "  filters.append(filter)\n",
        "  table=np.array([mjd,fluxes,errors,filters])\n",
        "  tables.append(table)\n",
        "\n",
        "x = tf.keras.preprocessing.sequence.pad_sequences(fluxes, maxlen=352, padding='post')\n",
        "y = metadata_train['target'].values\n",
        "y = pre.LabelBinarizer().fit_transform(y)\n",
        "\n",
        "x_train, x_valid, y_train, y_valid = train_test_split(x, y, test_size=0.1, random_state=42)\n",
        "\n",
        "scaler=pre.MinMaxScaler(feature_range=(-1,1)).fit(x_train)\n",
        "\n",
        "x_train = scaler.transform(x_train)\n",
        "x_valid = scaler.transform(x_train)"
      ],
      "metadata": {
        "colab": {
          "base_uri": "https://localhost:8080/",
          "height": 244
        },
        "id": "1kMLQUGhiW_h",
        "outputId": "51153ad4-74f6-49da-ca4b-585a71b1b535"
      },
      "execution_count": 6,
      "outputs": [
        {
          "output_type": "error",
          "ename": "NameError",
          "evalue": "ignored",
          "traceback": [
            "\u001b[0;31m---------------------------------------------------------------------------\u001b[0m",
            "\u001b[0;31mNameError\u001b[0m                                 Traceback (most recent call last)",
            "\u001b[0;32m<ipython-input-6-8dd8c2175ac6>\u001b[0m in \u001b[0;36m<module>\u001b[0;34m\u001b[0m\n\u001b[1;32m      7\u001b[0m   \u001b[0mmjd\u001b[0m\u001b[0;34m=\u001b[0m\u001b[0mlines\u001b[0m\u001b[0;34m[\u001b[0m\u001b[0;34m'mjd'\u001b[0m\u001b[0;34m]\u001b[0m\u001b[0;34m.\u001b[0m\u001b[0mvalues\u001b[0m\u001b[0;34m\u001b[0m\u001b[0;34m\u001b[0m\u001b[0m\n\u001b[1;32m      8\u001b[0m   \u001b[0mfilter\u001b[0m\u001b[0;34m=\u001b[0m\u001b[0mlines\u001b[0m\u001b[0;34m[\u001b[0m\u001b[0;34m'passband'\u001b[0m\u001b[0;34m]\u001b[0m\u001b[0;34m.\u001b[0m\u001b[0mvalues\u001b[0m\u001b[0;34m\u001b[0m\u001b[0;34m\u001b[0m\u001b[0m\n\u001b[0;32m----> 9\u001b[0;31m   \u001b[0mfluxes\u001b[0m\u001b[0;34m.\u001b[0m\u001b[0mappend\u001b[0m\u001b[0;34m(\u001b[0m\u001b[0mflux\u001b[0m\u001b[0;34m)\u001b[0m\u001b[0;34m\u001b[0m\u001b[0;34m\u001b[0m\u001b[0m\n\u001b[0m\u001b[1;32m     10\u001b[0m   \u001b[0merrors\u001b[0m\u001b[0;34m.\u001b[0m\u001b[0mappend\u001b[0m\u001b[0;34m(\u001b[0m\u001b[0merror\u001b[0m\u001b[0;34m)\u001b[0m\u001b[0;34m\u001b[0m\u001b[0;34m\u001b[0m\u001b[0m\n\u001b[1;32m     11\u001b[0m   \u001b[0mmjds\u001b[0m\u001b[0;34m.\u001b[0m\u001b[0mappend\u001b[0m\u001b[0;34m(\u001b[0m\u001b[0mmjd\u001b[0m\u001b[0;34m)\u001b[0m\u001b[0;34m\u001b[0m\u001b[0;34m\u001b[0m\u001b[0m\n",
            "\u001b[0;31mNameError\u001b[0m: name 'fluxes' is not defined"
          ]
        }
      ]
    },
    {
      "cell_type": "code",
      "source": [
        "import sklearn.preprocessing as pre\n",
        "\n",
        "obj_ids=metadata_train['object_id']\n",
        "tables=[]\n",
        "for i in range(len(obj_ids)):\n",
        "  lines=train_data[train_data['object_id']==obj_ids[i]]\n",
        "  flux=np.array(lines['flux'].values)\n",
        "  error=np.array(lines['flux_err'].values)\n",
        "  mjd=np.array(lines['mjd'].values)\n",
        "  filter=np.array(lines['passband'].values)\n",
        "  table=np.array([mjd,flux,error,filter],dtype=np.float32).T\n",
        "  table=normalize_table(table)\n",
        "  tables.append(table)"
      ],
      "metadata": {
        "id": "ax9CxldSxyV2"
      },
      "execution_count": 60,
      "outputs": []
    },
    {
      "cell_type": "code",
      "source": [
        "obj_ids=metadata_train['object_id']\n",
        "tables=[]\n",
        "for i in range(len(obj_ids)):\n",
        "  lines=train_data[train_data['object_id']==obj_ids[i]]\n",
        "lines"
      ],
      "metadata": {
        "id": "NrE2mFHunK41"
      },
      "execution_count": null,
      "outputs": []
    },
    {
      "cell_type": "code",
      "source": [
        "def normalize_table(tab):\n",
        "  f_scaler=pre.MinMaxScaler(feature_range=(0,1)).fit(tab[:,1:3])\n",
        "  #e_scaler=pre.MinMaxScaler(feature_range=(-1,1)).fit(tab[:,2])\n",
        "  tab[:,1:3]=f_scaler.transform(tab[:,1:3])\n",
        "  #tab[:,2]=e_scaler.transform(tab[:,2])\n",
        "  tab[:,0]=tab[:,0]-np.min(tab[:,0])\n",
        "\n",
        "  return tab\n",
        "\n",
        "def pre_process(data_df,metadata_df):\n",
        "  obj_ids=metadata_df['object_id']\n",
        "  tables=[]\n",
        "  for i in range(len(obj_ids)):\n",
        "    if obj_ids[i]!=99:\n",
        "      lines=data_df[data_df['object_id']==obj_ids[i]]\n",
        "      flux=np.array(lines['flux'].values)\n",
        "      error=np.array(lines['flux_err'].values)\n",
        "      mjd=np.array(lines['mjd'].values)\n",
        "      filter=np.array(lines['passband'].values)\n",
        "      table=np.array([mjd,flux,error,filter],dtype=np.float32).T\n",
        "      table=normalize_table(table)\n",
        "      tables.append(table)\n",
        "  if obj_ids[i]!=99:\n",
        "    y = metadata_train['target'].values\n",
        "    my_dict={42: 0,\n",
        "        52: 0,\n",
        "        62: 0,\n",
        "        67: 0,\n",
        "        90: 0,\n",
        "        6: 1,\n",
        "       64: 1,\n",
        "       65: 1,\n",
        "       15: 2,\n",
        "       95: 2,\n",
        "       16: 3,\n",
        "        53: 3,\n",
        "        92: 3,\n",
        "        88:4\n",
        "        }\n",
        "    y=[my_dict[i] for i in y]\n",
        "    y = pre.LabelBinarizer().fit_transform(y)\n",
        "\n",
        "    \n",
        "\n",
        "  return tables,y"
      ],
      "metadata": {
        "id": "89tSpR0Dw0tp"
      },
      "execution_count": 224,
      "outputs": []
    },
    {
      "cell_type": "code",
      "source": [
        "from tqdm.notebook import tqdm\n",
        "\n",
        "def normalize_table(tab):\n",
        "  f_scaler=pre.MinMaxScaler(feature_range=(0,1)).fit(tab[:,1:3])\n",
        "  #e_scaler=pre.MinMaxScaler(feature_range=(-1,1)).fit(tab[:,2])\n",
        "  tab[:,1:3]=f_scaler.transform(tab[:,1:3])\n",
        "  #tab[:,2]=e_scaler.transform(tab[:,2])\n",
        "  tab[:,0]=tab[:,0]-np.min(tab[:,0])\n",
        "\n",
        "  return tab\n",
        "\n",
        "def pre_process(data_df,metadata_df,index):\n",
        "\n",
        "  if index == 1:\n",
        "    data_df = data_df.merge(metadata_df[['object_id', 'target']], how= 'inner', on = 'object_id')\n",
        "  if index == 0:\n",
        "    data_df = data_df.merge(metadata_df[['object_id', 'true_target']], how= 'inner', on = 'object_id')\n",
        "  \n",
        "  \n",
        "  \n",
        "  if 'true_target' in data_df.columns:\n",
        "   data_df = data_df.rename(columns = {'true_target': 'target'}, inplace = False)\n",
        "\n",
        "\n",
        "  obj_ids_def = data_df[data_df['target'] //99 != 10]\n",
        "  obj_ids = obj_ids_def['object_id'].unique()\n",
        "  groups = obj_ids_def.groupby(['object_id'])\n",
        "  tables=[]\n",
        "  y=[]\n",
        "  for i,iid in enumerate(tqdm(obj_ids)):\n",
        "      #lines = data_df[data_df['object_id'] == obj_ids[i]]\n",
        "      lines=groups.get_group(iid)\n",
        "      table = lines[['mjd', 'flux', 'flux_err', 'passband']].values\n",
        "      table = normalize_table(table)\n",
        "      tables.append(table)\n",
        "      y.append(lines['target'].values[0])\n",
        "  \n",
        "\n",
        "      \n",
        "  my_dict={42: 0,\n",
        "           52: 0,\n",
        "           62: 0,\n",
        "           67: 0,\n",
        "           90: 0,\n",
        "           6: 1,\n",
        "           64: 1,\n",
        "           65: 1,\n",
        "           15: 2,\n",
        "           95: 2,\n",
        "           16: 3,\n",
        "           53: 3,\n",
        "           92: 3,\n",
        "           88:4\n",
        "        }\n",
        "  y=[my_dict[i] for i in y]\n",
        "  y = pre.LabelBinarizer().fit_transform(y)\n",
        "\n",
        "  return tables, y"
      ],
      "metadata": {
        "id": "L_kBbTwppiiJ"
      },
      "execution_count": 312,
      "outputs": []
    },
    {
      "cell_type": "code",
      "source": [
        "x_train,y_train=pre_process(train_data,metadata_train,1)\n",
        "x_test,y_test=pre_process(test_data,metadata_test,0)"
      ],
      "metadata": {
        "colab": {
          "base_uri": "https://localhost:8080/",
          "height": 138,
          "referenced_widgets": [
            "5409894ff2384570820043aaed377d4e",
            "df7da87d53364e05bd93cce547ba968e",
            "95b6d51039ca41fcbab054cdd753440a",
            "8a592a0ccb1641b2bb457ed255c54271",
            "00787b2fdc9f407a951e9f59e6d25b3d",
            "1adc667bf7d6415e936ab218074aa1a1",
            "92d73bb4bafa4a60b69064387de528d6",
            "947f2cc4cb5048b3b03fb3dd900f2011",
            "0f5e7012c8cb414188f050f862d1c3f3",
            "807a88f460534dc8afe95157db9f6d0a",
            "85e21690567f4a45b8502580442cdb1d",
            "7346af76d44a43df955270c624d84286",
            "9f9b659e3eef45b4971ab51d250a9382",
            "eeac756b6de24be6b487eb7918ef8676",
            "4601d87e21e448c78916f97b4cb0d28e",
            "13cd9fbcb5704d868bf57021671d16a8",
            "e228d36045344beda00cfd7bfaceab69",
            "77367906232443768bc00346a4dc20d2",
            "ae81eecb61134370ad94e8bffb941c13",
            "dfe859f0ad2e4e3f9e1beab2019a281f",
            "fd3e45cc4d0349d195f9f9a81d7ec089",
            "32aeb248a00c4e84a6aed21b0427cf28"
          ]
        },
        "id": "UfYSrWw_x3I8",
        "outputId": "1f2b38ec-344d-43f2-ccd7-a10a49578d78"
      },
      "execution_count": 327,
      "outputs": [
        {
          "output_type": "display_data",
          "data": {
            "text/plain": [
              "  0%|          | 0/7848 [00:00<?, ?it/s]"
            ],
            "application/vnd.jupyter.widget-view+json": {
              "version_major": 2,
              "version_minor": 0,
              "model_id": "5409894ff2384570820043aaed377d4e"
            }
          },
          "metadata": {}
        },
        {
          "output_type": "stream",
          "name": "stdout",
          "text": [
            "[92, 88, 42, 90, 90, 65, 90, 42, 90, 65, 90, 42, 42, 90, 65, 16, 67, 67, 42, 95, 88, 62, 88, 42, 16, 15, 42, 90, 90, 90, 42, 90, 65, 90, 90, 42, 90, 88, 88, 16, 90, 62, 16, 90, 65, 90, 16, 65, 65, 88, 90, 65, 42, 65, 95, 90, 65, 90, 88, 52, 65, 42, 16, 42, 90, 62, 52, 65, 90, 92, 65, 90, 52, 90, 90, 90, 90, 65, 65, 52, 90, 88, 95, 90, 90, 90, 90, 90, 65, 16, 90, 16, 52, 90, 90, 16, 16, 90, 52, 90, 90, 16, 16, 90, 90, 62, 90, 90, 88, 6, 62, 62, 90, 90, 67, 62, 90, 62, 42, 90, 90, 16, 90, 15, 52, 88, 88, 90, 52, 95, 65, 52, 90, 90, 88, 88, 65, 90, 16, 65, 90, 90, 90, 90, 90, 90, 90, 42, 16, 88, 92, 62, 65, 16, 88, 65, 92, 16, 90, 90, 90, 90, 92, 67, 90, 16, 90, 42, 90, 90, 90, 42, 62, 65, 90, 88, 16, 90, 65, 16, 16, 65, 90, 92, 95, 65, 42, 16, 42, 65, 90, 90, 90, 42, 65, 90, 88, 52, 42, 88, 62, 67, 42, 95, 65, 42, 90, 90, 42, 52, 65, 65, 65, 90, 90, 65, 52, 16, 90, 67, 88, 42, 65, 90, 16, 90, 90, 65, 90, 90, 62, 90, 62, 42, 90, 42, 62, 42, 90, 67, 95, 65, 16, 88, 42, 52, 90, 90, 16, 92, 90, 90, 42, 90, 90, 16, 65, 62, 65, 90, 16, 42, 67, 42, 65, 16, 62, 65, 90, 90, 90, 42, 16, 42, 90, 88, 67, 88, 90, 16, 65, 92, 62, 65, 52, 67, 90, 88, 90, 62, 90, 92, 90, 88, 16, 42, 90, 90, 65, 90, 62, 16, 90, 90, 16, 42, 88, 65, 90, 65, 42, 42, 65, 65, 90, 62, 65, 90, 16, 62, 52, 90, 65, 62, 65, 62, 90, 42, 65, 65, 90, 65, 42, 67, 88, 42, 90, 65, 65, 42, 42, 90, 90, 90, 90, 67, 62, 16, 65, 67, 65, 52, 16, 62, 92, 90, 65, 64, 16, 90, 90, 65, 90, 62, 90, 90, 42, 52, 16, 62, 90, 42, 90, 90, 65, 65, 42, 65, 90, 90, 42, 16, 88, 90, 42, 65, 90, 90, 90, 42, 65, 90, 42, 90, 16, 42, 52, 90, 42, 62, 90, 42, 90, 88, 88, 42, 90, 65, 90, 90, 88, 92, 42, 62, 65, 88, 88, 90, 88, 65, 90, 67, 90, 90, 90, 90, 67, 52, 90, 90, 65, 42, 95, 90, 16, 90, 65, 42, 67, 16, 90, 90, 88, 90, 95, 16, 90, 65, 90, 6, 62, 90, 62, 90, 88, 95, 67, 42, 42, 90, 90, 65, 90, 65, 92, 92, 90, 90, 90, 42, 42, 65, 90, 90, 42, 42, 90, 95, 42, 90, 62, 90, 42, 62, 42, 65, 65, 16, 42, 90, 88, 6, 90, 90, 95, 65, 90, 90, 90, 16, 90, 65, 65, 65, 90, 62, 42, 90, 65, 90, 62, 65, 16, 90, 90, 90, 92, 67, 90, 65, 90, 90, 67, 16, 92, 16, 90, 90, 92, 90, 65, 62, 90, 62, 52, 90, 90, 88, 65, 90, 42, 90, 90, 65, 65, 88, 16, 90, 62, 65, 90, 92, 42, 90, 62, 16, 90, 62, 90, 95, 65, 62, 90, 88, 88, 90, 90, 42, 52, 92, 42, 65, 15, 90, 90, 67, 90, 65, 42, 67, 90, 42, 90, 62, 90, 90, 88, 90, 42, 65, 90, 42, 42, 42, 90, 90, 16, 42, 90, 65, 42, 16, 67, 90, 90, 65, 42, 90, 42, 90, 90, 90, 92, 90, 88, 65, 90, 52, 42, 90, 90, 95, 67, 16, 42, 65, 90, 90, 16, 62, 88, 52, 90, 92, 52, 90, 88, 65, 67, 42, 90, 65, 62, 90, 90, 52, 42, 90, 90, 90, 90, 90, 90, 90, 95, 90, 42, 62, 88, 42, 88, 90, 62, 90, 88, 88, 90, 42, 90, 65, 65, 90, 42, 90, 90, 16, 67, 90, 90, 65, 65, 42, 65, 90, 15, 90, 65, 42, 90, 90, 67, 90, 42, 90, 90, 95, 90, 16, 90, 88, 65, 62, 90, 16, 90, 88, 92, 92, 16, 90, 92, 90, 90, 90, 65, 90, 90, 65, 67, 90, 42, 90, 62, 90, 65, 42, 90, 90, 65, 42, 42, 62, 42, 90, 88, 42, 90, 90, 65, 65, 90, 65, 90, 52, 62, 88, 42, 52, 95, 90, 16, 16, 90, 65, 65, 88, 90, 52, 42, 65, 90, 65, 88, 90, 65, 42, 65, 65, 90, 16, 42, 65, 65, 90, 95, 67, 65, 42, 90, 90, 90, 52, 90, 52, 42, 52, 92, 62, 90, 42, 42, 90, 16, 90, 42, 16, 90, 65, 90, 16, 95, 90, 90, 90, 92, 90, 90, 15, 90, 90, 53, 90, 42, 90, 90, 42, 65, 16, 90, 52, 90, 65, 42, 62, 52, 65, 65, 42, 42, 42, 90, 42, 90, 42, 16, 90, 64, 90, 90, 90, 65, 62, 90, 42, 65, 67, 90, 65, 90, 90, 42, 42, 90, 42, 42, 90, 16, 90, 90, 16, 65, 90, 90, 90, 42, 90, 92, 90, 62, 90, 90, 62, 90, 92, 65, 90, 42, 90, 90, 15, 90, 90, 42, 90, 16, 65, 42, 65, 90, 42, 16, 42, 65, 42, 90, 92, 52, 92, 90, 90, 42, 65, 90, 16, 16, 65, 16, 62, 65, 88, 16, 88, 90, 42, 90, 90, 88, 90, 16, 65, 88, 65, 90, 90, 42, 88, 88, 90, 42, 42, 95, 52, 90, 62, 90, 42, 90, 90, 65, 62, 88, 90, 65, 16, 90, 88, 90, 90, 90, 88, 65, 90, 65, 16, 90, 62, 65, 90, 62, 42, 16, 90, 90, 90, 42, 90, 88, 90, 92, 65, 90, 67, 42, 88, 90, 16, 42, 16, 65, 95, 62, 65, 65, 90, 62, 42, 90, 90, 90, 90, 65, 95, 67, 65, 65, 90, 16, 90, 90, 90, 90, 65, 90, 90, 16, 90, 42, 42, 95, 95, 65, 90, 42, 90, 16, 90, 42, 90, 88, 88, 67, 52, 65, 90, 16, 65, 90, 52, 90, 65, 88, 42, 90, 90, 90, 92, 90, 90, 90, 16, 90, 88, 95, 90, 42, 90, 88, 62, 65, 42, 90, 90, 42, 90, 90, 62, 90, 16, 65, 42, 90, 90, 42, 90, 42, 90, 65, 90, 90, 90, 16, 90, 42, 90, 90, 65, 90, 90, 65, 90, 90, 90, 67, 65, 42, 62, 16, 52, 16, 42, 90, 42, 90, 90, 16, 90, 90, 95, 65, 88, 92, 42, 90, 65, 90, 62, 65, 90, 90, 90, 90, 16, 90, 62, 16, 42, 90, 90, 16, 90, 65, 90, 52, 90, 16, 16, 90, 92, 65, 88, 62, 90, 62, 42, 62, 90, 65, 88, 90, 42, 65, 90, 88, 90, 42, 62, 90, 90, 88, 16, 90, 90, 90, 42, 90, 90, 90, 88, 65, 65, 90, 65, 90, 62, 67, 90, 92, 90, 52, 90, 62, 52, 16, 88, 62, 16, 65, 62, 52, 42, 90, 65, 67, 52, 6, 16, 92, 52, 42, 67, 92, 90, 90, 62, 90, 90, 65, 62, 90, 67, 90, 42, 90, 42, 42, 65, 16, 67, 67, 90, 65, 16, 67, 90, 90, 42, 90, 6, 62, 90, 90, 90, 90, 65, 92, 90, 42, 90, 90, 62, 62, 90, 42, 42, 90, 90, 65, 90, 90, 52, 65, 65, 90, 42, 90, 90, 16, 90, 90, 16, 95, 16, 88, 42, 52, 16, 65, 42, 90, 42, 90, 90, 90, 90, 90, 65, 90, 42, 90, 67, 90, 90, 88, 52, 88, 90, 90, 95, 65, 65, 42, 90, 90, 88, 42, 88, 90, 52, 42, 65, 90, 90, 42, 65, 90, 65, 90, 90, 42, 42, 65, 52, 90, 90, 90, 90, 90, 90, 90, 65, 90, 90, 90, 65, 90, 90, 90, 88, 42, 90, 88, 65, 90, 90, 90, 42, 90, 16, 90, 42, 16, 62, 90, 42, 90, 90, 42, 90, 65, 90, 90, 90, 16, 65, 67, 90, 90, 42, 52, 90, 67, 90, 42, 90, 65, 67, 67, 90, 90, 90, 42, 65, 52, 90, 16, 90, 90, 90, 42, 65, 65, 67, 92, 90, 88, 65, 65, 90, 42, 42, 42, 90, 90, 90, 62, 52, 90, 65, 90, 90, 95, 62, 65, 90, 65, 42, 90, 88, 90, 16, 90, 90, 90, 62, 90, 42, 65, 62, 42, 90, 65, 52, 65, 52, 90, 90, 67, 90, 42, 62, 90, 52, 90, 42, 88, 65, 42, 67, 90, 90, 90, 67, 52, 90, 90, 16, 62, 90, 16, 90, 90, 65, 42, 90, 90, 65, 65, 62, 42, 95, 16, 42, 95, 90, 52, 88, 90, 90, 42, 90, 90, 42, 90, 65, 90, 42, 42, 90, 90, 90, 92, 90, 88, 52, 62, 67, 90, 65, 65, 90, 90, 42, 16, 90, 62, 67, 42, 90, 90, 65, 92, 90, 90, 65, 16, 90, 88, 16, 16, 90, 65, 42, 92, 42, 90, 90, 62, 62, 65, 65, 42, 90, 90, 90, 88, 90, 88, 92, 90, 16, 90, 16, 90, 90, 88, 62, 67, 62, 90, 42, 65, 42, 16, 52, 90, 42, 90, 42, 90, 90, 90, 65, 42, 42, 90, 88, 65, 90, 90, 90, 90, 90, 90, 90, 90, 90, 90, 42, 88, 42, 90, 16, 65, 42, 90, 42, 62, 42, 62, 90, 90, 90, 90, 42, 42, 90, 90, 16, 15, 90, 65, 88, 90, 42, 90, 65, 90, 42, 65, 90, 92, 90, 42, 90, 65, 62, 88, 90, 90, 67, 90, 95, 65, 88, 92, 42, 90, 90, 52, 90, 65, 88, 90, 90, 90, 88, 90, 42, 65, 90, 42, 90, 42, 42, 42, 62, 65, 90, 92, 65, 52, 65, 90, 67, 16, 90, 42, 90, 90, 90, 65, 42, 42, 90, 90, 65, 16, 65, 88, 62, 90, 42, 62, 90, 65, 52, 90, 90, 90, 90, 53, 65, 90, 65, 90, 65, 67, 90, 90, 95, 65, 90, 52, 90, 42, 90, 42, 90, 65, 16, 16, 65, 16, 90, 42, 90, 16, 42, 16, 52, 16, 42, 42, 62, 90, 42, 90, 62, 65, 42, 92, 42, 90, 62, 90, 65, 90, 62, 88, 67, 88, 65, 90, 90, 16, 90, 88, 53, 42, 67, 90, 90, 88, 15, 90, 90, 90, 65, 62, 90, 90, 65, 90, 90, 90, 16, 92, 90, 65, 65, 90, 90, 16, 52, 16, 65, 92, 90, 6, 65, 90, 90, 67, 62, 62, 90, 90, 90, 90, 90, 65, 90, 65, 65, 16, 90, 42, 90, 65, 88, 92, 90, 90, 52, 92, 95, 42, 90, 42, 62, 42, 65, 16, 53, 90, 16, 90, 90, 65, 65, 65, 42, 90, 90, 42, 52, 90, 52, 65, 67, 90, 65, 90, 16, 90, 62, 62, 42, 88, 90, 90, 65, 65, 90, 90, 65, 65, 92, 16, 90, 42, 65, 88, 90, 90, 65, 42, 92, 90, 65, 90, 90, 16, 62, 88, 90, 62, 90, 65, 90, 95, 90, 42, 42, 92, 90, 90, 16, 90, 42, 90, 90, 90, 90, 90, 90, 90, 65, 16, 42, 42, 90, 90, 65, 90, 90, 42, 90, 42, 90, 65, 42, 90, 65, 90, 90, 90, 65, 90, 90, 90, 62, 65, 65, 67, 42, 65, 90, 62, 62, 90, 65, 42, 90, 62, 90, 90, 92, 16, 90, 42, 42, 67, 90, 67, 90, 90, 16, 42, 90, 90, 90, 42, 92, 42, 90, 90, 42, 90, 52, 90, 62, 42, 42, 67, 16, 90, 16, 90, 65, 90, 90, 65, 42, 90, 65, 92, 62, 65, 90, 90, 88, 90, 42, 42, 65, 90, 65, 90, 16, 42, 42, 16, 90, 65, 42, 90, 90, 90, 90, 90, 90, 90, 16, 90, 65, 90, 90, 65, 65, 62, 90, 65, 42, 42, 88, 42, 42, 16, 88, 88, 90, 16, 90, 90, 90, 90, 16, 65, 42, 95, 62, 90, 42, 88, 90, 90, 90, 42, 90, 65, 62, 65, 16, 42, 65, 92, 65, 90, 88, 65, 42, 90, 62, 90, 65, 90, 90, 42, 90, 42, 88, 65, 95, 16, 90, 16, 90, 16, 42, 42, 65, 16, 16, 90, 65, 90, 42, 92, 16, 65, 65, 90, 62, 90, 90, 95, 65, 16, 42, 90, 95, 62, 6, 90, 42, 42, 90, 90, 90, 42, 62, 65, 65, 42, 42, 42, 90, 90, 95, 88, 62, 90, 88, 90, 90, 42, 90, 90, 90, 88, 90, 90, 90, 90, 90, 62, 42, 65, 62, 90, 95, 90, 65, 90, 90, 42, 42, 90, 90, 90, 62, 65, 90, 67, 67, 65, 90, 67, 65, 42, 65, 52, 90, 16, 90, 90, 52, 42, 90, 15, 90, 42, 65, 90, 16, 90, 95, 42, 42, 90, 16, 42, 90, 42, 90, 16, 90, 15, 6, 6, 15, 67, 15, 64, 42, 65, 90, 62, 88, 42, 42, 90, 6, 62, 16, 65, 42, 16, 15, 90, 90, 92, 90, 90, 65, 16, 90, 88, 67, 95, 65, 53, 65, 42, 16, 90, 88, 90, 67, 90, 90, 16, 88, 42, 65, 16, 16, 88, 42, 90, 90, 16, 42, 16, 92, 92, 16, 65, 88, 15, 65, 62, 90, 16, 67, 42, 42, 65, 16, 16, 65, 16, 16, 42, 64, 90, 42, 90, 65, 15, 15, 95, 88, 15, 67, 90, 90, 15, 42, 88, 16, 42, 16, 90, 90, 42, 16, 16, 62, 16, 65, 90, 42, 42, 16, 62, 88, 90, 16, 15, 90, 90, 64, 16, 15, 65, 88, 92, 53, 90, 90, 62, 90, 92, 64, 65, 88, 16, 16, 90, 90, 95, 88, 90, 16, 16, 15, 62, 16, 90, 90, 42, 53, 90, 90, 90, 88, 15, 16, 42, 15, 90, 90, 90, 42, 16, 16, 64, 15, 52, 42, 90, 90, 90, 90, 90, 62, 90, 65, 90, 65, 65, 42, 62, 16, 42, 65, 62, 92, 90, 90, 62, 42, 90, 42, 52, 90, 67, 42, 16, 65, 16, 62, 16, 42, 65, 90, 16, 16, 62, 67, 15, 90, 90, 16, 52, 16, 90, 16, 42, 16, 16, 67, 42, 65, 90, 16, 95, 90, 64, 16, 52, 15, 42, 62, 90, 52, 62, 88, 90, 95, 42, 90, 90, 88, 15, 65, 65, 52, 42, 42, 90, 90, 62, 65, 90, 65, 90, 42, 95, 90, 90, 42, 42, 15, 16, 65, 62, 90, 15, 62, 62, 90, 88, 88, 42, 65, 16, 92, 90, 67, 62, 15, 90, 92, 65, 42, 42, 65, 6, 62, 15, 16, 65, 90, 90, 42, 16, 92, 15, 42, 42, 95, 16, 92, 90, 92, 42, 62, 65, 16, 15, 42, 90, 65, 42, 16, 42, 42, 90, 16, 15, 42, 16, 42, 16, 15, 15, 90, 15, 42, 62, 42, 6, 16, 42, 90, 16, 52, 65, 15, 65, 65, 42, 90, 90, 90, 67, 42, 15, 52, 95, 16, 90, 90, 6, 15, 65, 62, 65, 15, 42, 42, 62, 90, 90, 42, 90, 42, 90, 16, 16, 42, 90, 65, 90, 65, 15, 65, 65, 15, 15, 16, 42, 90, 90, 90, 90, 90, 16, 6, 95, 42, 65, 15, 90, 62, 90, 52, 16, 52, 65, 65, 16, 15, 16, 90, 42, 90, 90, 65, 90, 90, 65, 16, 42, 6, 15, 42, 16, 16, 92, 62, 90, 15, 16, 65, 88, 95, 90, 90, 62, 42, 90, 42, 42, 67, 16, 88, 16, 88, 42, 88, 65, 15, 16, 90, 90, 95, 90, 90, 42, 16, 67, 42, 67, 65, 42, 88, 90, 16, 88, 90, 65, 90, 62, 62, 42, 42, 90, 42, 42, 15, 88, 52, 16, 62, 90, 64, 42, 15, 88, 65, 42, 52, 90, 64, 62, 65, 42, 64, 6, 6, 65, 65, 90, 6, 90, 90, 6, 90, 67, 88, 92, 16, 65, 90, 42, 88, 62, 88, 90, 90, 90, 90, 90, 42, 92, 42, 62, 90, 42, 62, 42, 65, 42, 65, 16, 90, 16, 52, 88, 15, 15, 16, 16, 16, 42, 65, 95, 42, 6, 42, 90, 42, 90, 42, 90, 16, 65, 90, 90, 42, 90, 16, 16, 42, 16, 90, 64, 42, 90, 16, 16, 90, 92, 62, 16, 52, 92, 67, 42, 15, 65, 90, 65, 62, 62, 42, 92, 90, 15, 42, 88, 95, 65, 65, 42, 90, 42, 90, 6, 16, 42, 42, 42, 67, 42, 52, 15, 90, 16, 90, 16, 16, 90, 15, 90, 42, 16, 90, 65, 95, 90, 90, 65, 65, 65, 42, 15, 90, 42, 16, 90, 88, 88, 42, 95, 42, 15, 90, 90, 15, 90, 42, 16, 42, 42, 90, 65, 90, 67, 15, 90, 16, 15, 42, 15, 16, 15, 42, 90, 15, 42, 67, 42, 62, 16, 52, 90, 65, 42, 90, 65, 6, 16, 64, 95, 90, 90, 16, 90, 90, 65, 62, 64, 42, 42, 88, 65, 90, 16, 65, 90, 64, 95, 65, 16, 90, 90, 15, 53, 65, 42, 88, 16, 42, 42, 42, 65, 90, 15, 90, 62, 62, 90, 92, 62, 16, 65, 90, 6, 90, 90, 64, 65, 42, 90, 16, 90, 88, 90, 90, 95, 62, 92, 42, 42, 95, 90, 65, 65, 16, 90, 16, 16, 90, 65, 16, 92, 92, 15, 62, 42, 42, 16, 62, 90, 90, 42, 95, 88, 42, 15, 16, 65, 90, 90, 64, 16, 15, 90, 42, 53, 42, 42, 90, 90, 90, 90, 90, 88, 16, 52, 16, 65, 42, 95, 67, 15, 90, 42, 42, 42, 65, 6, 90, 65, 90, 90, 90, 62, 6, 42, 92, 62, 16, 88, 90, 92, 62, 62, 52, 15, 65, 90, 67, 92, 65, 90, 90, 42, 88, 90, 6, 88, 42, 15, 64, 42, 90, 42, 90, 90, 67, 42, 42, 16, 90, 15, 62, 52, 42, 95, 65, 15, 62, 65, 90, 42, 62, 42, 42, 90, 90, 65, 62, 90, 65, 67, 62, 90, 90, 67, 88, 90, 90, 65, 16, 88, 42, 42, 42, 65, 65, 42, 15, 92, 88, 67, 65, 16, 92, 90, 67, 95, 88, 88, 95, 15, 90, 90, 90, 90, 90, 64, 88, 53, 16, 16, 6, 92, 90, 15, 90, 90, 42, 90, 90, 90, 15, 90, 65, 42, 65, 15, 67, 52, 6, 90, 15, 15, 92, 90, 90, 90, 42, 90, 15, 90, 42, 90, 65, 65, 90, 67, 90, 90, 42, 90, 65, 16, 42, 42, 90, 90, 67, 16, 88, 16, 16, 65, 88, 42, 90, 42, 90, 90, 42, 90, 90, 90, 90, 90, 95, 90, 65, 65, 88, 67, 65, 90, 88, 65, 16, 15, 67, 90, 92, 15, 64, 95, 42, 42, 42, 16, 16, 90, 42, 90, 65, 42, 16, 42, 15, 90, 6, 67, 90, 15, 90, 90, 65, 90, 90, 16, 90, 16, 15, 90, 15, 16, 65, 16, 42, 90, 16, 16, 90, 6, 42, 95, 62, 16, 90, 90, 67, 95, 90, 62, 42, 88, 42, 6, 62, 65, 90, 90, 15, 65, 90, 65, 15, 42, 15, 16, 42, 15, 90, 90, 65, 62, 67, 15, 90, 67, 90, 64, 65, 88, 90, 16, 90, 15, 16, 95, 92, 65, 52, 62, 65, 65, 62, 90, 42, 42, 88, 15, 52, 92, 15, 92, 90, 6, 90, 53, 42, 16, 90, 15, 90, 16, 6, 42, 42, 15, 88, 16, 88, 90, 90, 16, 90, 90, 65, 15, 92, 65, 90, 88, 15, 90, 6, 42, 15, 42, 67, 42, 62, 16, 90, 42, 15, 16, 42, 92, 90, 90, 42, 15, 62, 90, 65, 42, 88, 16, 92, 90, 42, 90, 88, 52, 90, 92, 65, 90, 90, 67, 15, 88, 90, 90, 95, 92, 16, 65, 62, 90, 90, 16, 88, 90, 90, 90, 15, 16, 15, 15, 15, 16, 90, 62, 90, 88, 15, 42, 15, 64, 65, 92, 62, 16, 42, 16, 42, 62, 62, 67, 65, 90, 65, 90, 65, 90, 92, 16, 16, 42, 90, 90, 95, 65, 65, 90, 90, 16, 90, 90, 90, 62, 90, 92, 90, 15, 42, 42, 90, 90, 42, 90, 15, 90, 64, 65, 16, 16, 92, 62, 90, 90, 90, 65, 42, 42, 15, 65, 90, 90, 42, 90, 6, 65, 15, 90, 15, 90, 65, 16, 92, 15, 16, 90, 90, 15, 90, 42, 90, 88, 92, 90, 16, 65, 6, 65, 90, 15, 16, 65, 90, 92, 42, 42, 42, 90, 65, 90, 62, 90, 92, 65, 16, 16, 16, 65, 42, 52, 6, 42, 16, 92, 16, 65, 42, 65, 90, 15, 90, 67, 65, 42, 16, 90, 65, 95, 62, 90, 90, 16, 90, 92, 90, 15, 15, 65, 42, 65, 90, 15, 16, 15, 42, 42, 16, 15, 15, 90, 90, 65, 62, 90, 16, 90, 16, 42, 88, 16, 16, 95, 42, 52, 90, 42, 92, 6, 16, 42, 42, 67, 90, 67, 67, 62, 16, 62, 42, 67, 90, 62, 42, 15, 65, 42, 16, 92, 90, 42, 16, 42, 64, 65, 90, 16, 52, 65, 62, 95, 90, 15, 64, 90, 90, 42, 42, 15, 6, 62, 88, 42, 90, 16, 67, 90, 90, 90, 52, 42, 95, 42, 65, 65, 42, 42, 42, 92, 90, 62, 16, 16, 90, 16, 90, 42, 65, 15, 62, 90, 15, 65, 15, 88, 90, 42, 52, 15, 90, 90, 90, 90, 67, 65, 90, 88, 92, 88, 16, 90, 42, 65, 90, 16, 64, 15, 88, 65, 90, 62, 16, 16, 15, 42, 52, 62, 15, 90, 90, 90, 90, 90, 15, 52, 62, 42, 16, 52, 42, 65, 90, 90, 53, 6, 62, 90, 90, 90, 90, 15, 65, 16, 42, 88, 95, 65, 90, 42, 42, 62, 65, 42, 42, 42, 42, 65, 90, 65, 52, 90, 42, 62, 16, 42, 65, 16, 90, 42, 90, 90, 90, 90, 62, 88, 90, 42, 90, 92, 16, 42, 90, 65, 92, 16, 16, 15, 88, 90, 90, 65, 65, 67, 16, 42, 6, 15, 42, 42, 65, 95, 64, 62, 88, 65, 88, 90, 90, 42, 15, 42, 62, 64, 65, 42, 62, 88, 62, 42, 90, 62, 16, 15, 42, 67, 90, 16, 42, 42, 15, 42, 42, 90, 16, 90, 15, 62, 90, 92, 16, 15, 42, 16, 90, 90, 65, 16, 90, 16, 65, 16, 92, 16, 90, 6, 88, 16, 88, 90, 42, 6, 90, 42, 16, 15, 90, 95, 65, 90, 62, 90, 16, 15, 16, 90, 88, 90, 42, 67, 62, 90, 90, 42, 65, 90, 15, 90, 42, 90, 15, 90, 90, 65, 90, 65, 88, 95, 65, 6, 16, 67, 90, 90, 42, 16, 65, 62, 90, 16, 90, 16, 15, 42, 90, 90, 88, 16, 16, 65, 42, 65, 67, 16, 88, 95, 65, 67, 16, 90, 42, 90, 16, 16, 16, 65, 65, 90, 92, 15, 15, 16, 92, 16, 90, 16, 15, 16, 90, 42, 65, 65, 15, 90, 62, 16, 62, 6, 42, 15, 90, 67, 42, 90, 65, 15, 42, 90, 15, 67, 90, 92, 42, 90, 92, 42, 6, 62, 65, 90, 62, 92, 52, 90, 90, 15, 15, 15, 52, 6, 90, 90, 65, 90, 42, 42, 90, 64, 65, 6, 65, 90, 42, 88, 90, 67, 16, 95, 52, 65, 42, 16, 15, 67, 62, 95, 90, 42, 65, 90, 15, 16, 16, 15, 65, 88, 15, 42, 90, 16, 42, 15, 42, 90, 16, 42, 16, 90, 42, 42, 16, 15, 65, 90, 88, 62, 42, 65, 16, 15, 92, 90, 88, 42, 16, 42, 90, 88, 16, 15, 16, 16, 15, 65, 62, 42, 52, 6, 90, 92, 42, 42, 90, 65, 65, 16, 90, 62, 42, 90, 16, 65, 42, 90, 65, 92, 90, 90, 95, 62, 42, 15, 90, 52, 90, 16, 65, 16, 6, 15, 42, 90, 6, 90, 16, 92, 95, 16, 90, 65, 15, 15, 95, 90, 42, 65, 65, 65, 62, 16, 16, 42, 42, 90, 15, 90, 42, 62, 90, 6, 52, 16, 42, 52, 42, 15, 42, 15, 62, 16, 90, 65, 15, 90, 52, 62, 90, 65, 65, 16, 15, 15, 15, 16, 65, 65, 62, 65, 42, 65, 90, 16, 15, 42, 90, 65, 16, 16, 92, 90, 62, 90, 16, 62, 16, 88, 42, 65, 65, 65, 15, 90, 90, 90, 42, 15, 90, 92, 90, 90, 90, 90, 90, 88, 65, 16, 16, 42, 90, 90, 15, 65, 90, 42, 65, 90, 62, 92, 16, 64, 90, 16, 90, 90, 15, 42, 90, 15, 65, 65, 64, 88, 88, 90, 16, 65, 90, 90, 90, 65, 88, 65, 42, 42, 15, 92, 67, 88, 42, 62, 6, 42, 16, 90, 90, 42, 90, 15, 65, 42, 90, 90, 90, 16, 62, 15, 90, 62, 62, 15, 62, 16, 65, 95, 42, 42, 62, 90, 42, 95, 90, 90, 65, 42, 64, 90, 88, 90, 90, 90, 88, 88, 90, 88, 90, 64, 42, 64, 6, 16, 16, 90, 16, 92, 90, 90, 42, 65, 90, 15, 16, 65, 42, 90, 65, 65, 67, 62, 6, 65, 16, 64, 62, 42, 62, 92, 15, 88, 62, 90, 16, 62, 90, 65, 42, 65, 67, 16, 62, 42, 95, 90, 42, 62, 62, 65, 16, 90, 15, 65, 65, 42, 15, 92, 90, 6, 52, 62, 15, 42, 90, 42, 16, 90, 15, 16, 90, 42, 64, 90, 15, 90, 90, 90, 90, 15, 65, 90, 42, 16, 16, 62, 16, 42, 16, 90, 65, 90, 67, 6, 90, 62, 42, 42, 42, 16, 62, 16, 90, 42, 16, 90, 15, 42, 90, 90, 65, 6, 90, 42, 90, 90, 90, 88, 90, 16, 65, 90, 6, 90, 65, 15, 90, 92, 67, 90, 90, 64, 90, 90, 90, 16, 65, 65, 65, 95, 16, 16, 65, 90, 90, 42, 65, 64, 6, 90, 65, 90, 90, 15, 90, 62, 15, 95, 16, 67, 95, 16, 64, 65, 62, 15, 65, 90, 16, 42, 90, 90, 62, 90, 62, 92, 16, 42, 62, 90, 90, 88, 90, 88, 90, 62, 16, 42, 15, 90, 62, 88, 15, 52, 67, 42, 16, 90, 65, 90, 62, 90, 90, 15, 90, 42, 90, 42, 62, 42, 65, 52, 42, 90, 90, 16, 42, 92, 90, 90, 64, 90, 62, 42, 90, 42, 95, 42, 65, 65, 15, 42, 62, 90, 16, 15, 15, 42, 15, 42, 65, 42, 65, 88, 16, 65, 92, 90, 15, 90, 90, 16, 16, 67, 42, 92, 15, 88, 88, 90, 16, 65, 90, 65, 16, 65, 90, 42, 62, 42, 62, 42, 16, 90, 90, 65, 90, 65, 15, 88, 90, 16, 90, 52, 52, 90, 42, 90, 90, 15, 92, 90, 90, 42, 90, 65, 88, 16, 62, 16, 16, 90, 15, 67, 90, 95, 92, 42, 42, 42, 15, 16, 90, 16, 92, 65, 62, 90, 90, 90, 62, 16, 90, 90, 90, 95, 65, 64, 62, 42, 16, 88, 65, 65, 90, 88, 42, 52, 16, 92, 62, 16, 42, 16, 42, 90, 15, 42, 42, 90, 65, 16, 65, 42, 65, 62, 90, 88, 62, 62, 42, 16, 90, 16, 62, 15, 90, 65, 16, 90, 16, 90, 90, 42, 16, 62, 65, 16, 53, 90, 92, 65, 15, 92, 65, 65, 16, 6, 90, 16, 42, 16, 16, 15, 42, 92, 62, 42, 42, 65, 42, 65, 16, 90, 42, 90, 67, 16, 90, 16, 15, 88, 90, 62, 90, 52, 90, 65, 16, 6, 42, 42, 16, 16, 42, 6, 42, 90, 65, 90, 16, 65, 90, 16, 6, 90, 16, 65, 15, 95, 67, 16, 92, 42, 64, 92, 62, 42, 92, 90, 42, 90, 65, 90, 90, 90, 16, 90, 15, 95, 62, 65, 62, 62, 62, 90, 16, 90, 90, 16, 52, 16, 65, 90, 42, 65, 65, 16, 16, 16, 42, 42, 52, 65, 42, 65, 90, 90, 90, 42, 90, 92, 42, 42, 16, 16, 16, 90, 42, 42, 65, 90, 42, 42, 42, 6, 42, 95, 65, 90, 16, 42, 65, 88, 53, 90, 90, 16, 90, 90, 92, 90, 42, 90, 90, 65, 90, 90, 90, 88, 52, 90, 42, 90, 90, 6, 90, 90, 15, 95, 65, 42, 15, 65, 42, 88, 62, 42, 64, 88, 90, 42, 64, 42, 42, 16, 16, 90, 90, 67, 64, 95, 16, 62, 92, 16, 16, 90, 90, 16, 42, 16, 42, 67, 62, 16, 90, 42, 6, 42, 16, 62, 42, 90, 15, 90, 88, 16, 42, 90, 16, 62, 16, 42, 90, 65, 15, 88, 62, 90, 42, 42, 65, 42, 42, 90, 65, 42, 42, 15, 90, 90, 65, 90, 15, 42, 88, 42, 42, 15, 42, 90, 90, 90, 88, 42, 65, 62, 65, 42, 52, 16, 90, 52, 62, 16, 42, 90, 16, 64, 90, 15, 67, 15, 15, 95, 92, 16, 42, 15, 64, 42, 16, 95, 16, 15, 42, 15, 42, 62, 92, 90, 65, 65, 90, 42, 16, 52, 42, 90, 62, 42, 16, 90, 16, 90, 16, 90, 42, 90, 90, 90, 92, 16, 90, 16, 16, 65, 62, 42, 15, 65, 90, 16, 67, 90, 92, 16, 90, 16, 65, 15, 92, 42, 42, 92, 42, 90, 16, 65, 92, 16, 42, 42, 65, 65, 88, 62, 15, 90, 15, 42, 42, 16, 65, 90, 62, 16, 90, 90, 6, 42, 90, 88, 65, 15, 65, 15, 15, 15, 42, 67, 88, 16, 65, 42, 42, 42, 42, 42, 62, 90, 42, 15, 65, 42, 88, 65, 42, 90, 90, 15, 65, 16, 52, 15, 90, 65, 16, 16, 6, 88, 42, 90, 62, 42, 42, 62, 42, 90, 90, 90, 65, 65, 42, 15, 16, 62, 90, 42, 88, 90, 16, 42, 90, 92, 15, 15, 90, 90, 65, 42, 65, 90, 52, 42, 42, 88, 52, 90, 16, 42, 90, 42, 95, 15, 16, 42, 67, 90, 6, 62, 6, 16, 65, 88, 90, 90, 65, 62, 62, 90, 90, 62, 62, 90, 42, 88, 62, 65, 42, 90, 16, 42, 90, 62, 67, 42, 42, 6, 42, 90, 65, 65, 88, 65, 16, 90, 16, 16, 15, 65, 90, 15, 42, 65, 16, 64, 16, 65, 65, 67, 16, 65, 42, 42, 15, 90, 15, 16, 88, 62, 16, 92, 65, 65, 15, 64, 52, 15, 42, 65, 42, 65, 16, 90, 92, 90, 65, 16, 42, 16, 15, 6, 42, 16, 15, 64, 65, 88, 65, 62, 42, 16, 16, 62, 90, 16, 15, 42, 90, 42, 42, 42, 62, 90, 42, 67, 42, 90, 42, 90, 90, 88, 42, 16, 15, 16, 16, 90, 16, 90, 42, 90, 90, 90, 90, 90, 42, 90, 16, 88, 92, 62, 67, 90, 92, 62, 90, 42, 65, 90, 16, 42, 90, 62, 90, 90, 65, 62, 92, 90, 90, 42, 65, 88, 90, 62, 90, 90, 15, 16, 90, 42, 90, 65, 42, 90, 90, 65, 95, 62, 90, 42, 6, 62, 42, 15, 67, 16, 90, 67, 42, 65, 90, 65, 88, 95, 90, 88, 65, 90, 92, 88, 62, 90, 6, 88, 90, 90, 65, 64, 90, 90, 88, 42, 65, 42, 15, 95, 90, 16, 65, 42, 65, 65, 90, 65, 16, 15, 62, 88, 16, 92, 16, 92, 42, 65, 15, 90, 62, 6, 42, 65, 90, 16, 42, 16, 42, 16, 15, 16, 15, 62, 92, 90, 90, 62, 90, 88, 52, 65, 16, 15, 42, 42, 90, 67, 90, 15, 95, 90, 65, 42, 92, 15, 90, 90, 16, 15, 16, 42, 42, 65, 16, 65, 6, 16, 67, 90, 52, 65, 42, 90, 90, 90, 62, 16, 16, 16, 16, 42, 90, 15, 90, 16, 88, 42, 52, 42, 52, 88, 90, 42, 90, 65, 16, 42, 62, 42, 90, 65, 90, 90, 16, 16, 65, 90, 90, 16, 90, 42, 90, 90, 42, 90, 65, 16, 16, 92, 92, 42, 16, 95, 42, 90, 90, 16, 42, 42, 90, 90, 15, 90, 65, 90, 52, 42, 16, 95, 16, 53, 90, 90, 92, 90, 88, 62, 42, 16, 90, 90, 88, 42, 90, 15, 65, 15, 62, 6, 16, 16, 64, 64, 42, 62, 92, 65, 16, 90, 65, 65, 62, 16, 42, 90, 90, 90, 16, 42, 15, 15, 15, 15, 16, 90, 62, 64, 52, 42, 42, 62, 16, 90, 65, 42, 16, 64, 90, 65, 90, 15, 90, 16, 64, 15, 90, 92, 65, 92, 65, 90, 62, 65, 90, 62, 42, 42, 16, 15, 16, 95, 65, 65, 90, 90, 65, 62, 65, 88, 90, 90, 90, 16, 42, 65, 95, 6, 42, 42, 65, 15, 92, 65, 16, 92, 65, 42, 52, 6, 90, 62, 88, 52, 64, 53, 52, 90, 16, 90, 90, 65, 42, 62, 67, 62, 42, 6, 67, 90, 15, 90, 62, 42, 95, 65, 88, 90, 90, 62, 90, 62, 90, 6, 42, 90, 42, 90, 65, 42, 65, 16, 65, 65, 88, 16, 16, 62, 16, 90, 92, 67, 42, 90, 92, 42, 16, 65, 88, 42, 42, 90, 90, 62, 92, 42, 42, 62, 42, 42, 16, 88, 42, 42, 90, 90, 95, 88, 62, 90, 65, 90, 52, 67, 16, 16, 16, 6, 65, 15, 16, 88, 42, 62, 62, 90, 90, 52, 67, 90, 42, 90, 16, 16, 67, 92, 90, 16, 42, 62, 65, 95, 95, 90, 65, 15, 95, 42, 62, 88, 90, 15, 62, 16, 42, 62, 95, 90, 65, 62, 65, 6, 90, 42, 90, 42, 42, 62, 6, 92, 90, 90, 90, 42, 16, 65, 15, 95, 90, 15, 42, 15, 16, 90, 90, 42, 16, 16, 65, 90, 15, 92, 42, 90, 42, 42, 65, 6, 16, 90, 15, 16, 6, 90, 42, 65, 42, 42, 90, 62, 16, 65, 95, 52, 15, 65, 16, 90, 16, 16, 42, 95, 65, 90, 90, 65, 88, 90, 52, 90, 42, 90, 64, 15, 42, 90, 16, 65, 42, 65, 67, 90, 88, 42, 90, 90, 95, 67, 65, 92, 90, 90, 90, 42, 90, 52, 16, 90, 65, 90, 65, 64, 15, 42, 65, 95, 16, 62, 15, 42, 62, 15, 42, 90, 16, 65, 90, 67, 65, 42, 65, 90, 90, 62, 90, 90, 16, 15, 67, 90, 42, 42, 88, 90, 16, 15, 88, 95, 90, 65, 65, 16, 92, 90, 6, 15, 90, 90, 42, 42, 6, 90, 6, 6, 90, 67, 15, 90, 90, 90, 90, 67, 16, 42, 62, 16, 6, 42, 42, 90, 15, 15, 16, 67, 90, 62, 16, 65, 90, 16, 42, 90, 90, 62, 42, 90, 6, 16, 90, 16, 15, 42, 90, 95, 90, 88, 16, 90, 88, 16, 90, 15, 42, 42, 90, 52, 90, 65, 15, 90, 65, 6, 95, 62, 15, 62, 90, 90, 90, 90, 95, 90, 65, 16, 90, 65, 16, 65, 52, 90, 42, 92, 88, 15, 62, 90, 95, 15, 65, 88, 88, 90, 15, 16, 62, 90, 64, 62, 42, 90, 62, 65, 42, 65, 90, 16, 65, 95, 90, 42, 88, 64, 65, 42, 15, 15, 62, 90, 90, 65, 16, 42, 90, 15, 6, 15, 65, 65, 65, 92, 42, 65, 42, 16, 90, 16, 16, 90, 90, 42, 42, 90, 65, 90, 42, 90, 92, 42, 6, 90, 88, 90, 65, 90, 67, 42, 42, 15, 90, 90, 6, 15, 6, 65, 42, 65, 90, 42, 90, 16, 42, 90, 62, 16, 67, 90, 90, 42, 6, 65, 64, 95, 65, 90, 16, 16, 90, 16, 65, 88, 67, 16, 65, 92, 16, 16, 92, 90, 90, 52, 65, 42, 65, 90, 65, 90, 42, 90, 62, 90, 16, 42, 65, 92, 65, 90, 90, 6, 6, 90, 42, 16, 90, 90, 42, 65, 88, 90, 62, 90, 6, 65, 65, 90, 90, 88, 88, 16, 65, 16, 62, 16, 16, 42, 52, 16, 90, 62, 65, 16, 62, 88, 65, 15, 6, 65, 16, 90, 90, 90, 92, 42, 65, 65, 67, 65, 6, 90, 6, 42, 65, 42, 42, 42, 15, 16, 42, 88, 65, 65, 42, 42, 6, 90, 15, 15, 16, 95, 42, 90, 15, 88, 90, 42, 15, 92, 16, 62, 42, 65, 15, 42, 65, 90, 15, 65, 16, 65, 42, 90, 92, 90, 62, 65, 90, 88, 65, 90, 67, 16, 90, 42, 42, 15, 64, 95, 16, 90, 90, 42, 16, 42, 16, 65, 64, 90, 62, 90, 42, 90, 16, 15, 90, 95, 90, 65, 90, 15, 62, 62, 90, 42, 62, 90, 65, 64, 15, 90, 16, 90, 92, 90, 65, 16, 90, 95, 15, 62, 65, 90, 42, 67, 88, 90, 90, 15, 42, 90, 6, 15, 62, 16, 42, 62, 90, 42, 90, 52, 90, 90, 90, 65, 15, 90, 16, 90, 90, 65, 42, 67, 90, 90, 90, 16, 90, 16, 90, 90, 52, 90, 90, 42, 88, 92, 90, 6, 90, 90, 6, 42, 92, 42, 90, 15, 65, 42, 90, 16, 16, 16, 65, 6, 90, 90, 90, 16, 90, 62, 42, 90, 88, 65, 90, 16, 90, 52, 90, 90, 42, 42, 65, 16, 16, 90, 16, 90, 15, 90, 90, 16, 16, 88, 16, 6, 90, 88, 16, 90, 42, 52, 42, 65, 88, 65, 90, 90, 90, 16, 92, 65, 16, 90, 53, 64, 90, 15, 90, 16, 90, 65, 92, 64, 65, 88, 53, 42, 42, 42, 90, 90, 16, 64, 42, 90, 42, 16, 90, 16, 90, 15, 90, 88, 15, 62, 88, 90, 42, 42, 90, 42, 16, 62, 90, 16, 15, 42, 16, 90, 15, 90, 65, 88, 90, 16, 90, 42, 90, 42, 90, 67, 15, 42, 65, 62, 42, 15, 42, 65, 90, 42, 42, 88, 16, 90, 42, 92, 15, 90, 62, 16, 62, 65, 90, 90, 65, 65, 16, 62, 42, 6, 95, 62, 90, 16, 92, 95, 90, 90, 16, 90, 16, 42, 62, 15, 42, 90, 90, 90, 62, 92, 16, 90, 64, 16, 42, 42, 90, 90, 42, 42, 92, 15, 42, 65, 16, 15, 67, 16, 90, 90, 15, 88, 88, 90, 16, 65, 15, 65, 90, 16, 90, 62, 62, 90, 95, 90, 90, 6, 64, 16, 52, 16, 65, 52, 65, 16, 90, 16, 92, 52, 90, 90, 65, 90, 15, 65, 42, 90, 90, 90, 90, 42, 62, 65, 64, 90, 90, 16, 65, 15, 42, 53, 90, 90, 67, 90, 90, 16, 16, 88, 42, 90, 88, 15, 62, 64, 88, 90, 90, 16, 42, 64, 62, 16, 42, 65, 42, 65, 53, 90, 42, 16, 90, 65, 16, 16, 16, 42, 65, 42, 92, 42, 52, 65, 65, 42, 15, 88, 42, 62, 6, 90, 16, 65, 16, 88, 90, 90, 90, 15, 65, 90, 62, 90, 67, 90, 62, 15, 15, 67, 90, 16, 16, 42, 15, 90, 16, 15, 15, 90, 90, 90, 53, 62, 90, 65, 64, 90, 15, 95, 90, 62, 15, 95, 65, 16, 90, 15, 42, 65, 42, 42, 95, 42, 95, 67, 88, 42, 42, 88, 90, 95, 62, 42, 90, 88, 90, 65, 16, 65, 90, 95, 88, 88, 65, 16, 42, 95, 16, 65, 65, 90, 90, 16, 42, 90, 65, 15, 90, 92, 42, 15, 92, 62, 42, 90, 92, 90, 15, 90, 42, 16, 42, 16, 15, 42, 15, 62, 42, 90, 65, 90, 16, 65, 52, 65, 65, 90, 52, 42, 15, 16, 90, 16, 42, 90, 95, 15, 42, 65, 6, 65, 15, 62, 15, 88, 90, 15, 16, 90, 92, 42, 90, 90, 16, 16, 90, 42, 42, 62, 90, 15, 62, 16, 90, 42, 95, 90, 42, 65, 16, 90, 90, 67, 42, 6, 90, 42, 90, 6, 42, 90, 65, 90, 52, 64, 15, 64, 88, 15, 65, 15, 42, 90, 42, 16, 90, 62, 42, 90, 90, 65, 16, 42, 67, 42, 16, 42, 15, 90, 67, 6, 90, 65, 15, 16, 65, 64, 15, 42, 65, 65, 16, 90, 90, 16, 16, 16, 42, 15, 90, 42, 90, 42, 90, 65, 90, 16, 65, 65, 15, 90, 88, 15, 62, 16, 67, 42, 64, 65, 92, 90, 65, 90, 65, 90, 95, 42, 15, 16, 62, 42, 6, 42, 90, 90, 52, 90, 65, 16, 90, 90, 62, 88, 90, 65, 16, 15, 92, 15, 90, 95, 15, 42, 90, 90, 53, 42, 15, 65, 42, 90, 90, 65, 90, 15, 90, 62, 16, 62, 90, 62, 16, 65, 62, 42, 62, 90, 16, 6, 62, 88, 42, 42, 62, 64, 62, 90, 67, 42, 88, 16, 15, 62, 90, 90, 42, 65, 90, 42, 62, 62, 53, 90, 90, 95, 15, 6, 15, 95, 42, 16, 65, 6, 15, 90, 42, 92, 52, 65, 88, 6, 53, 67, 42, 62, 65, 15, 42, 16, 95, 65, 16, 65, 62, 90, 90, 16, 92, 67, 90, 16, 42, 90, 65, 90, 67, 90, 16, 65, 90, 88, 15, 42, 65, 16, 65, 62, 42, 90, 16, 90, 65, 67, 90, 64, 90, 90, 15, 92, 95, 90, 67, 16, 65, 15, 16, 15, 65, 15, 90, 62, 65, 90, 42, 15, 90, 15, 62, 88, 90, 42, 65, 42, 90, 42, 65, 90, 65, 62, 88, 65, 67, 65, 16, 16, 90, 16, 88, 64, 16, 90, 53, 64, 92, 16, 16, 65, 42, 62, 88, 90, 16, 92, 16, 90, 42, 90, 88, 90, 16, 42, 16, 15, 42, 42, 90, 90, 90, 90, 42, 52, 90, 62, 42, 42, 90, 90, 16, 90, 65, 90, 16, 15, 90, 16, 90, 90, 90, 90, 90, 90, 16, 6, 15, 90, 90, 90, 42, 15, 90, 90, 15, 42, 42, 65, 62, 62, 65, 16, 16, 90, 6, 15, 42, 92, 16, 90, 95, 16, 16, 90, 16, 16, 65, 15, 42, 15, 88, 16, 88, 67, 42, 90, 62, 16, 90, 62, 88, 90, 92, 90, 6, 15, 65, 16, 15, 42, 15, 42, 16, 16, 15, 67, 88, 90, 90, 42, 92, 42, 42, 16, 6, 64, 88, 88, 90, 90, 90, 90, 92, 52, 15, 67, 42, 90, 42, 62, 88, 16, 67, 16, 67, 88, 67, 90, 95, 42, 16, 42, 42, 88, 65, 16, 16, 42, 65, 65, 90, 90, 16, 95, 92, 65, 42, 16, 16, 90, 90, 90, 90, 90, 62, 92, 65, 52, 90, 6, 90, 95, 6, 16, 95, 90, 90, 42, 90, 6, 90, 65, 62, 6, 62, 90, 90, 90, 90, 42, 42, 42, 42, 16, 52, 65, 16, 15, 92, 42, 90, 42, 92, 90, 52, 42, 15, 90, 52, 67, 16, 62, 65, 90, 95, 67, 90, 88, 90, 65, 65, 90, 65, 64, 15, 15, 90, 15, 15, 42, 62, 53, 90, 42, 16, 42, 65, 42, 67, 95, 64, 65, 65, 42, 52, 90, 64, 65, 90, 16, 62, 90, 42, 16, 90, 90, 65, 67, 90, 53, 16, 65, 88, 90, 62, 65, 42, 90, 88, 90, 90, 64, 90, 6, 6, 90, 16, 88, 16, 90, 16, 42, 15, 15, 90, 42, 90, 42, 15, 90, 15, 42, 90, 65, 90, 16, 16, 16, 88, 88, 62, 16, 65, 15, 62, 16, 90, 67, 64, 16, 90, 15, 6, 65, 90, 65, 65, 16, 90, 15, 16, 67, 64, 52, 90, 15, 15, 16, 42, 62, 16, 65, 16, 65, 65, 92, 16, 90, 92, 92, 65, 52, 62, 90, 42, 42, 15, 42, 65, 16, 65, 42, 90, 90, 90, 65, 90, 65, 16, 65, 65, 92, 88, 90, 16, 90, 90, 65, 65, 42, 15, 88, 90, 15, 16, 42, 15, 16, 90, 95, 16, 42, 88, 90, 90, 90, 42, 90, 90, 15, 6, 42, 15, 88, 6, 90, 42, 90, 6, 90, 90, 16, 62, 65, 42, 16, 15, 53, 42, 88, 16, 16, 65, 16, 42, 52, 95, 15, 92, 16, 92, 88, 90, 65, 16, 62, 95, 42, 90, 52, 15, 90, 90, 16, 90, 88, 67, 92, 62, 15, 95, 95, 16, 16, 64, 67, 65, 65, 15, 90, 90, 65, 90, 90, 62, 42, 65, 65, 53, 90, 65, 16, 90, 90, 65, 42, 65, 65, 92, 90, 65, 65, 90, 90, 65, 16, 88, 62, 88, 90, 90, 90, 16, 65, 62, 90, 90, 15, 16, 42, 15, 90, 95, 62, 90, 65, 90, 90, 90, 64, 42, 52, 42, 92, 65, 65, 90, 90, 62, 95, 16, 88, 15, 67, 90, 90, 15, 90, 42, 88, 42, 88, 62, 42, 65, 16, 16, 90, 15, 52, 52, 65, 15, 65, 16, 90, 65, 90, 42, 65, 65, 52, 90, 90, 15, 90, 65, 42, 16, 65, 16, 16, 42, 64, 42, 65, 65, 92, 64, 52, 15, 92, 90, 15, 42, 92, 64, 65, 90, 90, 42, 15, 6, 88, 15, 42, 42, 16, 90, 90, 6, 64, 90, 42, 88, 64, 90, 16, 65, 90, 90, 42, 65, 42, 90, 62, 62, 42, 16, 6, 65, 95, 95, 90, 42, 15, 90, 15, 90, 92, 42, 90, 15, 95, 90, 90, 6, 65, 65, 42, 90, 90, 42, 15, 67, 16, 88, 6, 88, 88, 67, 16, 90, 88, 42, 15, 16, 15, 42, 65, 65, 64, 16, 90, 90, 65, 90, 90, 90, 92, 62, 92, 16, 42, 42, 42, 90, 90, 42, 15, 52, 42, 65, 90, 90, 16, 16, 65, 6, 90, 16, 16, 16, 90, 16, 65, 42, 15, 90, 65, 42, 90, 16, 62, 88, 90, 62, 65, 42, 90, 90, 90, 90, 62, 42, 62, 15, 67, 90, 65, 15, 90, 42, 88, 62, 62, 6, 42, 90, 90, 15, 65, 15, 90, 16, 42, 42, 65, 42, 88, 64, 16, 15, 15, 62, 15, 62, 90, 15, 42, 90, 65, 42, 90, 90, 62, 16, 16, 42, 90, 90, 15, 90, 90, 16, 62, 92, 90, 65, 15, 42, 64, 52, 88, 15, 15, 90, 52, 15, 53, 90, 90, 6, 42, 42, 42, 15, 90, 16, 90, 52, 62, 90, 90, 90, 16, 16, 90, 90, 90, 15, 90, 42, 16, 90, 90, 90, 42, 67, 67, 6, 15, 90, 16, 62, 90, 65, 42, 16, 90, 90, 90, 42, 6, 42, 15, 95, 90, 65, 88, 16, 16, 42, 42, 65, 95, 16, 90, 42, 64, 88, 90, 42, 62, 42, 65, 67, 92, 42, 15, 90, 42, 90, 42, 16, 95, 6, 90, 16, 90, 65, 90, 16, 90, 90, 42, 42, 42, 90, 95, 42, 16, 90, 42, 65, 15, 90, 90, 90, 67, 15, 15, 15, 16, 90, 65, 65, 62, 95, 90, 65, 62, 16, 16, 15, 15, 90, 92, 15, 90, 15, 15, 90, 52, 15, 16, 15, 65, 65, 92, 16, 90, 15, 90, 90, 90, 88, 42, 90, 65, 16, 65, 62, 52, 90, 42, 65, 16, 65, 65, 16, 65, 6, 88, 90, 62, 90, 67, 65, 15, 65, 15, 90, 65, 90, 15, 42, 42, 65, 42, 90, 90, 42, 64, 62, 15, 42, 67, 65, 65, 16, 95, 90, 42, 42, 15, 90, 16, 90, 90, 90, 90, 88, 90, 90, 16, 90, 16, 65, 90, 16, 88, 67, 90, 16, 90, 65, 88, 90, 6, 42, 90, 16, 42, 65, 52, 90, 65, 15, 16, 90, 16, 42, 15, 52, 65, 62, 42, 64, 16, 15, 67, 16, 65, 65, 90, 16, 65, 6]\n"
          ]
        },
        {
          "output_type": "display_data",
          "data": {
            "text/plain": [
              "  0%|          | 0/19920 [00:00<?, ?it/s]"
            ],
            "application/vnd.jupyter.widget-view+json": {
              "version_major": 2,
              "version_minor": 0,
              "model_id": "7346af76d44a43df955270c624d84286"
            }
          },
          "metadata": {}
        },
        {
          "output_type": "stream",
          "name": "stdout",
          "text": [
            "[90, 90, 90, 42, 90, 42, 65, 88, 42, 42, 42, 42, 90, 90, 90, 42, 90, 88, 90, 90, 42, 90, 42, 42, 90, 90, 62, 90, 42, 90, 90, 90, 90, 90, 90, 42, 90, 42, 90, 90, 62, 90, 52, 90, 62, 42, 90, 90, 90, 90, 90, 90, 42, 42, 15, 42, 90, 90, 52, 90, 90, 42, 90, 42, 92, 16, 62, 92, 90, 90, 65, 42, 90, 90, 90, 92, 90, 65, 42, 42, 42, 90, 90, 90, 90, 42, 90, 62, 90, 90, 88, 88, 42, 92, 62, 90, 90, 42, 16, 90, 90, 88, 90, 88, 90, 92, 42, 90, 16, 90, 42, 90, 42, 42, 42, 90, 90, 90, 42, 52, 90, 42, 42, 42, 42, 90, 42, 90, 90, 88, 90, 90, 90, 92, 90, 90, 42, 42, 42, 42, 90, 90, 90, 90, 92, 90, 42, 42, 90, 42, 90, 90, 90, 90, 42, 92, 90, 42, 42, 90, 95, 90, 90, 90, 88, 90, 42, 52, 42, 65, 92, 90, 90, 42, 90, 42, 42, 42, 95, 42, 92, 52, 90, 42, 65, 92, 92, 90, 90, 90, 90, 42, 52, 90, 62, 90, 52, 90, 92, 92, 42, 42, 42, 42, 90, 42, 90, 16, 92, 42, 90, 90, 90, 90, 42, 42, 92, 88, 90, 90, 90, 90, 15, 90, 92, 42, 92, 90, 62, 90, 90, 90, 42, 90, 90, 90, 42, 90, 42, 42, 90, 42, 42, 90, 90, 90, 62, 42, 90, 90, 42, 90, 90, 90, 90, 42, 90, 90, 42, 42, 88, 90, 90, 90, 42, 16, 42, 90, 90, 90, 62, 42, 65, 90, 90, 90, 90, 42, 42, 42, 90, 92, 90, 42, 90, 90, 90, 90, 90, 92, 90, 90, 62, 52, 90, 42, 62, 42, 90, 90, 62, 42, 90, 90, 90, 62, 42, 92, 42, 90, 90, 90, 90, 42, 90, 90, 67, 92, 42, 42, 88, 90, 90, 42, 42, 42, 90, 92, 42, 90, 42, 90, 90, 42, 6, 90, 90, 90, 42, 90, 90, 88, 90, 90, 90, 90, 65, 42, 90, 42, 90, 90, 42, 90, 42, 42, 90, 90, 88, 90, 42, 62, 16, 62, 42, 90, 42, 42, 90, 62, 95, 90, 90, 92, 42, 90, 42, 42, 92, 42, 90, 92, 90, 90, 90, 62, 90, 90, 90, 90, 90, 90, 90, 90, 90, 42, 90, 42, 42, 90, 42, 42, 52, 42, 52, 90, 92, 90, 90, 42, 90, 90, 90, 42, 52, 90, 42, 42, 90, 90, 42, 90, 95, 42, 90, 42, 90, 90, 42, 42, 42, 88, 62, 90, 42, 90, 90, 42, 52, 90, 42, 90, 90, 88, 90, 90, 90, 92, 90, 42, 90, 42, 42, 90, 90, 90, 42, 42, 90, 65, 42, 52, 90, 42, 67, 90, 62, 90, 90, 42, 90, 90, 42, 42, 90, 90, 90, 90, 42, 42, 42, 88, 42, 90, 65, 65, 90, 42, 16, 90, 90, 90, 67, 42, 90, 65, 16, 42, 90, 62, 90, 92, 52, 92, 90, 62, 92, 90, 90, 88, 92, 90, 90, 90, 90, 90, 42, 42, 90, 88, 90, 62, 90, 62, 90, 42, 90, 90, 90, 42, 62, 16, 42, 90, 42, 90, 88, 90, 42, 42, 52, 42, 62, 42, 90, 90, 90, 90, 90, 90, 42, 90, 90, 92, 92, 90, 90, 90, 92, 90, 62, 90, 90, 90, 62, 90, 90, 42, 90, 42, 62, 90, 42, 90, 90, 90, 90, 15, 90, 90, 16, 92, 42, 90, 90, 90, 90, 42, 90, 90, 90, 42, 92, 90, 42, 90, 90, 90, 88, 90, 42, 90, 42, 90, 92, 67, 90, 65, 42, 90, 42, 90, 88, 90, 65, 42, 90, 42, 16, 90, 90, 42, 90, 90, 90, 90, 90, 65, 42, 90, 90, 90, 65, 42, 92, 62, 90, 88, 65, 90, 90, 42, 90, 90, 90, 52, 90, 90, 62, 88, 42, 42, 90, 42, 92, 90, 42, 90, 90, 42, 42, 90, 92, 42, 42, 90, 42, 42, 42, 90, 92, 42, 90, 42, 90, 90, 92, 90, 90, 42, 42, 42, 90, 90, 42, 95, 90, 90, 42, 62, 90, 90, 90, 42, 62, 42, 92, 90, 42, 90, 42, 16, 65, 90, 42, 90, 42, 42, 62, 42, 92, 90, 90, 90, 90, 42, 90, 42, 90, 42, 90, 52, 42, 90, 92, 42, 90, 90, 42, 90, 62, 42, 42, 90, 90, 90, 90, 90, 42, 90, 42, 90, 42, 52, 16, 90, 90, 42, 42, 65, 90, 90, 42, 90, 42, 42, 42, 42, 16, 42, 90, 90, 62, 90, 42, 90, 92, 90, 42, 65, 90, 62, 52, 62, 92, 16, 90, 42, 88, 42, 90, 90, 92, 42, 42, 90, 42, 92, 42, 42, 90, 42, 90, 90, 42, 90, 42, 90, 90, 42, 90, 92, 90, 42, 16, 42, 42, 42, 90, 65, 42, 90, 90, 42, 42, 90, 90, 42, 62, 42, 90, 90, 90, 90, 42, 42, 88, 90, 90, 92, 42, 92, 90, 90, 90, 92, 65, 16, 42, 88, 90, 90, 42, 90, 42, 90, 88, 90, 90, 90, 90, 90, 92, 42, 90, 90, 90, 16, 88, 95, 92, 90, 42, 90, 42, 42, 42, 90, 90, 42, 42, 67, 42, 90, 88, 90, 88, 88, 42, 42, 67, 90, 42, 90, 42, 65, 92, 90, 90, 90, 90, 42, 42, 42, 90, 42, 90, 42, 42, 88, 90, 42, 92, 42, 90, 90, 90, 67, 88, 90, 90, 42, 90, 90, 52, 90, 42, 90, 90, 90, 16, 90, 90, 42, 90, 90, 88, 92, 42, 16, 90, 52, 42, 42, 90, 90, 42, 67, 92, 88, 42, 90, 90, 90, 88, 42, 42, 90, 90, 90, 90, 90, 90, 90, 90, 62, 52, 42, 52, 42, 90, 90, 90, 92, 92, 65, 90, 90, 42, 90, 90, 42, 42, 42, 90, 52, 88, 42, 42, 90, 65, 90, 92, 92, 90, 90, 42, 42, 90, 42, 90, 90, 42, 90, 90, 90, 42, 15, 67, 90, 90, 90, 52, 90, 42, 90, 90, 90, 88, 65, 88, 90, 90, 42, 42, 90, 90, 92, 16, 90, 92, 42, 90, 90, 90, 90, 90, 90, 42, 42, 90, 90, 90, 42, 65, 16, 42, 90, 90, 42, 42, 90, 92, 88, 42, 90, 42, 42, 42, 90, 90, 90, 52, 42, 42, 90, 90, 92, 65, 90, 65, 42, 16, 16, 90, 42, 90, 90, 42, 90, 62, 42, 42, 90, 90, 92, 42, 95, 90, 88, 42, 90, 90, 90, 90, 42, 42, 65, 16, 65, 90, 92, 88, 90, 90, 90, 42, 42, 90, 62, 88, 92, 42, 42, 90, 42, 42, 90, 90, 90, 42, 90, 95, 42, 90, 90, 62, 90, 90, 90, 42, 90, 90, 52, 88, 90, 90, 90, 65, 42, 90, 42, 95, 42, 90, 42, 42, 42, 90, 42, 65, 65, 88, 42, 42, 90, 16, 90, 90, 90, 88, 90, 90, 90, 62, 42, 42, 90, 90, 42, 88, 90, 90, 92, 92, 90, 90, 90, 42, 95, 90, 42, 90, 90, 92, 90, 65, 92, 95, 42, 90, 90, 90, 42, 90, 90, 16, 90, 90, 42, 90, 52, 92, 90, 42, 42, 16, 90, 42, 42, 90, 90, 42, 42, 90, 90, 42, 90, 90, 42, 90, 62, 42, 92, 95, 90, 42, 90, 42, 62, 42, 90, 42, 90, 16, 90, 42, 90, 90, 95, 90, 62, 90, 90, 42, 42, 42, 90, 90, 90, 42, 92, 92, 95, 62, 62, 42, 90, 16, 90, 16, 42, 90, 42, 90, 42, 92, 92, 90, 92, 90, 62, 88, 90, 65, 90, 42, 90, 42, 90, 42, 90, 62, 42, 90, 90, 90, 90, 90, 88, 90, 90, 16, 90, 90, 90, 62, 90, 62, 67, 42, 42, 90, 42, 92, 90, 90, 92, 42, 92, 88, 90, 90, 42, 90, 90, 90, 65, 90, 90, 42, 90, 42, 90, 42, 90, 90, 42, 42, 42, 16, 16, 90, 67, 90, 65, 90, 90, 90, 92, 90, 42, 90, 90, 90, 90, 90, 42, 90, 65, 62, 88, 90, 42, 67, 62, 90, 90, 88, 92, 90, 62, 67, 90, 90, 90, 90, 42, 62, 90, 42, 88, 92, 42, 88, 16, 16, 42, 90, 90, 90, 42, 90, 42, 95, 42, 62, 42, 90, 90, 90, 16, 42, 52, 42, 90, 42, 42, 90, 42, 90, 42, 42, 65, 90, 62, 42, 42, 90, 90, 92, 90, 42, 90, 90, 42, 42, 90, 90, 52, 42, 90, 42, 42, 92, 42, 90, 90, 88, 90, 88, 90, 90, 92, 90, 42, 16, 52, 88, 90, 88, 42, 42, 90, 90, 90, 90, 42, 92, 90, 16, 42, 90, 90, 42, 42, 90, 90, 90, 90, 16, 90, 90, 62, 42, 90, 92, 52, 90, 90, 90, 42, 90, 62, 42, 42, 42, 90, 90, 65, 62, 42, 42, 65, 92, 90, 16, 90, 52, 90, 90, 90, 42, 88, 42, 42, 42, 42, 90, 90, 90, 90, 90, 90, 62, 65, 42, 90, 42, 95, 90, 95, 90, 42, 90, 42, 42, 90, 42, 90, 42, 90, 90, 95, 90, 42, 90, 42, 65, 90, 90, 16, 90, 88, 90, 90, 90, 52, 90, 62, 90, 42, 90, 92, 90, 90, 42, 90, 42, 62, 90, 16, 90, 88, 42, 42, 42, 88, 90, 52, 90, 16, 90, 88, 42, 42, 90, 42, 42, 62, 90, 90, 90, 90, 62, 42, 42, 90, 88, 42, 90, 42, 88, 90, 62, 65, 90, 90, 90, 90, 62, 88, 88, 90, 42, 42, 90, 65, 42, 90, 90, 62, 90, 42, 92, 67, 90, 42, 65, 90, 90, 42, 42, 42, 90, 42, 42, 62, 90, 65, 90, 62, 90, 90, 42, 62, 90, 90, 42, 52, 90, 90, 42, 42, 42, 62, 90, 90, 90, 42, 92, 90, 92, 42, 90, 90, 42, 90, 65, 42, 90, 42, 16, 42, 90, 90, 92, 16, 42, 90, 42, 92, 42, 42, 62, 42, 42, 42, 90, 90, 42, 90, 90, 90, 42, 42, 90, 42, 62, 90, 92, 90, 42, 90, 90, 90, 90, 90, 90, 90, 65, 90, 62, 90, 42, 88, 88, 65, 42, 62, 62, 90, 90, 42, 92, 62, 90, 90, 42, 42, 42, 67, 42, 90, 42, 42, 90, 42, 90, 90, 42, 90, 90, 62, 42, 90, 90, 90, 90, 90, 90, 90, 90, 90, 90, 16, 90, 42, 95, 42, 62, 88, 62, 90, 90, 42, 90, 42, 90, 42, 67, 16, 42, 52, 90, 67, 53, 90, 90, 65, 42, 90, 90, 90, 92, 88, 90, 92, 62, 90, 92, 90, 16, 90, 90, 42, 90, 90, 42, 52, 42, 90, 90, 16, 65, 90, 90, 88, 90, 42, 16, 90, 90, 90, 42, 90, 90, 90, 90, 90, 90, 16, 42, 90, 90, 90, 95, 90, 90, 42, 42, 90, 90, 90, 90, 42, 52, 90, 42, 65, 90, 88, 42, 52, 90, 62, 42, 90, 90, 90, 90, 90, 92, 42, 92, 90, 90, 42, 42, 90, 90, 42, 62, 65, 42, 90, 42, 90, 90, 42, 42, 90, 52, 90, 42, 90, 42, 62, 90, 62, 90, 90, 90, 88, 16, 90, 42, 92, 90, 42, 42, 90, 90, 42, 92, 42, 42, 67, 42, 42, 90, 90, 90, 92, 42, 90, 90, 42, 90, 52, 90, 90, 90, 42, 42, 90, 88, 90, 90, 90, 42, 90, 90, 90, 42, 90, 90, 42, 65, 90, 42, 90, 90, 90, 42, 16, 42, 42, 42, 42, 90, 42, 42, 90, 42, 90, 67, 90, 92, 42, 90, 52, 42, 42, 90, 62, 90, 90, 90, 90, 90, 42, 90, 90, 92, 90, 62, 42, 52, 42, 42, 90, 90, 90, 90, 62, 42, 42, 90, 90, 42, 90, 42, 42, 52, 42, 42, 92, 92, 90, 90, 42, 90, 62, 42, 90, 90, 90, 90, 42, 90, 92, 90, 90, 42, 52, 95, 90, 88, 90, 90, 90, 90, 90, 42, 90, 92, 90, 65, 90, 42, 90, 90, 90, 90, 90, 90, 92, 65, 90, 90, 90, 90, 90, 62, 90, 90, 42, 62, 90, 42, 42, 92, 42, 90, 42, 88, 90, 92, 90, 90, 90, 92, 42, 42, 90, 42, 88, 90, 90, 90, 62, 90, 42, 88, 90, 90, 92, 90, 42, 42, 90, 92, 90, 90, 65, 90, 88, 92, 42, 90, 92, 42, 16, 90, 90, 90, 62, 42, 90, 90, 90, 90, 42, 90, 90, 42, 42, 90, 67, 88, 42, 42, 52, 90, 42, 90, 62, 90, 16, 42, 90, 42, 90, 42, 90, 90, 52, 92, 42, 42, 90, 90, 52, 90, 42, 90, 42, 62, 90, 90, 42, 65, 42, 90, 90, 90, 65, 90, 90, 42, 42, 42, 42, 62, 16, 90, 90, 90, 92, 92, 42, 42, 90, 90, 90, 90, 90, 16, 90, 90, 16, 90, 42, 42, 90, 42, 90, 42, 90, 65, 42, 90, 88, 42, 90, 90, 90, 42, 90, 62, 42, 90, 92, 92, 90, 62, 65, 90, 62, 90, 42, 92, 92, 90, 90, 90, 90, 42, 90, 90, 62, 90, 42, 42, 90, 90, 42, 90, 90, 42, 90, 90, 90, 42, 90, 90, 42, 90, 90, 62, 42, 90, 42, 42, 42, 42, 90, 90, 42, 42, 90, 90, 62, 42, 88, 88, 65, 90, 95, 42, 92, 92, 42, 90, 42, 90, 90, 90, 42, 42, 62, 90, 90, 90, 42, 42, 42, 90, 90, 42, 88, 90, 90, 90, 67, 67, 42, 88, 90, 42, 65, 88, 42, 42, 42, 42, 42, 90, 90, 90, 67, 42, 42, 42, 92, 42, 90, 92, 42, 16, 92, 90, 90, 90, 65, 42, 90, 90, 92, 90, 42, 90, 65, 90, 90, 90, 92, 90, 52, 90, 90, 65, 90, 42, 90, 42, 90, 42, 42, 88, 92, 42, 42, 90, 42, 88, 90, 90, 42, 90, 90, 42, 42, 90, 90, 90, 90, 90, 62, 90, 42, 90, 42, 92, 42, 90, 16, 92, 90, 90, 90, 42, 42, 90, 62, 90, 90, 90, 52, 90, 90, 42, 42, 16, 42, 90, 90, 88, 42, 90, 42, 52, 42, 90, 90, 42, 15, 42, 67, 95, 90, 65, 90, 90, 42, 42, 90, 42, 90, 90, 90, 42, 90, 42, 42, 90, 42, 90, 90, 67, 42, 90, 90, 42, 16, 62, 90, 90, 90, 42, 90, 16, 52, 90, 88, 90, 90, 90, 62, 95, 42, 42, 90, 42, 42, 67, 42, 90, 42, 42, 42, 90, 90, 42, 42, 42, 90, 42, 42, 42, 90, 42, 90, 90, 65, 90, 90, 90, 90, 42, 90, 42, 90, 90, 90, 90, 90, 88, 42, 90, 42, 90, 42, 90, 90, 90, 42, 90, 42, 42, 42, 92, 42, 42, 42, 67, 42, 90, 90, 62, 90, 90, 42, 90, 90, 90, 90, 92, 88, 16, 42, 42, 90, 42, 42, 90, 90, 90, 88, 90, 42, 90, 88, 92, 52, 90, 42, 90, 90, 90, 95, 42, 90, 90, 92, 90, 90, 16, 90, 90, 42, 90, 62, 90, 92, 90, 90, 42, 52, 42, 90, 42, 90, 90, 90, 42, 62, 88, 90, 42, 90, 65, 42, 42, 42, 42, 62, 42, 90, 90, 42, 90, 90, 90, 62, 92, 90, 92, 42, 90, 90, 67, 90, 16, 42, 92, 65, 42, 42, 42, 42, 90, 90, 52, 90, 88, 42, 88, 90, 90, 90, 90, 90, 90, 42, 92, 90, 42, 90, 62, 42, 90, 90, 42, 42, 42, 42, 42, 62, 62, 42, 90, 90, 90, 42, 90, 90, 90, 42, 90, 90, 95, 62, 16, 42, 90, 90, 90, 62, 16, 52, 90, 42, 90, 42, 62, 90, 90, 42, 42, 90, 90, 90, 90, 92, 90, 90, 42, 90, 90, 90, 42, 90, 65, 42, 90, 92, 90, 90, 92, 90, 90, 90, 42, 88, 90, 88, 42, 42, 92, 92, 42, 42, 42, 90, 90, 42, 42, 42, 90, 62, 62, 65, 90, 90, 62, 42, 90, 92, 42, 62, 42, 90, 16, 42, 88, 90, 42, 42, 42, 92, 16, 90, 16, 42, 42, 90, 92, 90, 90, 42, 92, 42, 65, 42, 42, 90, 67, 65, 90, 42, 95, 42, 90, 90, 92, 90, 90, 90, 90, 42, 42, 90, 42, 90, 42, 88, 62, 62, 90, 90, 90, 16, 90, 15, 42, 42, 42, 90, 90, 62, 90, 42, 90, 90, 92, 90, 52, 16, 92, 90, 90, 90, 90, 90, 90, 90, 90, 90, 62, 90, 90, 90, 65, 42, 42, 90, 52, 65, 90, 42, 42, 52, 42, 90, 67, 90, 90, 65, 90, 90, 90, 90, 42, 90, 42, 90, 90, 90, 90, 90, 42, 90, 90, 92, 90, 90, 90, 90, 42, 42, 42, 42, 95, 42, 90, 90, 16, 16, 90, 90, 42, 42, 42, 90, 90, 42, 90, 42, 42, 16, 42, 92, 92, 16, 42, 90, 90, 62, 42, 62, 65, 90, 16, 42, 16, 90, 90, 90, 92, 90, 90, 90, 42, 62, 90, 67, 42, 90, 90, 90, 65, 90, 62, 90, 90, 42, 90, 16, 42, 90, 90, 90, 42, 90, 90, 90, 90, 90, 90, 42, 62, 90, 88, 90, 42, 16, 90, 65, 90, 90, 90, 90, 90, 90, 42, 90, 90, 90, 42, 90, 90, 90, 42, 42, 90, 90, 90, 90, 42, 62, 90, 90, 62, 42, 90, 90, 90, 90, 42, 67, 90, 42, 90, 90, 90, 42, 90, 42, 90, 90, 65, 62, 90, 65, 62, 62, 90, 42, 90, 42, 42, 90, 90, 92, 62, 90, 90, 42, 90, 42, 92, 90, 62, 90, 42, 90, 42, 16, 90, 90, 62, 42, 16, 42, 42, 90, 42, 90, 90, 42, 90, 90, 95, 90, 90, 88, 90, 90, 62, 42, 90, 16, 90, 16, 62, 90, 90, 92, 90, 42, 95, 90, 90, 90, 90, 90, 42, 62, 42, 88, 42, 90, 90, 90, 42, 42, 92, 95, 42, 42, 42, 42, 90, 90, 42, 90, 90, 90, 90, 90, 42, 42, 65, 42, 92, 92, 90, 90, 90, 42, 90, 90, 90, 90, 16, 62, 90, 62, 90, 65, 42, 42, 42, 42, 62, 42, 42, 90, 42, 90, 92, 42, 42, 42, 62, 90, 90, 90, 52, 16, 90, 42, 90, 90, 42, 90, 42, 95, 42, 16, 90, 90, 90, 42, 62, 42, 52, 90, 42, 62, 90, 90, 67, 42, 90, 88, 90, 42, 90, 42, 90, 90, 90, 42, 95, 90, 90, 42, 90, 65, 90, 90, 90, 52, 90, 42, 90, 90, 65, 90, 42, 16, 90, 42, 42, 90, 90, 90, 42, 42, 62, 42, 42, 92, 90, 62, 90, 65, 42, 16, 90, 90, 42, 16, 90, 90, 90, 90, 52, 42, 90, 42, 90, 90, 90, 90, 42, 67, 90, 42, 42, 42, 90, 90, 90, 92, 16, 92, 16, 90, 90, 90, 90, 90, 90, 62, 90, 42, 42, 90, 42, 42, 42, 90, 90, 92, 65, 42, 52, 42, 90, 42, 90, 90, 90, 90, 90, 42, 90, 42, 42, 90, 90, 42, 90, 42, 90, 88, 92, 95, 90, 90, 42, 42, 92, 42, 90, 88, 90, 42, 42, 90, 67, 90, 90, 92, 42, 92, 90, 90, 16, 62, 90, 90, 42, 90, 90, 90, 88, 67, 90, 90, 62, 90, 90, 90, 90, 92, 90, 42, 90, 90, 42, 90, 90, 90, 90, 90, 16, 90, 62, 90, 90, 42, 62, 42, 90, 42, 92, 90, 42, 88, 90, 92, 90, 42, 16, 42, 67, 42, 90, 90, 90, 90, 90, 90, 92, 92, 90, 90, 62, 42, 42, 42, 88, 42, 88, 42, 90, 67, 88, 90, 42, 42, 62, 90, 90, 65, 42, 90, 88, 90, 92, 42, 90, 90, 15, 42, 90, 90, 42, 65, 42, 90, 90, 42, 42, 16, 90, 90, 90, 90, 42, 90, 90, 88, 42, 42, 88, 42, 16, 42, 16, 88, 90, 42, 92, 90, 62, 90, 65, 90, 90, 52, 90, 92, 65, 88, 42, 90, 90, 42, 42, 90, 90, 90, 42, 90, 62, 90, 90, 90, 90, 90, 90, 42, 42, 62, 52, 90, 16, 42, 90, 90, 88, 90, 42, 42, 62, 42, 62, 90, 90, 90, 90, 42, 90, 62, 90, 16, 42, 90, 65, 92, 90, 90, 90, 90, 90, 90, 42, 42, 90, 90, 90, 42, 90, 90, 42, 90, 90, 62, 42, 90, 90, 42, 42, 92, 88, 90, 90, 42, 42, 52, 62, 90, 92, 90, 90, 90, 90, 65, 42, 42, 90, 42, 67, 90, 90, 62, 90, 42, 90, 42, 42, 92, 90, 88, 90, 92, 42, 90, 90, 90, 62, 90, 90, 90, 90, 90, 90, 90, 90, 90, 65, 42, 90, 42, 90, 90, 62, 42, 90, 90, 42, 90, 90, 90, 90, 42, 42, 15, 90, 90, 88, 90, 90, 90, 52, 90, 52, 90, 42, 52, 42, 42, 90, 90, 42, 42, 42, 90, 65, 90, 92, 90, 92, 90, 42, 90, 90, 90, 90, 42, 90, 42, 62, 90, 65, 92, 42, 67, 90, 90, 65, 90, 42, 90, 88, 90, 90, 92, 90, 42, 90, 90, 42, 90, 90, 42, 90, 42, 90, 42, 42, 90, 42, 42, 92, 90, 90, 88, 90, 90, 90, 62, 42, 42, 90, 90, 42, 90, 42, 42, 90, 42, 90, 42, 90, 90, 42, 42, 42, 90, 90, 42, 52, 65, 90, 90, 65, 90, 65, 90, 92, 90, 90, 62, 90, 90, 92, 42, 65, 42, 16, 92, 90, 42, 88, 90, 42, 90, 67, 90, 90, 52, 90, 62, 90, 90, 90, 90, 42, 42, 90, 90, 90, 90, 90, 42, 90, 42, 90, 90, 42, 42, 90, 42, 65, 90, 90, 90, 62, 90, 52, 92, 16, 42, 42, 90, 42, 65, 42, 65, 42, 90, 90, 90, 90, 92, 42, 90, 42, 90, 42, 67, 90, 16, 90, 42, 42, 90, 90, 90, 42, 92, 90, 90, 90, 62, 88, 42, 42, 42, 90, 90, 42, 42, 90, 90, 90, 90, 88, 90, 90, 42, 90, 90, 90, 88, 90, 62, 42, 88, 90, 88, 62, 65, 90, 92, 90, 90, 90, 90, 42, 42, 16, 65, 88, 42, 90, 90, 42, 90, 62, 42, 90, 90, 42, 42, 92, 42, 42, 42, 88, 92, 42, 90, 42, 90, 90, 42, 90, 16, 42, 90, 90, 90, 42, 90, 90, 42, 90, 42, 42, 42, 90, 90, 90, 90, 42, 90, 90, 42, 88, 65, 42, 42, 67, 90, 90, 42, 90, 90, 90, 92, 42, 42, 42, 16, 90, 90, 67, 42, 62, 90, 90, 90, 42, 90, 67, 42, 90, 42, 42, 92, 42, 62, 90, 90, 42, 52, 90, 90, 90, 90, 88, 90, 62, 42, 90, 42, 92, 90, 42, 90, 92, 90, 90, 42, 90, 52, 15, 42, 42, 42, 67, 90, 90, 90, 42, 42, 90, 42, 90, 42, 42, 90, 62, 95, 90, 90, 90, 42, 90, 62, 90, 42, 52, 42, 90, 90, 67, 90, 42, 42, 90, 42, 90, 42, 90, 90, 90, 62, 90, 42, 42, 42, 95, 42, 62, 92, 90, 90, 88, 42, 90, 90, 90, 92, 90, 92, 42, 65, 90, 90, 52, 42, 90, 42, 90, 16, 42, 90, 90, 92, 52, 90, 90, 42, 67, 42, 90, 65, 62, 42, 42, 42, 62, 90, 42, 42, 90, 90, 42, 90, 90, 42, 90, 92, 90, 65, 90, 90, 42, 16, 90, 42, 65, 62, 42, 42, 42, 90, 90, 90, 90, 42, 90, 42, 90, 42, 42, 92, 92, 90, 42, 90, 90, 90, 92, 95, 16, 62, 42, 42, 52, 42, 90, 42, 90, 42, 90, 90, 90, 16, 42, 92, 88, 90, 90, 90, 90, 90, 88, 90, 42, 90, 90, 95, 15, 42, 42, 67, 90, 90, 90, 90, 90, 90, 16, 90, 88, 65, 90, 42, 42, 42, 88, 42, 90, 90, 62, 90, 90, 42, 90, 90, 90, 42, 90, 42, 90, 90, 90, 42, 90, 42, 42, 42, 90, 90, 42, 90, 90, 90, 90, 16, 65, 42, 42, 42, 90, 42, 90, 62, 90, 90, 90, 92, 90, 90, 92, 90, 90, 90, 42, 90, 90, 92, 92, 88, 42, 42, 90, 90, 90, 90, 90, 90, 90, 90, 42, 90, 90, 90, 42, 42, 90, 90, 90, 90, 90, 90, 62, 90, 62, 90, 90, 42, 42, 95, 90, 90, 16, 92, 90, 42, 92, 42, 90, 90, 42, 42, 42, 90, 42, 88, 42, 92, 90, 42, 62, 90, 42, 42, 42, 90, 90, 88, 62, 42, 90, 90, 42, 90, 42, 42, 90, 42, 90, 90, 90, 42, 90, 42, 90, 90, 90, 42, 42, 90, 90, 88, 90, 65, 42, 16, 90, 62, 42, 90, 90, 88, 42, 92, 90, 90, 90, 95, 90, 62, 42, 90, 42, 42, 90, 90, 90, 92, 65, 42, 90, 90, 42, 42, 90, 42, 42, 42, 90, 42, 90, 62, 42, 42, 42, 92, 42, 42, 88, 42, 42, 90, 62, 90, 92, 92, 42, 42, 52, 42, 90, 65, 92, 42, 65, 90, 42, 90, 90, 16, 90, 90, 90, 42, 90, 90, 62, 16, 42, 42, 90, 95, 42, 62, 90, 90, 90, 90, 67, 62, 92, 42, 90, 90, 42, 90, 90, 42, 42, 62, 42, 90, 90, 42, 42, 42, 62, 62, 42, 90, 90, 90, 92, 42, 42, 90, 90, 15, 88, 42, 42, 90, 90, 62, 42, 90, 90, 42, 42, 90, 88, 90, 42, 42, 90, 42, 90, 90, 90, 90, 90, 90, 95, 90, 90, 90, 92, 92, 42, 42, 42, 90, 90, 42, 92, 90, 90, 90, 42, 90, 16, 65, 90, 16, 42, 90, 65, 88, 92, 90, 90, 42, 42, 42, 90, 88, 42, 90, 52, 62, 42, 62, 90, 42, 90, 42, 90, 42, 42, 90, 62, 42, 90, 90, 90, 90, 90, 90, 90, 88, 90, 67, 90, 42, 90, 42, 42, 16, 16, 90, 92, 92, 90, 90, 90, 90, 42, 42, 90, 88, 90, 42, 90, 92, 90, 90, 90, 42, 90, 90, 90, 42, 90, 90, 42, 90, 90, 65, 90, 90, 90, 42, 42, 90, 42, 90, 90, 90, 67, 90, 90, 90, 90, 90, 16, 90, 42, 90, 42, 92, 88, 90, 42, 90, 42, 92, 16, 88, 42, 90, 15, 67, 90, 42, 90, 42, 42, 42, 42, 42, 88, 92, 90, 90, 16, 42, 42, 52, 90, 42, 90, 42, 90, 92, 42, 90, 42, 42, 62, 90, 42, 42, 90, 90, 42, 42, 90, 42, 90, 90, 65, 90, 42, 90, 62, 90, 42, 90, 90, 90, 90, 42, 90, 90, 42, 42, 62, 42, 90, 42, 16, 90, 90, 42, 42, 90, 16, 90, 42, 16, 90, 92, 90, 95, 90, 88, 90, 42, 90, 42, 90, 42, 90, 90, 42, 42, 90, 62, 42, 42, 90, 42, 42, 90, 42, 42, 90, 90, 62, 62, 90, 90, 92, 42, 90, 90, 90, 92, 90, 42, 90, 90, 90, 62, 90, 42, 62, 42, 88, 90, 42, 42, 42, 90, 90, 42, 88, 42, 90, 42, 90, 90, 62, 90, 42, 92, 92, 90, 90, 90, 90, 90, 90, 90, 42, 42, 62, 88, 90, 15, 90, 90, 62, 16, 90, 90, 42, 90, 42, 42, 62, 90, 90, 90, 90, 42, 42, 90, 42, 16, 42, 90, 90, 92, 90, 42, 62, 42, 42, 42, 90, 92, 42, 42, 42, 88, 42, 42, 90, 90, 52, 42, 88, 42, 42, 16, 90, 90, 42, 42, 90, 52, 90, 90, 42, 42, 42, 42, 90, 90, 62, 90, 65, 42, 42, 90, 42, 42, 52, 95, 65, 90, 90, 52, 42, 42, 90, 90, 42, 90, 90, 92, 90, 62, 90, 42, 92, 42, 90, 42, 90, 42, 42, 42, 90, 92, 90, 42, 90, 90, 16, 90, 42, 90, 62, 90, 90, 90, 90, 90, 90, 42, 95, 88, 90, 90, 42, 42, 90, 90, 90, 90, 90, 42, 52, 90, 42, 42, 16, 62, 92, 92, 42, 90, 42, 88, 65, 42, 42, 88, 90, 90, 62, 90, 90, 90, 42, 42, 90, 42, 90, 65, 90, 90, 42, 90, 90, 42, 42, 62, 88, 42, 42, 52, 62, 42, 62, 42, 90, 16, 42, 90, 90, 52, 42, 90, 90, 42, 90, 62, 42, 62, 42, 90, 90, 90, 90, 42, 90, 88, 90, 90, 90, 90, 67, 65, 90, 42, 42, 42, 90, 42, 90, 62, 90, 42, 65, 90, 42, 92, 90, 42, 90, 42, 42, 90, 90, 65, 90, 90, 90, 90, 90, 42, 42, 42, 52, 90, 42, 42, 42, 90, 42, 42, 90, 90, 65, 90, 42, 42, 90, 90, 16, 42, 90, 67, 42, 42, 90, 90, 92, 90, 92, 42, 62, 42, 42, 42, 90, 65, 90, 42, 90, 92, 42, 42, 42, 62, 42, 90, 42, 42, 62, 90, 90, 90, 16, 42, 42, 90, 42, 90, 62, 90, 90, 90, 42, 90, 90, 42, 42, 42, 42, 16, 90, 42, 90, 90, 42, 42, 42, 90, 42, 90, 42, 90, 90, 52, 16, 42, 42, 52, 90, 92, 90, 90, 42, 90, 42, 90, 95, 16, 16, 42, 90, 90, 90, 42, 90, 90, 90, 42, 88, 62, 90, 90, 90, 42, 42, 65, 16, 90, 90, 90, 16, 90, 42, 90, 90, 90, 42, 42, 67, 90, 90, 42, 42, 90, 42, 42, 90, 42, 42, 95, 42, 90, 90, 90, 92, 90, 42, 62, 90, 92, 90, 16, 67, 90, 65, 42, 42, 90, 42, 42, 90, 88, 65, 42, 42, 90, 42, 90, 92, 90, 42, 90, 42, 90, 90, 62, 90, 95, 90, 92, 65, 90, 42, 90, 90, 62, 42, 42, 42, 88, 90, 90, 90, 65, 42, 90, 90, 90, 42, 90, 62, 90, 90, 42, 90, 42, 62, 42, 90, 52, 52, 90, 62, 90, 15, 42, 90, 42, 90, 42, 90, 67, 90, 42, 90, 62, 92, 92, 90, 90, 90, 67, 52, 42, 90, 90, 42, 90, 65, 90, 90, 92, 16, 90, 90, 88, 42, 42, 90, 90, 95, 90, 42, 42, 92, 90, 90, 65, 42, 42, 42, 62, 90, 92, 42, 42, 88, 90, 90, 62, 90, 90, 90, 90, 90, 42, 90, 90, 42, 90, 42, 42, 90, 90, 90, 90, 62, 90, 90, 90, 90, 90, 62, 90, 90, 95, 90, 42, 90, 42, 90, 42, 92, 42, 90, 90, 90, 90, 90, 90, 90, 42, 42, 90, 90, 90, 42, 42, 16, 90, 90, 42, 42, 42, 90, 16, 90, 90, 62, 42, 90, 90, 90, 62, 90, 42, 42, 90, 90, 42, 90, 42, 90, 92, 42, 42, 90, 42, 90, 65, 88, 90, 90, 90, 90, 15, 90, 42, 42, 42, 42, 90, 62, 42, 92, 42, 92, 65, 67, 92, 90, 65, 90, 90, 42, 90, 90, 42, 90, 90, 16, 15, 90, 42, 42, 90, 92, 90, 42, 92, 90, 42, 90, 42, 90, 62, 42, 90, 42, 90, 92, 92, 62, 62, 90, 62, 90, 42, 90, 90, 90, 42, 90, 88, 90, 88, 90, 62, 90, 90, 90, 92, 42, 42, 90, 65, 42, 90, 95, 42, 15, 92, 90, 90, 62, 65, 90, 90, 90, 90, 52, 90, 90, 42, 42, 42, 42, 90, 42, 90, 62, 42, 67, 42, 42, 16, 90, 42, 52, 42, 42, 42, 52, 90, 42, 90, 42, 42, 90, 90, 90, 92, 67, 42, 42, 90, 92, 90, 90, 92, 42, 42, 90, 90, 62, 90, 90, 90, 90, 42, 90, 90, 90, 42, 42, 42, 90, 62, 90, 65, 90, 90, 90, 42, 90, 90, 42, 42, 90, 62, 42, 42, 90, 42, 90, 92, 90, 92, 90, 90, 90, 16, 90, 90, 62, 42, 42, 90, 42, 90, 16, 90, 42, 42, 42, 90, 90, 42, 92, 62, 90, 90, 42, 42, 90, 90, 65, 90, 90, 90, 42, 42, 90, 90, 90, 16, 88, 90, 62, 90, 90, 90, 90, 42, 90, 42, 16, 42, 90, 42, 42, 90, 90, 90, 42, 42, 90, 90, 42, 90, 90, 42, 42, 42, 90, 90, 88, 67, 42, 90, 90, 90, 42, 90, 42, 90, 42, 92, 92, 92, 90, 42, 90, 42, 92, 42, 42, 88, 42, 90, 62, 42, 62, 88, 15, 90, 90, 52, 42, 90, 90, 42, 90, 90, 42, 90, 90, 90, 65, 90, 90, 62, 42, 90, 42, 90, 88, 88, 92, 42, 42, 52, 90, 90, 90, 90, 90, 90, 42, 90, 62, 90, 42, 90, 90, 65, 42, 42, 90, 90, 42, 42, 42, 90, 90, 42, 90, 16, 90, 92, 42, 90, 62, 62, 42, 90, 90, 42, 90, 90, 42, 90, 92, 90, 90, 88, 42, 42, 90, 92, 65, 42, 92, 88, 15, 42, 42, 90, 90, 90, 90, 62, 90, 16, 90, 42, 90, 90, 88, 42, 90, 6, 90, 42, 90, 90, 42, 90, 42, 90, 90, 42, 90, 90, 42, 42, 90, 90, 90, 90, 90, 88, 90, 90, 90, 90, 42, 42, 90, 90, 90, 90, 90, 65, 90, 90, 90, 90, 42, 90, 92, 90, 42, 90, 90, 42, 42, 90, 90, 90, 42, 42, 42, 90, 67, 42, 90, 42, 92, 90, 90, 42, 90, 88, 90, 90, 42, 42, 62, 90, 90, 90, 42, 90, 42, 62, 42, 90, 90, 90, 90, 90, 42, 90, 42, 52, 62, 42, 90, 90, 88, 42, 90, 42, 42, 92, 90, 90, 90, 62, 90, 42, 90, 67, 42, 92, 90, 42, 92, 62, 42, 90, 90, 90, 42, 90, 92, 90, 42, 62, 42, 90, 90, 65, 90, 90, 90, 52, 90, 42, 42, 62, 42, 90, 90, 92, 88, 90, 90, 90, 90, 95, 52, 90, 42, 90, 90, 90, 90, 90, 90, 90, 42, 90, 90, 90, 42, 42, 90, 42, 88, 42, 90, 42, 90, 42, 62, 90, 16, 90, 42, 42, 90, 90, 16, 90, 42, 42, 42, 42, 62, 90, 42, 90, 42, 42, 90, 90, 90, 90, 90, 90, 42, 90, 65, 42, 90, 92, 42, 62, 90, 42, 90, 90, 90, 90, 42, 42, 42, 42, 42, 92, 90, 90, 90, 90, 90, 65, 88, 52, 90, 92, 62, 62, 42, 42, 90, 90, 95, 92, 90, 65, 90, 42, 92, 90, 16, 42, 42, 42, 42, 90, 90, 90, 67, 90, 88, 90, 92, 90, 42, 90, 42, 90, 90, 62, 90, 42, 90, 42, 52, 90, 90, 65, 90, 65, 90, 90, 52, 42, 16, 92, 42, 42, 90, 90, 90, 92, 90, 42, 90, 90, 42, 90, 90, 92, 92, 42, 42, 90, 90, 90, 90, 42, 90, 67, 90, 90, 92, 42, 90, 42, 92, 90, 90, 62, 52, 90, 90, 90, 62, 90, 42, 90, 42, 90, 90, 90, 42, 90, 92, 90, 65, 92, 90, 42, 92, 90, 42, 16, 90, 16, 92, 90, 90, 90, 67, 90, 42, 42, 90, 90, 52, 90, 42, 42, 42, 42, 65, 16, 90, 62, 92, 90, 90, 88, 90, 42, 90, 16, 42, 42, 90, 90, 90, 90, 90, 90, 92, 42, 90, 90, 90, 42, 42, 90, 62, 42, 42, 90, 90, 42, 90, 90, 90, 90, 42, 90, 90, 90, 90, 42, 90, 90, 42, 90, 90, 90, 90, 90, 16, 90, 92, 16, 42, 90, 90, 42, 65, 62, 65, 90, 90, 90, 90, 42, 90, 90, 90, 42, 52, 90, 65, 62, 42, 42, 90, 62, 90, 42, 42, 90, 42, 42, 90, 95, 88, 90, 90, 42, 90, 42, 90, 90, 16, 62, 90, 42, 16, 90, 42, 42, 90, 90, 62, 52, 90, 16, 90, 42, 90, 42, 62, 88, 42, 90, 65, 42, 90, 90, 90, 42, 90, 90, 42, 92, 42, 88, 16, 88, 90, 16, 90, 90, 92, 92, 67, 90, 90, 42, 16, 90, 62, 42, 90, 90, 42, 90, 90, 42, 62, 65, 90, 42, 90, 42, 42, 90, 42, 65, 90, 90, 42, 90, 62, 90, 52, 42, 90, 90, 90, 90, 16, 42, 42, 42, 62, 65, 42, 90, 90, 90, 42, 92, 65, 42, 90, 90, 62, 90, 90, 90, 62, 42, 42, 65, 62, 88, 42, 90, 90, 42, 90, 90, 16, 90, 42, 90, 65, 67, 16, 42, 42, 42, 90, 42, 42, 90, 42, 52, 90, 90, 90, 90, 90, 90, 90, 90, 90, 90, 90, 90, 90, 42, 95, 42, 42, 90, 90, 42, 15, 90, 65, 90, 42, 90, 90, 90, 52, 88, 42, 90, 42, 65, 90, 92, 67, 90, 90, 90, 42, 90, 90, 90, 42, 62, 42, 90, 42, 90, 16, 90, 90, 90, 42, 90, 62, 67, 42, 16, 88, 90, 42, 90, 90, 90, 62, 90, 42, 42, 42, 90, 90, 65, 90, 52, 42, 42, 42, 90, 90, 90, 90, 90, 67, 90, 92, 90, 42, 90, 92, 90, 90, 42, 90, 90, 90, 16, 90, 62, 62, 65, 42, 42, 92, 42, 90, 42, 90, 90, 90, 6, 67, 92, 90, 90, 42, 42, 90, 90, 90, 90, 90, 90, 65, 90, 42, 90, 90, 62, 42, 42, 62, 90, 90, 92, 90, 42, 67, 92, 42, 90, 90, 90, 90, 42, 90, 88, 92, 42, 42, 42, 15, 90, 92, 90, 92, 15, 16, 92, 90, 42, 90, 90, 42, 90, 90, 16, 92, 90, 42, 42, 42, 90, 90, 90, 42, 42, 90, 90, 90, 90, 90, 90, 90, 16, 42, 42, 92, 90, 90, 42, 90, 90, 90, 42, 42, 90, 42, 16, 90, 95, 42, 42, 52, 90, 42, 62, 90, 52, 62, 42, 42, 90, 90, 90, 90, 52, 42, 42, 16, 90, 90, 90, 90, 42, 62, 92, 92, 90, 90, 42, 42, 90, 90, 90, 90, 90, 90, 42, 90, 42, 90, 92, 42, 90, 90, 42, 16, 90, 90, 90, 90, 42, 90, 62, 16, 90, 62, 90, 42, 90, 92, 90, 90, 90, 88, 42, 90, 42, 90, 52, 90, 90, 42, 90, 92, 92, 90, 90, 90, 90, 92, 90, 90, 90, 90, 42, 90, 90, 88, 42, 42, 90, 42, 90, 92, 42, 90, 90, 90, 52, 42, 95, 42, 42, 90, 42, 42, 42, 90, 65, 42, 90, 42, 65, 90, 90, 90, 42, 90, 42, 42, 42, 88, 42, 42, 90, 90, 90, 42, 90, 92, 90, 90, 42, 90, 90, 88, 90, 16, 92, 42, 90, 90, 42, 90, 88, 90, 90, 90, 42, 90, 42, 62, 16, 42, 92, 52, 42, 65, 90, 42, 42, 42, 42, 42, 90, 52, 42, 90, 90, 42, 42, 90, 42, 90, 90, 90, 90, 90, 42, 42, 88, 42, 90, 42, 90, 90, 52, 52, 42, 90, 90, 92, 90, 90, 42, 65, 52, 42, 16, 90, 52, 16, 90, 90, 42, 65, 42, 90, 16, 90, 90, 90, 92, 42, 90, 52, 90, 90, 65, 88, 42, 42, 92, 90, 42, 90, 90, 42, 90, 90, 90, 42, 95, 92, 90, 90, 42, 42, 42, 62, 42, 90, 90, 90, 92, 42, 62, 42, 90, 65, 42, 42, 90, 90, 42, 90, 42, 90, 42, 90, 42, 90, 62, 90, 42, 62, 42, 90, 90, 42, 90, 90, 92, 90, 90, 52, 42, 90, 90, 42, 90, 90, 90, 90, 42, 92, 42, 42, 90, 90, 42, 42, 42, 90, 92, 62, 42, 90, 90, 42, 90, 90, 42, 90, 90, 67, 15, 90, 90, 90, 88, 90, 42, 42, 90, 90, 42, 90, 90, 90, 90, 62, 62, 90, 90, 42, 42, 90, 90, 65, 90, 90, 42, 92, 90, 42, 16, 90, 90, 42, 42, 42, 90, 62, 62, 16, 88, 90, 90, 90, 90, 62, 42, 52, 92, 90, 90, 90, 90, 42, 90, 90, 42, 90, 88, 88, 42, 52, 90, 42, 92, 42, 90, 92, 90, 90, 42, 90, 42, 42, 90, 90, 42, 67, 90, 90, 42, 90, 90, 88, 90, 90, 62, 42, 42, 52, 42, 62, 90, 90, 42, 42, 42, 92, 90, 90, 42, 90, 88, 90, 62, 90, 42, 90, 42, 90, 90, 92, 90, 90, 16, 92, 42, 88, 90, 90, 90, 90, 88, 90, 42, 42, 88, 92, 52, 92, 90, 90, 90, 42, 42, 42, 42, 42, 90, 90, 90, 92, 42, 90, 90, 42, 88, 88, 90, 16, 42, 90, 90, 90, 42, 42, 90, 90, 42, 90, 62, 90, 42, 62, 42, 42, 90, 90, 52, 90, 90, 65, 90, 62, 90, 90, 90, 42, 90, 42, 88, 62, 42, 90, 42, 62, 65, 42, 67, 90, 90, 88, 15, 42, 90, 62, 65, 92, 90, 90, 65, 90, 90, 92, 42, 62, 90, 16, 42, 90, 62, 90, 42, 90, 95, 90, 65, 90, 90, 42, 90, 42, 90, 62, 90, 90, 90, 42, 65, 90, 42, 90, 42, 90, 90, 92, 42, 90, 90, 90, 65, 42, 90, 88, 62, 90, 42, 90, 90, 42, 62, 90, 90, 90, 90, 90, 90, 42, 90, 90, 90, 42, 16, 92, 42, 42, 42, 42, 42, 90, 90, 90, 42, 42, 42, 62, 88, 90, 67, 90, 90, 90, 90, 90, 90, 62, 90, 42, 42, 42, 90, 65, 90, 90, 42, 42, 90, 90, 16, 90, 42, 42, 90, 88, 16, 90, 90, 42, 52, 92, 90, 90, 90, 90, 90, 90, 90, 42, 42, 90, 90, 90, 90, 90, 90, 90, 16, 42, 90, 90, 92, 16, 90, 88, 90, 90, 42, 42, 90, 90, 90, 90, 42, 90, 90, 42, 62, 42, 88, 90, 90, 90, 90, 42, 92, 62, 52, 42, 42, 90, 90, 90, 42, 62, 95, 88, 42, 90, 42, 42, 90, 90, 42, 42, 90, 90, 90, 90, 90, 62, 42, 90, 90, 90, 90, 90, 88, 42, 52, 65, 90, 90, 90, 90, 65, 90, 90, 90, 42, 42, 42, 90, 42, 90, 42, 42, 42, 42, 90, 16, 90, 90, 42, 90, 92, 16, 62, 90, 65, 42, 92, 42, 90, 92, 90, 90, 42, 90, 90, 16, 62, 42, 88, 52, 90, 90, 52, 65, 42, 42, 90, 42, 42, 62, 90, 90, 90, 67, 90, 90, 42, 95, 90, 42, 42, 90, 42, 90, 42, 90, 90, 42, 90, 62, 92, 92, 42, 90, 42, 42, 15, 90, 42, 65, 42, 90, 90, 90, 42, 90, 42, 90, 42, 42, 42, 90, 90, 90, 42, 42, 52, 16, 90, 90, 90, 90, 42, 90, 90, 42, 42, 90, 42, 42, 62, 42, 42, 90, 90, 90, 90, 90, 42, 90, 90, 90, 42, 90, 90, 65, 92, 90, 90, 88, 62, 88, 42, 42, 42, 62, 90, 90, 90, 42, 52, 95, 42, 90, 92, 90, 52, 90, 90, 42, 90, 52, 90, 42, 95, 92, 90, 42, 92, 95, 15, 90, 42, 90, 90, 42, 90, 62, 90, 90, 92, 62, 90, 42, 16, 62, 90, 88, 92, 42, 42, 90, 42, 90, 42, 42, 90, 42, 52, 90, 42, 90, 42, 90, 16, 90, 92, 42, 90, 62, 92, 90, 62, 90, 42, 42, 90, 62, 90, 42, 42, 90, 90, 90, 90, 42, 42, 90, 42, 90, 90, 62, 42, 90, 52, 90, 90, 42, 92, 65, 65, 90, 42, 90, 90, 90, 42, 42, 15, 42, 62, 62, 42, 90, 90, 90, 90, 52, 42, 90, 42, 42, 90, 42, 90, 42, 90, 62, 52, 90, 90, 90, 52, 42, 42, 42, 90, 90, 52, 90, 90, 16, 88, 90, 90, 42, 42, 92, 90, 90, 42, 42, 42, 90, 42, 90, 42, 42, 62, 88, 42, 42, 90, 90, 42, 67, 42, 90, 65, 90, 90, 92, 90, 42, 90, 42, 42, 90, 90, 90, 42, 90, 90, 90, 90, 42, 42, 65, 90, 90, 90, 90, 90, 42, 42, 92, 92, 42, 42, 90, 90, 90, 90, 42, 90, 90, 90, 90, 90, 90, 90, 42, 42, 90, 90, 42, 42, 90, 90, 42, 90, 42, 90, 62, 90, 42, 90, 67, 62, 67, 42, 52, 90, 42, 42, 90, 42, 42, 92, 42, 90, 42, 90, 90, 90, 90, 42, 42, 42, 42, 90, 42, 90, 92, 62, 42, 42, 88, 42, 65, 90, 92, 90, 90, 42, 42, 90, 42, 90, 42, 90, 16, 90, 42, 42, 90, 90, 42, 92, 42, 90, 90, 92, 42, 90, 90, 90, 42, 90, 42, 92, 90, 90, 90, 62, 42, 90, 90, 88, 42, 42, 42, 90, 90, 16, 42, 90, 90, 6, 90, 90, 42, 90, 90, 42, 42, 90, 42, 90, 42, 42, 42, 90, 90, 42, 42, 42, 42, 90, 90, 52, 90, 92, 90, 90, 42, 16, 42, 90, 90, 42, 42, 90, 90, 42, 42, 42, 42, 90, 42, 90, 92, 42, 67, 90, 90, 42, 90, 42, 90, 90, 42, 42, 90, 65, 42, 42, 90, 95, 90, 42, 42, 90, 92, 62, 90, 90, 52, 92, 90, 90, 62, 90, 15, 42, 65, 90, 42, 42, 42, 90, 90, 90, 42, 62, 62, 42, 90, 65, 42, 42, 42, 90, 90, 42, 67, 42, 90, 42, 42, 92, 42, 92, 90, 42, 92, 88, 92, 90, 42, 90, 42, 42, 90, 92, 16, 90, 90, 65, 90, 88, 42, 92, 42, 90, 42, 90, 90, 42, 88, 42, 90, 42, 62, 90, 42, 90, 90, 62, 90, 92, 42, 42, 90, 42, 42, 90, 42, 90, 42, 90, 90, 92, 90, 62, 90, 90, 42, 42, 42, 88, 90, 88, 42, 90, 90, 42, 90, 42, 42, 42, 65, 62, 92, 90, 16, 90, 42, 42, 42, 42, 90, 90, 88, 42, 62, 42, 90, 42, 42, 42, 90, 52, 90, 90, 42, 92, 42, 90, 90, 90, 62, 42, 88, 92, 42, 90, 90, 90, 42, 90, 42, 90, 52, 62, 52, 90, 90, 42, 90, 90, 88, 90, 65, 90, 42, 90, 90, 42, 42, 42, 90, 90, 88, 42, 90, 62, 88, 90, 42, 65, 90, 92, 90, 90, 42, 90, 90, 90, 90, 90, 90, 65, 62, 42, 92, 90, 42, 90, 90, 90, 90, 42, 90, 42, 90, 90, 42, 65, 42, 42, 90, 90, 62, 90, 90, 42, 42, 90, 42, 90, 90, 42, 90, 92, 42, 42, 90, 65, 90, 90, 90, 90, 42, 42, 95, 90, 90, 90, 90, 42, 67, 92, 90, 88, 16, 90, 90, 90, 90, 88, 42, 62, 90, 42, 90, 90, 42, 92, 90, 90, 92, 52, 90, 42, 90, 90, 42, 90, 90, 42, 92, 42, 90, 90, 90, 90, 92, 90, 90, 90, 90, 90, 90, 90, 42, 52, 90, 65, 90, 65, 42, 62, 42, 90, 90, 65, 90, 42, 42, 42, 90, 42, 42, 42, 90, 42, 62, 90, 90, 42, 90, 90, 90, 90, 90, 90, 90, 67, 42, 90, 65, 42, 90, 90, 42, 42, 90, 67, 92, 42, 90, 42, 42, 16, 42, 42, 42, 42, 42, 42, 62, 42, 88, 67, 42, 42, 42, 42, 62, 90, 42, 42, 90, 90, 90, 92, 90, 90, 42, 90, 90, 92, 90, 90, 90, 16, 90, 62, 62, 42, 88, 42, 90, 42, 90, 90, 42, 92, 90, 92, 90, 92, 90, 90, 42, 42, 90, 90, 90, 90, 90, 90, 92, 42, 65, 90, 92, 90, 42, 90, 90, 90, 90, 42, 90, 90, 90, 90, 62, 42, 42, 90, 42, 42, 90, 90, 90, 90, 90, 90, 90, 90, 92, 42, 92, 90, 52, 90, 90, 90, 90, 90, 62, 90, 90, 90, 90, 92, 90, 90, 42, 16, 90, 90, 42, 42, 90, 42, 42, 42, 90, 90, 90, 88, 62, 42, 42, 67, 90, 65, 90, 90, 92, 90, 42, 90, 90, 65, 42, 42, 42, 42, 90, 95, 88, 90, 95, 42, 90, 90, 62, 90, 90, 42, 90, 92, 90, 90, 42, 90, 90, 90, 90, 65, 90, 42, 42, 92, 42, 90, 90, 42, 42, 92, 90, 65, 42, 42, 90, 90, 90, 90, 90, 90, 92, 90, 90, 42, 42, 90, 90, 92, 90, 90, 90, 90, 90, 42, 90, 42, 62, 90, 42, 42, 90, 42, 90, 92, 90, 42, 62, 62, 42, 62, 62, 90, 65, 90, 52, 90, 65, 90, 90, 90, 90, 42, 62, 42, 90, 42, 90, 90, 90, 90, 42, 42, 90, 65, 90, 42, 62, 90, 90, 42, 90, 42, 15, 90, 90, 62, 65, 90, 42, 90, 90, 52, 42, 90, 90, 42, 42, 90, 42, 92, 42, 15, 90, 90, 90, 62, 92, 42, 42, 90, 42, 90, 90, 90, 90, 90, 42, 88, 42, 42, 92, 90, 42, 42, 90, 42, 90, 62, 62, 90, 62, 90, 90, 90, 95, 42, 90, 95, 90, 90, 90, 88, 42, 42, 62, 90, 88, 42, 90, 42, 42, 90, 90, 65, 92, 65, 42, 67, 90, 42, 42, 67, 65, 42, 90, 92, 90, 52, 42, 90, 90, 90, 42, 42, 95, 90, 90, 90, 42, 90, 92, 62, 90, 90, 65, 42, 90, 88, 42, 42, 90, 42, 90, 42, 90, 42, 90, 42, 90, 90, 90, 42, 90, 90, 90, 42, 90, 67, 90, 42, 90, 65, 90, 62, 90, 42, 16, 90, 90, 92, 92, 90, 42, 90, 42, 95, 90, 16, 90, 88, 90, 42, 42, 42, 62, 90, 90, 42, 88, 42, 65, 90, 62, 62, 90, 90, 42, 42, 90, 90, 90, 90, 90, 52, 90, 42, 90, 65, 90, 42, 42, 90, 90, 90, 90, 90, 92, 90, 42, 52, 42, 92, 90, 88, 90, 90, 90, 90, 90, 90, 16, 92, 42, 52, 90, 90, 90, 92, 42, 90, 90, 90, 42, 92, 15, 52, 92, 90, 62, 90, 90, 42, 90, 67, 90, 90, 90, 90, 90, 52, 90, 42, 62, 90, 42, 90, 90, 90, 90, 65, 90, 42, 42, 42, 90, 90, 42, 95, 95, 62, 52, 92, 90, 65, 90, 90, 90, 42, 62, 90, 90, 90, 90, 90, 67, 42, 42, 90, 88, 92, 42, 42, 90, 42, 42, 62, 90, 42, 90, 42, 90, 67, 42, 90, 90, 52, 92, 90, 42, 52, 92, 90, 15, 90, 62, 16, 90, 90, 67, 42, 90, 90, 90, 90, 90, 90, 42, 90, 42, 90, 90, 90, 90, 90, 16, 90, 92, 42, 90, 90, 90, 90, 42, 90, 95, 92, 92, 90, 90, 90, 90, 90, 90, 90, 90, 90, 90, 90, 42, 62, 90, 92, 90, 42, 90, 67, 90, 90, 90, 90, 42, 90, 92, 42, 62, 42, 15, 42, 88, 90, 62, 90, 90, 90, 42, 90, 90, 90, 90, 42, 42, 62, 42, 90, 42, 42, 90, 90, 42, 90, 42, 90, 90, 90, 65, 90, 95, 92, 42, 92, 90, 90, 65, 90, 90, 90, 90, 52, 90, 62, 42, 16, 90, 90, 90, 90, 42, 92, 90, 90, 62, 90, 88, 90, 62, 90, 90, 90, 62, 42, 90, 42, 90, 92, 90, 62, 90, 90, 42, 90, 90, 62, 42, 90, 90, 42, 90, 90, 90, 42, 52, 90, 90, 90, 42, 42, 90, 92, 62, 90, 42, 42, 90, 90, 90, 92, 92, 90, 42, 90, 90, 90, 62, 90, 90, 90, 90, 42, 42, 92, 90, 92, 42, 90, 90, 15, 16, 42, 52, 42, 92, 92, 90, 90, 42, 90, 16, 67, 90, 90, 90, 90, 42, 42, 88, 67, 42, 90, 52, 90, 90, 90, 90, 62, 42, 90, 90, 42, 90, 90, 90, 92, 62, 42, 90, 88, 90, 62, 90, 42, 92, 42, 92, 15, 90, 42, 67, 42, 42, 42, 90, 90, 90, 90, 90, 90, 42, 90, 42, 90, 42, 90, 90, 90, 90, 90, 90, 62, 88, 42, 90, 90, 42, 42, 42, 90, 88, 42, 62, 88, 42, 90, 90, 42, 90, 90, 52, 90, 90, 42, 88, 42, 42, 42, 90, 67, 90, 92, 42, 92, 42, 88, 90, 90, 90, 90, 42, 42, 90, 62, 90, 42, 42, 92, 67, 42, 90, 42, 62, 90, 90, 90, 90, 42, 42, 42, 42, 42, 90, 16, 90, 42, 42, 16, 92, 42, 62, 42, 88, 90, 62, 90, 67, 88, 90, 42, 42, 42, 90, 42, 62, 90, 42, 92, 90, 90, 42, 90, 90, 52, 90, 90, 62, 90, 42, 42, 42, 90, 42, 90, 42, 90, 42, 16, 42, 90, 42, 16, 42, 90, 42, 16, 92, 42, 88, 16, 90, 92, 95, 67, 90, 90, 90, 90, 42, 90, 90, 92, 90, 42, 62, 90, 90, 16, 90, 90, 90, 16, 42, 90, 65, 95, 90, 90, 90, 42, 90, 42, 90, 92, 42, 90, 42, 42, 92, 62, 90, 90, 90, 90, 90, 90, 90, 90, 90, 42, 90, 90, 15, 90, 90, 42, 90, 52, 90, 90, 90, 88, 42, 42, 95, 92, 90, 42, 42, 90, 62, 42, 42, 90, 90, 42, 90, 16, 90, 90, 90, 88, 88, 90, 42, 90, 42, 90, 42, 90, 42, 88, 42, 92, 90, 90, 90, 42, 42, 90, 52, 42, 42, 42, 42, 42, 90, 42, 42, 90, 42, 42, 90, 62, 62, 42, 90, 90, 42, 42, 67, 42, 90, 62, 88, 90, 42, 42, 62, 90, 42, 65, 90, 90, 42, 90, 62, 90, 42, 95, 42, 92, 90, 90, 62, 42, 90, 90, 42, 90, 90, 16, 90, 42, 62, 88, 42, 88, 90, 90, 90, 90, 90, 90, 90, 90, 42, 42, 62, 42, 42, 90, 90, 90, 90, 90, 42, 42, 42, 90, 90, 90, 42, 92, 16, 92, 90, 90, 92, 90, 90, 92, 62, 92, 42, 42, 90, 42, 90, 67, 42, 90, 42, 90, 90, 90, 90, 90, 90, 90, 42, 90, 42, 42, 42, 90, 52, 88, 90, 16, 42, 42, 90, 90, 90, 90, 42, 90, 42, 52, 90, 92, 90, 42, 90, 92, 90, 88, 90, 90, 90, 90, 90, 90, 62, 92, 92, 42, 90, 90, 42, 42, 67, 52, 90, 90, 42, 90, 90, 90, 90, 42, 90, 90, 90, 42, 90, 42, 42, 42, 42, 42, 42, 90, 90, 90, 42, 42, 90, 52, 90, 90, 92, 62, 42, 88, 90, 42, 90, 42, 42, 42, 42, 90, 42, 42, 90, 15, 42, 42, 42, 92, 90, 88, 90, 88, 90, 90, 90, 88, 42, 42, 42, 90, 92, 42, 90, 42, 90, 42, 90, 90, 42, 90, 42, 90, 90, 42, 92, 88, 42, 90, 16, 42, 42, 90, 42, 42, 92, 90, 90, 52, 88, 88, 90, 42, 90, 90, 52, 90, 90, 42, 42, 90, 65, 90, 52, 90, 42, 65, 90, 92, 90, 90, 90, 67, 92, 90, 90, 90, 42, 42, 65, 52, 42, 65, 42, 90, 65, 15, 90, 65, 42, 90, 95, 90, 90, 90, 92, 90, 90, 90, 62, 90, 90, 90, 90, 90, 42, 42, 90, 62, 42, 62, 90, 90, 52, 90, 42, 90, 42, 42, 90, 42, 62, 42, 90, 90, 42, 92, 16, 62, 90, 90, 90, 90, 62, 90, 62, 42, 65, 62, 88, 62, 90, 90, 42, 42, 90, 42, 42, 16, 90, 90, 90, 90, 42, 90, 88, 90, 90, 90, 92, 42, 92, 95, 90, 88, 42, 90, 65, 90, 90, 90, 90, 90, 42, 90, 42, 67, 95, 90, 90, 90, 88, 90, 42, 42, 92, 65, 95, 52, 88, 90, 90, 88, 42, 42, 90, 42, 42, 42, 90, 90, 90, 90, 90, 90, 90, 42, 42, 90, 90, 42, 90, 62, 90, 90, 90, 90, 90, 90, 16, 42, 42, 42, 90, 42, 90, 90, 90, 42, 90, 42, 88, 90, 90, 90, 90, 62, 42, 95, 42, 90, 90, 90, 92, 62, 52, 90, 62, 42, 62, 90, 90, 90, 62, 42, 90, 62, 90, 90, 52, 67, 90, 90, 90, 42, 16, 90, 92, 90, 90, 42, 42, 42, 42, 16, 16, 90, 95, 42, 42, 90, 90, 42, 90, 52, 90, 42, 42, 90, 42, 90, 90, 67, 42, 42, 90, 90, 90, 90, 90, 42, 42, 42, 88, 90, 90, 65, 16, 90, 90, 42, 42, 65, 42, 90, 65, 42, 95, 42, 65, 52, 90, 90, 90, 92, 90, 42, 90, 42, 42, 88, 42, 42, 42, 52, 42, 88, 62, 42, 90, 92, 62, 90, 90, 90, 42, 92, 42, 90, 90, 90, 90, 42, 90, 42, 42, 90, 90, 42, 42, 42, 90, 92, 62, 65, 90, 90, 90, 90, 90, 90, 42, 42, 16, 90, 90, 90, 42, 90, 90, 90, 62, 42, 42, 90, 42, 90, 90, 62, 90, 90, 42, 16, 62, 90, 90, 90, 90, 42, 90, 92, 42, 42, 90, 95, 90, 90, 90, 90, 90, 62, 16, 42, 42, 90, 42, 62, 90, 90, 42, 90, 92, 90, 90, 90, 90, 42, 90, 90, 90, 88, 92, 90, 90, 90, 90, 42, 62, 42, 42, 42, 90, 42, 90, 90, 62, 90, 90, 42, 52, 90, 90, 90, 88, 90, 42, 90, 42, 42, 42, 42, 90, 90, 42, 90, 90, 62, 42, 90, 90, 42, 90, 42, 42, 90, 90, 42, 90, 42, 42, 90, 42, 90, 90, 90, 16, 42, 90, 65, 90, 42, 42, 88, 90, 42, 90, 95, 90, 42, 90, 42, 42, 90, 42, 90, 90, 90, 90, 65, 16, 90, 62, 62, 42, 88, 90, 90, 42, 15, 90, 90, 90, 90, 42, 90, 90, 90, 52, 90, 90, 42, 90, 90, 42, 90, 16, 90, 95, 42, 90, 62, 90, 90, 90, 90, 42, 90, 62, 90, 42, 90, 90, 90, 42, 90, 92, 90, 90, 90, 16, 16, 65, 65, 42, 16, 42, 42, 90, 90, 90, 42, 65, 90, 90, 42, 90, 16, 90, 90, 88, 42, 90, 92, 42, 90, 90, 90, 90, 90, 90, 90, 42, 90, 52, 42, 90, 90, 62, 42, 90, 90, 90, 42, 42, 90, 90, 90, 42, 90, 42, 90, 42, 92, 62, 65, 42, 42, 42, 42, 90, 90, 90, 90, 90, 52, 90, 90, 90, 42, 42, 95, 88, 90, 90, 42, 42, 42, 90, 88, 42, 90, 90, 65, 90, 90, 90, 90, 90, 90, 62, 42, 90, 90, 90, 15, 90, 67, 67, 90, 92, 90, 42, 42, 90, 42, 67, 90, 62, 90, 42, 88, 62, 90, 90, 42, 90, 42, 42, 65, 62, 90, 90, 90, 65, 90, 42, 90, 90, 90, 52, 16, 90, 90, 65, 95, 90, 67, 90, 92, 90, 90, 90, 65, 90, 90, 42, 90, 90, 62, 92, 42, 90, 90, 62, 90, 90, 90, 42, 90, 65, 42, 90, 42, 90, 90, 42, 42, 90, 90, 90, 90, 42, 90, 65, 62, 92, 90, 90, 90, 42, 42, 42, 90, 15, 92, 42, 42, 88, 62, 42, 62, 62, 90, 42, 90, 62, 90, 52, 52, 90, 42, 90, 90, 62, 90, 42, 42, 90, 65, 15, 42, 42, 92, 90, 90, 90, 90, 62, 90, 42, 62, 42, 62, 65, 42, 42, 90, 65, 42, 65, 42, 90, 90, 15, 42, 90, 92, 90, 90, 42, 90, 42, 90, 90, 42, 90, 90, 90, 15, 90, 90, 90, 16, 90, 90, 52, 95, 90, 62, 42, 42, 90, 90, 65, 42, 90, 90, 42, 90, 90, 42, 42, 90, 65, 90, 90, 90, 52, 16, 42, 90, 95, 62, 90, 88, 90, 62, 65, 88, 62, 42, 67, 92, 88, 42, 90, 92, 42, 90, 90, 52, 65, 90, 90, 88, 42, 90, 65, 42, 90, 88, 90, 95, 42, 92, 90, 16, 90, 90, 90, 90, 92, 42, 90, 90, 42, 90, 65, 90, 92, 90, 92, 90, 88, 62, 88, 90, 42, 65, 42, 90, 92, 90, 65, 90, 90, 52, 90, 90, 42, 90, 90, 90, 52, 90, 90, 88, 90, 90, 65, 16, 90, 90, 67, 90, 90, 90, 90, 90, 90, 90, 42, 42, 42, 42, 92, 42, 90, 90, 42, 90, 88, 42, 90, 42, 90, 90, 42, 90, 42, 42, 92, 90, 42, 90, 42, 90, 90, 67, 90, 88, 42, 42, 62, 90, 92, 42, 90, 42, 90, 42, 42, 42, 42, 42, 42, 65, 92, 16, 42, 90, 62, 90, 90, 65, 42, 95, 90, 90, 16, 90, 90, 42, 90, 42, 90, 90, 42, 92, 90, 90, 42, 42, 42, 42, 52, 42, 90, 90, 42, 90, 90, 42, 90, 95, 90, 42, 52, 90, 42, 90, 42, 42, 42, 90, 42, 90, 90, 90, 42, 42, 92, 42, 90, 90, 90, 42, 90, 90, 42, 42, 90, 42, 62, 90, 90, 42, 90, 52, 90, 90, 62, 42, 90, 62, 95, 42, 90, 62, 42, 42, 90, 90, 90, 62, 90, 16, 42, 90, 15, 90, 42, 90, 42, 90, 42, 90, 42, 90, 90, 90, 90, 42, 42, 42, 42, 90, 90, 90, 90, 90, 88, 90, 90, 65, 42, 90, 90, 42, 90, 67, 90, 92, 42, 42, 42, 90, 62, 42, 42, 92, 90, 90, 92, 92, 42, 90, 42, 42, 90, 90, 42, 90, 90, 90, 90, 42, 65, 42, 52, 90, 90, 42, 90, 42, 42, 62, 90, 90, 42, 90, 92, 90, 88, 90, 62, 62, 90, 15, 90, 90, 52, 42, 90, 90, 16, 42, 62, 88, 90, 92, 90, 42, 90, 90, 90, 42, 92, 42, 42, 42, 90, 42, 90, 90, 42, 90, 90, 88, 92, 42, 42, 42, 88, 90, 90, 95, 90, 90, 42, 92, 42, 90, 42, 42, 90, 90, 62, 42, 92, 90, 90, 90, 42, 67, 42, 90, 90, 16, 65, 90, 90, 62, 42, 92, 90, 42, 62, 42, 90, 90, 90, 90, 62, 42, 90, 42, 42, 90, 90, 90, 42, 42, 42, 42, 90, 42, 90, 42, 62, 90, 42, 90, 90, 42, 42, 62, 88, 42, 42, 42, 42, 52, 90, 16, 42, 42, 90, 88, 90, 16, 90, 90, 42, 42, 90, 90, 90, 16, 90, 90, 42, 42, 42, 90, 90, 65, 90, 42, 90, 92, 90, 65, 90, 90, 90, 42, 42, 42, 90, 42, 62, 88, 90, 90, 90, 90, 42, 62, 90, 42, 90, 42, 42, 90, 42, 90, 62, 42, 90, 90, 90, 90, 65, 90, 62, 90, 90, 90, 42, 90, 90, 62, 90, 90, 42, 90, 90, 42, 90, 90, 90, 90, 42, 90, 90, 90, 90, 90, 92, 53, 42, 65, 90, 42, 42, 90, 42, 90, 90, 90, 90, 90, 90, 90, 92, 90, 42, 42, 90, 90, 65, 90, 42, 90, 52, 90, 90, 42, 42, 52, 42, 90, 90, 90, 90, 42, 90, 90, 92, 62, 65, 42, 52, 16, 88, 90, 42, 16, 90, 90, 16, 42, 42, 67, 90, 90, 42, 42, 90, 42, 42, 92, 42, 90, 42, 62, 42, 90, 90, 90, 42, 62, 90, 92, 42, 88, 90, 42, 88, 42, 42, 90, 90, 42, 62, 90, 62, 42, 90, 42, 16, 90, 42, 42, 90, 42, 90, 67, 62, 16, 90, 90, 90, 90, 90, 62, 90, 90, 90, 90, 42, 92, 42, 42, 88, 42, 90, 90, 90, 90, 92, 92, 42, 90, 42, 42, 16, 42, 42, 52, 42, 95, 90, 90, 42, 90, 90, 42, 42, 90, 42, 42, 62, 90, 15, 90, 42, 90, 65, 90, 90, 90, 92, 90, 90, 42, 90, 90, 90, 90, 42, 42, 90, 42, 42, 65, 62, 42, 90, 42, 42, 90, 65, 62, 90, 62, 42, 90, 90, 90, 90, 42, 62, 42, 90, 90, 90, 90, 52, 90, 90, 90, 90, 90, 42, 42, 90, 92, 67, 92, 62, 90, 62, 42, 42, 42, 42, 90, 42, 42, 90, 90, 42, 90, 67, 90, 90, 90, 90, 88, 88, 62, 42, 90, 95, 52, 90, 92, 90, 92, 42, 52, 42, 95, 90, 42, 42, 62, 90, 90, 90, 42, 90, 90, 90, 90, 90, 90, 42, 42, 90, 42, 15, 88, 90, 90, 65, 42, 90, 90, 42, 90, 90, 42, 90, 90, 90, 90, 67, 90, 90, 90, 42, 88, 92, 42, 42, 90, 42, 90, 90, 90, 16, 90, 90, 52, 90, 90, 90, 92, 90, 90, 90, 42, 88, 92, 90, 90, 88, 90, 90, 90, 67, 90, 67, 90, 92, 42, 90, 90, 90, 90, 42, 42, 90, 90, 88, 90, 90, 90, 90, 62, 90, 65, 65, 90, 90, 90, 52, 90, 42, 42, 42, 62, 90, 90, 92, 62, 90, 90, 90, 62, 92, 42, 42, 90, 90, 42, 90, 42, 42, 42, 92, 42, 90, 90, 42, 16, 90, 42, 90, 88, 90, 42, 90, 92, 52, 90, 67, 90, 42, 92, 90, 90, 90, 90, 42, 90, 90, 90, 90, 42, 90, 90, 90, 92, 62, 42, 42, 42, 90, 90, 88, 42, 90, 92, 90, 90, 42, 90, 52, 90, 62, 92, 90, 90, 90, 42, 42, 42, 42, 90, 42, 62, 90, 42, 90, 92, 90, 42, 42, 90, 42, 90, 90, 42, 42, 90, 92, 90, 42, 65, 42, 62, 16, 90, 90, 90, 90, 90, 90, 90, 42, 90, 62, 88, 90, 90, 90, 92, 42, 42, 42, 90, 52, 62, 65, 42, 90, 65, 90, 15, 42, 90, 90, 88, 90, 90, 92, 42, 90, 65, 42, 62, 16, 62, 52, 67, 90, 52, 90, 95, 90, 90, 90, 16, 42, 16, 42, 42, 90, 42, 90, 42, 90, 90, 90, 90, 42, 42, 90, 90, 88, 42, 90, 15, 62, 90, 42, 42, 6, 42, 42, 90, 90, 90, 90, 62, 90, 90, 52, 42, 92, 92, 42, 90, 42, 90, 90, 42, 90, 90, 90, 42, 90, 42, 62, 92, 90, 90, 42, 90, 90, 65, 90, 90, 90, 90, 90, 90, 42, 65, 42, 42, 90, 90, 42, 42, 62, 90, 90, 90, 90, 90, 42, 42, 90, 90, 90, 90, 52, 42, 90, 90, 88, 90, 42, 90, 90, 16, 42, 90, 16, 90, 88, 52, 42, 42, 16, 88, 90, 62, 90, 65, 90, 92, 42, 15, 90, 65, 90, 65, 88, 52, 62, 90, 42, 42, 62, 90, 90, 90, 90, 90, 90, 90, 90, 90, 62, 42, 90, 90, 90, 42, 42, 42, 62, 90, 90, 90, 16, 42, 92, 62, 65, 90, 90, 95, 42, 90, 42, 42, 90, 90, 90, 88, 90, 42, 92, 90, 90, 90, 90, 42, 42, 42, 90, 42, 90, 90, 90, 90, 90, 42, 62, 88, 90, 42, 42, 42, 16, 92, 42, 90, 92, 90, 90, 42, 90, 42, 42, 90, 42, 42, 90, 90, 62, 92, 42, 62, 90, 90, 67, 90, 42, 90, 90, 90, 90, 62, 42, 90, 90, 90, 65, 42, 90, 42, 42, 42, 90, 90, 62, 90, 90, 62, 90, 42, 90, 90, 90, 42, 62, 90, 62, 90, 90, 16, 42, 90, 90, 92, 42, 92, 15, 42, 65, 92, 42, 90, 90, 88, 90, 90, 52, 90, 90, 42, 42, 42, 42, 90, 90, 65, 42, 90, 42, 90, 90, 90, 90, 90, 90, 90, 90, 90, 65, 15, 42, 16, 42, 90, 42, 90, 90, 65, 52, 90, 90, 90, 42, 90, 92, 90, 90, 92, 62, 90, 42, 62, 90, 16, 52, 42, 90, 42, 42, 42, 90, 42, 42, 65, 42, 42, 90, 42, 90, 42, 62, 42, 90, 42, 90, 42, 42, 62, 42, 42, 42, 42, 90, 90, 90, 42, 90, 42, 90, 92, 42, 88, 42, 90, 62, 90, 42, 90, 42, 65, 90, 42, 90, 67, 62, 90, 88, 42, 65, 90, 90, 90, 90, 88, 90, 42, 90, 92, 90, 90, 42, 42, 65, 16, 90, 90, 62, 42, 90, 42, 42, 90, 92, 42, 90, 90, 90, 90, 92, 16, 88, 90, 92, 90, 42, 90, 90, 42, 62, 90, 90, 62, 90, 92, 90, 90, 42, 42, 92, 90, 42, 90, 42, 90, 42, 90, 90, 90, 42, 42, 90, 90, 88, 90, 16, 90, 90, 62, 92, 42, 42, 42, 90, 42, 90, 42, 62, 42, 90, 42, 42, 52, 90, 42, 16, 90, 90, 42, 42, 42, 42, 90, 42, 90, 42, 90, 62, 90, 90, 90, 90, 92, 95, 90, 88, 42, 90, 90, 42, 90, 90, 42, 90, 62, 90, 42, 90, 42, 62, 92, 90, 42, 90, 65, 42, 42, 90, 42, 90, 67, 90, 42, 90, 42, 90, 90, 90, 62, 90, 42, 42, 62, 90, 42, 90, 90, 90, 90, 62, 90, 42, 15, 92, 42, 42, 95, 90, 90, 88, 42, 42, 90, 90, 90, 42, 42, 92, 90, 90, 42, 90, 90, 42, 42, 52, 42, 90, 90, 90, 90, 42, 42, 90, 90, 42, 90, 65, 42, 65, 90, 42, 90, 90, 90, 90, 52, 42, 90, 90, 90, 52, 42, 67, 42, 90, 42, 42, 90, 90, 90, 90, 90, 90, 42, 90, 90, 90, 42, 90, 52, 42, 42, 90, 90, 90, 90, 92, 42, 62, 42, 92, 42, 90, 62, 90, 90, 90, 90, 42, 90, 42, 42, 90, 90, 90, 42, 90, 92, 42, 90, 42, 42, 62, 90, 52, 90, 90, 90, 90, 90, 90, 42, 62, 92, 62, 42, 42, 42, 90, 62, 90, 90, 52, 65, 90, 90, 62, 90, 42, 42, 88, 62, 42, 67, 42, 42, 90, 42, 90, 90, 90, 90, 90, 90, 90, 90, 90, 52, 42, 90, 90, 90, 92, 52, 42, 90, 88, 90, 90, 90, 90, 90, 92, 90, 90, 90, 90, 62, 42, 62, 42, 90, 52, 90, 42, 90, 90, 65, 42, 90, 42, 90, 90, 65, 52, 65, 95, 90, 42, 42, 42, 90, 92, 42, 42, 42, 90, 92, 42, 42, 90, 42, 62, 42, 42, 90, 90, 90, 90, 42, 42, 42, 90, 90, 42, 90, 90, 62, 16, 42, 88, 42, 90, 42, 42, 42, 90, 90, 15, 42, 42, 42, 90, 90, 92, 90, 90, 62, 16, 90, 62, 90, 42, 90, 62, 90, 42, 42, 62, 42, 90, 90, 90, 42, 90, 90, 92, 42, 42, 90, 90, 90, 90, 90, 42, 42, 42, 90, 62, 42, 42, 67, 42, 42, 42, 67, 42, 42, 90, 42, 90, 92, 42, 90, 90, 42, 90, 42, 42, 90, 90, 62, 42, 90, 92, 90, 90, 42, 90, 62, 42, 90, 90, 90, 90, 90, 67, 42, 90, 90, 90, 42, 92, 95, 42, 42, 42, 92, 42, 16, 42, 16, 42, 90, 90, 90, 90, 90, 42, 90, 42, 92, 62, 90, 16, 16, 90, 67, 42, 67, 90, 90, 90, 65, 62, 90, 90, 67, 65, 42, 42, 90, 62, 90, 90, 90, 16, 42, 92, 90, 90, 42, 90, 90, 42, 65, 42, 90, 90, 42, 90, 42, 42, 42, 42, 90, 90, 90, 90, 90, 92, 88, 16, 90, 90, 42, 90, 42, 90, 92, 42, 90, 92, 42, 90, 90, 92, 90, 42, 52, 90, 90, 90, 90, 42, 42, 42, 90, 90, 90, 42, 42, 52, 90, 90, 90, 90, 90, 92, 90, 90, 42, 42, 16, 42, 90, 90, 42, 90, 90, 42, 62, 67, 42, 42, 42, 42, 62, 90, 90, 92, 90, 90, 90, 16, 90, 90, 92, 90, 90, 90, 42, 42, 90, 90, 90, 42, 90, 90, 90, 42, 90, 90, 90, 42, 42, 67, 90, 90, 42, 88, 90, 90, 42, 15, 42, 67, 90, 92, 42, 90, 90, 42, 88, 42, 90, 42, 88, 42, 92, 90, 16, 42, 62, 92, 95, 42, 90, 42, 42, 90, 42, 65, 90, 42, 52, 90, 90, 90, 15, 90, 90, 90, 90, 42, 90, 90, 90, 90, 42, 62, 42, 42, 67, 90, 62, 42, 42, 90, 16, 42, 90, 62, 88, 42, 42, 42, 42, 90, 42, 90, 90, 67, 42, 90, 90, 90, 65, 65, 90, 90, 42, 90, 90, 42, 52, 90, 90, 90, 92, 42, 62, 42, 90, 88, 90, 90, 90, 90, 90, 52, 62, 42, 42, 90, 90, 52, 42, 90, 42, 42, 90, 90, 90, 90, 67, 42, 42, 90, 90, 16, 90, 90, 90, 42, 62, 42, 92, 90, 90, 88, 88, 90, 62, 42, 42, 42, 92, 90, 62, 90, 42, 90, 90, 90, 90, 42, 65, 42, 90, 42, 42, 90, 52, 90, 42, 42, 90, 90, 90, 90, 42, 67, 90, 90, 90, 62, 42, 16, 90, 88, 52, 67, 90, 90, 90, 42, 88, 90, 42, 67, 42, 62, 90, 92, 42, 42, 90, 88, 90, 90, 42, 42, 90, 62, 90, 90, 62, 42, 65, 42, 16, 90, 65, 62, 90, 90, 90, 42, 42, 90, 65, 90, 62, 42, 90, 90, 90, 42, 90, 90, 52, 62, 42, 42, 90, 90, 90, 90, 92, 90, 90, 90, 62, 65, 90, 42, 90, 42, 90, 42, 62, 62, 90, 42, 90, 90, 42, 90, 90, 42, 62, 62, 16, 90, 16, 42, 42, 90, 90, 95, 52, 90, 90, 90, 90, 42, 90, 42, 90, 90, 92, 90, 92, 42, 90, 90, 42, 62, 42, 42, 90, 90, 42, 42, 67, 90, 65, 90, 42, 90, 90, 65, 62, 90, 64, 62, 90, 42, 90, 90, 42, 90, 90, 90, 90, 42, 42, 90, 42, 92, 42, 90, 42, 42, 90, 90, 90, 62, 42, 42, 90, 42, 90, 42, 92, 90, 42, 42, 90, 90, 42, 42, 42, 92, 42, 62, 90, 62, 42, 42, 90, 92, 42, 90, 42, 90, 42, 90, 90, 90, 62, 42, 90, 90, 42, 90, 42, 95, 42, 90, 42, 42, 90, 42, 65, 42, 90, 52, 90, 42, 88, 16, 42, 95, 42, 90, 42, 62, 42, 42, 62, 90, 90, 90, 42, 90, 90, 90, 52, 65, 88, 90, 62, 15, 90, 90, 90, 95, 90, 90, 90, 90, 92, 90, 42, 42, 90, 62, 62, 92, 90, 90, 42, 90, 42, 90, 90, 90, 90, 42, 90, 92, 90, 65, 90, 90, 16, 42, 90, 42, 90, 42, 42, 42, 90, 90, 90, 90, 90, 90, 42, 42, 65, 42, 90, 90, 90, 90, 92, 90, 90, 52, 42, 65, 90, 90, 62, 90, 90, 90, 90, 88, 92, 90, 90, 42, 90, 42, 42, 62, 62, 92, 90, 90, 92, 90, 16, 90, 42, 90, 62, 90, 90, 90, 42, 42, 42, 62, 90, 88, 90, 90, 90, 67, 90, 90, 42, 62, 90, 62, 90, 90, 42, 90, 90, 62, 90, 90, 42, 42, 42, 62, 42, 42, 42, 90, 90, 90, 42, 90, 16, 90, 16, 90, 90, 90, 92, 42, 42, 65, 65, 90, 42, 88, 90, 42, 42, 90, 42, 95, 88, 42, 90, 92, 52, 65, 90, 90, 90, 88, 42, 92, 90, 16, 42, 90, 90, 90, 42, 42, 92, 90, 90, 42, 90, 90, 52, 90, 90, 42, 42, 42, 90, 42, 65, 42, 65, 42, 90, 90, 42, 42, 67, 90, 42, 95, 90, 90, 92, 42, 90, 42, 42, 62, 90, 42, 65, 90, 92, 42, 90, 90, 90, 90, 42, 90, 90, 42, 90, 92, 90, 42, 42, 16, 90, 42, 42, 42, 90, 92, 42, 42, 90, 90, 92, 67, 92, 42, 42, 90, 90, 62, 42, 42, 90, 90, 90, 42, 90, 90, 90, 90, 42, 92, 42, 16, 42, 42, 42, 90, 42, 90, 67, 42, 42, 42, 92, 88, 90, 90, 90, 90, 42, 90, 90, 62, 52, 90, 90, 42, 90, 90, 90, 42, 90, 90, 90, 42, 15, 90, 62, 90, 16, 42, 90, 62, 90, 42, 42, 90, 90, 90, 90, 42, 16, 90, 90, 92, 42, 92, 90, 62, 62, 90, 42, 90, 92, 90, 90, 16, 90, 42, 42, 42, 62, 90, 42, 42, 90, 90, 42, 92, 42, 90, 42, 65, 92, 92, 90, 90, 67, 90, 90, 95, 62, 42, 42, 90, 90, 90, 95, 88, 16, 90, 92, 88, 90, 90, 42, 90, 90, 90, 90, 42, 90, 90, 42, 90, 62, 42, 90, 90, 92, 42, 90, 42, 65, 65, 90, 42, 42, 42, 90, 90, 42, 90, 90, 90, 90, 90, 90, 42, 90, 90, 90, 62, 88, 42, 90, 42, 88, 62, 42, 92, 90, 90, 42, 42, 90, 42, 90, 62, 90, 42, 90, 42, 90, 42, 92, 42, 65, 90, 42, 90, 90, 62, 90, 92, 92, 90, 42, 42, 90, 42, 90, 90, 90, 42, 90, 90, 90, 90, 90, 62, 90, 90, 90, 42, 90, 90, 90, 90, 42, 42, 90, 92, 65, 95, 90, 42, 42, 42, 90, 90, 90, 90, 95, 42, 90, 90, 90, 42, 90, 90, 90, 62, 42, 42, 90, 90, 42, 42, 90, 90, 52, 42, 90, 42, 90, 67, 92, 90, 42, 42, 42, 90, 95, 90, 88, 92, 42, 42, 65, 42, 92, 90, 42, 90, 42, 16, 65, 65, 90, 42, 90, 90, 90, 42, 90, 42, 42, 42, 16, 90, 90, 90, 90, 90, 42, 88, 90, 90, 90, 42, 90, 42, 90, 42, 90, 42, 90, 90, 90, 92, 88, 90, 90, 90, 88, 90, 90, 90, 62, 42, 42, 62, 42, 90, 90, 90, 90, 90, 90, 42, 65, 90, 90, 42, 42, 42, 42, 92, 42, 90, 88, 88, 42, 42, 90, 42, 90, 90, 90, 42, 42, 90, 42, 62, 90, 90, 42, 42, 42, 42, 92, 90, 42, 90, 90, 90, 92, 67, 42, 90, 90, 90, 90, 42, 42, 90, 90, 90, 90, 90, 42, 42, 90, 42, 90, 90, 42, 92, 16, 42, 90, 62, 15, 90, 90, 42, 92, 90, 42, 42, 52, 42, 90, 92, 90, 90, 90, 88, 90, 90, 90, 90, 42, 42, 65, 42, 42, 67, 42, 42, 90, 42, 90, 90, 88, 42, 90, 42, 92, 90, 6, 90, 42, 42, 90, 90, 42, 90, 42, 90, 90, 16, 42, 90, 62, 42, 90, 92, 90, 42, 90, 90, 42, 90, 90, 42, 90, 88, 90, 90, 65, 16, 42, 90, 90, 42, 90, 90, 62, 42, 42, 62, 42, 42, 42, 67, 92, 90, 90, 90, 90, 90, 42, 42, 92, 42, 90, 67, 42, 42, 90, 92, 42, 90, 90, 90, 90, 65, 90, 42, 90, 42, 42, 92, 42, 90, 92, 92, 90, 90, 16, 92, 67, 90, 90, 90, 90, 42, 42, 42, 16, 42, 90, 42, 42, 90, 90, 65, 90, 90, 90, 52, 42, 90, 62, 42, 90, 90, 90, 90, 95, 42, 90, 90, 90, 62, 90, 42, 88, 42, 90, 90, 42, 90, 95, 52, 42, 90, 90, 90, 90, 65, 67, 90, 90, 90, 90, 65, 90, 92, 90, 42, 90, 90, 90, 90, 90, 90, 62, 42, 90, 52, 90, 65, 90, 90, 42, 90, 90, 42, 42, 92, 90, 90, 42, 90, 90, 67, 90, 42, 90, 42, 92, 42, 90, 16, 92, 92, 90, 90, 90, 92, 88, 92, 42, 90, 90, 88, 42, 90, 42, 90, 42, 90, 90, 90, 42, 16, 62, 42, 90, 65, 16, 62, 90, 90, 42, 42, 90, 42, 90, 90, 90, 90, 90, 42, 42, 62, 65, 90, 90, 88, 16, 42, 90, 90, 90, 90, 65, 62, 90, 42, 90, 42, 92, 92, 42, 52, 92, 42, 90, 90, 90, 90, 90, 62, 90, 92, 42, 90, 90, 90, 42, 42, 90, 42, 92, 92, 90, 88, 90, 65, 90, 42, 42, 90, 62, 90, 90, 90, 62, 90, 90, 90, 90, 42, 42, 90, 42, 92, 90, 42, 90, 67, 90, 90, 90, 42, 42, 62, 90, 90, 42, 42, 42, 90, 90, 62, 90, 42, 92, 90, 42, 90, 90, 16, 42, 90, 90, 90, 42, 90, 90, 52, 90, 90, 42, 90, 42, 42, 90, 90, 92, 67, 90, 90, 90, 90, 90, 90, 42, 42, 42, 92, 90, 92, 88, 42, 42, 42, 90, 90, 67, 42, 42, 92, 90, 42, 90, 90, 42, 42, 90, 42, 92, 42, 90, 16, 16, 42, 90, 42, 62, 92, 92, 42, 90, 90, 16, 42, 92, 42, 42, 16, 90, 42, 62, 90, 42, 42, 90, 90, 90, 42, 42, 90, 42, 42, 42, 42, 90, 65, 90, 42, 42, 42, 90, 90, 42, 42, 42, 42, 90, 16, 90, 90, 62, 92, 42, 90, 90, 42, 90, 92, 15, 90, 88, 90, 90, 65, 65, 90, 90, 90, 90, 90, 90, 92, 52, 90, 42, 92, 90, 42, 92, 65, 92, 52, 42, 90, 42, 42, 92, 42, 52, 92, 90, 90, 90, 62, 90, 90, 90, 90, 42, 90, 90, 42, 90, 92, 65, 90, 90, 92, 90, 42, 16, 90, 42, 90, 92, 90, 90, 90, 42, 95, 90, 62, 90, 90, 42, 90, 90, 90, 90, 42, 52, 42, 90, 42, 90, 42, 16, 65, 90, 92, 90, 42, 42, 42, 90, 90, 90, 42, 42, 42, 90, 90, 92, 90, 67, 90, 42, 42, 52, 42, 42, 90, 42, 92, 88, 90, 90, 42, 42, 90, 16, 90, 16, 42, 42, 88, 6, 67, 90, 90, 90, 90, 42, 16, 92, 42, 90, 42, 90, 90, 90, 90, 42, 90, 88, 90, 42, 90, 88, 42, 42, 88, 90, 42, 90, 90, 90, 62, 62, 67, 90, 90, 42, 16, 42, 42, 90, 90, 42, 90, 42, 16, 42, 90, 90, 90, 92, 42, 90, 90, 90, 90, 90, 88, 42, 90, 42, 90, 62, 92, 88, 90, 62, 90, 62, 90, 90, 90, 92, 90, 42, 90, 92, 90, 90, 65, 90, 42, 92, 90, 90, 90, 88, 42, 90, 42, 90, 90, 42, 62, 90, 90, 42, 42, 65, 92, 52, 90, 42, 42, 90, 92, 92, 95, 65, 88, 62, 90, 42, 42, 16, 42, 42, 42, 42, 90, 90, 42, 88, 90, 42, 92, 90, 42, 90, 16, 42, 90, 90, 90, 92, 92, 42, 42, 42, 42, 90, 42, 16, 90, 90, 90, 42, 42, 42, 65, 90, 53, 42, 90, 42, 90, 90, 52, 90, 42, 90, 42, 90, 90, 92, 90, 90, 62, 90, 92, 42, 42, 42, 90, 90, 88, 42, 62, 42, 90, 42, 90, 90, 42, 90, 90, 90, 92, 90, 90, 42, 90, 90, 92, 42, 67, 90, 65, 90, 90, 90, 90, 90, 90, 90, 42, 42, 42, 90, 42, 90, 42, 42, 92, 90, 90, 90, 62, 42, 90, 90, 65, 90, 52, 67, 42, 90, 42, 62, 90, 90, 62, 42, 67, 90, 42, 42, 42, 92, 90, 90, 42, 90, 42, 42, 90, 42, 90, 92, 42, 90, 42, 92, 62, 90, 42, 42, 90, 92, 90, 42, 90, 90, 42, 42, 90, 92, 90, 90, 62, 42, 62, 90, 90, 92, 90, 88, 67, 90, 90, 90, 42, 90, 90, 92, 62, 42, 90, 42, 90, 42, 42, 90, 42, 42, 90, 90, 90, 42, 42, 42, 90, 65, 90, 90, 62, 42, 42, 16, 42, 16, 42, 62, 90, 90, 90, 90, 90, 90, 42, 90, 42, 42, 16, 90, 90, 90, 88, 90, 42, 42, 90, 42, 67, 42, 90, 42, 90, 42, 42, 90, 90, 16, 90, 62, 88, 92, 90, 90, 90, 42, 42, 90, 42, 52, 90, 42, 42, 90, 42, 92, 62, 88, 42, 42, 90, 90, 42, 42, 90, 42, 92, 15, 42, 65, 65, 90, 90, 90, 90, 90, 42, 42, 90, 90, 42, 90, 90, 90, 90, 65, 90, 42, 90, 52, 92, 42, 42, 90, 42, 90, 42, 42, 42, 42, 90, 90, 90, 42, 90, 90, 90, 42, 42, 90, 90, 90, 42, 90, 16, 42, 90, 92, 65, 90, 90, 90, 90, 53, 90, 95, 90, 88, 16, 42, 42, 62, 42, 42, 42, 42, 42, 42, 90, 90, 90, 90, 92, 42, 16, 90, 90, 42, 90, 90, 67, 90, 90, 42, 90, 42, 90, 42, 90, 90, 88, 42, 42, 42, 88, 90, 90, 42, 90, 88, 42, 90, 90, 90, 62, 90, 42, 90, 92, 42, 42, 16, 90, 90, 62, 90, 42, 42, 90, 42, 90, 90, 52, 90, 90, 90, 15, 90, 92, 16, 90, 62, 90, 90, 92, 88, 42, 65, 90, 90, 90, 90, 88, 90, 42, 90, 90, 90, 90, 92, 90, 42, 42, 90, 42, 90, 42, 88, 42, 16, 16, 90, 90, 42, 62, 62, 42, 42, 90, 42, 90, 42, 42, 65, 95, 52, 65, 90, 42, 90, 90, 90, 67, 90, 90, 92, 90, 92, 42, 42, 42, 42, 42, 90, 42, 88, 90, 42, 90, 90, 42, 42, 90, 42, 90, 90, 90, 90, 90, 90, 42, 90, 90, 42, 90, 90, 90, 42, 90, 90, 90, 42, 90, 90, 90, 42, 90, 92, 88, 90, 62, 62, 42, 90, 52, 62, 90, 52, 90, 90, 90, 90, 42, 42, 62, 42, 90, 90, 42, 42, 42, 42, 90, 42, 42, 90, 90, 90, 52, 65, 90, 90, 42, 90, 67, 90, 88, 88, 90, 42, 42, 67, 90, 90, 90, 90, 90, 42, 90, 90, 42, 90, 90, 52, 42, 62, 92, 90, 90, 90, 62, 88, 42, 42, 90, 88, 42, 42, 65, 90, 90, 90, 62, 67, 42, 90, 90, 90, 42, 90, 42, 90, 42, 42, 52, 42, 16, 90, 15, 62, 88, 90, 42, 90, 90, 65, 90, 90, 42, 62, 90, 90, 90, 16, 42, 90, 90, 62, 65, 90, 90, 95, 16, 90, 42, 42, 90, 90, 95, 90, 90, 42, 90, 90, 90, 42, 90, 90, 42, 90, 42, 42, 90, 90, 88, 42, 90, 42, 90, 90, 95, 90, 90, 90, 90, 62, 52, 90, 90, 90, 90, 92, 42, 16, 92, 90, 92, 42, 16, 90, 90, 42, 90, 42, 92, 90, 90, 90, 90, 42, 90, 90, 90, 42, 90, 90, 92, 90, 42, 42, 42, 62, 90, 67, 90, 90, 90, 65, 88, 92, 42, 42, 90, 42, 42, 62, 90, 42, 90, 90, 90, 42, 42, 88, 42, 90, 42, 42, 42, 42, 65, 42, 90, 90, 90, 90, 16, 90, 42, 90, 42, 42, 52, 90, 16, 90, 42, 90, 62, 90, 15, 90, 42, 90, 90, 42, 90, 62, 90, 42, 90, 90, 65, 90, 90, 16, 42, 90, 90, 42, 92, 67, 62, 42, 42, 90, 92, 90, 62, 42, 42, 42, 92, 90, 42, 88, 42, 16, 42, 42, 42, 92, 90, 42, 90, 42, 42, 42, 42, 90, 42, 90, 62, 90, 42, 90, 42, 90, 42, 42, 65, 90, 90, 92, 42, 90, 90, 90, 42, 90, 62, 88, 90, 90, 88, 42, 90, 90, 42, 90, 90, 90, 42, 90, 90, 42, 90, 92, 90, 90, 90, 67, 65, 42, 16, 88, 90, 42, 90, 90, 90, 42, 42, 90, 90, 42, 62, 90, 52, 42, 90, 90, 90, 42, 90, 42, 90, 42, 90, 16, 42, 62, 90, 90, 42, 90, 42, 65, 90, 90, 90, 90, 90, 42, 42, 90, 90, 42, 90, 90, 90, 90, 62, 42, 90, 42, 90, 90, 42, 42, 42, 90, 90, 42, 42, 90, 62, 90, 42, 42, 90, 90, 90, 62, 42, 90, 90, 67, 90, 88, 92, 92, 90, 42, 65, 90, 90, 42, 90, 92, 42, 52, 42, 88, 42, 52, 88, 90, 42, 42, 42, 90, 90, 42, 42, 92, 90, 88, 42, 52, 90, 90, 90, 65, 90, 90, 90, 65, 65, 42, 90, 90, 42, 42, 42, 42, 90, 90, 42, 90, 42, 90, 42, 42, 88, 90, 90, 90, 88, 90, 90, 90, 62, 90, 90, 42, 65, 90, 90, 42, 42, 90, 62, 62, 16, 92, 90, 90, 90, 90, 42, 92, 90, 62, 90, 42, 90, 90, 90, 42, 42, 42, 90, 16, 90, 67, 90, 90, 62, 90, 90, 42, 42, 15, 16, 90, 90, 90, 90, 42, 90, 90, 42, 90, 90, 90, 90, 92, 90, 42, 42, 88, 90, 90, 62, 90, 90, 90, 42, 42, 90, 90, 42, 90, 42, 42, 92, 90, 90, 90, 62, 42, 42, 90, 42, 92, 90, 90, 90, 90, 42, 90, 90, 90, 62, 16, 42, 62, 90, 90, 42, 62, 42, 16, 42, 42, 90, 90, 90, 90, 90, 42, 90, 92, 62, 42, 90, 92, 90, 42, 16, 90, 90, 42, 42, 42, 42, 62, 65, 90, 90, 65, 52, 92, 62, 90, 42, 90, 42, 90, 90, 42, 90, 90, 90, 90, 90, 90, 90, 42, 42, 42, 90, 42, 42, 90, 42, 90, 67, 88, 90, 90, 42, 52, 90, 90, 90, 42, 62, 90, 90, 65, 42, 90, 42, 90, 65, 90, 42, 90, 90, 42, 92, 42, 42, 16, 90, 65, 42, 62, 16, 42, 90, 90, 65, 42, 65, 90, 42, 90, 90, 42, 65, 62, 42, 62, 42, 90, 42, 65, 42, 65, 90, 88, 92, 42, 62, 90, 90, 90, 90, 90, 62, 42, 90, 42, 90, 90, 90, 90, 90, 90, 42, 52, 95, 67, 90, 42, 90, 90, 90, 42, 92, 16, 90, 90, 92, 42, 42, 90, 65, 42, 42, 90, 90, 42, 90, 42, 90, 90, 16, 90, 92, 62, 90, 42, 65, 90, 65, 90, 90, 16, 90, 90, 42, 90, 90, 90, 16, 88, 42, 90, 42, 67, 42, 90, 90, 90, 42, 88, 90, 90, 42, 90, 42, 42, 88, 90, 90, 90, 92, 88, 62, 42, 16, 90, 62, 67, 42, 52, 90, 92, 92, 95, 90, 42, 90, 88, 90, 90, 90, 90, 90, 90, 42, 62, 42, 90, 42, 90, 90, 90, 42, 90, 90, 90, 90, 16, 90, 90, 90, 90, 90, 90, 42, 42, 42, 52, 62, 90, 65, 92, 90, 90, 42, 90, 42, 90, 16, 90, 90, 95, 90, 42, 42, 88, 16, 42, 90, 62, 90, 90, 90, 90, 42, 42, 42, 90, 90, 42, 90, 95, 42, 90, 90, 90, 62, 90, 90, 42, 42, 90, 90, 92, 90, 42, 42, 90, 90, 90, 42, 90, 62, 90, 90, 90, 62, 90, 90, 90, 90, 90, 42, 90, 90, 65, 90, 90, 42, 90, 90, 16, 90, 90, 90, 62, 90, 90, 42, 90, 90, 90, 95, 62, 90, 42, 90, 42, 42, 90, 90, 90, 90, 42, 90, 92, 65, 42, 42, 90, 42, 88, 90, 92, 65, 90, 90, 42, 42, 65, 90, 62, 90, 52, 42, 42, 90, 90, 90, 90, 62, 42, 42, 42, 90, 62, 62, 92, 90, 42, 42, 90, 88, 90, 42, 42, 62, 90, 42, 90, 90, 65, 42, 90, 42, 42, 62, 42, 90, 65, 42, 90, 42, 90, 90, 90, 42, 90, 90, 90, 62, 62, 16, 52, 90, 90, 42, 90, 90, 42, 90, 90, 42, 90, 90, 42, 90, 62, 90, 90, 92, 65, 65, 90, 42, 42, 92, 90, 90, 95, 90, 95, 42, 62, 90, 90, 42, 90, 90, 42, 90, 90, 88, 42, 42, 42, 90, 90, 52, 90, 42, 65, 42, 90, 90, 16, 42, 42, 90, 90, 52, 90, 90, 90, 42, 90, 42, 42, 62, 90, 42, 62, 62, 92, 90, 42, 90, 90, 92, 42, 88, 42, 90, 90, 65, 88, 16, 90, 42, 90, 90, 42, 42, 90, 88, 90, 90, 90, 16, 90, 90, 90, 90, 90, 92, 42, 90, 95, 90, 90, 62, 42, 90, 62, 42, 90, 65, 90, 16, 90, 42, 90, 67, 42, 90, 90, 42, 90, 90, 90, 90, 95, 88, 42, 90, 90, 67, 16, 16, 92, 52, 62, 88, 16, 92, 90, 62, 42, 90, 90, 90, 90, 90, 42, 62, 92, 62, 90, 42, 90, 90, 90, 42, 88, 88, 90, 52, 90, 62, 90, 42, 90, 90, 90, 90, 42, 42, 88, 90, 42, 92, 42, 90, 42, 42, 90, 42, 62, 42, 92, 62, 88, 42, 90, 42, 90, 90, 90, 90, 90, 90, 90, 65, 62, 42, 90, 42, 42, 90, 42, 42, 90, 90, 90, 90, 90, 92, 90, 92, 90, 62, 52, 95, 42, 90, 42, 90, 42, 65, 42, 65, 88, 62, 42, 90, 90, 92, 65, 42, 62, 88, 88, 42, 92, 62, 92, 90, 90, 42, 90, 42, 90, 90, 16, 90, 90, 42, 90, 90, 90, 42, 92, 16, 42, 90, 90, 62, 42, 90, 90, 90, 90, 90, 90, 90, 42, 65, 52, 62, 90, 92, 42, 52, 65, 90, 90, 42, 42, 42, 42, 88, 90, 90, 90, 42, 90, 90, 42, 90, 42, 90, 42, 90, 90, 90, 42, 90, 95, 42, 90, 90, 90, 42, 52, 42, 42, 92, 90, 42, 90, 42, 90, 90, 90, 42, 62, 90, 90, 42, 90, 92, 90, 90, 90, 90, 42, 42, 42, 42, 90, 16, 90, 90, 90, 90, 90, 88, 42, 42, 42, 90, 42, 90, 90, 88, 42, 42, 65, 62, 90, 90, 90, 42, 90, 42, 90, 90, 90, 90, 90, 16, 90, 90, 42, 90, 90, 90, 92, 90, 90, 42, 90, 52, 42, 90, 42, 90, 92, 42, 90, 42, 90, 90, 90, 90, 42, 90, 90, 90, 92, 90, 90, 42, 67, 90, 52, 42, 42, 90, 88, 42, 92, 62, 42, 92, 90, 65, 16, 90, 67, 90, 42, 90, 90, 42, 90, 90, 62, 92, 62, 42, 90, 90, 42, 62, 90, 88, 42, 90, 90, 92, 90, 65, 42, 90, 90, 90, 16, 90, 52, 90, 42, 88, 88, 90, 90, 90, 90, 88, 42, 88, 90, 42, 90, 92, 90, 42, 52, 90, 42, 42, 42, 42, 42, 42, 42, 90, 42, 90, 90, 42, 90, 90, 42, 90, 92, 42, 42, 62, 42, 90, 42, 42, 92, 52, 90, 90, 42, 16, 90, 92, 42, 92, 92, 42, 42, 90, 42, 42, 42, 16, 90, 90, 92, 62, 88, 90, 88, 90, 52, 42, 42, 90, 42, 42, 42, 52, 90, 88, 90, 90, 90, 92, 65, 90, 90, 42, 90, 90, 90, 90, 88, 90, 42, 62, 88, 42, 90, 90, 42, 42, 52, 90, 15, 62, 65, 90, 90, 90, 42, 90, 90, 90, 42, 90, 65, 90, 90, 42, 90, 42, 92, 42, 90, 90, 42, 90, 90, 65, 42, 62, 90, 90, 90, 42, 42, 42, 90, 42, 92, 90, 42, 42, 65, 90, 42, 16, 92, 90, 90, 62, 42, 62, 42, 52, 90, 90, 42, 65, 42, 90, 16, 42, 90, 90, 16, 95, 88, 42, 42, 90, 42, 90, 62, 90, 95, 42, 42, 95, 53, 90, 90, 90, 90, 90, 92, 42, 92, 52, 90, 90, 42, 90, 90, 42, 90, 90, 90, 90, 90, 90, 90, 42, 62, 62, 16, 42, 90, 90, 90, 90, 42, 42, 92, 42, 90, 65, 90, 90, 90, 92, 90, 90, 90, 90, 90, 90, 90, 42, 90, 90, 90, 62, 90, 42, 42, 42, 16, 65, 90, 90, 90, 90, 90, 92, 90, 90, 90, 90, 16, 42, 42, 90, 42, 90, 42, 90, 90, 42, 67, 90, 90, 90, 90, 62, 42, 42, 90, 65, 92, 90, 62, 42, 42, 62, 90, 42, 88, 65, 88, 90, 90, 90, 90, 42, 88, 90, 90, 90, 42, 90, 62, 90, 42, 42, 42, 90, 90, 42, 65, 42, 42, 90, 90, 90, 90, 52, 42, 62, 90, 62, 90, 90, 92, 42, 90, 42, 42, 90, 42, 90, 90, 90, 42, 65, 90, 62, 67, 62, 42, 62, 90, 90, 90, 6, 42, 42, 65, 92, 90, 90, 90, 90, 90, 62, 42, 52, 42, 90, 90, 42, 16, 90, 90, 90, 42, 90, 90, 90, 90, 42, 90, 42, 42, 90, 90, 16, 95, 88, 90, 42, 90, 95, 52, 90, 65, 90, 42, 90, 42, 42, 42, 16, 90, 42, 42, 42, 90, 42, 16, 52, 88, 42, 62, 90, 95, 42, 90, 90, 95, 90, 42, 65, 90, 90, 62, 42, 42, 90, 67, 90, 42, 42, 90, 42, 90, 42, 88, 42, 42, 52, 90, 90, 42, 90, 42, 15, 90, 42, 42, 42, 90, 90, 92, 90, 65, 90, 42, 42, 42, 90, 52, 90, 16, 90, 65, 90, 88, 42, 92, 42, 16, 42, 95, 90, 42, 90, 42, 65, 90, 42, 42, 62, 90, 90, 90, 90, 16, 92, 92, 65, 90, 65, 42, 88, 42, 42, 88, 42, 42, 62, 88, 90, 92, 62, 88, 42, 42, 62, 92, 42, 90, 42, 90, 90, 42, 42, 90, 42, 92, 90, 90, 90, 90, 90, 90, 42, 90, 42, 90, 42, 90, 42, 92, 42, 42, 16, 42, 42, 16, 92, 90, 42, 62, 42, 42, 52, 90, 90, 90, 42, 42, 90, 62, 90, 90, 42, 90, 42, 42, 42, 52, 90, 90, 42, 90, 90, 65, 90, 52, 90, 90, 42, 90, 88, 90, 16, 52, 65, 16, 15, 62, 42, 42, 90, 90, 15, 42, 92, 42, 42, 90, 42, 90, 90, 90, 90, 90, 42, 16, 90, 90, 42, 42, 62, 42, 90, 62, 42, 42, 90, 42, 90, 92, 42, 90, 42, 90, 90, 67, 90, 67, 90, 90, 90, 90, 62, 16, 65, 90, 90, 90, 90, 90, 52, 90, 90, 42, 92, 90, 90, 90, 90, 90, 16, 42, 90, 42, 90, 90, 90, 42, 16, 42, 62, 42, 90, 52, 88, 42, 42, 90, 42, 42, 90, 16, 90, 90, 90, 90, 90, 90, 90, 90, 52, 90, 88, 90, 42, 90, 42, 90, 90, 88, 90, 65, 42, 90, 90, 42, 42, 90, 42, 62, 90, 88, 42, 90, 62, 42, 88, 90, 90, 42, 90, 90, 42, 42, 62, 42, 90, 16, 42, 92, 42, 52, 42, 42, 62, 92, 90, 62, 95, 16, 42, 90, 42, 90, 90, 90, 42, 90, 42, 90, 90, 42, 42, 90, 42, 90, 42, 88, 90, 90, 42, 88, 90, 92, 42, 90, 42, 42, 62, 90, 62, 90, 90, 92, 90, 42, 88, 42, 52, 90, 42, 90, 90, 42, 42, 90, 90, 42, 90, 90, 90, 90, 42, 90, 90, 90, 90, 90, 42, 90, 67, 92, 90, 42, 42, 92, 90, 42, 65, 90, 90, 42, 88, 42, 90, 92, 42, 90, 90, 90, 42, 90, 67, 90, 88, 90, 90, 90, 42, 90, 62, 67, 90, 90, 92, 95, 90, 90, 62, 42, 42, 42, 90, 90, 42, 90, 90, 42, 90, 42, 42, 88, 62, 90, 62, 42, 42, 62, 42, 90, 88, 90, 42, 90, 42, 90, 42, 88, 90, 90, 90, 90, 16, 90, 90, 42, 90, 88, 90, 42, 90, 90, 67, 95, 62, 42, 42, 42, 92, 92, 42, 90, 16, 90, 42, 90, 88, 16, 90, 92, 42, 90, 90, 42, 90, 90, 90, 90, 90, 90, 90, 90, 90, 65, 90, 90, 88, 42, 90, 90, 92, 92, 65, 90, 90, 90, 90, 42, 42, 16, 90, 42, 16, 92, 90, 90, 62, 42, 92, 42, 90, 90, 90, 90, 90, 90, 90, 42, 90, 90, 90, 90, 90, 90, 90, 90, 90, 90, 62, 42, 90, 90, 90, 42, 90, 92, 90, 90, 90, 42, 90, 42, 90, 90, 42, 90, 90, 90, 90, 62, 90, 92, 65, 92, 16, 90, 90, 90, 62, 42, 90, 90, 52, 90, 90, 90, 42, 90, 42, 90, 42, 90, 90, 42, 90, 90, 42, 42, 42, 42, 42, 62, 90, 90, 90, 90, 42, 90, 90, 42, 90, 90, 90, 42, 42, 90, 16, 67, 62, 65, 52, 42, 90, 42, 88, 90, 90, 67, 62, 90, 90, 52, 90, 90, 42, 92, 90, 90, 65, 90, 42, 90, 42, 90, 90, 90, 90, 42, 90, 90, 65, 90, 90, 90, 90, 90, 90, 90, 62, 90, 90, 65, 62, 42, 90, 90, 90, 16, 42, 42, 42, 90, 42, 42, 90, 92, 90, 16, 42, 42, 90, 42, 52, 90, 42, 90, 90, 42, 90, 90, 42, 90, 42, 90, 42, 90, 92, 90, 92, 90, 67, 90, 90, 90, 42, 42, 90, 90, 90, 90, 90, 90, 16, 42, 90, 92, 42, 42, 92, 90, 90, 65, 90, 90, 42, 90, 65, 90, 42, 42, 16, 90, 42, 90, 90, 62, 90, 42, 90, 90, 42, 90, 42, 90, 90, 90, 90, 90, 42, 90, 90, 90, 42, 90, 16, 90, 90, 90, 42, 42, 92, 88, 90, 90, 90, 90, 88, 90, 42, 42, 90, 42, 42, 62, 90, 95, 90, 90, 42, 90, 92, 42, 90, 42, 90, 42, 65, 42, 90, 92, 52, 90, 90, 90, 90, 90, 90, 42, 92, 42, 90, 90, 42, 42, 42, 42, 42, 90, 90, 95, 65, 16, 90, 90, 90, 90, 90, 42, 90, 42, 90, 42, 92, 90, 90, 90, 62, 95, 42, 90, 90, 90, 62, 42, 90, 90, 16, 90, 95, 42, 42, 90, 42, 90, 90, 90, 90, 42, 90, 42, 90, 42, 90, 42, 90, 90, 90, 90, 16, 42, 90, 90, 90, 90, 90, 42, 95, 90, 88, 42, 90, 88, 42, 90, 42, 90, 90, 90, 62, 90, 42, 65, 90, 65, 65, 90, 42, 16, 90, 42, 90, 90, 90, 90, 42, 92, 90, 42, 62, 42, 90, 90, 90, 90, 42, 42, 42, 42, 92, 90, 90, 90, 90, 90, 42, 42, 52, 90, 90, 90, 42, 95, 90, 65, 42, 42, 42, 88, 42, 90, 90, 42, 90, 92, 90, 42, 88, 90, 42, 42, 90, 92, 88, 42, 92, 62, 90, 90, 62, 90, 90, 95, 90, 92, 42, 90, 42, 42, 90, 42, 90, 42, 42, 92, 42, 42, 90, 90, 42, 90, 90, 42, 42, 90, 42, 90, 16, 90, 42, 42, 90, 90, 42, 42, 90, 90, 15, 90, 42, 90, 90, 90, 16, 90, 42, 90, 88, 90, 90, 90, 90, 42, 90, 88, 90, 42, 65, 67, 42, 42, 42, 90, 62, 90, 90, 90, 90, 67, 90, 90, 42, 16, 42, 90, 90, 42, 42, 42, 42, 90, 42, 62, 92, 90, 42, 90, 90, 90, 90, 90, 42, 90, 42, 92, 90, 90, 90, 42, 42, 90, 42, 62, 90, 42, 42, 90, 42, 90, 90, 90, 90, 90, 42, 90, 62, 90, 90, 42, 90, 90, 90, 42, 42, 90, 42, 62, 90, 42, 42, 62, 16, 42, 42, 62, 90, 90, 65, 90, 90, 52, 42, 90, 90, 90, 90, 90, 92, 90, 90, 16, 90, 42, 90, 90, 88, 90, 90, 90, 62, 62, 90, 62, 62, 42, 90, 42, 42, 88, 90, 42, 90, 92, 42, 42, 90, 90, 42, 90, 90, 16, 52, 90, 53, 90, 88, 90, 92, 42, 90, 90, 42, 92, 88, 42, 90, 92, 42, 42, 90, 42, 62, 90, 52, 90, 90, 42, 90, 62, 88, 90, 90, 90, 42, 90, 90, 42, 90, 90, 90, 90, 42, 90, 90, 42, 16, 92, 90, 62, 42, 42, 42, 92, 90, 90, 16, 90, 90, 42, 16, 90, 42, 90, 90, 42, 92, 90, 90, 92, 90, 90, 42, 90, 42, 42, 90, 42, 90, 90, 16, 90, 90, 90, 65, 42, 92, 90, 90, 42, 90, 92, 90, 42, 90, 62, 88, 42, 92, 90, 42, 90, 62, 90, 16, 52, 42, 62, 90, 42, 90, 92, 90, 42, 90, 90, 42, 92, 42, 90, 52, 90, 52, 92, 90, 90, 90, 16, 88, 90, 90, 42, 42, 42, 92, 90, 42, 90, 16, 42, 42, 90, 90, 90, 90, 90, 6, 42, 90, 65, 90, 42, 90, 62, 90, 90, 52, 90, 90, 90, 62, 42, 65, 42, 90, 90, 42, 88, 42, 90, 65, 92, 42, 92, 88, 90, 95, 62, 42, 90, 42, 90, 90, 90, 42, 42, 90, 65, 92, 42, 90, 90, 42, 90, 92, 42, 16, 42, 88, 90, 62, 90, 90, 42, 92, 90, 90, 90, 67, 90, 65, 92, 42, 92, 42, 90, 42, 52, 90, 90, 65, 90, 65, 65, 42, 42, 90, 90, 42, 42, 52, 90, 42, 90, 42, 42, 42, 65, 90, 42, 92, 90, 90, 92, 42, 42, 90, 42, 90, 42, 90, 42, 42, 42, 90, 42, 16, 42, 90, 90, 42, 90, 90, 90, 62, 90, 52, 42, 42, 42, 90, 90, 42, 42, 42, 90, 90, 90, 90, 16, 90, 90, 90, 90, 90, 90, 42, 52, 92, 90, 90, 52, 62, 88, 90, 65, 90, 42, 90, 42, 90, 42, 90, 90, 62, 90, 90, 90, 92, 90, 16, 42, 42, 90, 90, 90, 90, 42, 90, 90, 90, 90, 88, 90, 62, 90, 90, 90, 90, 42, 92, 90, 90, 90, 90, 62, 90, 42, 42, 90, 42, 42, 62, 90, 90, 90, 42, 62, 42, 90, 90, 42, 42, 90, 65, 90, 90, 90, 42, 42, 42, 90, 65, 90, 90, 42, 42, 42, 90, 90, 52, 42, 90, 90, 42, 90, 42, 65, 90, 90, 90, 62, 62, 90, 90, 90, 90, 92, 90, 42, 90, 62, 67, 42, 90, 90, 90, 90, 62, 42, 90, 42, 42, 42, 42, 92, 42, 90, 90, 95, 90, 95, 90, 67, 42, 90, 90, 92, 42, 90, 90, 90, 65, 90, 42, 42, 90, 65, 90, 42, 42, 90, 90, 90, 62, 90, 90, 90, 42, 42, 67, 42, 52, 95, 42, 90, 42, 90, 90, 42, 90, 42, 42, 90, 90, 42, 90, 90, 42, 16, 42, 92, 42, 42, 90, 42, 90, 90, 90, 90, 90, 90, 90, 62, 62, 90, 90, 67, 65, 42, 88, 16, 90, 90, 90, 42, 16, 90, 90, 90, 90, 90, 90, 90, 95, 90, 90, 92, 65, 42, 90, 90, 42, 90, 88, 62, 42, 90, 42, 42, 90, 90, 90, 16, 42, 42, 42, 90, 90, 52, 62, 42, 90, 52, 90, 42, 90, 16, 42, 90, 90, 90, 42, 90, 90, 42, 90, 90, 42, 90, 42, 90, 42, 90, 92, 42, 42, 62, 65, 90, 42, 90, 90, 92, 90, 42, 42, 62, 90, 90, 42, 16, 90, 90, 88, 42, 90, 62, 15, 90, 52, 90, 90, 42, 90, 42, 42, 42, 92, 42, 90, 90, 90, 90, 65, 90, 42, 42, 90, 62, 42, 62, 90, 92, 16, 90, 42, 90, 90, 90, 42, 90, 90, 92, 90, 62, 42, 90, 90, 90, 42, 67, 92, 42, 62, 95, 90, 92, 42, 90, 90, 42, 90, 90, 88, 65, 90, 16, 62, 42, 90, 42, 42, 90, 42, 67, 42, 90, 90, 90, 90, 42, 42, 90, 90, 42, 90, 90, 90, 16, 90, 90, 42, 90, 62, 90, 42, 90, 90, 42, 90, 90, 42, 42, 90, 90, 65, 92, 90, 42, 90, 90, 90, 42, 42, 90, 42, 62, 42, 90, 62, 90, 62, 92, 90, 62, 42, 90, 42, 90, 42, 90, 90, 42, 90, 90, 90, 90, 42, 92, 16, 42, 42, 62, 42, 90, 90, 90, 90, 62, 65, 90, 42, 65, 88, 90, 42, 90, 90, 42, 90, 90, 42, 90, 90, 42, 90, 42, 90, 90, 62, 90, 90, 52, 90, 90, 90, 88, 90, 42, 90, 88, 42, 90, 42, 42, 52, 90, 90, 90, 90, 90, 90, 42, 90, 90, 90, 90, 90, 90, 90, 16, 90, 62, 62, 90, 42, 42, 88, 42, 90, 42, 90, 42, 90, 42, 90, 90, 42, 42, 90, 90, 90, 90, 92, 65, 42, 90, 92, 67, 88, 90, 92, 16, 90, 62, 92, 42, 90, 90, 90, 90, 90, 42, 42, 42, 92, 42, 42, 16, 42, 42, 42, 90, 42, 90, 90, 90, 62, 62, 42, 90, 42, 42, 42, 90, 90, 42, 42, 90, 42, 90, 90, 90, 42, 90, 90, 42, 42, 42, 42, 92, 42, 90, 90, 90, 90, 42, 42, 90, 88, 92, 90, 90, 16, 90, 42, 90, 42, 90, 42, 42, 42, 90, 92, 42, 90, 16, 62, 90, 90, 90, 90, 42, 90, 42, 92, 16, 90, 92, 90, 42, 90, 65, 90, 42, 90, 90, 42, 42, 16, 90, 90, 92, 42, 90, 42, 42, 42, 16, 90, 90, 90, 90, 90, 42, 90, 90, 42, 90, 90, 42, 42, 42, 92, 42, 42, 42, 92, 65, 42, 92, 42, 62, 42, 62, 42, 65, 92, 90, 42, 62, 90, 90, 88, 42, 90, 90, 42, 90, 90, 90, 90, 90, 90, 90, 42, 42, 65, 90, 42, 90, 42, 42, 16, 42, 16, 42, 42, 90, 42, 90, 90, 42, 62, 90, 92, 90, 95, 90, 88, 90, 90, 90, 42, 90, 42, 16, 90, 88, 52, 90, 62, 90, 90, 90, 42, 90, 90, 42, 65, 42, 88, 90, 88, 42, 16, 92, 90, 90, 90, 90, 90, 62, 52, 90, 42, 42, 90, 90, 65, 90, 92, 65, 42, 52, 42, 90, 90, 90, 42, 42, 90, 90, 90, 90, 90, 42, 42, 52, 62, 90, 90, 90, 42, 90, 92, 90, 42, 42, 90, 67, 62, 90, 42, 92, 42, 90, 90, 67, 90, 90, 42, 16, 42, 42, 42, 88, 90, 42, 42, 90, 90, 90, 90, 90, 42, 65, 90, 90, 90, 42, 90, 92, 90, 42, 90, 90, 42, 42, 42, 42, 90, 42, 90, 42, 62, 90, 90, 90, 90, 42, 90, 90, 90, 42, 90, 90, 88, 42, 42, 90, 90, 42, 90, 62, 90, 42, 90, 90, 90, 65, 90, 90, 62, 65, 90, 42, 62, 42, 90, 42, 42, 90, 90, 90, 62, 42, 90, 90, 90, 90, 42, 90, 62, 90, 90, 42, 42, 62, 42, 90, 90, 42, 90, 90, 90, 90, 92, 42, 90, 90, 90, 90, 42, 90, 92, 65, 90, 90, 15, 88, 90, 92, 90, 42, 90, 90, 42, 90, 42, 90, 42, 90, 42, 90, 90, 90, 42, 88, 15, 42, 65, 90, 90, 90, 42, 42, 88, 90, 42, 90, 92, 90, 42, 65, 92, 62, 42, 90, 42, 90, 88, 90, 62, 42, 62, 90, 90, 90, 90, 90, 42, 90, 90, 42, 90, 90, 42, 42, 52, 90, 42, 90, 42, 92, 90, 42, 65, 88, 90, 90, 42, 65, 42, 42, 42, 42, 90, 90, 90, 16, 42, 42, 92, 42, 90, 42, 95, 52, 90, 90, 62, 90, 90, 65, 90, 92, 42, 42, 90, 90, 90, 92, 95, 90, 62, 90, 88, 90, 90, 92, 90, 90, 42, 90, 90, 42, 90, 90, 90, 42, 90, 42, 90, 90, 90, 42, 42, 90, 42, 90, 42, 90, 90, 90, 65, 42, 90, 90, 52, 90, 62, 90, 90, 90, 42, 92, 90, 65, 92, 42, 90, 90, 90, 90, 90, 88, 42, 90, 15, 42, 42, 90, 90, 42, 90, 42, 90, 42, 62, 90, 90, 90, 42, 90, 67, 92, 42, 90, 65, 42, 42, 42, 90, 67, 42, 90, 90, 42, 90, 90, 90, 95, 90, 52, 90, 90, 42, 90, 90, 90, 88, 42, 90, 90, 42, 90, 90, 88, 90, 62, 53, 62, 90, 90, 92, 90, 92, 90, 42, 90, 42, 42, 90, 53, 42, 16, 90, 42, 90, 42, 90, 42, 92, 42, 90, 90, 42, 42, 42, 42, 42, 42, 42, 90, 92, 90, 90, 92, 90, 67, 90, 42, 42, 92, 90, 62, 90, 90, 90, 90, 62, 42, 90, 90, 90, 16, 90, 90, 90, 90, 92, 90, 42, 42, 90, 62, 42, 90, 67, 92, 90, 62, 52, 65, 90, 42, 90, 90, 92, 88, 88, 90, 62, 90, 42, 90, 90, 42, 90, 42, 90, 65, 67, 90, 42, 90, 90, 42, 90, 42, 42, 90, 95, 90, 42, 62, 42, 42, 42, 62, 42, 90, 90, 90, 62, 90, 42, 90, 42, 92, 42, 90, 42, 42, 90, 42, 62, 42, 90, 67, 90, 42, 90, 90, 90, 42, 42, 42, 90, 90, 42, 90, 90, 95, 90, 16, 42, 90, 90, 90, 90, 90, 90, 90, 90, 92, 92, 92, 90, 90, 90, 42, 42, 42, 90, 90, 90, 16, 42, 62, 62, 90, 90, 90, 90, 42, 90, 42, 65, 42, 90, 90, 42, 92, 62, 92, 62, 42, 92, 90, 90, 62, 90, 90, 90, 52, 52, 42, 90, 42, 90, 92, 90, 16, 90, 90, 90, 65, 52, 90, 42, 90, 90, 90, 42, 90, 90, 90, 42, 42, 90, 42, 42, 42, 42, 42, 42, 90, 42, 42, 62, 90, 90, 42, 42, 42, 90, 90, 42, 42, 90, 42, 90, 42, 42, 42, 90, 15, 42, 42, 90, 42, 42, 90, 90, 42, 42, 90, 90, 42, 90, 90, 42, 62, 90, 42, 42, 92, 92, 90, 90, 90, 52, 62, 42, 88, 90, 92, 42, 95, 42, 42, 42, 90, 90, 42, 90, 90, 42, 90, 92, 42, 42, 42, 42, 90, 90, 90, 90, 90, 90, 92, 42, 90, 52, 62, 90, 90, 42, 90, 90, 92, 90, 88, 42, 62, 90, 16, 42, 90, 90, 42, 16, 90, 90, 62, 62, 90, 90, 42, 90, 90, 90, 90, 90, 90, 90, 42, 42, 42, 90, 42, 42, 90, 90, 92, 90, 42, 65, 90, 90, 42, 42, 42, 90, 16, 90, 90, 65, 90, 42, 16, 42, 92, 65, 42, 90, 90, 42, 42, 62, 90, 42, 42, 88, 42, 90, 42, 90, 42, 90, 42, 90, 42, 42, 90, 42, 90, 90, 42, 90, 90, 62, 90, 42, 92, 42, 90, 90, 92, 65, 90, 67, 90, 53, 90, 90, 62, 90, 42, 42, 88, 90, 52, 42, 42, 67, 42, 42, 90, 90, 90, 42, 90, 90, 90, 90, 62, 88, 42, 92, 90, 90, 42, 90, 52, 42, 90, 16, 90, 95, 42, 88, 42, 90, 90, 62, 90, 16, 90, 42, 90, 90, 62, 42, 90, 42, 90, 92, 90, 42, 90, 90, 62, 90, 90, 90, 90, 92, 90, 62, 90, 42, 65, 90, 42, 90, 65, 90, 90, 62, 42, 90, 42, 90, 42, 42, 42, 42, 92, 90, 90, 90, 90, 90, 90, 90, 42, 90, 90, 62, 88, 88, 90, 92, 52, 62, 42, 90, 90, 88, 42, 65, 42, 42, 90, 42, 90, 90, 52, 42, 90, 90, 42, 90, 65, 88, 90, 90, 65, 90, 90, 90, 90, 95, 90, 16, 92, 42, 42, 42, 90, 52, 62, 90, 62, 62, 92, 42, 62, 90, 42, 62, 90, 90, 92, 42, 90, 92, 16, 42, 90, 92, 90, 42, 90, 90, 90, 90, 90, 90, 62, 52, 90, 65, 90, 62, 42, 90, 90, 42, 65, 42, 42, 90, 90, 42, 67, 42, 42, 90, 15, 90, 90, 90, 42, 42, 42, 42, 90, 90, 92, 42, 42, 42, 90, 90, 42, 90, 15, 90, 92, 95, 42, 90, 42, 90, 90, 67, 42, 90, 42, 42, 95, 42, 90, 88, 95, 42, 92, 90, 15, 52, 90, 42, 42, 90, 90, 90, 90, 90, 42, 42, 42, 90, 42, 42, 90, 16, 90, 90, 90, 90, 90, 42, 52, 42, 92, 90, 90, 90, 90, 90, 88, 90, 92, 90, 88, 65, 90, 90, 67, 90, 65, 90, 92, 62, 42, 90, 42, 42, 90, 88, 90, 90, 90, 92, 88, 90, 42, 42, 42, 90, 90, 65, 42, 42, 42, 90, 90, 42, 42, 90, 42, 90, 90, 42, 90, 42, 90, 90, 90, 67, 42, 90, 90, 92, 90, 92, 90, 42, 92, 90, 90, 42, 90, 42, 92, 42, 42, 65, 88, 42, 42, 90, 42, 62, 90, 42, 90, 42, 42, 42, 42, 90, 90, 65, 92, 42, 42, 42, 90, 90, 90, 42, 90, 16, 90, 62, 65, 67, 90, 42, 90, 90, 16, 90, 42, 90, 90, 90, 42, 90, 52, 90, 88, 42, 42, 42, 90, 42, 90, 90, 90, 16, 90, 42, 90, 90, 90, 90, 90, 90, 90, 90, 42, 90, 42, 90, 42, 88, 62, 90, 88, 90, 42, 92, 62, 90, 90, 90, 92, 42, 42, 90, 42, 42, 90, 42, 95, 90, 90, 90, 42, 90, 90, 42, 90, 90, 90, 90, 92, 90, 42, 42, 42, 90, 42, 42, 90, 42, 88, 90, 42, 90, 16, 90, 90, 90, 42, 42, 42, 90, 90, 90, 42, 90, 90, 90, 42, 42, 42, 42, 90, 42, 16, 90, 42, 95, 90, 90, 62, 90, 90, 90, 42, 42, 92, 90, 42, 95, 65, 90, 90, 90, 90, 67, 62, 42, 42, 16, 92, 42, 42, 42, 90, 88, 62, 42, 88, 42, 90, 90, 90, 95, 90, 42, 90, 65, 42, 42, 90, 90, 90, 90, 42, 90, 42, 42, 90, 62, 67, 16, 42, 90, 92, 52, 42, 92, 90, 16, 42, 42, 52, 90, 90, 42, 90, 90, 90, 62, 52, 88, 42, 42, 62, 90, 90, 90, 90, 90, 90, 62, 90, 90, 90, 90, 42, 92, 90, 90, 42, 16, 42, 90, 42, 90, 42, 88, 90, 42, 90, 62, 62, 90, 92, 90, 42, 42, 90, 92, 90, 42, 90, 90, 90, 90, 90, 42, 62, 90, 42, 90, 65, 90, 90, 90, 62, 90, 42, 42, 90, 90, 16, 92, 88, 90, 42, 42, 92, 90, 42, 42, 90, 90, 42, 42, 42, 65, 90, 90, 90, 90, 90, 90, 90, 90, 90, 42, 90, 62, 90, 90, 42, 16, 42, 90, 90, 90, 16, 90, 90, 90, 92, 90, 42, 90, 65, 88, 90, 88, 90, 42, 90, 90, 90, 42, 42, 62, 65, 90, 90, 42, 90, 92, 42, 90, 90, 42, 90, 90, 90, 67, 42, 42, 42, 90, 62, 90, 90, 15, 92, 90, 42, 90, 90, 90, 42, 42, 90, 90, 67, 90, 90, 90, 42, 90, 90, 42, 42, 16, 42, 42, 90, 90, 92, 16, 88, 90, 65, 42, 52, 92, 90, 95, 90, 65, 67, 90, 90, 90, 42, 65, 90, 42, 42, 90, 65, 62, 90, 42, 42, 42, 65, 90, 90, 90, 90, 65, 90, 42, 90, 67, 90, 42, 42, 42, 90, 90, 90, 88, 90, 90, 90, 42, 90, 90, 88, 42, 42, 90, 90, 90, 90, 42, 42, 16, 90, 90, 90, 88, 90, 95, 90, 62, 90, 90, 90, 65, 42, 62, 16, 42, 42, 90, 90, 92, 67, 90, 62, 90, 42, 90, 90, 88, 65, 90, 42, 67, 90, 42, 62, 65, 42, 52, 90, 42, 90, 90, 67, 88, 90, 90, 42, 90, 42, 62, 65, 92, 90, 42, 42, 90, 90, 90, 90, 90, 90, 92, 42, 62, 92, 90, 92, 42, 65, 90, 90, 90, 90, 42, 42, 90, 90, 42, 88, 42, 42, 90, 42, 42, 90, 90, 90, 42, 90, 90, 90, 42, 88, 42, 92, 16, 90, 90, 42, 90, 90, 90, 16, 42, 90, 92, 90, 90, 90, 90, 90, 42, 92, 90, 90, 42, 42, 90, 16, 62, 42, 42, 42, 90, 42, 90, 90, 90, 42, 90, 52, 52, 90, 90, 42, 90, 42, 42, 42, 90, 90, 62, 90, 62, 67, 90, 42, 62, 42, 90, 42, 67, 90, 90, 90, 42, 90, 52, 90, 42, 90, 62, 42, 92, 16, 90, 90, 42, 90, 95, 90, 90, 42, 42, 90, 42, 42, 62, 42, 90, 90, 16, 90, 90, 92, 90, 42, 42, 42, 90, 95, 62, 42, 88, 42, 42, 90, 90, 90, 62, 90, 90, 42, 42, 42, 65, 65, 90, 42, 88, 42, 90, 42, 65, 92, 42, 90, 90, 42, 90, 90, 90, 90, 90, 90, 90, 90, 90, 90, 90, 42, 90, 42, 42, 42, 90, 65, 90, 42, 90, 90, 92, 90, 90, 42, 90, 42, 42, 90, 90, 90, 90, 90, 90, 90, 90, 90, 90, 90, 42, 88, 16, 90, 90, 62, 88, 95, 90, 42, 90, 90, 90, 42, 90, 16, 90, 42, 90, 90, 90, 90, 42, 16, 90, 90, 42, 90, 90, 42, 16, 65, 90, 90, 62, 90, 90, 88, 42, 42, 90, 16, 92, 52, 90, 42, 90, 90, 42, 92, 92, 42, 42, 90, 42, 16, 42, 42, 90, 42, 42, 42, 90, 67, 88, 90, 52, 90, 67, 42, 90, 90, 42, 42, 42, 90, 90, 62, 95, 90, 88, 42, 42, 90, 90, 65, 42, 90, 90, 42, 90, 42, 90, 90, 42, 42, 90, 42, 42, 42, 90, 90, 62, 90, 16, 42, 92, 90, 90, 90, 92, 92, 42, 90, 90, 42, 90, 92, 90, 42, 42, 90, 42, 42, 92, 88, 42, 90, 92, 90, 42, 16, 65, 42, 90, 65, 90, 62, 90, 62, 90, 42, 92, 42, 42, 42, 90, 90, 90, 62, 42, 42, 90, 90, 42, 42, 42, 42, 62, 90, 90, 92, 90, 90, 42, 90, 42, 90, 42, 90, 88, 62, 90, 92, 90, 16, 90, 90, 88, 90, 42, 88, 90, 88, 90, 88, 90, 42, 90, 90, 16, 90, 90, 42, 90, 62, 90, 42, 90, 65, 90, 90, 90, 90, 88, 90, 42, 90, 90, 42, 92, 90, 90, 67, 90, 90, 90, 42, 65, 52, 88, 90, 42, 42, 42, 42, 90, 52, 90, 90, 90, 42, 16, 90, 92, 42, 62, 92, 42, 90, 42, 92, 90, 90, 65, 42, 90, 90, 90, 42, 42, 92, 42, 90]\n"
          ]
        }
      ]
    },
    {
      "cell_type": "code",
      "source": [
        "np.min(x_train[0][:,1])"
      ],
      "metadata": {
        "id": "yBRwb_PcxV7A",
        "outputId": "e195a307-1311-4d1f-c60c-6dfa442c3758",
        "colab": {
          "base_uri": "https://localhost:8080/"
        }
      },
      "execution_count": 325,
      "outputs": [
        {
          "output_type": "execute_result",
          "data": {
            "text/plain": [
              "0.0"
            ]
          },
          "metadata": {},
          "execution_count": 325
        }
      ]
    },
    {
      "cell_type": "code",
      "source": [
        "pad_x_train=tf.keras.preprocessing.sequence.pad_sequences(x_train,value=-99 ,maxlen=352, padding='post')\n",
        "pad_x_test=tf.keras.preprocessing.sequence.pad_sequences(x_test,value=-99 ,maxlen=352, padding='post')\n",
        "\n",
        "#x_train = tf.RaggedTensor.from_row_lengths(values=tf.concat(x_train, axis=0), row_lengths=[a.shape[0] for a in x_train])\n",
        "#input_lc = tfkl.Input(inputs['lc'].shape[1:], name='lc')"
      ],
      "metadata": {
        "id": "iQEl2C8yphWQ"
      },
      "execution_count": 328,
      "outputs": []
    },
    {
      "cell_type": "code",
      "source": [
        "x_train, x_valid, y_train, y_valid = train_test_split(pad_x_train, y_train, test_size=0.10, random_state=42)\n",
        "\n",
        "#x_train=np.array([xn.astype('float32') for xn in x_train])#x_train.astype('float32')\n",
        "#y_train=y_train.astype('float32')"
      ],
      "metadata": {
        "id": "Sp472jYMVVAs"
      },
      "execution_count": 329,
      "outputs": []
    },
    {
      "cell_type": "code",
      "source": [
        "x_train.shape"
      ],
      "metadata": {
        "colab": {
          "base_uri": "https://localhost:8080/"
        },
        "id": "ZCiVsp_EG8UI",
        "outputId": "ff8f438f-f72f-47d2-f1b7-5995ec4050c3"
      },
      "execution_count": 330,
      "outputs": [
        {
          "output_type": "execute_result",
          "data": {
            "text/plain": [
              "(7063, 352, 4)"
            ]
          },
          "metadata": {},
          "execution_count": 330
        }
      ]
    },
    {
      "cell_type": "code",
      "source": [
        "np.unique(y.argmax(1), return_counts=True)[1]"
      ],
      "metadata": {
        "id": "dcEQwqdtgwlg",
        "outputId": "c8d41cd7-09ee-449e-ea9f-ee38188734c6",
        "colab": {
          "base_uri": "https://localhost:8080/"
        }
      },
      "execution_count": 331,
      "outputs": [
        {
          "output_type": "execute_result",
          "data": {
            "text/plain": [
              "array([4381, 1234,  670, 1193,  370])"
            ]
          },
          "metadata": {},
          "execution_count": 331
        }
      ]
    },
    {
      "cell_type": "code",
      "source": [
        "x_valid.shape"
      ],
      "metadata": {
        "colab": {
          "base_uri": "https://localhost:8080/"
        },
        "id": "gwN-TZ8sHCro",
        "outputId": "0c8daed5-d8d0-46f1-f6b9-62a4d6b0078c"
      },
      "execution_count": 231,
      "outputs": [
        {
          "output_type": "execute_result",
          "data": {
            "text/plain": [
              "(777, 352, 4)"
            ]
          },
          "metadata": {},
          "execution_count": 231
        }
      ]
    },
    {
      "cell_type": "code",
      "source": [
        "np.expand_dims(x_train[0], axis=0).shape"
      ],
      "metadata": {
        "colab": {
          "base_uri": "https://localhost:8080/"
        },
        "id": "F81UBSa3YBSe",
        "outputId": "73d1132a-4a3e-4134-a25d-9d5f70ccc1b3"
      },
      "execution_count": 192,
      "outputs": [
        {
          "output_type": "execute_result",
          "data": {
            "text/plain": [
              "(1, 351, 4)"
            ]
          },
          "metadata": {},
          "execution_count": 192
        }
      ]
    },
    {
      "cell_type": "code",
      "source": [
        "my_dict={42: 0,\n",
        "        52: 0,\n",
        "        62: 0,\n",
        "        67: 0,\n",
        "        90: 0,\n",
        "        6: 1,\n",
        "       64: 1,\n",
        "       65: 1,\n",
        "       15: 2,\n",
        "       95: 2,\n",
        "       16: 3,\n",
        "        53: 3,\n",
        "        92: 3,\n",
        "        88:4\n",
        "        }\n",
        "metadata_train['target_mapped']=metadata_train['target'].map(my_dict)\n",
        "classes=[0,1,2,3,4]\n",
        "counts=[]\n",
        "for i in range(len(classes)):\n",
        "  count=np.array(metadata_train)==classes[i]\n",
        "  counts.append(np.sum(count))\n"
      ],
      "metadata": {
        "id": "J9T0TDYMYlcM"
      },
      "execution_count": null,
      "outputs": []
    },
    {
      "cell_type": "code",
      "source": [
        "class_weight={0:np.sum(counts)/counts[0],\n",
        "             1:np.sum(counts)/counts[1],\n",
        "             2:np.sum(counts)/counts[2],\n",
        "             3:np.sum(counts)/counts[3],\n",
        "             4:np.sum(counts)/counts[4]\n",
        "    }\n",
        "\n",
        "class_weight"
      ],
      "metadata": {
        "id": "TZ3HPN_nYOyv",
        "outputId": "3696f942-cbf0-49b4-9c85-2b342e7b3e4b",
        "colab": {
          "base_uri": "https://localhost:8080/"
        }
      },
      "execution_count": 285,
      "outputs": [
        {
          "output_type": "execute_result",
          "data": {
            "text/plain": [
              "{0: 1.7913718329148596,\n",
              " 1: 6.359805510534846,\n",
              " 2: 11.713432835820896,\n",
              " 3: 6.57837384744342,\n",
              " 4: 21.21081081081081}"
            ]
          },
          "metadata": {},
          "execution_count": 285
        }
      ]
    },
    {
      "cell_type": "code",
      "source": [
        "from tensorflow.keras.models import Sequential\n",
        "from tensorflow.keras.layers import LSTM, RepeatVector, TimeDistributed, GlobalMaxPool1D\n",
        "from tensorflow.keras.layers import Dense, Masking, Bidirectional, Conv1D,MaxPool1D\n",
        "import keras\n",
        "\n",
        "\n",
        "model = Sequential()\n",
        "model.add(Masking(mask_value=-99, input_shape=(352, 4)))\n",
        "\n",
        "#model.add(Conv1D(filters=32,kernel_size=2,activation='swish',input_shape=(352, 4)))\n",
        "#model.add(MaxPool1D())\n",
        "#model.add(Conv1D(filters=64,kernel_size=2,activation='swish'))\n",
        "#model.add(MaxPool1D())\n",
        "\n",
        "\n",
        "model.add(TimeDistributed(Dense(300,activation='swish')))#input_shape=(352, 4))))\n",
        "model.add(TimeDistributed(Dense(200,activation='swish')))\n",
        "\n",
        "model.add(Bidirectional(LSTM(512, activation='tanh', return_sequences=True),merge_mode='concat'))\n",
        "#model.add(Dropout(0.2))\n",
        "model.add(Bidirectional(LSTM(256, activation='tanh', return_sequences=True),merge_mode='concat'))\n",
        "\n",
        "model.add(GlobalMaxPool1D())\n",
        "#model.add(Dropout(0.2))\n",
        "\n",
        "model.add(Dense(128, activation='tanh'))\n",
        "model.add(Dropout(0.2))\n",
        "model.add(Dense(5, activation='Softmax'))\n",
        "\n",
        "optimizer = keras.optimizers.Adam(lr=0.01)\n",
        "METRICS = [\n",
        "      keras.metrics.TruePositives(name='tp'),\n",
        "      keras.metrics.FalsePositives(name='fp'),\n",
        "      keras.metrics.TrueNegatives(name='tn'),\n",
        "      keras.metrics.FalseNegatives(name='fn'), \n",
        "      keras.metrics.BinaryAccuracy(name='accuracy'),\n",
        "      keras.metrics.Precision(name='precision'),\n",
        "      keras.metrics.Recall(name='recall'),\n",
        "      keras.metrics.AUC(name='auc'),\n",
        "      keras.metrics.AUC(name='prc', curve='PR'), # precision-recall curve\n",
        "]\n",
        "\n",
        "\n",
        "model.compile(optimizer=optimizer, loss='categorical_crossentropy', metrics = METRICS)\n",
        "\n",
        "\n",
        "\n",
        "\n",
        "\n",
        "callbacks = [\n",
        "    EarlyStopping(patience=10, verbose=1,restore_best_weights=True),\n",
        "    #ModelCheckpoint('model_teste01.h5', verbose=1, save_best_only=True, save_weights_only=True),\n",
        "    ReduceLROnPlateau(monitor='val_loss', verbose=1,factor=0.20,\n",
        "                              patience=5, min_lr=0.00001)\n",
        "]\n",
        "\n",
        "\n",
        "\n",
        "\n",
        "\n",
        "\n",
        "# fit model\n",
        "EPOCHS = 50\n",
        "BATCH_SIZE = 64\n",
        "\n",
        "history = model.fit(x=x_train,\n",
        "                    y=y_train,\n",
        "                        validation_data=(x_valid, y_valid),\n",
        "                        epochs=EPOCHS,\n",
        "                      callbacks=callbacks,\n",
        "                        batch_size=BATCH_SIZE,\n",
        "                    #class_weight=class_weight\n",
        "                    )\n",
        "     \n"
      ],
      "metadata": {
        "colab": {
          "base_uri": "https://localhost:8080/"
        },
        "id": "l1I3SF3WVf9v",
        "outputId": "c411f8c6-eeb7-4e81-996b-56a3d79fc080"
      },
      "execution_count": null,
      "outputs": [
        {
          "output_type": "stream",
          "name": "stdout",
          "text": [
            "Epoch 1/50\n"
          ]
        },
        {
          "output_type": "stream",
          "name": "stderr",
          "text": [
            "/usr/local/lib/python3.8/dist-packages/keras/optimizers/optimizer_v2/adam.py:110: UserWarning: The `lr` argument is deprecated, use `learning_rate` instead.\n",
            "  super(Adam, self).__init__(name, **kwargs)\n"
          ]
        },
        {
          "output_type": "stream",
          "name": "stdout",
          "text": [
            "111/111 [==============================] - 46s 271ms/step - loss: 1.4912 - tp: 2734.0000 - fp: 2303.0000 - tn: 25949.0000 - fn: 4329.0000 - accuracy: 0.8122 - precision: 0.5428 - recall: 0.3871 - auc: 0.7425 - prc: 0.4342 - val_loss: 1.3726 - val_tp: 0.0000e+00 - val_fp: 0.0000e+00 - val_tn: 3140.0000 - val_fn: 785.0000 - val_accuracy: 0.8000 - val_precision: 0.0000e+00 - val_recall: 0.0000e+00 - val_auc: 0.7585 - val_prc: 0.4461 - lr: 0.0100\n",
            "Epoch 2/50\n",
            "111/111 [==============================] - 24s 215ms/step - loss: 1.3385 - tp: 2620.0000 - fp: 2036.0000 - tn: 26216.0000 - fn: 4443.0000 - accuracy: 0.8165 - precision: 0.5627 - recall: 0.3709 - auc: 0.7600 - prc: 0.4570 - val_loss: 1.3120 - val_tp: 416.0000 - val_fp: 369.0000 - val_tn: 2771.0000 - val_fn: 369.0000 - val_accuracy: 0.8120 - val_precision: 0.5299 - val_recall: 0.5299 - val_auc: 0.7586 - val_prc: 0.4358 - lr: 0.0100\n",
            "Epoch 3/50\n",
            "111/111 [==============================] - 24s 219ms/step - loss: 1.3333 - tp: 2697.0000 - fp: 2189.0000 - tn: 26063.0000 - fn: 4366.0000 - accuracy: 0.8144 - precision: 0.5520 - recall: 0.3818 - auc: 0.7592 - prc: 0.4557 - val_loss: 1.3341 - val_tp: 416.0000 - val_fp: 369.0000 - val_tn: 2771.0000 - val_fn: 369.0000 - val_accuracy: 0.8120 - val_precision: 0.5299 - val_recall: 0.5299 - val_auc: 0.7389 - val_prc: 0.4275 - lr: 0.0100\n",
            "Epoch 4/50\n",
            "111/111 [==============================] - 24s 219ms/step - loss: 1.3183 - tp: 2629.0000 - fp: 2078.0000 - tn: 26174.0000 - fn: 4434.0000 - accuracy: 0.8156 - precision: 0.5585 - recall: 0.3722 - auc: 0.7625 - prc: 0.4575 - val_loss: 1.3052 - val_tp: 124.0000 - val_fp: 88.0000 - val_tn: 3052.0000 - val_fn: 661.0000 - val_accuracy: 0.8092 - val_precision: 0.5849 - val_recall: 0.1580 - val_auc: 0.7600 - val_prc: 0.4483 - lr: 0.0100\n",
            "Epoch 5/50\n",
            "111/111 [==============================] - 25s 221ms/step - loss: 1.3042 - tp: 2976.0000 - fp: 2336.0000 - tn: 25916.0000 - fn: 4087.0000 - accuracy: 0.8181 - precision: 0.5602 - recall: 0.4214 - auc: 0.7628 - prc: 0.4557 - val_loss: 1.3382 - val_tp: 416.0000 - val_fp: 369.0000 - val_tn: 2771.0000 - val_fn: 369.0000 - val_accuracy: 0.8120 - val_precision: 0.5299 - val_recall: 0.5299 - val_auc: 0.7389 - val_prc: 0.4275 - lr: 0.0100\n",
            "Epoch 6/50\n",
            "111/111 [==============================] - 25s 222ms/step - loss: 1.3148 - tp: 2685.0000 - fp: 2095.0000 - tn: 26157.0000 - fn: 4378.0000 - accuracy: 0.8167 - precision: 0.5617 - recall: 0.3802 - auc: 0.7639 - prc: 0.4656 - val_loss: 1.3879 - val_tp: 416.0000 - val_fp: 369.0000 - val_tn: 2771.0000 - val_fn: 369.0000 - val_accuracy: 0.8120 - val_precision: 0.5299 - val_recall: 0.5299 - val_auc: 0.7552 - val_prc: 0.4309 - lr: 0.0100\n",
            "Epoch 7/50\n",
            "111/111 [==============================] - 25s 224ms/step - loss: 1.3220 - tp: 2614.0000 - fp: 1990.0000 - tn: 26262.0000 - fn: 4449.0000 - accuracy: 0.8177 - precision: 0.5678 - recall: 0.3701 - auc: 0.7622 - prc: 0.4613 - val_loss: 1.3245 - val_tp: 416.0000 - val_fp: 369.0000 - val_tn: 2771.0000 - val_fn: 369.0000 - val_accuracy: 0.8120 - val_precision: 0.5299 - val_recall: 0.5299 - val_auc: 0.7588 - val_prc: 0.4463 - lr: 0.0100\n",
            "Epoch 8/50\n",
            "111/111 [==============================] - 25s 223ms/step - loss: 1.2973 - tp: 2808.0000 - fp: 2178.0000 - tn: 26074.0000 - fn: 4255.0000 - accuracy: 0.8178 - precision: 0.5632 - recall: 0.3976 - auc: 0.7673 - prc: 0.4596 - val_loss: 1.3715 - val_tp: 416.0000 - val_fp: 369.0000 - val_tn: 2771.0000 - val_fn: 369.0000 - val_accuracy: 0.8120 - val_precision: 0.5299 - val_recall: 0.5299 - val_auc: 0.7491 - val_prc: 0.4453 - lr: 0.0100\n",
            "Epoch 9/50\n",
            "111/111 [==============================] - ETA: 0s - loss: 1.3164 - tp: 2634.0000 - fp: 2020.0000 - tn: 26232.0000 - fn: 4429.0000 - accuracy: 0.8174 - precision: 0.5660 - recall: 0.3729 - auc: 0.7636 - prc: 0.4602\n",
            "Epoch 9: ReduceLROnPlateau reducing learning rate to 0.0019999999552965165.\n",
            "111/111 [==============================] - 25s 225ms/step - loss: 1.3164 - tp: 2634.0000 - fp: 2020.0000 - tn: 26232.0000 - fn: 4429.0000 - accuracy: 0.8174 - precision: 0.5660 - recall: 0.3729 - auc: 0.7636 - prc: 0.4602 - val_loss: 1.4025 - val_tp: 416.0000 - val_fp: 369.0000 - val_tn: 2771.0000 - val_fn: 369.0000 - val_accuracy: 0.8120 - val_precision: 0.5299 - val_recall: 0.5299 - val_auc: 0.7442 - val_prc: 0.4415 - lr: 0.0100\n",
            "Epoch 10/50\n",
            "111/111 [==============================] - 25s 225ms/step - loss: 1.2702 - tp: 3311.0000 - fp: 2575.0000 - tn: 25677.0000 - fn: 3752.0000 - accuracy: 0.8208 - precision: 0.5625 - recall: 0.4688 - auc: 0.7724 - prc: 0.4625 - val_loss: 1.2955 - val_tp: 416.0000 - val_fp: 369.0000 - val_tn: 2771.0000 - val_fn: 369.0000 - val_accuracy: 0.8120 - val_precision: 0.5299 - val_recall: 0.5299 - val_auc: 0.7639 - val_prc: 0.4565 - lr: 0.0020\n",
            "Epoch 11/50\n",
            "111/111 [==============================] - 25s 229ms/step - loss: 1.2703 - tp: 3275.0000 - fp: 2525.0000 - tn: 25727.0000 - fn: 3788.0000 - accuracy: 0.8212 - precision: 0.5647 - recall: 0.4637 - auc: 0.7719 - prc: 0.4660 - val_loss: 1.3061 - val_tp: 416.0000 - val_fp: 369.0000 - val_tn: 2771.0000 - val_fn: 369.0000 - val_accuracy: 0.8120 - val_precision: 0.5299 - val_recall: 0.5299 - val_auc: 0.7598 - val_prc: 0.4475 - lr: 0.0020\n",
            "Epoch 12/50\n",
            "111/111 [==============================] - 25s 226ms/step - loss: 1.2693 - tp: 3283.0000 - fp: 2575.0000 - tn: 25677.0000 - fn: 3780.0000 - accuracy: 0.8200 - precision: 0.5604 - recall: 0.4648 - auc: 0.7725 - prc: 0.4651 - val_loss: 1.3064 - val_tp: 416.0000 - val_fp: 369.0000 - val_tn: 2771.0000 - val_fn: 369.0000 - val_accuracy: 0.8120 - val_precision: 0.5299 - val_recall: 0.5299 - val_auc: 0.7617 - val_prc: 0.4485 - lr: 0.0020\n",
            "Epoch 13/50\n",
            " 68/111 [=================>............] - ETA: 9s - loss: 1.2673 - tp: 2002.0000 - fp: 1544.0000 - tn: 15864.0000 - fn: 2350.0000 - accuracy: 0.8210 - precision: 0.5646 - recall: 0.4600 - auc: 0.7734 - prc: 0.4752"
          ]
        }
      ]
    },
    {
      "cell_type": "code",
      "source": [
        "plt.figure(figsize=(10,8))\n",
        "plt.plot(history.history['loss'], label='train')\n",
        "plt.plot(history.history['val_loss'], label='validation')\n",
        "\n",
        "plt.xlabel('epochs', fontsize=14)\n",
        "plt.ylabel('loss (binary_crossentropy)', fontsize=14)\n",
        "plt.legend()"
      ],
      "metadata": {
        "colab": {
          "base_uri": "https://localhost:8080/",
          "height": 519
        },
        "id": "hM6jvv_Lpc6a",
        "outputId": "da0871b5-55b3-44a9-f4a9-121eb2d5d7b0"
      },
      "execution_count": 291,
      "outputs": [
        {
          "output_type": "execute_result",
          "data": {
            "text/plain": [
              "<matplotlib.legend.Legend at 0x7ff3b1891100>"
            ]
          },
          "metadata": {},
          "execution_count": 291
        },
        {
          "output_type": "display_data",
          "data": {
            "text/plain": [
              "<Figure size 720x576 with 1 Axes>"
            ],
            "image/png": "[encoded data removed]"
          },
          "metadata": {}
        }
      ]
    },
    {
      "cell_type": "markdown",
      "source": [],
      "metadata": {
        "id": "GvbqOtRquAiI"
      }
    },
    {
      "cell_type": "code",
      "source": [
        "from sklearn import metrics as met\n",
        "\n",
        "pred=model.predict(x_test)\n",
        "pred_valid=model.predict(x_valid)\n",
        "pred_train=model.predict(x_train)"
      ],
      "metadata": {
        "colab": {
          "base_uri": "https://localhost:8080/"
        },
        "id": "6Eza9hEmmEz-",
        "outputId": "4747ec09-d053-4d03-b3d2-a15459dad15c"
      },
      "execution_count": 292,
      "outputs": [
        {
          "output_type": "stream",
          "name": "stdout",
          "text": [
            "25/25 [==============================] - 9s 63ms/step\n",
            "25/25 [==============================] - 1s 57ms/step\n",
            "197/197 [==============================] - 11s 53ms/step\n"
          ]
        }
      ]
    },
    {
      "cell_type": "code",
      "source": [
        "pred.shape"
      ],
      "metadata": {
        "colab": {
          "base_uri": "https://localhost:8080/"
        },
        "id": "mFxj7Sr5V_O6",
        "outputId": "e7f1d6c1-52db-4e40-98f5-5c6143c55d37"
      },
      "execution_count": 143,
      "outputs": [
        {
          "output_type": "execute_result",
          "data": {
            "text/plain": [
              "(785, 14)"
            ]
          },
          "metadata": {},
          "execution_count": 143
        }
      ]
    },
    {
      "cell_type": "code",
      "source": [
        "met.RocCurveDisplay.from_predictions(y_test[:,4],pred[:,4])"
      ],
      "metadata": {
        "colab": {
          "base_uri": "https://localhost:8080/",
          "height": 300
        },
        "id": "lPSs3IuskdfX",
        "outputId": "1272fc15-2615-4112-e207-d33c06b7d274"
      },
      "execution_count": 295,
      "outputs": [
        {
          "output_type": "execute_result",
          "data": {
            "text/plain": [
              "<sklearn.metrics._plot.roc_curve.RocCurveDisplay at 0x7ff40c5bd3d0>"
            ]
          },
          "metadata": {},
          "execution_count": 295
        },
        {
          "output_type": "display_data",
          "data": {
            "text/plain": [
              "<Figure size 432x288 with 1 Axes>"
            ],
            "image/png": "[encoded data removed]"
          },
          "metadata": {}
        }
      ]
    },
    {
      "cell_type": "code",
      "source": [
        "from sklearn.metrics import confusion_matrix\n",
        "def plot_cm(labels, predictions):\n",
        "  cm = confusion_matrix(labels, predictions.argmax(1))\n",
        "  plt.figure(figsize=(5,5))\n",
        "  sns.heatmap(cm, annot=True, fmt=\"d\")\n",
        "  plt.title('Confusion matrix @{:.2f}'.format(p))\n",
        "  plt.ylabel('Actual label')\n",
        "  plt.xlabel('Predicted label')\n",
        "\n",
        "  print('Legitimate Transactions Detected (True Negatives): ', cm[0][0])\n",
        "  print('Legitimate Transactions Incorrectly Detected (False Positives): ', cm[0][1])\n",
        "  print('Fraudulent Transactions Missed (False Negatives): ', cm[1][0])\n",
        "  print('Fraudulent Transactions Detected (True Positives): ', cm[1][1])\n",
        "  print('Total Fraudulent Transactions: ', np.sum(cm[1]))\n"
      ],
      "metadata": {
        "id": "rBlbPdv1cgSM"
      },
      "execution_count": 273,
      "outputs": []
    },
    {
      "cell_type": "code",
      "source": [
        "baseline_results = model.evaluate(x_test, y_test,\n",
        "                                  batch_size=BATCH_SIZE, verbose=0)\n",
        "for name, value in zip(model.metrics_names, baseline_results):\n",
        "  print(name, ': ', value)\n",
        "print()\n",
        "\n",
        "y_cm = metadata_train['target'].values\n",
        "my_dict={42: 0,\n",
        "        52: 0,\n",
        "        62: 0,\n",
        "        67: 0,\n",
        "        90: 0,\n",
        "        6: 1,\n",
        "       64: 1,\n",
        "       65: 1,\n",
        "       15: 2,\n",
        "       95: 2,\n",
        "       16: 3,\n",
        "        53: 3,\n",
        "        92: 3,\n",
        "        88:4\n",
        "        }\n",
        "y_cm=[my_dict[i] for i in y]\n",
        "\n",
        "plot_cm(y_test, pred)\n"
      ],
      "metadata": {
        "id": "0-vziMyEcni0",
        "outputId": "6a5d272f-4ec5-474a-8869-80fa266bbf67",
        "colab": {
          "base_uri": "https://localhost:8080/",
          "height": 580
        }
      },
      "execution_count": 275,
      "outputs": [
        {
          "output_type": "stream",
          "name": "stdout",
          "text": [
            "loss :  2.5695900917053223\n",
            "tp :  0.0\n",
            "fp :  0.0\n",
            "tn :  3140.0\n",
            "fn :  785.0\n",
            "accuracy :  0.800000011920929\n",
            "precision :  0.0\n",
            "recall :  0.0\n",
            "auc :  0.2611464858055115\n",
            "prc :  0.13001985847949982\n",
            "\n"
          ]
        },
        {
          "output_type": "error",
          "ename": "ValueError",
          "evalue": "ignored",
          "traceback": [
            "\u001b[0;31m---------------------------------------------------------------------------\u001b[0m",
            "\u001b[0;31mValueError\u001b[0m                                Traceback (most recent call last)",
            "\u001b[0;32m<ipython-input-275-2331786a93f1>\u001b[0m in \u001b[0;36m<module>\u001b[0;34m\u001b[0m\n\u001b[1;32m      5\u001b[0m \u001b[0mprint\u001b[0m\u001b[0;34m(\u001b[0m\u001b[0;34m)\u001b[0m\u001b[0;34m\u001b[0m\u001b[0;34m\u001b[0m\u001b[0m\n\u001b[1;32m      6\u001b[0m \u001b[0;34m\u001b[0m\u001b[0m\n\u001b[0;32m----> 7\u001b[0;31m \u001b[0mplot_cm\u001b[0m\u001b[0;34m(\u001b[0m\u001b[0my_test\u001b[0m\u001b[0;34m,\u001b[0m \u001b[0mpred\u001b[0m\u001b[0;34m)\u001b[0m\u001b[0;34m\u001b[0m\u001b[0;34m\u001b[0m\u001b[0m\n\u001b[0m",
            "\u001b[0;32m<ipython-input-273-9eb073317435>\u001b[0m in \u001b[0;36mplot_cm\u001b[0;34m(labels, predictions, p)\u001b[0m\n\u001b[1;32m      1\u001b[0m \u001b[0;32mfrom\u001b[0m \u001b[0msklearn\u001b[0m\u001b[0;34m.\u001b[0m\u001b[0mmetrics\u001b[0m \u001b[0;32mimport\u001b[0m \u001b[0mconfusion_matrix\u001b[0m\u001b[0;34m\u001b[0m\u001b[0;34m\u001b[0m\u001b[0m\n\u001b[1;32m      2\u001b[0m \u001b[0;32mdef\u001b[0m \u001b[0mplot_cm\u001b[0m\u001b[0;34m(\u001b[0m\u001b[0mlabels\u001b[0m\u001b[0;34m,\u001b[0m \u001b[0mpredictions\u001b[0m\u001b[0;34m,\u001b[0m \u001b[0mp\u001b[0m\u001b[0;34m=\u001b[0m\u001b[0;36m0.5\u001b[0m\u001b[0;34m)\u001b[0m\u001b[0;34m:\u001b[0m\u001b[0;34m\u001b[0m\u001b[0;34m\u001b[0m\u001b[0m\n\u001b[0;32m----> 3\u001b[0;31m   \u001b[0mcm\u001b[0m \u001b[0;34m=\u001b[0m \u001b[0mconfusion_matrix\u001b[0m\u001b[0;34m(\u001b[0m\u001b[0mlabels\u001b[0m\u001b[0;34m,\u001b[0m \u001b[0mpredictions\u001b[0m \u001b[0;34m>\u001b[0m \u001b[0mp\u001b[0m\u001b[0;34m)\u001b[0m\u001b[0;34m\u001b[0m\u001b[0;34m\u001b[0m\u001b[0m\n\u001b[0m\u001b[1;32m      4\u001b[0m   \u001b[0mplt\u001b[0m\u001b[0;34m.\u001b[0m\u001b[0mfigure\u001b[0m\u001b[0;34m(\u001b[0m\u001b[0mfigsize\u001b[0m\u001b[0;34m=\u001b[0m\u001b[0;34m(\u001b[0m\u001b[0;36m5\u001b[0m\u001b[0;34m,\u001b[0m\u001b[0;36m5\u001b[0m\u001b[0;34m)\u001b[0m\u001b[0;34m)\u001b[0m\u001b[0;34m\u001b[0m\u001b[0;34m\u001b[0m\u001b[0m\n\u001b[1;32m      5\u001b[0m   \u001b[0msns\u001b[0m\u001b[0;34m.\u001b[0m\u001b[0mheatmap\u001b[0m\u001b[0;34m(\u001b[0m\u001b[0mcm\u001b[0m\u001b[0;34m,\u001b[0m \u001b[0mannot\u001b[0m\u001b[0;34m=\u001b[0m\u001b[0;32mTrue\u001b[0m\u001b[0;34m,\u001b[0m \u001b[0mfmt\u001b[0m\u001b[0;34m=\u001b[0m\u001b[0;34m\"d\"\u001b[0m\u001b[0;34m)\u001b[0m\u001b[0;34m\u001b[0m\u001b[0;34m\u001b[0m\u001b[0m\n",
            "\u001b[0;32m/usr/local/lib/python3.8/dist-packages/sklearn/metrics/_classification.py\u001b[0m in \u001b[0;36mconfusion_matrix\u001b[0;34m(y_true, y_pred, labels, sample_weight, normalize)\u001b[0m\n\u001b[1;32m    307\u001b[0m     \u001b[0my_type\u001b[0m\u001b[0;34m,\u001b[0m \u001b[0my_true\u001b[0m\u001b[0;34m,\u001b[0m \u001b[0my_pred\u001b[0m \u001b[0;34m=\u001b[0m \u001b[0m_check_targets\u001b[0m\u001b[0;34m(\u001b[0m\u001b[0my_true\u001b[0m\u001b[0;34m,\u001b[0m \u001b[0my_pred\u001b[0m\u001b[0;34m)\u001b[0m\u001b[0;34m\u001b[0m\u001b[0;34m\u001b[0m\u001b[0m\n\u001b[1;32m    308\u001b[0m     \u001b[0;32mif\u001b[0m \u001b[0my_type\u001b[0m \u001b[0;32mnot\u001b[0m \u001b[0;32min\u001b[0m \u001b[0;34m(\u001b[0m\u001b[0;34m\"binary\"\u001b[0m\u001b[0;34m,\u001b[0m \u001b[0;34m\"multiclass\"\u001b[0m\u001b[0;34m)\u001b[0m\u001b[0;34m:\u001b[0m\u001b[0;34m\u001b[0m\u001b[0;34m\u001b[0m\u001b[0m\n\u001b[0;32m--> 309\u001b[0;31m         \u001b[0;32mraise\u001b[0m \u001b[0mValueError\u001b[0m\u001b[0;34m(\u001b[0m\u001b[0;34m\"%s is not supported\"\u001b[0m \u001b[0;34m%\u001b[0m \u001b[0my_type\u001b[0m\u001b[0;34m)\u001b[0m\u001b[0;34m\u001b[0m\u001b[0;34m\u001b[0m\u001b[0m\n\u001b[0m\u001b[1;32m    310\u001b[0m \u001b[0;34m\u001b[0m\u001b[0m\n\u001b[1;32m    311\u001b[0m     \u001b[0;32mif\u001b[0m \u001b[0mlabels\u001b[0m \u001b[0;32mis\u001b[0m \u001b[0;32mNone\u001b[0m\u001b[0;34m:\u001b[0m\u001b[0;34m\u001b[0m\u001b[0;34m\u001b[0m\u001b[0m\n",
            "\u001b[0;31mValueError\u001b[0m: multilabel-indicator is not supported"
          ]
        }
      ]
    },
    {
      "cell_type": "code",
      "source": [
        "met.RocCurveDisplay.from_predictions(y_valid[:,2],pred_valid[:,2])"
      ],
      "metadata": {
        "colab": {
          "base_uri": "https://localhost:8080/",
          "height": 300
        },
        "id": "jwIgMCtXfmX1",
        "outputId": "583bec0e-e861-41ca-8a48-7a5b706fb0df"
      },
      "execution_count": 169,
      "outputs": [
        {
          "output_type": "execute_result",
          "data": {
            "text/plain": [
              "<sklearn.metrics._plot.roc_curve.RocCurveDisplay at 0x7ff3e058ce80>"
            ]
          },
          "metadata": {},
          "execution_count": 169
        },
        {
          "output_type": "display_data",
          "data": {
            "text/plain": [
              "<Figure size 432x288 with 1 Axes>"
            ],
            "image/png": "[encoded data removed]"
          },
          "metadata": {}
        }
      ]
    },
    {
      "cell_type": "code",
      "source": [
        "met.RocCurveDisplay.from_predictions(y_train[:,5],pred_train[:,5])"
      ],
      "metadata": {
        "colab": {
          "base_uri": "https://localhost:8080/",
          "height": 300
        },
        "id": "SNHoy8wtXD1n",
        "outputId": "e81f3b07-55a8-4e82-be09-c3a575ffc8aa"
      },
      "execution_count": 166,
      "outputs": [
        {
          "output_type": "execute_result",
          "data": {
            "text/plain": [
              "<sklearn.metrics._plot.roc_curve.RocCurveDisplay at 0x7ff408647ac0>"
            ]
          },
          "metadata": {},
          "execution_count": 166
        },
        {
          "output_type": "display_data",
          "data": {
            "text/plain": [
              "<Figure size 432x288 with 1 Axes>"
            ],
            "image/png": "[encoded data removed]"
          },
          "metadata": {}
        }
      ]
    },
    {
      "cell_type": "code",
      "source": [
        "test=tf.convert_to_tensor(tables)"
      ],
      "metadata": {
        "colab": {
          "base_uri": "https://localhost:8080/",
          "height": 342
        },
        "id": "HUdQMOT3d-5s",
        "outputId": "370f8af8-3cd2-4e2d-afc2-7971ea1ed2b0"
      },
      "execution_count": 308,
      "outputs": [
        {
          "output_type": "error",
          "ename": "ValueError",
          "evalue": "ignored",
          "traceback": [
            "\u001b[0;31m---------------------------------------------------------------------------\u001b[0m",
            "\u001b[0;31mValueError\u001b[0m                                Traceback (most recent call last)",
            "\u001b[0;32m<ipython-input-308-6e2bb7bae796>\u001b[0m in \u001b[0;36m<module>\u001b[0;34m\u001b[0m\n\u001b[0;32m----> 1\u001b[0;31m \u001b[0mtest\u001b[0m\u001b[0;34m=\u001b[0m\u001b[0mtf\u001b[0m\u001b[0;34m.\u001b[0m\u001b[0mconvert_to_tensor\u001b[0m\u001b[0;34m(\u001b[0m\u001b[0mtables\u001b[0m\u001b[0;34m)\u001b[0m\u001b[0;34m\u001b[0m\u001b[0;34m\u001b[0m\u001b[0m\n\u001b[0m",
            "\u001b[0;32m/usr/local/lib/python3.8/dist-packages/tensorflow/python/util/traceback_utils.py\u001b[0m in \u001b[0;36merror_handler\u001b[0;34m(*args, **kwargs)\u001b[0m\n\u001b[1;32m    151\u001b[0m     \u001b[0;32mexcept\u001b[0m \u001b[0mException\u001b[0m \u001b[0;32mas\u001b[0m \u001b[0me\u001b[0m\u001b[0;34m:\u001b[0m\u001b[0;34m\u001b[0m\u001b[0;34m\u001b[0m\u001b[0m\n\u001b[1;32m    152\u001b[0m       \u001b[0mfiltered_tb\u001b[0m \u001b[0;34m=\u001b[0m \u001b[0m_process_traceback_frames\u001b[0m\u001b[0;34m(\u001b[0m\u001b[0me\u001b[0m\u001b[0;34m.\u001b[0m\u001b[0m__traceback__\u001b[0m\u001b[0;34m)\u001b[0m\u001b[0;34m\u001b[0m\u001b[0;34m\u001b[0m\u001b[0m\n\u001b[0;32m--> 153\u001b[0;31m       \u001b[0;32mraise\u001b[0m \u001b[0me\u001b[0m\u001b[0;34m.\u001b[0m\u001b[0mwith_traceback\u001b[0m\u001b[0;34m(\u001b[0m\u001b[0mfiltered_tb\u001b[0m\u001b[0;34m)\u001b[0m \u001b[0;32mfrom\u001b[0m \u001b[0;32mNone\u001b[0m\u001b[0;34m\u001b[0m\u001b[0;34m\u001b[0m\u001b[0m\n\u001b[0m\u001b[1;32m    154\u001b[0m     \u001b[0;32mfinally\u001b[0m\u001b[0;34m:\u001b[0m\u001b[0;34m\u001b[0m\u001b[0;34m\u001b[0m\u001b[0m\n\u001b[1;32m    155\u001b[0m       \u001b[0;32mdel\u001b[0m \u001b[0mfiltered_tb\u001b[0m\u001b[0;34m\u001b[0m\u001b[0;34m\u001b[0m\u001b[0m\n",
            "\u001b[0;32m/usr/local/lib/python3.8/dist-packages/tensorflow/python/framework/constant_op.py\u001b[0m in \u001b[0;36mconvert_to_eager_tensor\u001b[0;34m(value, ctx, dtype)\u001b[0m\n\u001b[1;32m    100\u001b[0m       \u001b[0mdtype\u001b[0m \u001b[0;34m=\u001b[0m \u001b[0mdtypes\u001b[0m\u001b[0;34m.\u001b[0m\u001b[0mas_dtype\u001b[0m\u001b[0;34m(\u001b[0m\u001b[0mdtype\u001b[0m\u001b[0;34m)\u001b[0m\u001b[0;34m.\u001b[0m\u001b[0mas_datatype_enum\u001b[0m\u001b[0;34m\u001b[0m\u001b[0;34m\u001b[0m\u001b[0m\n\u001b[1;32m    101\u001b[0m   \u001b[0mctx\u001b[0m\u001b[0;34m.\u001b[0m\u001b[0mensure_initialized\u001b[0m\u001b[0;34m(\u001b[0m\u001b[0;34m)\u001b[0m\u001b[0;34m\u001b[0m\u001b[0;34m\u001b[0m\u001b[0m\n\u001b[0;32m--> 102\u001b[0;31m   \u001b[0;32mreturn\u001b[0m \u001b[0mops\u001b[0m\u001b[0;34m.\u001b[0m\u001b[0mEagerTensor\u001b[0m\u001b[0;34m(\u001b[0m\u001b[0mvalue\u001b[0m\u001b[0;34m,\u001b[0m \u001b[0mctx\u001b[0m\u001b[0;34m.\u001b[0m\u001b[0mdevice_name\u001b[0m\u001b[0;34m,\u001b[0m \u001b[0mdtype\u001b[0m\u001b[0;34m)\u001b[0m\u001b[0;34m\u001b[0m\u001b[0;34m\u001b[0m\u001b[0m\n\u001b[0m\u001b[1;32m    103\u001b[0m \u001b[0;34m\u001b[0m\u001b[0m\n\u001b[1;32m    104\u001b[0m \u001b[0;34m\u001b[0m\u001b[0m\n",
            "\u001b[0;31mValueError\u001b[0m: Can't convert non-rectangular Python sequence to Tensor."
          ]
        }
      ]
    },
    {
      "cell_type": "code",
      "source": [
        "test"
      ],
      "metadata": {
        "colab": {
          "base_uri": "https://localhost:8080/"
        },
        "id": "xoVCn0yXlk13",
        "outputId": "1147f368-f189-490e-8112-2aacd9801539"
      },
      "execution_count": 303,
      "outputs": [
        {
          "output_type": "execute_result",
          "data": {
            "text/plain": [
              "<tf.Tensor: shape=(7063, 14), dtype=float32, numpy=\n",
              "array([[0., 0., 0., ..., 0., 0., 0.],\n",
              "       [0., 0., 0., ..., 0., 0., 0.],\n",
              "       [0., 0., 1., ..., 0., 0., 0.],\n",
              "       ...,\n",
              "       [0., 0., 0., ..., 0., 0., 0.],\n",
              "       [0., 1., 0., ..., 0., 0., 0.],\n",
              "       [0., 0., 0., ..., 0., 0., 0.]], dtype=float32)>"
            ]
          },
          "metadata": {},
          "execution_count": 303
        }
      ]
    },
    {
      "cell_type": "code",
      "source": [],
      "metadata": {
        "id": "BDB7zkPplllr"
      },
      "execution_count": null,
      "outputs": []
    }
  ]
}