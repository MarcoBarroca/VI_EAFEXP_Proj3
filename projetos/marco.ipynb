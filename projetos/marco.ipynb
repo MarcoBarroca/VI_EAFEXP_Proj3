{
  "nbformat": 4,
  "nbformat_minor": 0,
  "metadata": {
    "colab": {
      "provenance": [],
      "include_colab_link": true
    },
    "kernelspec": {
      "name": "python3",
      "display_name": "Python 3"
    },
    "language_info": {
      "name": "python"
    },
    "accelerator": "GPU",
    "gpuClass": "standard"
  },
  "cells": [
    {
      "cell_type": "markdown",
      "metadata": {
        "id": "view-in-github",
        "colab_type": "text"
      },
      "source": [
        "<a href=\"https://colab.research.google.com/github/MarcoBarroca/VI_EAFEXP_Proj3/blob/main/projetos/marco.ipynb\" target=\"_parent\"><img src=\"https://colab.research.google.com/assets/colab-badge.svg\" alt=\"Open In Colab\"/></a>"
      ]
    },
    {
      "cell_type": "code",
      "execution_count": 10,
      "metadata": {
        "id": "LujkxF66Ablk"
      },
      "outputs": [],
      "source": [
        "\n",
        "import os\n",
        "import random\n",
        "import pandas as pd\n",
        "import numpy as np\n",
        "import matplotlib.pyplot as plt\n",
        "plt.style.use(\"ggplot\")\n",
        "\n",
        "from tqdm import tqdm, tnrange\n",
        "from itertools import chain\n",
        "from skimage.io import imread, imshow, concatenate_images\n",
        "from skimage.transform import resize\n",
        "from skimage.morphology import label\n",
        "from sklearn.model_selection import train_test_split\n",
        "import sklearn.preprocessing as pre\n",
        "\n",
        "import tensorflow as tf\n",
        "\n",
        "from tensorflow.keras.models import Model, load_model\n",
        "from tensorflow.keras.layers import Input, BatchNormalization, Activation, Dense, Dropout\n",
        "from tensorflow.keras.layers import Conv2D, Conv2DTranspose\n",
        "from tensorflow.keras.layers import MaxPooling2D, GlobalMaxPool2D\n",
        "from tensorflow.keras.layers import concatenate, add\n",
        "from tensorflow.keras.callbacks import EarlyStopping, ModelCheckpoint, ReduceLROnPlateau\n",
        "from tensorflow.keras.optimizers import Adam\n",
        "from tensorflow.keras.preprocessing.image import ImageDataGenerator, array_to_img, img_to_array, load_img\n",
        "from tensorflow.keras import backend as K"
      ]
    },
    {
      "cell_type": "code",
      "source": [
        "from google.colab import drive\n",
        "drive.mount('/content/drive')"
      ],
      "metadata": {
        "colab": {
          "base_uri": "https://localhost:8080/"
        },
        "id": "OsqXUHVgCeoM",
        "outputId": "01e9a65f-9449-42b1-ea0c-8d2ab58b0e98"
      },
      "execution_count": 2,
      "outputs": [
        {
          "output_type": "stream",
          "name": "stdout",
          "text": [
            "Mounted at /content/drive\n"
          ]
        }
      ]
    },
    {
      "cell_type": "code",
      "source": [
        "WORK_DIR = '/content/drive/MyDrive/DataP03/'\n",
        "METADATA_TRAIN='/content/drive/MyDrive/DataP03/plasticc_train_metadata.csv.gz'\n",
        "DATA_TRAIN='/content/drive/MyDrive/DataP03/plasticc_train_lightcurves.csv.gz'\n",
        "DATA_TEST='/content/drive/MyDrive/DataP03/plasticc_test_metadata.csv.gz'\n",
        "DATA_EXTRA='/content/drive/MyDrive/DataP03/plasticc_lightcurves_extra.csv.gz'"
      ],
      "metadata": {
        "id": "VvzFbNs0CkgU"
      },
      "execution_count": 3,
      "outputs": []
    },
    {
      "cell_type": "code",
      "source": [
        "\n",
        "train_data = pd.read_csv(DATA_TRAIN,\n",
        ")\n",
        "\n",
        "metadata_test=pd.read_csv(DATA_TEST)\n",
        "test_data=pd.read_csv(DATA_EXTRA)\n",
        "metadata_train=pd.read_csv(METADATA_TRAIN)\n"
      ],
      "metadata": {
        "id": "tqwgC60MC5Wz"
      },
      "execution_count": 8,
      "outputs": []
    },
    {
      "cell_type": "code",
      "source": [
        "train_data"
      ],
      "metadata": {
        "colab": {
          "base_uri": "https://localhost:8080/",
          "height": 424
        },
        "id": "b3Lvzd4RFAKm",
        "outputId": "29dc5f36-8419-4ad5-ee78-4e52f6d83c32"
      },
      "execution_count": null,
      "outputs": [
        {
          "output_type": "execute_result",
          "data": {
            "text/plain": [
              "         object_id         mjd  passband        flux   flux_err  detected_bool\n",
              "0              615  59750.4229         2 -544.810303   3.622952              1\n",
              "1              615  59750.4306         1 -816.434326   5.553370              1\n",
              "2              615  59750.4383         3 -471.385529   3.801213              1\n",
              "3              615  59750.4450         4 -388.984985  11.395031              1\n",
              "4              615  59752.4070         2 -681.858887   4.041204              1\n",
              "...            ...         ...       ...         ...        ...            ...\n",
              "1421700  130779836  60555.9838         4  -39.881969  46.477093              0\n",
              "1421701  130779836  60560.0459         1   14.894439  18.947685              0\n",
              "1421702  130779836  60571.0225         5   30.593130  50.695290              0\n",
              "1421703  130779836  60585.9974         4  -23.471439  44.819859              0\n",
              "1421704  130779836  60588.0372         0  -41.214264  51.665123              0\n",
              "\n",
              "[1421705 rows x 6 columns]"
            ],
            "text/html": [
              "\n",
              "  <div id=\"df-981a2aa4-6f33-4d08-964b-fb3507dbfe47\">\n",
              "    <div class=\"colab-df-container\">\n",
              "      <div>\n",
              "<style scoped>\n",
              "    .dataframe tbody tr th:only-of-type {\n",
              "        vertical-align: middle;\n",
              "    }\n",
              "\n",
              "    .dataframe tbody tr th {\n",
              "        vertical-align: top;\n",
              "    }\n",
              "\n",
              "    .dataframe thead th {\n",
              "        text-align: right;\n",
              "    }\n",
              "</style>\n",
              "<table border=\"1\" class=\"dataframe\">\n",
              "  <thead>\n",
              "    <tr style=\"text-align: right;\">\n",
              "      <th></th>\n",
              "      <th>object_id</th>\n",
              "      <th>mjd</th>\n",
              "      <th>passband</th>\n",
              "      <th>flux</th>\n",
              "      <th>flux_err</th>\n",
              "      <th>detected_bool</th>\n",
              "    </tr>\n",
              "  </thead>\n",
              "  <tbody>\n",
              "    <tr>\n",
              "      <th>0</th>\n",
              "      <td>615</td>\n",
              "      <td>59750.4229</td>\n",
              "      <td>2</td>\n",
              "      <td>-544.810303</td>\n",
              "      <td>3.622952</td>\n",
              "      <td>1</td>\n",
              "    </tr>\n",
              "    <tr>\n",
              "      <th>1</th>\n",
              "      <td>615</td>\n",
              "      <td>59750.4306</td>\n",
              "      <td>1</td>\n",
              "      <td>-816.434326</td>\n",
              "      <td>5.553370</td>\n",
              "      <td>1</td>\n",
              "    </tr>\n",
              "    <tr>\n",
              "      <th>2</th>\n",
              "      <td>615</td>\n",
              "      <td>59750.4383</td>\n",
              "      <td>3</td>\n",
              "      <td>-471.385529</td>\n",
              "      <td>3.801213</td>\n",
              "      <td>1</td>\n",
              "    </tr>\n",
              "    <tr>\n",
              "      <th>3</th>\n",
              "      <td>615</td>\n",
              "      <td>59750.4450</td>\n",
              "      <td>4</td>\n",
              "      <td>-388.984985</td>\n",
              "      <td>11.395031</td>\n",
              "      <td>1</td>\n",
              "    </tr>\n",
              "    <tr>\n",
              "      <th>4</th>\n",
              "      <td>615</td>\n",
              "      <td>59752.4070</td>\n",
              "      <td>2</td>\n",
              "      <td>-681.858887</td>\n",
              "      <td>4.041204</td>\n",
              "      <td>1</td>\n",
              "    </tr>\n",
              "    <tr>\n",
              "      <th>...</th>\n",
              "      <td>...</td>\n",
              "      <td>...</td>\n",
              "      <td>...</td>\n",
              "      <td>...</td>\n",
              "      <td>...</td>\n",
              "      <td>...</td>\n",
              "    </tr>\n",
              "    <tr>\n",
              "      <th>1421700</th>\n",
              "      <td>130779836</td>\n",
              "      <td>60555.9838</td>\n",
              "      <td>4</td>\n",
              "      <td>-39.881969</td>\n",
              "      <td>46.477093</td>\n",
              "      <td>0</td>\n",
              "    </tr>\n",
              "    <tr>\n",
              "      <th>1421701</th>\n",
              "      <td>130779836</td>\n",
              "      <td>60560.0459</td>\n",
              "      <td>1</td>\n",
              "      <td>14.894439</td>\n",
              "      <td>18.947685</td>\n",
              "      <td>0</td>\n",
              "    </tr>\n",
              "    <tr>\n",
              "      <th>1421702</th>\n",
              "      <td>130779836</td>\n",
              "      <td>60571.0225</td>\n",
              "      <td>5</td>\n",
              "      <td>30.593130</td>\n",
              "      <td>50.695290</td>\n",
              "      <td>0</td>\n",
              "    </tr>\n",
              "    <tr>\n",
              "      <th>1421703</th>\n",
              "      <td>130779836</td>\n",
              "      <td>60585.9974</td>\n",
              "      <td>4</td>\n",
              "      <td>-23.471439</td>\n",
              "      <td>44.819859</td>\n",
              "      <td>0</td>\n",
              "    </tr>\n",
              "    <tr>\n",
              "      <th>1421704</th>\n",
              "      <td>130779836</td>\n",
              "      <td>60588.0372</td>\n",
              "      <td>0</td>\n",
              "      <td>-41.214264</td>\n",
              "      <td>51.665123</td>\n",
              "      <td>0</td>\n",
              "    </tr>\n",
              "  </tbody>\n",
              "</table>\n",
              "<p>1421705 rows × 6 columns</p>\n",
              "</div>\n",
              "      <button class=\"colab-df-convert\" onclick=\"convertToInteractive('df-981a2aa4-6f33-4d08-964b-fb3507dbfe47')\"\n",
              "              title=\"Convert this dataframe to an interactive table.\"\n",
              "              style=\"display:none;\">\n",
              "        \n",
              "  <svg xmlns=\"http://www.w3.org/2000/svg\" height=\"24px\"viewBox=\"0 0 24 24\"\n",
              "       width=\"24px\">\n",
              "    <path d=\"M0 0h24v24H0V0z\" fill=\"none\"/>\n",
              "    <path d=\"M18.56 5.44l.94 2.06.94-2.06 2.06-.94-2.06-.94-.94-2.06-.94 2.06-2.06.94zm-11 1L8.5 8.5l.94-2.06 2.06-.94-2.06-.94L8.5 2.5l-.94 2.06-2.06.94zm10 10l.94 2.06.94-2.06 2.06-.94-2.06-.94-.94-2.06-.94 2.06-2.06.94z\"/><path d=\"M17.41 7.96l-1.37-1.37c-.4-.4-.92-.59-1.43-.59-.52 0-1.04.2-1.43.59L10.3 9.45l-7.72 7.72c-.78.78-.78 2.05 0 2.83L4 21.41c.39.39.9.59 1.41.59.51 0 1.02-.2 1.41-.59l7.78-7.78 2.81-2.81c.8-.78.8-2.07 0-2.86zM5.41 20L4 18.59l7.72-7.72 1.47 1.35L5.41 20z\"/>\n",
              "  </svg>\n",
              "      </button>\n",
              "      \n",
              "  <style>\n",
              "    .colab-df-container {\n",
              "      display:flex;\n",
              "      flex-wrap:wrap;\n",
              "      gap: 12px;\n",
              "    }\n",
              "\n",
              "    .colab-df-convert {\n",
              "      background-color: #E8F0FE;\n",
              "      border: none;\n",
              "      border-radius: 50%;\n",
              "      cursor: pointer;\n",
              "      display: none;\n",
              "      fill: #1967D2;\n",
              "      height: 32px;\n",
              "      padding: 0 0 0 0;\n",
              "      width: 32px;\n",
              "    }\n",
              "\n",
              "    .colab-df-convert:hover {\n",
              "      background-color: #E2EBFA;\n",
              "      box-shadow: 0px 1px 2px rgba(60, 64, 67, 0.3), 0px 1px 3px 1px rgba(60, 64, 67, 0.15);\n",
              "      fill: #174EA6;\n",
              "    }\n",
              "\n",
              "    [theme=dark] .colab-df-convert {\n",
              "      background-color: #3B4455;\n",
              "      fill: #D2E3FC;\n",
              "    }\n",
              "\n",
              "    [theme=dark] .colab-df-convert:hover {\n",
              "      background-color: #434B5C;\n",
              "      box-shadow: 0px 1px 3px 1px rgba(0, 0, 0, 0.15);\n",
              "      filter: drop-shadow(0px 1px 2px rgba(0, 0, 0, 0.3));\n",
              "      fill: #FFFFFF;\n",
              "    }\n",
              "  </style>\n",
              "\n",
              "      <script>\n",
              "        const buttonEl =\n",
              "          document.querySelector('#df-981a2aa4-6f33-4d08-964b-fb3507dbfe47 button.colab-df-convert');\n",
              "        buttonEl.style.display =\n",
              "          google.colab.kernel.accessAllowed ? 'block' : 'none';\n",
              "\n",
              "        async function convertToInteractive(key) {\n",
              "          const element = document.querySelector('#df-981a2aa4-6f33-4d08-964b-fb3507dbfe47');\n",
              "          const dataTable =\n",
              "            await google.colab.kernel.invokeFunction('convertToInteractive',\n",
              "                                                     [key], {});\n",
              "          if (!dataTable) return;\n",
              "\n",
              "          const docLinkHtml = 'Like what you see? Visit the ' +\n",
              "            '<a target=\"_blank\" href=https://colab.research.google.com/notebooks/data_table.ipynb>data table notebook</a>'\n",
              "            + ' to learn more about interactive tables.';\n",
              "          element.innerHTML = '';\n",
              "          dataTable['output_type'] = 'display_data';\n",
              "          await google.colab.output.renderOutput(dataTable, element);\n",
              "          const docLink = document.createElement('div');\n",
              "          docLink.innerHTML = docLinkHtml;\n",
              "          element.appendChild(docLink);\n",
              "        }\n",
              "      </script>\n",
              "    </div>\n",
              "  </div>\n",
              "  "
            ]
          },
          "metadata": {},
          "execution_count": 342
        }
      ]
    },
    {
      "cell_type": "code",
      "source": [
        "train_data"
      ],
      "metadata": {
        "colab": {
          "base_uri": "https://localhost:8080/",
          "height": 424
        },
        "id": "jHojPqbQFFfs",
        "outputId": "0c238a92-da66-4a18-9a52-c16f0954f4fb"
      },
      "execution_count": null,
      "outputs": [
        {
          "output_type": "execute_result",
          "data": {
            "text/plain": [
              "         object_id         mjd  passband        flux   flux_err  detected_bool\n",
              "0              615  59750.4229         2 -544.810303   3.622952              1\n",
              "1              615  59750.4306         1 -816.434326   5.553370              1\n",
              "2              615  59750.4383         3 -471.385529   3.801213              1\n",
              "3              615  59750.4450         4 -388.984985  11.395031              1\n",
              "4              615  59752.4070         2 -681.858887   4.041204              1\n",
              "...            ...         ...       ...         ...        ...            ...\n",
              "1421700  130779836  60555.9838         4  -39.881969  46.477093              0\n",
              "1421701  130779836  60560.0459         1   14.894439  18.947685              0\n",
              "1421702  130779836  60571.0225         5   30.593130  50.695290              0\n",
              "1421703  130779836  60585.9974         4  -23.471439  44.819859              0\n",
              "1421704  130779836  60588.0372         0  -41.214264  51.665123              0\n",
              "\n",
              "[1421705 rows x 6 columns]"
            ],
            "text/html": [
              "\n",
              "  <div id=\"df-e424459e-c7fb-4383-b947-07223f311716\">\n",
              "    <div class=\"colab-df-container\">\n",
              "      <div>\n",
              "<style scoped>\n",
              "    .dataframe tbody tr th:only-of-type {\n",
              "        vertical-align: middle;\n",
              "    }\n",
              "\n",
              "    .dataframe tbody tr th {\n",
              "        vertical-align: top;\n",
              "    }\n",
              "\n",
              "    .dataframe thead th {\n",
              "        text-align: right;\n",
              "    }\n",
              "</style>\n",
              "<table border=\"1\" class=\"dataframe\">\n",
              "  <thead>\n",
              "    <tr style=\"text-align: right;\">\n",
              "      <th></th>\n",
              "      <th>object_id</th>\n",
              "      <th>mjd</th>\n",
              "      <th>passband</th>\n",
              "      <th>flux</th>\n",
              "      <th>flux_err</th>\n",
              "      <th>detected_bool</th>\n",
              "    </tr>\n",
              "  </thead>\n",
              "  <tbody>\n",
              "    <tr>\n",
              "      <th>0</th>\n",
              "      <td>615</td>\n",
              "      <td>59750.4229</td>\n",
              "      <td>2</td>\n",
              "      <td>-544.810303</td>\n",
              "      <td>3.622952</td>\n",
              "      <td>1</td>\n",
              "    </tr>\n",
              "    <tr>\n",
              "      <th>1</th>\n",
              "      <td>615</td>\n",
              "      <td>59750.4306</td>\n",
              "      <td>1</td>\n",
              "      <td>-816.434326</td>\n",
              "      <td>5.553370</td>\n",
              "      <td>1</td>\n",
              "    </tr>\n",
              "    <tr>\n",
              "      <th>2</th>\n",
              "      <td>615</td>\n",
              "      <td>59750.4383</td>\n",
              "      <td>3</td>\n",
              "      <td>-471.385529</td>\n",
              "      <td>3.801213</td>\n",
              "      <td>1</td>\n",
              "    </tr>\n",
              "    <tr>\n",
              "      <th>3</th>\n",
              "      <td>615</td>\n",
              "      <td>59750.4450</td>\n",
              "      <td>4</td>\n",
              "      <td>-388.984985</td>\n",
              "      <td>11.395031</td>\n",
              "      <td>1</td>\n",
              "    </tr>\n",
              "    <tr>\n",
              "      <th>4</th>\n",
              "      <td>615</td>\n",
              "      <td>59752.4070</td>\n",
              "      <td>2</td>\n",
              "      <td>-681.858887</td>\n",
              "      <td>4.041204</td>\n",
              "      <td>1</td>\n",
              "    </tr>\n",
              "    <tr>\n",
              "      <th>...</th>\n",
              "      <td>...</td>\n",
              "      <td>...</td>\n",
              "      <td>...</td>\n",
              "      <td>...</td>\n",
              "      <td>...</td>\n",
              "      <td>...</td>\n",
              "    </tr>\n",
              "    <tr>\n",
              "      <th>1421700</th>\n",
              "      <td>130779836</td>\n",
              "      <td>60555.9838</td>\n",
              "      <td>4</td>\n",
              "      <td>-39.881969</td>\n",
              "      <td>46.477093</td>\n",
              "      <td>0</td>\n",
              "    </tr>\n",
              "    <tr>\n",
              "      <th>1421701</th>\n",
              "      <td>130779836</td>\n",
              "      <td>60560.0459</td>\n",
              "      <td>1</td>\n",
              "      <td>14.894439</td>\n",
              "      <td>18.947685</td>\n",
              "      <td>0</td>\n",
              "    </tr>\n",
              "    <tr>\n",
              "      <th>1421702</th>\n",
              "      <td>130779836</td>\n",
              "      <td>60571.0225</td>\n",
              "      <td>5</td>\n",
              "      <td>30.593130</td>\n",
              "      <td>50.695290</td>\n",
              "      <td>0</td>\n",
              "    </tr>\n",
              "    <tr>\n",
              "      <th>1421703</th>\n",
              "      <td>130779836</td>\n",
              "      <td>60585.9974</td>\n",
              "      <td>4</td>\n",
              "      <td>-23.471439</td>\n",
              "      <td>44.819859</td>\n",
              "      <td>0</td>\n",
              "    </tr>\n",
              "    <tr>\n",
              "      <th>1421704</th>\n",
              "      <td>130779836</td>\n",
              "      <td>60588.0372</td>\n",
              "      <td>0</td>\n",
              "      <td>-41.214264</td>\n",
              "      <td>51.665123</td>\n",
              "      <td>0</td>\n",
              "    </tr>\n",
              "  </tbody>\n",
              "</table>\n",
              "<p>1421705 rows × 6 columns</p>\n",
              "</div>\n",
              "      <button class=\"colab-df-convert\" onclick=\"convertToInteractive('df-e424459e-c7fb-4383-b947-07223f311716')\"\n",
              "              title=\"Convert this dataframe to an interactive table.\"\n",
              "              style=\"display:none;\">\n",
              "        \n",
              "  <svg xmlns=\"http://www.w3.org/2000/svg\" height=\"24px\"viewBox=\"0 0 24 24\"\n",
              "       width=\"24px\">\n",
              "    <path d=\"M0 0h24v24H0V0z\" fill=\"none\"/>\n",
              "    <path d=\"M18.56 5.44l.94 2.06.94-2.06 2.06-.94-2.06-.94-.94-2.06-.94 2.06-2.06.94zm-11 1L8.5 8.5l.94-2.06 2.06-.94-2.06-.94L8.5 2.5l-.94 2.06-2.06.94zm10 10l.94 2.06.94-2.06 2.06-.94-2.06-.94-.94-2.06-.94 2.06-2.06.94z\"/><path d=\"M17.41 7.96l-1.37-1.37c-.4-.4-.92-.59-1.43-.59-.52 0-1.04.2-1.43.59L10.3 9.45l-7.72 7.72c-.78.78-.78 2.05 0 2.83L4 21.41c.39.39.9.59 1.41.59.51 0 1.02-.2 1.41-.59l7.78-7.78 2.81-2.81c.8-.78.8-2.07 0-2.86zM5.41 20L4 18.59l7.72-7.72 1.47 1.35L5.41 20z\"/>\n",
              "  </svg>\n",
              "      </button>\n",
              "      \n",
              "  <style>\n",
              "    .colab-df-container {\n",
              "      display:flex;\n",
              "      flex-wrap:wrap;\n",
              "      gap: 12px;\n",
              "    }\n",
              "\n",
              "    .colab-df-convert {\n",
              "      background-color: #E8F0FE;\n",
              "      border: none;\n",
              "      border-radius: 50%;\n",
              "      cursor: pointer;\n",
              "      display: none;\n",
              "      fill: #1967D2;\n",
              "      height: 32px;\n",
              "      padding: 0 0 0 0;\n",
              "      width: 32px;\n",
              "    }\n",
              "\n",
              "    .colab-df-convert:hover {\n",
              "      background-color: #E2EBFA;\n",
              "      box-shadow: 0px 1px 2px rgba(60, 64, 67, 0.3), 0px 1px 3px 1px rgba(60, 64, 67, 0.15);\n",
              "      fill: #174EA6;\n",
              "    }\n",
              "\n",
              "    [theme=dark] .colab-df-convert {\n",
              "      background-color: #3B4455;\n",
              "      fill: #D2E3FC;\n",
              "    }\n",
              "\n",
              "    [theme=dark] .colab-df-convert:hover {\n",
              "      background-color: #434B5C;\n",
              "      box-shadow: 0px 1px 3px 1px rgba(0, 0, 0, 0.15);\n",
              "      filter: drop-shadow(0px 1px 2px rgba(0, 0, 0, 0.3));\n",
              "      fill: #FFFFFF;\n",
              "    }\n",
              "  </style>\n",
              "\n",
              "      <script>\n",
              "        const buttonEl =\n",
              "          document.querySelector('#df-e424459e-c7fb-4383-b947-07223f311716 button.colab-df-convert');\n",
              "        buttonEl.style.display =\n",
              "          google.colab.kernel.accessAllowed ? 'block' : 'none';\n",
              "\n",
              "        async function convertToInteractive(key) {\n",
              "          const element = document.querySelector('#df-e424459e-c7fb-4383-b947-07223f311716');\n",
              "          const dataTable =\n",
              "            await google.colab.kernel.invokeFunction('convertToInteractive',\n",
              "                                                     [key], {});\n",
              "          if (!dataTable) return;\n",
              "\n",
              "          const docLinkHtml = 'Like what you see? Visit the ' +\n",
              "            '<a target=\"_blank\" href=https://colab.research.google.com/notebooks/data_table.ipynb>data table notebook</a>'\n",
              "            + ' to learn more about interactive tables.';\n",
              "          element.innerHTML = '';\n",
              "          dataTable['output_type'] = 'display_data';\n",
              "          await google.colab.output.renderOutput(dataTable, element);\n",
              "          const docLink = document.createElement('div');\n",
              "          docLink.innerHTML = docLinkHtml;\n",
              "          element.appendChild(docLink);\n",
              "        }\n",
              "      </script>\n",
              "    </div>\n",
              "  </div>\n",
              "  "
            ]
          },
          "metadata": {},
          "execution_count": 93
        }
      ]
    },
    {
      "cell_type": "code",
      "source": [
        "test[0][0]"
      ],
      "metadata": {
        "colab": {
          "base_uri": "https://localhost:8080/"
        },
        "id": "bBDYEnVyKVua",
        "outputId": "2cc88ff9-0c25-4036-cc94-317b912b3f40"
      },
      "execution_count": null,
      "outputs": [
        {
          "output_type": "execute_result",
          "data": {
            "text/plain": [
              "615.0"
            ]
          },
          "metadata": {},
          "execution_count": 39
        }
      ]
    },
    {
      "cell_type": "code",
      "source": [
        "time=[]\n",
        "flux=[]\n",
        "flux_error=[]\n",
        "for i in range(len(train_data_array)):\n",
        "  if train_data_array[i][0]==713 and train_data_array[i][2]==0:\n",
        "    time.append(test[i][1])\n",
        "    flux.append(test[i][3])\n",
        "    flux_error.append(test[i][4])"
      ],
      "metadata": {
        "id": "ESeVzEkILg6k"
      },
      "execution_count": null,
      "outputs": []
    },
    {
      "cell_type": "code",
      "source": [
        "train_data.iloc[0]"
      ],
      "metadata": {
        "colab": {
          "base_uri": "https://localhost:8080/"
        },
        "id": "6-3RUNWZUjXM",
        "outputId": "e099f724-8f88-41a8-93ed-8c0c44bff90b"
      },
      "execution_count": null,
      "outputs": [
        {
          "output_type": "execute_result",
          "data": {
            "text/plain": [
              "object_id          615.000000\n",
              "mjd              59750.422900\n",
              "passband             2.000000\n",
              "flux              -544.810303\n",
              "flux_err             3.622952\n",
              "detected_bool        1.000000\n",
              "Name: 0, dtype: float64"
            ]
          },
          "metadata": {},
          "execution_count": 106
        }
      ]
    },
    {
      "cell_type": "code",
      "source": [
        "time=time-np.min(time)"
      ],
      "metadata": {
        "id": "DkxJxHTwM1T7"
      },
      "execution_count": null,
      "outputs": []
    },
    {
      "cell_type": "code",
      "source": [
        "end=600\n",
        "plt.figure(figsize=(10,8))\n",
        "#plt.plot(time[:end],flux[:end], label='train')\n",
        "plt.plot(time,flux, label='train')\n",
        "\n",
        "plt.xlabel('time', fontsize=14)\n",
        "plt.ylabel('flux', fontsize=14)\n",
        "plt.legend()"
      ],
      "metadata": {
        "colab": {
          "base_uri": "https://localhost:8080/",
          "height": 519
        },
        "id": "6t4GqImrM2-e",
        "outputId": "9bf5a7d8-d817-4c00-d217-2de970924055"
      },
      "execution_count": null,
      "outputs": [
        {
          "output_type": "execute_result",
          "data": {
            "text/plain": [
              "<matplotlib.legend.Legend at 0x7f27dfef7370>"
            ]
          },
          "metadata": {},
          "execution_count": 108
        },
        {
          "output_type": "display_data",
          "data": {
            "text/plain": [
              "<Figure size 720x576 with 1 Axes>"
            ],
            "image/png": "[encoded data removed]"
          },
          "metadata": {}
        }
      ]
    },
    {
      "cell_type": "code",
      "source": [
        "metadata_train_array=np.array(metadata_train)[:,:-1]\n",
        "for  i in range(len(metadata_train_array)):\n",
        "  if metadata_train_array[i][0]==713:\n",
        "    print(metadata_train_array[i][11])\n"
      ],
      "metadata": {
        "colab": {
          "base_uri": "https://localhost:8080/"
        },
        "id": "vGMRZ5enNQQU",
        "outputId": "6381947d-c166-42a5-c432-c26f4dca7262"
      },
      "execution_count": null,
      "outputs": [
        {
          "output_type": "stream",
          "name": "stdout",
          "text": [
            "1.0\n"
          ]
        }
      ]
    },
    {
      "cell_type": "code",
      "source": [
        "metadata_train_array=np.array(metadata_train)[:,:-1]"
      ],
      "metadata": {
        "id": "CetdYK--SWEt"
      },
      "execution_count": null,
      "outputs": []
    },
    {
      "cell_type": "code",
      "source": [
        "metadata_train"
      ],
      "metadata": {
        "colab": {
          "base_uri": "https://localhost:8080/",
          "height": 488
        },
        "id": "b3CzpcYjXKE_",
        "outputId": "d06d1cf4-4ea8-44ca-8c87-f779a52ff154"
      },
      "execution_count": null,
      "outputs": [
        {
          "output_type": "execute_result",
          "data": {
            "text/plain": [
              "      object_id        ra     decl  ddf_bool  hostgal_specz  hostgal_photoz  \\\n",
              "0           615  349.0461 -61.9438         1          0.000           0.000   \n",
              "1           713   53.0859 -27.7844         1          1.818           1.627   \n",
              "2           730   33.5742  -6.5796         1          0.232           0.226   \n",
              "3           745    0.1899 -45.5867         1          0.304           0.281   \n",
              "4          1124  352.7113 -63.8237         1          0.193           0.241   \n",
              "...         ...       ...      ...       ...            ...             ...   \n",
              "7843  130739978   26.7188 -14.9403         0          0.000           0.000   \n",
              "7844  130755807  120.1013 -62.6967         0          0.172           2.561   \n",
              "7845  130762946  203.1081 -55.6821         0          0.000           0.000   \n",
              "7846  130772921   79.1016 -35.5018         0          0.000           0.000   \n",
              "7847  130779836  301.9922 -17.4263         0          0.000           0.000   \n",
              "\n",
              "      hostgal_photoz_err  distmod  mwebv  target  ...  true_rv  true_av  \\\n",
              "0                  0.000   -9.000  0.017      92  ...      0.0      0.0   \n",
              "1                  0.255   45.406  0.007      88  ...      0.0      0.0   \n",
              "2                  0.016   40.256  0.021      42  ...      0.0      0.0   \n",
              "3                  1.152   40.795  0.007      90  ...      0.0      0.0   \n",
              "4                  0.018   40.417  0.024      90  ...      0.0      0.0   \n",
              "...                  ...      ...    ...     ...  ...      ...      ...   \n",
              "7843               0.000   -9.000  0.013      65  ...      0.0      0.0   \n",
              "7844               1.115   46.611  0.136      90  ...      0.0      0.0   \n",
              "7845               0.000   -9.000  0.430      16  ...      0.0      0.0   \n",
              "7846               0.000   -9.000  0.034      65  ...      0.0      0.0   \n",
              "7847               0.000   -9.000  0.091       6  ...      0.0      0.0   \n",
              "\n",
              "      true_peakmjd  libid_cadence  tflux_u  tflux_g  tflux_r  tflux_i  \\\n",
              "0        59570.000             69    484.7   3286.7   3214.1   3039.7   \n",
              "1        59570.000             34    108.7    117.7    119.9    149.6   \n",
              "2        60444.379              9      0.0      0.0      0.0      0.0   \n",
              "3        60130.453             38      0.0      0.0      0.0      0.0   \n",
              "4        60452.641              1      0.0      0.0      0.0      0.0   \n",
              "...            ...            ...      ...      ...      ...      ...   \n",
              "7843     59570.000          18232     26.4    267.6    742.8   3295.1   \n",
              "7844     60056.809          14934      0.0      0.0      0.0      0.0   \n",
              "7845     59570.000          47805     83.8   1124.7   1445.1   1191.2   \n",
              "7846     59570.000          22240      1.9     14.4     49.4    244.3   \n",
              "7847     59905.160            305   6134.1  23008.9  36299.5  41257.7   \n",
              "\n",
              "      tflux_z  tflux_y  \n",
              "0      2854.5   2837.0  \n",
              "1       147.9    150.5  \n",
              "2         0.0      0.0  \n",
              "3         0.0      0.0  \n",
              "4         0.0      0.0  \n",
              "...       ...      ...  \n",
              "7843   6047.5   7955.2  \n",
              "7844      0.0      0.0  \n",
              "7845    848.9    382.5  \n",
              "7846    534.8    897.2  \n",
              "7847  43047.7  44230.7  \n",
              "\n",
              "[7848 rows x 26 columns]"
            ],
            "text/html": [
              "\n",
              "  <div id=\"df-f36925ae-c525-4f52-b5e6-068f610385e8\">\n",
              "    <div class=\"colab-df-container\">\n",
              "      <div>\n",
              "<style scoped>\n",
              "    .dataframe tbody tr th:only-of-type {\n",
              "        vertical-align: middle;\n",
              "    }\n",
              "\n",
              "    .dataframe tbody tr th {\n",
              "        vertical-align: top;\n",
              "    }\n",
              "\n",
              "    .dataframe thead th {\n",
              "        text-align: right;\n",
              "    }\n",
              "</style>\n",
              "<table border=\"1\" class=\"dataframe\">\n",
              "  <thead>\n",
              "    <tr style=\"text-align: right;\">\n",
              "      <th></th>\n",
              "      <th>object_id</th>\n",
              "      <th>ra</th>\n",
              "      <th>decl</th>\n",
              "      <th>ddf_bool</th>\n",
              "      <th>hostgal_specz</th>\n",
              "      <th>hostgal_photoz</th>\n",
              "      <th>hostgal_photoz_err</th>\n",
              "      <th>distmod</th>\n",
              "      <th>mwebv</th>\n",
              "      <th>target</th>\n",
              "      <th>...</th>\n",
              "      <th>true_rv</th>\n",
              "      <th>true_av</th>\n",
              "      <th>true_peakmjd</th>\n",
              "      <th>libid_cadence</th>\n",
              "      <th>tflux_u</th>\n",
              "      <th>tflux_g</th>\n",
              "      <th>tflux_r</th>\n",
              "      <th>tflux_i</th>\n",
              "      <th>tflux_z</th>\n",
              "      <th>tflux_y</th>\n",
              "    </tr>\n",
              "  </thead>\n",
              "  <tbody>\n",
              "    <tr>\n",
              "      <th>0</th>\n",
              "      <td>615</td>\n",
              "      <td>349.0461</td>\n",
              "      <td>-61.9438</td>\n",
              "      <td>1</td>\n",
              "      <td>0.000</td>\n",
              "      <td>0.000</td>\n",
              "      <td>0.000</td>\n",
              "      <td>-9.000</td>\n",
              "      <td>0.017</td>\n",
              "      <td>92</td>\n",
              "      <td>...</td>\n",
              "      <td>0.0</td>\n",
              "      <td>0.0</td>\n",
              "      <td>59570.000</td>\n",
              "      <td>69</td>\n",
              "      <td>484.7</td>\n",
              "      <td>3286.7</td>\n",
              "      <td>3214.1</td>\n",
              "      <td>3039.7</td>\n",
              "      <td>2854.5</td>\n",
              "      <td>2837.0</td>\n",
              "    </tr>\n",
              "    <tr>\n",
              "      <th>1</th>\n",
              "      <td>713</td>\n",
              "      <td>53.0859</td>\n",
              "      <td>-27.7844</td>\n",
              "      <td>1</td>\n",
              "      <td>1.818</td>\n",
              "      <td>1.627</td>\n",
              "      <td>0.255</td>\n",
              "      <td>45.406</td>\n",
              "      <td>0.007</td>\n",
              "      <td>88</td>\n",
              "      <td>...</td>\n",
              "      <td>0.0</td>\n",
              "      <td>0.0</td>\n",
              "      <td>59570.000</td>\n",
              "      <td>34</td>\n",
              "      <td>108.7</td>\n",
              "      <td>117.7</td>\n",
              "      <td>119.9</td>\n",
              "      <td>149.6</td>\n",
              "      <td>147.9</td>\n",
              "      <td>150.5</td>\n",
              "    </tr>\n",
              "    <tr>\n",
              "      <th>2</th>\n",
              "      <td>730</td>\n",
              "      <td>33.5742</td>\n",
              "      <td>-6.5796</td>\n",
              "      <td>1</td>\n",
              "      <td>0.232</td>\n",
              "      <td>0.226</td>\n",
              "      <td>0.016</td>\n",
              "      <td>40.256</td>\n",
              "      <td>0.021</td>\n",
              "      <td>42</td>\n",
              "      <td>...</td>\n",
              "      <td>0.0</td>\n",
              "      <td>0.0</td>\n",
              "      <td>60444.379</td>\n",
              "      <td>9</td>\n",
              "      <td>0.0</td>\n",
              "      <td>0.0</td>\n",
              "      <td>0.0</td>\n",
              "      <td>0.0</td>\n",
              "      <td>0.0</td>\n",
              "      <td>0.0</td>\n",
              "    </tr>\n",
              "    <tr>\n",
              "      <th>3</th>\n",
              "      <td>745</td>\n",
              "      <td>0.1899</td>\n",
              "      <td>-45.5867</td>\n",
              "      <td>1</td>\n",
              "      <td>0.304</td>\n",
              "      <td>0.281</td>\n",
              "      <td>1.152</td>\n",
              "      <td>40.795</td>\n",
              "      <td>0.007</td>\n",
              "      <td>90</td>\n",
              "      <td>...</td>\n",
              "      <td>0.0</td>\n",
              "      <td>0.0</td>\n",
              "      <td>60130.453</td>\n",
              "      <td>38</td>\n",
              "      <td>0.0</td>\n",
              "      <td>0.0</td>\n",
              "      <td>0.0</td>\n",
              "      <td>0.0</td>\n",
              "      <td>0.0</td>\n",
              "      <td>0.0</td>\n",
              "    </tr>\n",
              "    <tr>\n",
              "      <th>4</th>\n",
              "      <td>1124</td>\n",
              "      <td>352.7113</td>\n",
              "      <td>-63.8237</td>\n",
              "      <td>1</td>\n",
              "      <td>0.193</td>\n",
              "      <td>0.241</td>\n",
              "      <td>0.018</td>\n",
              "      <td>40.417</td>\n",
              "      <td>0.024</td>\n",
              "      <td>90</td>\n",
              "      <td>...</td>\n",
              "      <td>0.0</td>\n",
              "      <td>0.0</td>\n",
              "      <td>60452.641</td>\n",
              "      <td>1</td>\n",
              "      <td>0.0</td>\n",
              "      <td>0.0</td>\n",
              "      <td>0.0</td>\n",
              "      <td>0.0</td>\n",
              "      <td>0.0</td>\n",
              "      <td>0.0</td>\n",
              "    </tr>\n",
              "    <tr>\n",
              "      <th>...</th>\n",
              "      <td>...</td>\n",
              "      <td>...</td>\n",
              "      <td>...</td>\n",
              "      <td>...</td>\n",
              "      <td>...</td>\n",
              "      <td>...</td>\n",
              "      <td>...</td>\n",
              "      <td>...</td>\n",
              "      <td>...</td>\n",
              "      <td>...</td>\n",
              "      <td>...</td>\n",
              "      <td>...</td>\n",
              "      <td>...</td>\n",
              "      <td>...</td>\n",
              "      <td>...</td>\n",
              "      <td>...</td>\n",
              "      <td>...</td>\n",
              "      <td>...</td>\n",
              "      <td>...</td>\n",
              "      <td>...</td>\n",
              "      <td>...</td>\n",
              "    </tr>\n",
              "    <tr>\n",
              "      <th>7843</th>\n",
              "      <td>130739978</td>\n",
              "      <td>26.7188</td>\n",
              "      <td>-14.9403</td>\n",
              "      <td>0</td>\n",
              "      <td>0.000</td>\n",
              "      <td>0.000</td>\n",
              "      <td>0.000</td>\n",
              "      <td>-9.000</td>\n",
              "      <td>0.013</td>\n",
              "      <td>65</td>\n",
              "      <td>...</td>\n",
              "      <td>0.0</td>\n",
              "      <td>0.0</td>\n",
              "      <td>59570.000</td>\n",
              "      <td>18232</td>\n",
              "      <td>26.4</td>\n",
              "      <td>267.6</td>\n",
              "      <td>742.8</td>\n",
              "      <td>3295.1</td>\n",
              "      <td>6047.5</td>\n",
              "      <td>7955.2</td>\n",
              "    </tr>\n",
              "    <tr>\n",
              "      <th>7844</th>\n",
              "      <td>130755807</td>\n",
              "      <td>120.1013</td>\n",
              "      <td>-62.6967</td>\n",
              "      <td>0</td>\n",
              "      <td>0.172</td>\n",
              "      <td>2.561</td>\n",
              "      <td>1.115</td>\n",
              "      <td>46.611</td>\n",
              "      <td>0.136</td>\n",
              "      <td>90</td>\n",
              "      <td>...</td>\n",
              "      <td>0.0</td>\n",
              "      <td>0.0</td>\n",
              "      <td>60056.809</td>\n",
              "      <td>14934</td>\n",
              "      <td>0.0</td>\n",
              "      <td>0.0</td>\n",
              "      <td>0.0</td>\n",
              "      <td>0.0</td>\n",
              "      <td>0.0</td>\n",
              "      <td>0.0</td>\n",
              "    </tr>\n",
              "    <tr>\n",
              "      <th>7845</th>\n",
              "      <td>130762946</td>\n",
              "      <td>203.1081</td>\n",
              "      <td>-55.6821</td>\n",
              "      <td>0</td>\n",
              "      <td>0.000</td>\n",
              "      <td>0.000</td>\n",
              "      <td>0.000</td>\n",
              "      <td>-9.000</td>\n",
              "      <td>0.430</td>\n",
              "      <td>16</td>\n",
              "      <td>...</td>\n",
              "      <td>0.0</td>\n",
              "      <td>0.0</td>\n",
              "      <td>59570.000</td>\n",
              "      <td>47805</td>\n",
              "      <td>83.8</td>\n",
              "      <td>1124.7</td>\n",
              "      <td>1445.1</td>\n",
              "      <td>1191.2</td>\n",
              "      <td>848.9</td>\n",
              "      <td>382.5</td>\n",
              "    </tr>\n",
              "    <tr>\n",
              "      <th>7846</th>\n",
              "      <td>130772921</td>\n",
              "      <td>79.1016</td>\n",
              "      <td>-35.5018</td>\n",
              "      <td>0</td>\n",
              "      <td>0.000</td>\n",
              "      <td>0.000</td>\n",
              "      <td>0.000</td>\n",
              "      <td>-9.000</td>\n",
              "      <td>0.034</td>\n",
              "      <td>65</td>\n",
              "      <td>...</td>\n",
              "      <td>0.0</td>\n",
              "      <td>0.0</td>\n",
              "      <td>59570.000</td>\n",
              "      <td>22240</td>\n",
              "      <td>1.9</td>\n",
              "      <td>14.4</td>\n",
              "      <td>49.4</td>\n",
              "      <td>244.3</td>\n",
              "      <td>534.8</td>\n",
              "      <td>897.2</td>\n",
              "    </tr>\n",
              "    <tr>\n",
              "      <th>7847</th>\n",
              "      <td>130779836</td>\n",
              "      <td>301.9922</td>\n",
              "      <td>-17.4263</td>\n",
              "      <td>0</td>\n",
              "      <td>0.000</td>\n",
              "      <td>0.000</td>\n",
              "      <td>0.000</td>\n",
              "      <td>-9.000</td>\n",
              "      <td>0.091</td>\n",
              "      <td>6</td>\n",
              "      <td>...</td>\n",
              "      <td>0.0</td>\n",
              "      <td>0.0</td>\n",
              "      <td>59905.160</td>\n",
              "      <td>305</td>\n",
              "      <td>6134.1</td>\n",
              "      <td>23008.9</td>\n",
              "      <td>36299.5</td>\n",
              "      <td>41257.7</td>\n",
              "      <td>43047.7</td>\n",
              "      <td>44230.7</td>\n",
              "    </tr>\n",
              "  </tbody>\n",
              "</table>\n",
              "<p>7848 rows × 26 columns</p>\n",
              "</div>\n",
              "      <button class=\"colab-df-convert\" onclick=\"convertToInteractive('df-f36925ae-c525-4f52-b5e6-068f610385e8')\"\n",
              "              title=\"Convert this dataframe to an interactive table.\"\n",
              "              style=\"display:none;\">\n",
              "        \n",
              "  <svg xmlns=\"http://www.w3.org/2000/svg\" height=\"24px\"viewBox=\"0 0 24 24\"\n",
              "       width=\"24px\">\n",
              "    <path d=\"M0 0h24v24H0V0z\" fill=\"none\"/>\n",
              "    <path d=\"M18.56 5.44l.94 2.06.94-2.06 2.06-.94-2.06-.94-.94-2.06-.94 2.06-2.06.94zm-11 1L8.5 8.5l.94-2.06 2.06-.94-2.06-.94L8.5 2.5l-.94 2.06-2.06.94zm10 10l.94 2.06.94-2.06 2.06-.94-2.06-.94-.94-2.06-.94 2.06-2.06.94z\"/><path d=\"M17.41 7.96l-1.37-1.37c-.4-.4-.92-.59-1.43-.59-.52 0-1.04.2-1.43.59L10.3 9.45l-7.72 7.72c-.78.78-.78 2.05 0 2.83L4 21.41c.39.39.9.59 1.41.59.51 0 1.02-.2 1.41-.59l7.78-7.78 2.81-2.81c.8-.78.8-2.07 0-2.86zM5.41 20L4 18.59l7.72-7.72 1.47 1.35L5.41 20z\"/>\n",
              "  </svg>\n",
              "      </button>\n",
              "      \n",
              "  <style>\n",
              "    .colab-df-container {\n",
              "      display:flex;\n",
              "      flex-wrap:wrap;\n",
              "      gap: 12px;\n",
              "    }\n",
              "\n",
              "    .colab-df-convert {\n",
              "      background-color: #E8F0FE;\n",
              "      border: none;\n",
              "      border-radius: 50%;\n",
              "      cursor: pointer;\n",
              "      display: none;\n",
              "      fill: #1967D2;\n",
              "      height: 32px;\n",
              "      padding: 0 0 0 0;\n",
              "      width: 32px;\n",
              "    }\n",
              "\n",
              "    .colab-df-convert:hover {\n",
              "      background-color: #E2EBFA;\n",
              "      box-shadow: 0px 1px 2px rgba(60, 64, 67, 0.3), 0px 1px 3px 1px rgba(60, 64, 67, 0.15);\n",
              "      fill: #174EA6;\n",
              "    }\n",
              "\n",
              "    [theme=dark] .colab-df-convert {\n",
              "      background-color: #3B4455;\n",
              "      fill: #D2E3FC;\n",
              "    }\n",
              "\n",
              "    [theme=dark] .colab-df-convert:hover {\n",
              "      background-color: #434B5C;\n",
              "      box-shadow: 0px 1px 3px 1px rgba(0, 0, 0, 0.15);\n",
              "      filter: drop-shadow(0px 1px 2px rgba(0, 0, 0, 0.3));\n",
              "      fill: #FFFFFF;\n",
              "    }\n",
              "  </style>\n",
              "\n",
              "      <script>\n",
              "        const buttonEl =\n",
              "          document.querySelector('#df-f36925ae-c525-4f52-b5e6-068f610385e8 button.colab-df-convert');\n",
              "        buttonEl.style.display =\n",
              "          google.colab.kernel.accessAllowed ? 'block' : 'none';\n",
              "\n",
              "        async function convertToInteractive(key) {\n",
              "          const element = document.querySelector('#df-f36925ae-c525-4f52-b5e6-068f610385e8');\n",
              "          const dataTable =\n",
              "            await google.colab.kernel.invokeFunction('convertToInteractive',\n",
              "                                                     [key], {});\n",
              "          if (!dataTable) return;\n",
              "\n",
              "          const docLinkHtml = 'Like what you see? Visit the ' +\n",
              "            '<a target=\"_blank\" href=https://colab.research.google.com/notebooks/data_table.ipynb>data table notebook</a>'\n",
              "            + ' to learn more about interactive tables.';\n",
              "          element.innerHTML = '';\n",
              "          dataTable['output_type'] = 'display_data';\n",
              "          await google.colab.output.renderOutput(dataTable, element);\n",
              "          const docLink = document.createElement('div');\n",
              "          docLink.innerHTML = docLinkHtml;\n",
              "          element.appendChild(docLink);\n",
              "        }\n",
              "      </script>\n",
              "    </div>\n",
              "  </div>\n",
              "  "
            ]
          },
          "metadata": {},
          "execution_count": 109
        }
      ]
    },
    {
      "cell_type": "code",
      "source": [
        "my_dict={42: 0,\n",
        "        52: 0,\n",
        "        62: 0,\n",
        "        67: 0,\n",
        "        90: 0,\n",
        "        6: 1,\n",
        "       64: 1,\n",
        "       65: 1,\n",
        "       15: 2,\n",
        "       95: 2,\n",
        "       16: 3,\n",
        "        53: 3,\n",
        "        92: 3,\n",
        "        88:4\n",
        "        }\n",
        "metadata_train['target_mapped']=metadata_train['target'].map(my_dict)\n",
        "classes=[0,1,2,3,4]\n",
        "counts=[]\n",
        "for i in range(len(classes)):\n",
        "  train_data[train_data['object_id']==obj_ids[i]]\n",
        "  count=np.array(metadata_train)==classes[i]\n",
        "  counts.append(np.sum(count))\n",
        "\n",
        "\n"
      ],
      "metadata": {
        "id": "XDO8ImlMihV3"
      },
      "execution_count": null,
      "outputs": []
    },
    {
      "cell_type": "code",
      "source": [
        "metadata_train['target_mapped'].values"
      ],
      "metadata": {
        "colab": {
          "base_uri": "https://localhost:8080/"
        },
        "id": "ghjuhvToj3XC",
        "outputId": "4e5c3d65-b4cb-4230-b80d-2a6ac5136fa7"
      },
      "execution_count": null,
      "outputs": [
        {
          "output_type": "execute_result",
          "data": {
            "text/plain": [
              "array([3, 4, 0, ..., 3, 1, 1])"
            ]
          },
          "metadata": {},
          "execution_count": 248
        }
      ]
    },
    {
      "cell_type": "code",
      "source": [
        "plt.bar(range(len(classes)),counts)\n",
        "plt.xlabel('counts')\n",
        "plt.ylabel('classes ')"
      ],
      "metadata": {
        "colab": {
          "base_uri": "https://localhost:8080/",
          "height": 300
        },
        "id": "F6j_h4M1lxBt",
        "outputId": "1febf216-4f45-4202-854f-162d6e044084"
      },
      "execution_count": null,
      "outputs": [
        {
          "output_type": "execute_result",
          "data": {
            "text/plain": [
              "Text(0, 0.5, 'classes ')"
            ]
          },
          "metadata": {},
          "execution_count": 122
        },
        {
          "output_type": "display_data",
          "data": {
            "text/plain": [
              "<Figure size 432x288 with 1 Axes>"
            ],
            "image/png": "[encoded data removed]"
          },
          "metadata": {}
        }
      ]
    },
    {
      "cell_type": "code",
      "source": [
        "counts=np.unique(y.argmax(1), return_counts=True)[1]\n",
        "plt.bar(range(len(classes)),counts)\n",
        "plt.xlabel('counts')\n",
        "plt.ylabel('classes ')"
      ],
      "metadata": {
        "colab": {
          "base_uri": "https://localhost:8080/",
          "height": 300
        },
        "id": "TMAyESMOWksM",
        "outputId": "e0375fba-7dc1-49ae-b96c-d769f5712fcc"
      },
      "execution_count": null,
      "outputs": [
        {
          "output_type": "execute_result",
          "data": {
            "text/plain": [
              "Text(0, 0.5, 'classes ')"
            ]
          },
          "metadata": {},
          "execution_count": 284
        },
        {
          "output_type": "display_data",
          "data": {
            "text/plain": [
              "<Figure size 432x288 with 1 Axes>"
            ],
            "image/png": "[encoded data removed]"
          },
          "metadata": {}
        }
      ]
    },
    {
      "cell_type": "code",
      "source": [
        "counts"
      ],
      "metadata": {
        "colab": {
          "base_uri": "https://localhost:8080/"
        },
        "id": "ifx3kmHBf9b6",
        "outputId": "65425102-0b37-4590-c101-41bc207611d0"
      },
      "execution_count": null,
      "outputs": [
        {
          "output_type": "execute_result",
          "data": {
            "text/plain": [
              "[71912, 10283, 1525, 1339, 393]"
            ]
          },
          "metadata": {},
          "execution_count": 277
        }
      ]
    },
    {
      "cell_type": "code",
      "source": [
        "filters=[0,1,2,3,4,5]\n",
        "counts=[]\n",
        "for i in range(len(filters)):\n",
        "  count=np.array(train_data)==filters[i]\n",
        "  counts.append(np.sum(count))\n",
        "\n",
        "plt.bar(range(len(filters)),counts)\n",
        "plt.xlabel('counts')\n",
        "plt.ylabel('filters ')"
      ],
      "metadata": {
        "colab": {
          "base_uri": "https://localhost:8080/",
          "height": 311
        },
        "id": "Vx0i8S7jmNIQ",
        "outputId": "f7678eda-6fc9-4937-d5ab-7857abd53bad"
      },
      "execution_count": null,
      "outputs": [
        {
          "output_type": "execute_result",
          "data": {
            "text/plain": [
              "Text(0, 0.5, 'filters ')"
            ]
          },
          "metadata": {},
          "execution_count": 129
        },
        {
          "output_type": "display_data",
          "data": {
            "text/plain": [
              "<Figure size 432x288 with 1 Axes>"
            ],
            "image/png": "[encoded data removed]"
          },
          "metadata": {}
        }
      ]
    },
    {
      "cell_type": "code",
      "source": [
        "counts"
      ],
      "metadata": {
        "colab": {
          "base_uri": "https://localhost:8080/"
        },
        "id": "J_CXATpInorT",
        "outputId": "16a7984e-fc06-4dfb-9db5-9fc6611fa764"
      },
      "execution_count": null,
      "outputs": [
        {
          "output_type": "execute_result",
          "data": {
            "text/plain": [
              "[0, 299025]"
            ]
          },
          "metadata": {},
          "execution_count": 128
        }
      ]
    },
    {
      "cell_type": "code",
      "source": [
        "obj_ids=train_data['object_id'].values\n",
        "obj_ids_unique=np.unique(obj_ids)"
      ],
      "metadata": {
        "id": "rnXebp8an1g4"
      },
      "execution_count": null,
      "outputs": []
    },
    {
      "cell_type": "code",
      "source": [
        "counts=[]\n",
        "for i in range(len(obj_ids_unique)):\n",
        "  count=np.array(train_data)==obj_ids_unique[i]\n",
        "  counts.append(np.sum(count))\n",
        "\n",
        "plt.bar(range(len(obj_ids_unique)),counts)\n",
        "plt.xlabel('counts')\n",
        "plt.ylabel('filters ')"
      ],
      "metadata": {
        "colab": {
          "base_uri": "https://localhost:8080/",
          "height": 300
        },
        "id": "xl7yB6l7ozYy",
        "outputId": "41901d19-51d0-433d-99b7-dc203d7b8404"
      },
      "execution_count": null,
      "outputs": [
        {
          "output_type": "execute_result",
          "data": {
            "text/plain": [
              "Text(0, 0.5, 'filters ')"
            ]
          },
          "metadata": {},
          "execution_count": 137
        },
        {
          "output_type": "display_data",
          "data": {
            "text/plain": [
              "<Figure size 432x288 with 1 Axes>"
            ],
            "image/png": "[encoded data removed]"
          },
          "metadata": {}
        }
      ]
    },
    {
      "cell_type": "code",
      "source": [
        "plt.bar(range(len(obj_ids_unique)),counts)\n",
        "plt.xlabel('counts')\n",
        "plt.ylabel('obj_ids ')"
      ],
      "metadata": {
        "colab": {
          "base_uri": "https://localhost:8080/",
          "height": 300
        },
        "id": "8TuEWU7rpHSe",
        "outputId": "5016cec4-4647-4ed6-ca1d-816e8be28a14"
      },
      "execution_count": null,
      "outputs": [
        {
          "output_type": "execute_result",
          "data": {
            "text/plain": [
              "Text(0, 0.5, 'obj_ids ')"
            ]
          },
          "metadata": {},
          "execution_count": 140
        },
        {
          "output_type": "display_data",
          "data": {
            "text/plain": [
              "<Figure size 432x288 with 1 Axes>"
            ],
            "image/png": "[encoded data removed]"
          },
          "metadata": {}
        }
      ]
    },
    {
      "cell_type": "code",
      "source": [
        "np.min(counts)"
      ],
      "metadata": {
        "colab": {
          "base_uri": "https://localhost:8080/"
        },
        "id": "TYEHLLXbpN4J",
        "outputId": "77869b60-5fd3-4386-e481-4143dcf3417c"
      },
      "execution_count": null,
      "outputs": [
        {
          "output_type": "execute_result",
          "data": {
            "text/plain": [
              "255"
            ]
          },
          "metadata": {},
          "execution_count": 141
        }
      ]
    },
    {
      "cell_type": "code",
      "source": [
        "amplitudes=[]\n",
        "for i in range(len(obj_ids_unique)):\n",
        "  lines=train_data[train_data['object_id']==obj_ids_unique[i]]\n",
        "  flux=lines['flux'].values\n",
        "  amplitudes.append(abs(np.max(flux))+abs(np.min(flux)))"
      ],
      "metadata": {
        "id": "XZU7_v5sr1us"
      },
      "execution_count": null,
      "outputs": []
    },
    {
      "cell_type": "code",
      "source": [
        "end=20\n",
        "plt.bar(range(len(obj_ids_unique[:end])),amplitudes[:end])\n",
        "#plt.bar(range(len(obj_ids_unique)),amplitudes)\n",
        "plt.xlabel('objs')\n",
        "plt.ylabel('amplitudes ')"
      ],
      "metadata": {
        "colab": {
          "base_uri": "https://localhost:8080/",
          "height": 302
        },
        "id": "KiZlD61Or4T0",
        "outputId": "8a806c7f-9112-475f-aa7f-64aaf8bada6b"
      },
      "execution_count": null,
      "outputs": [
        {
          "output_type": "execute_result",
          "data": {
            "text/plain": [
              "Text(0, 0.5, 'amplitudes ')"
            ]
          },
          "metadata": {},
          "execution_count": 166
        },
        {
          "output_type": "display_data",
          "data": {
            "text/plain": [
              "<Figure size 432x288 with 1 Axes>"
            ],
            "image/png": "[encoded data removed]"
          },
          "metadata": {}
        }
      ]
    },
    {
      "cell_type": "code",
      "source": [
        "fluxes=[]\n",
        "for i in range(len(obj_ids_unique)):\n",
        "  lines=train_data[train_data['object_id']==obj_ids_unique[i]]\n",
        "  flux=lines['flux'].values\n",
        "  #fluxes.append([])\n",
        "  fluxes.append(flux)"
      ],
      "metadata": {
        "id": "oF1TRzGUvD2x"
      },
      "execution_count": null,
      "outputs": []
    },
    {
      "cell_type": "code",
      "source": [
        "import sklearn.preprocessing as pre\n",
        "fluxes[0] = fluxes[0].reshape(-1, 1)\n",
        "\n",
        "x_norm = pre.MinMaxScaler(feature_range=(-1,1)).fit_transform(fluxes[0])"
      ],
      "metadata": {
        "id": "BGe4iMmyxQmt"
      },
      "execution_count": null,
      "outputs": []
    },
    {
      "cell_type": "code",
      "source": [
        "np.array(len(fluxes[i]))"
      ],
      "metadata": {
        "colab": {
          "base_uri": "https://localhost:8080/"
        },
        "id": "IiiCcCJrxYRG",
        "outputId": "4c0dfb4a-6909-4c28-b462-89513ff19b8e"
      },
      "execution_count": null,
      "outputs": [
        {
          "output_type": "execute_result",
          "data": {
            "text/plain": [
              "array(7848)"
            ]
          },
          "metadata": {},
          "execution_count": 39
        }
      ]
    },
    {
      "cell_type": "code",
      "source": [
        "u=[]\n",
        "g=[]\n",
        "r=[]\n",
        "i=[]\n",
        "z=[]\n",
        "Y=[]\n",
        "\n",
        "for j in range(len(filters)):\n",
        "  u=\n",
        "\n",
        "for i in range(len(obj_ids_unique)):\n",
        "  for j in range(len(filters)):\n",
        "\n",
        "    fluxes[i] = fluxes[i].reshape(-1, 1)\n",
        "    x_norm = pre.MinMaxScaler(feature_range=(-1,1)).fit_transform(fluxes[i])"
      ],
      "metadata": {
        "id": "4YNm3GWQWpHN"
      },
      "execution_count": null,
      "outputs": []
    },
    {
      "cell_type": "code",
      "source": [
        "rt=tf.ragged.constant(fluxes)\n",
        "rt = rt.to_tensor()"
      ],
      "metadata": {
        "id": "3HEkGxarayu_"
      },
      "execution_count": null,
      "outputs": []
    },
    {
      "cell_type": "code",
      "source": [
        "np.max(rt[0])"
      ],
      "metadata": {
        "colab": {
          "base_uri": "https://localhost:8080/"
        },
        "id": "LFt3uiJXa2X-",
        "outputId": "1e72bc0c-a4f0-410b-f9ca-87753dff31a0"
      },
      "execution_count": null,
      "outputs": [
        {
          "output_type": "execute_result",
          "data": {
            "text/plain": [
              "0.32104570497163804"
            ]
          },
          "metadata": {},
          "execution_count": 62
        }
      ]
    },
    {
      "cell_type": "code",
      "source": [
        "test=tf.reduce_min(rt[0])\n",
        "test"
      ],
      "metadata": {
        "colab": {
          "base_uri": "https://localhost:8080/"
        },
        "id": "yzkPPdG7a9Rq",
        "outputId": "268b9861-6d06-4032-f0fc-972223a6ed17"
      },
      "execution_count": null,
      "outputs": [
        {
          "output_type": "execute_result",
          "data": {
            "text/plain": [
              "<tf.Tensor: shape=(), dtype=float64, numpy=-1100.440063>"
            ]
          },
          "metadata": {},
          "execution_count": 71
        }
      ]
    },
    {
      "cell_type": "code",
      "source": [
        "x_train = tf.keras.preprocessing.sequence.pad_sequences(fluxes, maxlen=352, padding='post')\n",
        "x_norm = pre.MinMaxScaler(feature_range=(-1,1)).fit_transform(x_norm)"
      ],
      "metadata": {
        "id": "TCTWdDE4f6GG"
      },
      "execution_count": null,
      "outputs": []
    },
    {
      "cell_type": "code",
      "source": [
        "x_train"
      ],
      "metadata": {
        "colab": {
          "base_uri": "https://localhost:8080/"
        },
        "id": "DOPE_xNyhEvO",
        "outputId": "2f198a7c-9bcd-408c-b6cd-c00d1d123bdd"
      },
      "execution_count": null,
      "outputs": [
        {
          "output_type": "execute_result",
          "data": {
            "text/plain": [
              "array([[-544, -816, -471, ...,  296,  235,  157],\n",
              "       [   9,    7,    6, ...,   -8,    0,    0],\n",
              "       [   1,    2,    2, ...,    0,    0,    0],\n",
              "       ...,\n",
              "       [  59,  -14,    7, ...,    0,    0,    0],\n",
              "       [   8,  -10,   -2, ...,    0,    0,    0],\n",
              "       [ 571,  749,  811, ...,    0,    0,    0]], dtype=int32)"
            ]
          },
          "metadata": {},
          "execution_count": 87
        }
      ]
    },
    {
      "cell_type": "code",
      "source": [
        "x_norm = pre.MinMaxScaler(feature_range=(-1,1)).fit_transform(x_norm)"
      ],
      "metadata": {
        "id": "-CUXTfEVhIl6"
      },
      "execution_count": null,
      "outputs": []
    },
    {
      "cell_type": "code",
      "source": [
        "np.min(x_norm[2])"
      ],
      "metadata": {
        "colab": {
          "base_uri": "https://localhost:8080/"
        },
        "id": "kmowTaB6hfL2",
        "outputId": "660da876-386b-4479-822b-4d8851aebd0e"
      },
      "execution_count": null,
      "outputs": [
        {
          "output_type": "execute_result",
          "data": {
            "text/plain": [
              "-0.979298306561611"
            ]
          },
          "metadata": {},
          "execution_count": 91
        }
      ]
    },
    {
      "cell_type": "code",
      "source": [
        "metadata_train['target'].values"
      ],
      "metadata": {
        "colab": {
          "base_uri": "https://localhost:8080/"
        },
        "id": "66lN5h2KhgUQ",
        "outputId": "3f2aaa56-0629-4f00-fd6a-ab98a003b778"
      },
      "execution_count": null,
      "outputs": [
        {
          "output_type": "execute_result",
          "data": {
            "text/plain": [
              "array([92, 88, 42, ..., 16, 65,  6])"
            ]
          },
          "metadata": {},
          "execution_count": 93
        }
      ]
    },
    {
      "cell_type": "code",
      "source": [
        "metadata_train['object_id']"
      ],
      "metadata": {
        "colab": {
          "base_uri": "https://localhost:8080/"
        },
        "id": "PXBVnnb7w8l6",
        "outputId": "3f7ecaf5-d8c2-47b4-8c8e-e2ebf2a0757a"
      },
      "execution_count": null,
      "outputs": [
        {
          "output_type": "execute_result",
          "data": {
            "text/plain": [
              "0             615\n",
              "1             713\n",
              "2             730\n",
              "3             745\n",
              "4            1124\n",
              "          ...    \n",
              "7843    130739978\n",
              "7844    130755807\n",
              "7845    130762946\n",
              "7846    130772921\n",
              "7847    130779836\n",
              "Name: object_id, Length: 7848, dtype: int64"
            ]
          },
          "metadata": {},
          "execution_count": 94
        }
      ]
    },
    {
      "cell_type": "code",
      "source": [
        "obj_ids_unique"
      ],
      "metadata": {
        "colab": {
          "base_uri": "https://localhost:8080/"
        },
        "id": "neEfiTcnxCyN",
        "outputId": "12470e3e-1b14-46c2-db6c-4d1b788131de"
      },
      "execution_count": null,
      "outputs": [
        {
          "output_type": "execute_result",
          "data": {
            "text/plain": [
              "array([      615,       713,       730, ..., 130762946, 130772921,\n",
              "       130779836])"
            ]
          },
          "metadata": {},
          "execution_count": 96
        }
      ]
    },
    {
      "cell_type": "code",
      "source": [
        "obj_ids=metadata_train['object_id'].values\n",
        "tables=[]\n",
        "for i in range(len(obj_ids)):\n",
        "  lines=train_data[train_data['object_id']==obj_ids[i]]\n",
        "  flux=lines['flux'].values\n",
        "  error=lines['flux_err'].values\n",
        "  mjd=lines['mjd'].values\n",
        "  filter=lines['passband'].values\n",
        "  fluxes.append(flux)\n",
        "  errors.append(error)\n",
        "  mjds.append(mjd)\n",
        "  filters.append(filter)\n",
        "  table=np.array([mjd,fluxes,errors,filters])\n",
        "  tables.append(table)\n",
        "\n",
        "x = tf.keras.preprocessing.sequence.pad_sequences(fluxes, maxlen=352, padding='post')\n",
        "y = metadata_train['target'].values\n",
        "y = pre.LabelBinarizer().fit_transform(y)\n",
        "\n",
        "x_train, x_valid, y_train, y_valid = train_test_split(x, y, test_size=0.1, random_state=42)\n",
        "\n",
        "scaler=pre.MinMaxScaler(feature_range=(-1,1)).fit(x_train)\n",
        "\n",
        "x_train = scaler.transform(x_train)\n",
        "x_valid = scaler.transform(x_train)"
      ],
      "metadata": {
        "colab": {
          "base_uri": "https://localhost:8080/",
          "height": 244
        },
        "id": "1kMLQUGhiW_h",
        "outputId": "51153ad4-74f6-49da-ca4b-585a71b1b535"
      },
      "execution_count": null,
      "outputs": [
        {
          "output_type": "error",
          "ename": "NameError",
          "evalue": "ignored",
          "traceback": [
            "\u001b[0;31m---------------------------------------------------------------------------\u001b[0m",
            "\u001b[0;31mNameError\u001b[0m                                 Traceback (most recent call last)",
            "\u001b[0;32m<ipython-input-6-8dd8c2175ac6>\u001b[0m in \u001b[0;36m<module>\u001b[0;34m\u001b[0m\n\u001b[1;32m      7\u001b[0m   \u001b[0mmjd\u001b[0m\u001b[0;34m=\u001b[0m\u001b[0mlines\u001b[0m\u001b[0;34m[\u001b[0m\u001b[0;34m'mjd'\u001b[0m\u001b[0;34m]\u001b[0m\u001b[0;34m.\u001b[0m\u001b[0mvalues\u001b[0m\u001b[0;34m\u001b[0m\u001b[0;34m\u001b[0m\u001b[0m\n\u001b[1;32m      8\u001b[0m   \u001b[0mfilter\u001b[0m\u001b[0;34m=\u001b[0m\u001b[0mlines\u001b[0m\u001b[0;34m[\u001b[0m\u001b[0;34m'passband'\u001b[0m\u001b[0;34m]\u001b[0m\u001b[0;34m.\u001b[0m\u001b[0mvalues\u001b[0m\u001b[0;34m\u001b[0m\u001b[0;34m\u001b[0m\u001b[0m\n\u001b[0;32m----> 9\u001b[0;31m   \u001b[0mfluxes\u001b[0m\u001b[0;34m.\u001b[0m\u001b[0mappend\u001b[0m\u001b[0;34m(\u001b[0m\u001b[0mflux\u001b[0m\u001b[0;34m)\u001b[0m\u001b[0;34m\u001b[0m\u001b[0;34m\u001b[0m\u001b[0m\n\u001b[0m\u001b[1;32m     10\u001b[0m   \u001b[0merrors\u001b[0m\u001b[0;34m.\u001b[0m\u001b[0mappend\u001b[0m\u001b[0;34m(\u001b[0m\u001b[0merror\u001b[0m\u001b[0;34m)\u001b[0m\u001b[0;34m\u001b[0m\u001b[0;34m\u001b[0m\u001b[0m\n\u001b[1;32m     11\u001b[0m   \u001b[0mmjds\u001b[0m\u001b[0;34m.\u001b[0m\u001b[0mappend\u001b[0m\u001b[0;34m(\u001b[0m\u001b[0mmjd\u001b[0m\u001b[0;34m)\u001b[0m\u001b[0;34m\u001b[0m\u001b[0;34m\u001b[0m\u001b[0m\n",
            "\u001b[0;31mNameError\u001b[0m: name 'fluxes' is not defined"
          ]
        }
      ]
    },
    {
      "cell_type": "code",
      "source": [
        "\n",
        "\n",
        "obj_ids=metadata_train['object_id']\n",
        "tables=[]\n",
        "for i in range(len(obj_ids)):\n",
        "  lines=train_data[train_data['object_id']==obj_ids[i]]\n",
        "  flux=np.array(lines['flux'].values)\n",
        "  error=np.array(lines['flux_err'].values)\n",
        "  mjd=np.array(lines['mjd'].values)\n",
        "  filter=np.array(lines['passband'].values)\n",
        "  table=np.array([mjd,flux,error,filter],dtype=np.float32).T\n",
        "  table=normalize_table(table)\n",
        "  tables.append(table)"
      ],
      "metadata": {
        "id": "ax9CxldSxyV2"
      },
      "execution_count": null,
      "outputs": []
    },
    {
      "cell_type": "code",
      "source": [
        "obj_ids=metadata_train['object_id']\n",
        "tables=[]\n",
        "for i in range(len(obj_ids)):\n",
        "  lines=train_data[train_data['object_id']==obj_ids[i]]\n",
        "lines"
      ],
      "metadata": {
        "id": "NrE2mFHunK41"
      },
      "execution_count": null,
      "outputs": []
    },
    {
      "cell_type": "code",
      "source": [
        "def normalize_table(tab):\n",
        "  f_scaler=pre.MinMaxScaler(feature_range=(0,1)).fit(tab[:,1:3])\n",
        "  #e_scaler=pre.MinMaxScaler(feature_range=(-1,1)).fit(tab[:,2])\n",
        "  tab[:,1:3]=f_scaler.transform(tab[:,1:3])\n",
        "  #tab[:,2]=e_scaler.transform(tab[:,2])\n",
        "  tab[:,0]=tab[:,0]-np.min(tab[:,0])\n",
        "\n",
        "  return tab\n",
        "\n",
        "def pre_process(data_df,metadata_df):\n",
        "  obj_ids=metadata_df['object_id']\n",
        "  tables=[]\n",
        "  for i in range(len(obj_ids)):\n",
        "    if obj_ids[i]!=99:\n",
        "      lines=data_df[data_df['object_id']==obj_ids[i]]\n",
        "      flux=np.array(lines['flux'].values)\n",
        "      error=np.array(lines['flux_err'].values)\n",
        "      mjd=np.array(lines['mjd'].values)\n",
        "      filter=np.array(lines['passband'].values)\n",
        "      table=np.array([mjd,flux,error,filter],dtype=np.float32).T\n",
        "      table=normalize_table(table)\n",
        "      tables.append(table)\n",
        "  if obj_ids[i]!=99:\n",
        "    y = metadata_train['target'].values\n",
        "    my_dict={42: 0,\n",
        "        52: 0,\n",
        "        62: 0,\n",
        "        67: 0,\n",
        "        90: 0,\n",
        "        6: 1,\n",
        "       64: 1,\n",
        "       65: 1,\n",
        "       15: 2,\n",
        "       95: 2,\n",
        "       16: 3,\n",
        "        53: 3,\n",
        "        92: 3,\n",
        "        88:4\n",
        "        }\n",
        "    y=[my_dict[i] for i in y]\n",
        "    y = pre.LabelBinarizer().fit_transform(y)\n",
        "\n",
        "    \n",
        "\n",
        "  return tables,y"
      ],
      "metadata": {
        "id": "89tSpR0Dw0tp"
      },
      "execution_count": 4,
      "outputs": []
    },
    {
      "cell_type": "code",
      "source": [
        "from tqdm.notebook import tqdm\n",
        "\n",
        "def normalize_table(tab):\n",
        "  f_scaler=pre.MinMaxScaler(feature_range=(0,1)).fit(tab[:,1:3])\n",
        "  #e_scaler=pre.MinMaxScaler(feature_range=(-1,1)).fit(tab[:,2])\n",
        "  tab[:,1:3]=f_scaler.transform(tab[:,1:3])\n",
        "  #tab[:,2]=e_scaler.transform(tab[:,2])\n",
        "  tab[:,0]=tab[:,0]-np.min(tab[:,0])\n",
        "\n",
        "  return tab\n",
        "\n",
        "def pre_process(data_df,metadata_df,index):\n",
        "\n",
        "  if index == 1:\n",
        "    data_df = data_df.merge(metadata_df[['object_id', 'target']], how= 'inner', on = 'object_id')\n",
        "  if index == 0:\n",
        "    data_df = data_df.merge(metadata_df[['object_id', 'true_target']], how= 'inner', on = 'object_id')\n",
        "  \n",
        "  \n",
        "  \n",
        "  if 'true_target' in data_df.columns:\n",
        "   data_df = data_df.rename(columns = {'true_target': 'target'}, inplace = False)\n",
        "\n",
        "\n",
        "  obj_ids_def = data_df[data_df['target'] //99 != 10]\n",
        "  obj_ids = obj_ids_def['object_id'].unique()\n",
        "  groups = obj_ids_def.groupby(['object_id'])\n",
        "  tables=[]\n",
        "  y=[]\n",
        "  for i,iid in enumerate(tqdm(obj_ids)):\n",
        "      #lines = data_df[data_df['object_id'] == obj_ids[i]]\n",
        "      lines=groups.get_group(iid)\n",
        "      table = lines[['mjd', 'flux', 'flux_err', 'passband','detected_bool']].values\n",
        "      table = normalize_table(table)\n",
        "      tables.append(table)\n",
        "      y.append(lines['target'].values[0])\n",
        "  \n",
        "\n",
        "      \n",
        "  my_dict={42: 0,\n",
        "           52: 0,\n",
        "           62: 0,\n",
        "           67: 0,\n",
        "           90: 0,\n",
        "           6: 1,\n",
        "           64: 1,\n",
        "           65: 1,\n",
        "           15: 2,\n",
        "           95: 2,\n",
        "           16: 3,\n",
        "           53: 3,\n",
        "           92: 3,\n",
        "           88:4\n",
        "        }\n",
        "  y=[my_dict[i] for i in y]\n",
        "  y = pre.LabelBinarizer().fit_transform(y)\n",
        "\n",
        "  return tables, y"
      ],
      "metadata": {
        "id": "L_kBbTwppiiJ"
      },
      "execution_count": 5,
      "outputs": []
    },
    {
      "cell_type": "code",
      "source": [
        "x_train,y_train=pre_process(train_data,metadata_train,1)\n",
        "x_test,y_test=pre_process(test_data,metadata_test,0)"
      ],
      "metadata": {
        "colab": {
          "base_uri": "https://localhost:8080/"
        },
        "id": "UfYSrWw_x3I8",
        "outputId": "3182ef5d-ecfd-4bab-d9e7-e4f7446f9281"
      },
      "execution_count": 11,
      "outputs": [
        {
          "output_type": "stream",
          "name": "stderr",
          "text": [
            "100%|██████████| 7848/7848 [00:14<00:00, 530.44it/s] \n",
            "100%|██████████| 19920/19920 [00:22<00:00, 903.99it/s]\n"
          ]
        }
      ]
    },
    {
      "cell_type": "code",
      "source": [
        "np.diff(x_train[i][:,0])"
      ],
      "metadata": {
        "colab": {
          "base_uri": "https://localhost:8080/"
        },
        "id": "n0luHV8u42he",
        "outputId": "9c585fa9-6337-4f58-e003-660e3727325b"
      },
      "execution_count": null,
      "outputs": [
        {
          "output_type": "execute_result",
          "data": {
            "text/plain": [
              "array([[0.00000000e+00, 3.15507557e-01, 1.39285795e-01, 2.00000000e+00,\n",
              "        1.00000000e+00],\n",
              "       [7.70000000e-03, 1.61269181e-01, 3.19446770e-01, 1.00000000e+00,\n",
              "        1.00000000e+00],\n",
              "       [1.54000000e-02, 3.57200916e-01, 1.55922438e-01, 3.00000000e+00,\n",
              "        1.00000000e+00],\n",
              "       ...,\n",
              "       [8.73768400e+02, 7.93488872e-01, 1.25477813e-01, 3.00000000e+00,\n",
              "        1.00000000e+00],\n",
              "       [8.73779300e+02, 7.58591492e-01, 1.67618700e-01, 4.00000000e+00,\n",
              "        1.00000000e+00],\n",
              "       [8.73790300e+02, 7.14067487e-01, 5.90072275e-01, 5.00000000e+00,\n",
              "        1.00000000e+00]])"
            ]
          },
          "metadata": {},
          "execution_count": 376
        }
      ]
    },
    {
      "cell_type": "code",
      "source": [
        "pad_x_train=tf.keras.preprocessing.sequence.pad_sequences(x_train,value=-99 ,maxlen=352, padding='post',dtype=np.float32)\n",
        "pad_x_test=tf.keras.preprocessing.sequence.pad_sequences(x_test,value=-99 ,maxlen=352, padding='post',dtype=np.float32)\n",
        "\n",
        "#x_train = tf.RaggedTensor.from_row_lengths(values=tf.concat(x_train, axis=0), row_lengths=[a.shape[0] for a in x_train])\n",
        "#input_lc = tfkl.Input(inputs['lc'].shape[1:], name='lc')"
      ],
      "metadata": {
        "id": "iQEl2C8yphWQ"
      },
      "execution_count": 12,
      "outputs": []
    },
    {
      "cell_type": "code",
      "source": [
        "np.save('/content/drive/MyDrive/Data_numpy/pad_x_train.npy',pad_x_train)\n",
        "np.save('/content/drive/MyDrive/Data_numpy/pad_x_test.npy',pad_x_test)"
      ],
      "metadata": {
        "id": "0MwJcD2XDsYZ"
      },
      "execution_count": null,
      "outputs": []
    },
    {
      "cell_type": "code",
      "source": [
        "np.any(np.diff(pad_x_train[:,:,0])) <0 "
      ],
      "metadata": {
        "colab": {
          "base_uri": "https://localhost:8080/"
        },
        "id": "gilaiJ188ovy",
        "outputId": "de4019f9-09e9-4900-bf2d-edb4d7376626"
      },
      "execution_count": 14,
      "outputs": [
        {
          "output_type": "execute_result",
          "data": {
            "text/plain": [
              "False"
            ]
          },
          "metadata": {},
          "execution_count": 14
        }
      ]
    },
    {
      "cell_type": "code",
      "source": [
        "x_train, x_valid, y_train, y_valid = train_test_split(pad_x_train, y_train, test_size=0.10, random_state=42)\n",
        "\n",
        "#x_train=np.array([xn.astype('float32') for xn in x_train])#x_train.astype('float32')\n",
        "#y_train=y_train.astype('float32')"
      ],
      "metadata": {
        "id": "Sp472jYMVVAs"
      },
      "execution_count": 13,
      "outputs": []
    },
    {
      "cell_type": "code",
      "source": [
        "np.min(x_train[1][:,0])"
      ],
      "metadata": {
        "colab": {
          "base_uri": "https://localhost:8080/"
        },
        "id": "Y7LSzeUO6gWz",
        "outputId": "f71819be-8a1d-4c10-d3e6-f628f543857d"
      },
      "execution_count": null,
      "outputs": [
        {
          "output_type": "execute_result",
          "data": {
            "text/plain": [
              "0.0"
            ]
          },
          "metadata": {},
          "execution_count": 374
        }
      ]
    },
    {
      "cell_type": "code",
      "source": [
        "x_train.shape"
      ],
      "metadata": {
        "colab": {
          "base_uri": "https://localhost:8080/"
        },
        "id": "ZCiVsp_EG8UI",
        "outputId": "ff8f438f-f72f-47d2-f1b7-5995ec4050c3"
      },
      "execution_count": null,
      "outputs": [
        {
          "output_type": "execute_result",
          "data": {
            "text/plain": [
              "(7063, 352, 4)"
            ]
          },
          "metadata": {},
          "execution_count": 330
        }
      ]
    },
    {
      "cell_type": "code",
      "source": [
        "np.unique(y.argmax(1), return_counts=True)[1]"
      ],
      "metadata": {
        "colab": {
          "base_uri": "https://localhost:8080/"
        },
        "id": "dcEQwqdtgwlg",
        "outputId": "c8d41cd7-09ee-449e-ea9f-ee38188734c6"
      },
      "execution_count": null,
      "outputs": [
        {
          "output_type": "execute_result",
          "data": {
            "text/plain": [
              "array([4381, 1234,  670, 1193,  370])"
            ]
          },
          "metadata": {},
          "execution_count": 331
        }
      ]
    },
    {
      "cell_type": "code",
      "source": [
        "x_valid.shape"
      ],
      "metadata": {
        "colab": {
          "base_uri": "https://localhost:8080/"
        },
        "id": "gwN-TZ8sHCro",
        "outputId": "0c8daed5-d8d0-46f1-f6b9-62a4d6b0078c"
      },
      "execution_count": null,
      "outputs": [
        {
          "output_type": "execute_result",
          "data": {
            "text/plain": [
              "(777, 352, 4)"
            ]
          },
          "metadata": {},
          "execution_count": 231
        }
      ]
    },
    {
      "cell_type": "code",
      "source": [
        "np.expand_dims(x_train[0], axis=0).shape"
      ],
      "metadata": {
        "colab": {
          "base_uri": "https://localhost:8080/"
        },
        "id": "F81UBSa3YBSe",
        "outputId": "73d1132a-4a3e-4134-a25d-9d5f70ccc1b3"
      },
      "execution_count": null,
      "outputs": [
        {
          "output_type": "execute_result",
          "data": {
            "text/plain": [
              "(1, 351, 4)"
            ]
          },
          "metadata": {},
          "execution_count": 192
        }
      ]
    },
    {
      "cell_type": "code",
      "source": [
        "my_dict={42: 0,\n",
        "        52: 0,\n",
        "        62: 0,\n",
        "        67: 0,\n",
        "        90: 0,\n",
        "        6: 1,\n",
        "       64: 1,\n",
        "       65: 1,\n",
        "       15: 2,\n",
        "       95: 2,\n",
        "       16: 3,\n",
        "        53: 3,\n",
        "        92: 3,\n",
        "        88:4\n",
        "        }\n",
        "metadata_train['target_mapped']=metadata_train['target'].map(my_dict)\n",
        "classes=[0,1,2,3,4]\n",
        "counts=[]\n",
        "for i in range(len(classes)):\n",
        "  count=np.array(metadata_train)==classes[i]\n",
        "  counts.append(np.sum(count))\n"
      ],
      "metadata": {
        "id": "J9T0TDYMYlcM"
      },
      "execution_count": null,
      "outputs": []
    },
    {
      "cell_type": "code",
      "source": [
        "class_weight={0:np.sum(counts)/counts[0],\n",
        "             1:np.sum(counts)/counts[1],\n",
        "             2:np.sum(counts)/counts[2],\n",
        "             3:np.sum(counts)/counts[3],\n",
        "             4:np.sum(counts)/counts[4]\n",
        "    }\n",
        "\n",
        "class_weight"
      ],
      "metadata": {
        "colab": {
          "base_uri": "https://localhost:8080/"
        },
        "id": "TZ3HPN_nYOyv",
        "outputId": "3696f942-cbf0-49b4-9c85-2b342e7b3e4b"
      },
      "execution_count": null,
      "outputs": [
        {
          "output_type": "execute_result",
          "data": {
            "text/plain": [
              "{0: 1.7913718329148596,\n",
              " 1: 6.359805510534846,\n",
              " 2: 11.713432835820896,\n",
              " 3: 6.57837384744342,\n",
              " 4: 21.21081081081081}"
            ]
          },
          "metadata": {},
          "execution_count": 285
        }
      ]
    },
    {
      "cell_type": "code",
      "source": [
        "from tensorflow.keras.models import Sequential\n",
        "from tensorflow.keras.layers import LSTM, RepeatVector, TimeDistributed, GlobalMaxPool1D\n",
        "from tensorflow.keras.layers import Dense, Masking, Bidirectional, Conv1D,MaxPool1D\n",
        "import keras\n",
        "\n",
        "\n",
        "model = Sequential()\n",
        "model.add(Masking(mask_value=-99, input_shape=(352, 5)))\n",
        "\n",
        "#model.add(Conv1D(filters=32,kernel_size=2,activation='swish',input_shape=(352, 4)))\n",
        "#model.add(MaxPool1D())\n",
        "#model.add(Conv1D(filters=64,kernel_size=2,activation='swish'))\n",
        "#model.add(MaxPool1D())\n",
        "\n",
        "\n",
        "model.add(TimeDistributed(Dense(300,activation='swish')))#input_shape=(352, 4))))\n",
        "model.add(TimeDistributed(Dense(200,activation='swish')))\n",
        "\n",
        "model.add(Bidirectional(LSTM(512, activation='tanh', return_sequences=True),merge_mode='concat'))\n",
        "#model.add(Dropout(0.2))\n",
        "model.add(Bidirectional(LSTM(256, activation='tanh', return_sequences=True),merge_mode='concat'))\n",
        "\n",
        "model.add(GlobalMaxPool1D())\n",
        "#model.add(Dropout(0.2))\n",
        "\n",
        "model.add(Dense(128, activation='tanh'))\n",
        "model.add(Dropout(0.2))\n",
        "model.add(Dense(5, activation='Softmax'))\n",
        "\n",
        "optimizer = keras.optimizers.Adam(learning_rate=0.01)\n",
        "METRICS = [\n",
        "      keras.metrics.TruePositives(name='tp'),\n",
        "      keras.metrics.FalsePositives(name='fp'),\n",
        "      keras.metrics.TrueNegatives(name='tn'),\n",
        "      keras.metrics.FalseNegatives(name='fn'), \n",
        "      keras.metrics.BinaryAccuracy(name='accuracy'),\n",
        "      keras.metrics.Precision(name='precision'),\n",
        "      keras.metrics.Recall(name='recall'),\n",
        "      keras.metrics.AUC(name='auc'),\n",
        "      keras.metrics.AUC(name='prc', curve='PR'), # precision-recall curve\n",
        "]\n",
        "\n",
        "\n",
        "model.compile(optimizer=optimizer, loss='categorical_crossentropy', metrics = METRICS)\n",
        "\n",
        "\n",
        "\n",
        "\n",
        "\n",
        "callbacks = [\n",
        "    EarlyStopping(patience=10, verbose=1,restore_best_weights=True),\n",
        "    #ModelCheckpoint('model_teste01.h5', verbose=1, save_best_only=True, save_weights_only=True),\n",
        "    ReduceLROnPlateau(monitor='val_loss', verbose=1,factor=0.20,\n",
        "                              patience=5, min_lr=0.00001)\n",
        "]\n",
        "\n",
        "\n",
        "\n",
        "\n",
        "\n",
        "\n",
        "# fit model\n",
        "EPOCHS = 50\n",
        "BATCH_SIZE = 64\n",
        "\n",
        "history = model.fit(x=x_train,\n",
        "                    y=y_train,\n",
        "                        validation_data=(x_valid, y_valid),\n",
        "                        epochs=EPOCHS,\n",
        "                      callbacks=callbacks,\n",
        "                        batch_size=BATCH_SIZE,\n",
        "                    #class_weight=class_weight\n",
        "                    )\n",
        "     \n"
      ],
      "metadata": {
        "colab": {
          "base_uri": "https://localhost:8080/"
        },
        "id": "l1I3SF3WVf9v",
        "outputId": "436fcaa0-89ca-4fdd-b164-3f2b52a9bc7e"
      },
      "execution_count": 15,
      "outputs": [
        {
          "output_type": "stream",
          "name": "stderr",
          "text": [
            "/usr/local/lib/python3.8/dist-packages/keras/optimizers/optimizer_v2/adam.py:110: UserWarning: The `lr` argument is deprecated, use `learning_rate` instead.\n",
            "  super(Adam, self).__init__(name, **kwargs)\n"
          ]
        },
        {
          "output_type": "stream",
          "name": "stdout",
          "text": [
            "Epoch 1/50\n",
            "111/111 [==============================] - 52s 279ms/step - loss: 1.4851 - tp: 2709.0000 - fp: 2196.0000 - tn: 26056.0000 - fn: 4354.0000 - accuracy: 0.8145 - precision: 0.5523 - recall: 0.3835 - auc: 0.7429 - prc: 0.4375 - val_loss: 1.3295 - val_tp: 416.0000 - val_fp: 369.0000 - val_tn: 2771.0000 - val_fn: 369.0000 - val_accuracy: 0.8120 - val_precision: 0.5299 - val_recall: 0.5299 - val_auc: 0.7567 - val_prc: 0.4343 - lr: 0.0100\n",
            "Epoch 2/50\n",
            "111/111 [==============================] - 24s 214ms/step - loss: 1.3273 - tp: 2918.0000 - fp: 2304.0000 - tn: 25948.0000 - fn: 4145.0000 - accuracy: 0.8174 - precision: 0.5588 - recall: 0.4131 - auc: 0.7594 - prc: 0.4502 - val_loss: 1.4218 - val_tp: 416.0000 - val_fp: 369.0000 - val_tn: 2771.0000 - val_fn: 369.0000 - val_accuracy: 0.8120 - val_precision: 0.5299 - val_recall: 0.5299 - val_auc: 0.7468 - val_prc: 0.4432 - lr: 0.0100\n",
            "Epoch 3/50\n",
            "111/111 [==============================] - 24s 217ms/step - loss: 1.3076 - tp: 2936.0000 - fp: 2237.0000 - tn: 26015.0000 - fn: 4127.0000 - accuracy: 0.8198 - precision: 0.5676 - recall: 0.4157 - auc: 0.7650 - prc: 0.4586 - val_loss: 1.3482 - val_tp: 416.0000 - val_fp: 369.0000 - val_tn: 2771.0000 - val_fn: 369.0000 - val_accuracy: 0.8120 - val_precision: 0.5299 - val_recall: 0.5299 - val_auc: 0.7586 - val_prc: 0.4358 - lr: 0.0100\n",
            "Epoch 4/50\n",
            "111/111 [==============================] - 24s 216ms/step - loss: 1.3039 - tp: 3015.0000 - fp: 2401.0000 - tn: 25851.0000 - fn: 4048.0000 - accuracy: 0.8174 - precision: 0.5567 - recall: 0.4269 - auc: 0.7632 - prc: 0.4552 - val_loss: 1.3985 - val_tp: 416.0000 - val_fp: 369.0000 - val_tn: 2771.0000 - val_fn: 369.0000 - val_accuracy: 0.8120 - val_precision: 0.5299 - val_recall: 0.5299 - val_auc: 0.7377 - val_prc: 0.4272 - lr: 0.0100\n",
            "Epoch 5/50\n",
            "111/111 [==============================] - 24s 218ms/step - loss: 1.3091 - tp: 2823.0000 - fp: 2256.0000 - tn: 25996.0000 - fn: 4240.0000 - accuracy: 0.8161 - precision: 0.5558 - recall: 0.3997 - auc: 0.7636 - prc: 0.4600 - val_loss: 1.3178 - val_tp: 416.0000 - val_fp: 369.0000 - val_tn: 2771.0000 - val_fn: 369.0000 - val_accuracy: 0.8120 - val_precision: 0.5299 - val_recall: 0.5299 - val_auc: 0.7427 - val_prc: 0.4297 - lr: 0.0100\n",
            "Epoch 6/50\n",
            "111/111 [==============================] - 24s 219ms/step - loss: 1.3071 - tp: 2814.0000 - fp: 2163.0000 - tn: 26089.0000 - fn: 4249.0000 - accuracy: 0.8184 - precision: 0.5654 - recall: 0.3984 - auc: 0.7648 - prc: 0.4598 - val_loss: 1.3299 - val_tp: 416.0000 - val_fp: 369.0000 - val_tn: 2771.0000 - val_fn: 369.0000 - val_accuracy: 0.8120 - val_precision: 0.5299 - val_recall: 0.5299 - val_auc: 0.7389 - val_prc: 0.4275 - lr: 0.0100\n",
            "Epoch 7/50\n",
            "111/111 [==============================] - 24s 221ms/step - loss: 1.3031 - tp: 2790.0000 - fp: 2163.0000 - tn: 26089.0000 - fn: 4273.0000 - accuracy: 0.8178 - precision: 0.5633 - recall: 0.3950 - auc: 0.7655 - prc: 0.4615 - val_loss: 1.3456 - val_tp: 416.0000 - val_fp: 369.0000 - val_tn: 2771.0000 - val_fn: 369.0000 - val_accuracy: 0.8120 - val_precision: 0.5299 - val_recall: 0.5299 - val_auc: 0.7586 - val_prc: 0.4358 - lr: 0.0100\n",
            "Epoch 8/50\n",
            "111/111 [==============================] - 25s 223ms/step - loss: 1.3072 - tp: 2931.0000 - fp: 2284.0000 - tn: 25968.0000 - fn: 4132.0000 - accuracy: 0.8183 - precision: 0.5620 - recall: 0.4150 - auc: 0.7638 - prc: 0.4608 - val_loss: 1.3118 - val_tp: 416.0000 - val_fp: 369.0000 - val_tn: 2771.0000 - val_fn: 369.0000 - val_accuracy: 0.8120 - val_precision: 0.5299 - val_recall: 0.5299 - val_auc: 0.7562 - val_prc: 0.4340 - lr: 0.0100\n",
            "Epoch 9/50\n",
            "111/111 [==============================] - 25s 222ms/step - loss: 1.3092 - tp: 2745.0000 - fp: 2119.0000 - tn: 26133.0000 - fn: 4318.0000 - accuracy: 0.8177 - precision: 0.5644 - recall: 0.3886 - auc: 0.7650 - prc: 0.4645 - val_loss: 1.3541 - val_tp: 416.0000 - val_fp: 369.0000 - val_tn: 2771.0000 - val_fn: 369.0000 - val_accuracy: 0.8120 - val_precision: 0.5299 - val_recall: 0.5299 - val_auc: 0.7576 - val_prc: 0.4350 - lr: 0.0100\n",
            "Epoch 10/50\n",
            "111/111 [==============================] - 25s 224ms/step - loss: 1.3149 - tp: 2873.0000 - fp: 2295.0000 - tn: 25957.0000 - fn: 4190.0000 - accuracy: 0.8164 - precision: 0.5559 - recall: 0.4068 - auc: 0.7635 - prc: 0.4613 - val_loss: 1.3721 - val_tp: 0.0000e+00 - val_fp: 0.0000e+00 - val_tn: 3140.0000 - val_fn: 785.0000 - val_accuracy: 0.8000 - val_precision: 0.0000e+00 - val_recall: 0.0000e+00 - val_auc: 0.7506 - val_prc: 0.4327 - lr: 0.0100\n",
            "Epoch 11/50\n",
            "111/111 [==============================] - 25s 223ms/step - loss: 1.3062 - tp: 2933.0000 - fp: 2332.0000 - tn: 25920.0000 - fn: 4130.0000 - accuracy: 0.8170 - precision: 0.5571 - recall: 0.4153 - auc: 0.7637 - prc: 0.4558 - val_loss: 1.3385 - val_tp: 416.0000 - val_fp: 369.0000 - val_tn: 2771.0000 - val_fn: 369.0000 - val_accuracy: 0.8120 - val_precision: 0.5299 - val_recall: 0.5299 - val_auc: 0.7229 - val_prc: 0.4159 - lr: 0.0100\n",
            "Epoch 12/50\n",
            "111/111 [==============================] - 25s 223ms/step - loss: 1.3016 - tp: 3102.0000 - fp: 2399.0000 - tn: 25853.0000 - fn: 3961.0000 - accuracy: 0.8199 - precision: 0.5639 - recall: 0.4392 - auc: 0.7656 - prc: 0.4597 - val_loss: 1.3611 - val_tp: 416.0000 - val_fp: 369.0000 - val_tn: 2771.0000 - val_fn: 369.0000 - val_accuracy: 0.8120 - val_precision: 0.5299 - val_recall: 0.5299 - val_auc: 0.6895 - val_prc: 0.4016 - lr: 0.0100\n",
            "Epoch 13/50\n",
            "111/111 [==============================] - ETA: 0s - loss: 1.3209 - tp: 2827.0000 - fp: 2204.0000 - tn: 26048.0000 - fn: 4236.0000 - accuracy: 0.8176 - precision: 0.5619 - recall: 0.4003 - auc: 0.7635 - prc: 0.4600\n",
            "Epoch 13: ReduceLROnPlateau reducing learning rate to 0.0019999999552965165.\n",
            "111/111 [==============================] - 25s 223ms/step - loss: 1.3209 - tp: 2827.0000 - fp: 2204.0000 - tn: 26048.0000 - fn: 4236.0000 - accuracy: 0.8176 - precision: 0.5619 - recall: 0.4003 - auc: 0.7635 - prc: 0.4600 - val_loss: 1.3398 - val_tp: 0.0000e+00 - val_fp: 0.0000e+00 - val_tn: 3140.0000 - val_fn: 785.0000 - val_accuracy: 0.8000 - val_precision: 0.0000e+00 - val_recall: 0.0000e+00 - val_auc: 0.7586 - val_prc: 0.4358 - lr: 0.0100\n",
            "Epoch 14/50\n",
            "111/111 [==============================] - 25s 224ms/step - loss: 1.2797 - tp: 2928.0000 - fp: 2312.0000 - tn: 25940.0000 - fn: 4135.0000 - accuracy: 0.8174 - precision: 0.5588 - recall: 0.4146 - auc: 0.7700 - prc: 0.4646 - val_loss: 1.3173 - val_tp: 416.0000 - val_fp: 369.0000 - val_tn: 2771.0000 - val_fn: 369.0000 - val_accuracy: 0.8120 - val_precision: 0.5299 - val_recall: 0.5299 - val_auc: 0.7506 - val_prc: 0.4375 - lr: 0.0020\n",
            "Epoch 15/50\n",
            "111/111 [==============================] - 25s 223ms/step - loss: 1.2718 - tp: 3290.0000 - fp: 2554.0000 - tn: 25698.0000 - fn: 3773.0000 - accuracy: 0.8208 - precision: 0.5630 - recall: 0.4658 - auc: 0.7725 - prc: 0.4685 - val_loss: 1.3070 - val_tp: 416.0000 - val_fp: 369.0000 - val_tn: 2771.0000 - val_fn: 369.0000 - val_accuracy: 0.8120 - val_precision: 0.5299 - val_recall: 0.5299 - val_auc: 0.7586 - val_prc: 0.4358 - lr: 0.0020\n",
            "Epoch 16/50\n",
            "111/111 [==============================] - 25s 224ms/step - loss: 1.2679 - tp: 3534.0000 - fp: 2758.0000 - tn: 25494.0000 - fn: 3529.0000 - accuracy: 0.8220 - precision: 0.5617 - recall: 0.5004 - auc: 0.7712 - prc: 0.4571 - val_loss: 1.3051 - val_tp: 416.0000 - val_fp: 369.0000 - val_tn: 2771.0000 - val_fn: 369.0000 - val_accuracy: 0.8120 - val_precision: 0.5299 - val_recall: 0.5299 - val_auc: 0.7586 - val_prc: 0.4358 - lr: 0.0020\n",
            "Epoch 17/50\n",
            "111/111 [==============================] - 25s 223ms/step - loss: 1.2628 - tp: 3527.0000 - fp: 2758.0000 - tn: 25494.0000 - fn: 3536.0000 - accuracy: 0.8218 - precision: 0.5612 - recall: 0.4994 - auc: 0.7750 - prc: 0.4658 - val_loss: 1.3161 - val_tp: 416.0000 - val_fp: 369.0000 - val_tn: 2771.0000 - val_fn: 369.0000 - val_accuracy: 0.8120 - val_precision: 0.5299 - val_recall: 0.5299 - val_auc: 0.7585 - val_prc: 0.4361 - lr: 0.0020\n",
            "Epoch 18/50\n",
            "111/111 [==============================] - 25s 224ms/step - loss: 1.2694 - tp: 3490.0000 - fp: 2750.0000 - tn: 25502.0000 - fn: 3573.0000 - accuracy: 0.8210 - precision: 0.5593 - recall: 0.4941 - auc: 0.7705 - prc: 0.4570 - val_loss: 1.3056 - val_tp: 416.0000 - val_fp: 369.0000 - val_tn: 2771.0000 - val_fn: 369.0000 - val_accuracy: 0.8120 - val_precision: 0.5299 - val_recall: 0.5299 - val_auc: 0.7586 - val_prc: 0.4358 - lr: 0.0020\n",
            "Epoch 19/50\n",
            "111/111 [==============================] - 25s 224ms/step - loss: 1.2682 - tp: 3450.0000 - fp: 2690.0000 - tn: 25562.0000 - fn: 3613.0000 - accuracy: 0.8215 - precision: 0.5619 - recall: 0.4885 - auc: 0.7725 - prc: 0.4616 - val_loss: 1.3087 - val_tp: 416.0000 - val_fp: 369.0000 - val_tn: 2771.0000 - val_fn: 369.0000 - val_accuracy: 0.8120 - val_precision: 0.5299 - val_recall: 0.5299 - val_auc: 0.7570 - val_prc: 0.4344 - lr: 0.0020\n",
            "Epoch 20/50\n",
            "111/111 [==============================] - 25s 223ms/step - loss: 1.2624 - tp: 3664.0000 - fp: 2823.0000 - tn: 25429.0000 - fn: 3399.0000 - accuracy: 0.8238 - precision: 0.5648 - recall: 0.5188 - auc: 0.7746 - prc: 0.4638 - val_loss: 1.2911 - val_tp: 416.0000 - val_fp: 369.0000 - val_tn: 2771.0000 - val_fn: 369.0000 - val_accuracy: 0.8120 - val_precision: 0.5299 - val_recall: 0.5299 - val_auc: 0.7688 - val_prc: 0.4927 - lr: 0.0020\n",
            "Epoch 21/50\n",
            "111/111 [==============================] - 25s 224ms/step - loss: 1.1974 - tp: 3420.0000 - fp: 2283.0000 - tn: 25969.0000 - fn: 3643.0000 - accuracy: 0.8322 - precision: 0.5997 - recall: 0.4842 - auc: 0.8079 - prc: 0.5304 - val_loss: 1.1585 - val_tp: 383.0000 - val_fp: 257.0000 - val_tn: 2883.0000 - val_fn: 402.0000 - val_accuracy: 0.8321 - val_precision: 0.5984 - val_recall: 0.4879 - val_auc: 0.8241 - val_prc: 0.5306 - lr: 0.0020\n",
            "Epoch 22/50\n",
            "111/111 [==============================] - 25s 223ms/step - loss: 1.0923 - tp: 3707.0000 - fp: 2056.0000 - tn: 26196.0000 - fn: 3356.0000 - accuracy: 0.8468 - precision: 0.6432 - recall: 0.5248 - auc: 0.8435 - prc: 0.5661 - val_loss: 1.1328 - val_tp: 453.0000 - val_fp: 295.0000 - val_tn: 2845.0000 - val_fn: 332.0000 - val_accuracy: 0.8403 - val_precision: 0.6056 - val_recall: 0.5771 - val_auc: 0.8317 - val_prc: 0.5586 - lr: 0.0020\n",
            "Epoch 23/50\n",
            "111/111 [==============================] - 25s 223ms/step - loss: 1.0837 - tp: 3863.0000 - fp: 2194.0000 - tn: 26058.0000 - fn: 3200.0000 - accuracy: 0.8473 - precision: 0.6378 - recall: 0.5469 - auc: 0.8447 - prc: 0.5701 - val_loss: 1.1363 - val_tp: 452.0000 - val_fp: 291.0000 - val_tn: 2849.0000 - val_fn: 333.0000 - val_accuracy: 0.8410 - val_precision: 0.6083 - val_recall: 0.5758 - val_auc: 0.8285 - val_prc: 0.5149 - lr: 0.0020\n",
            "Epoch 24/50\n",
            "111/111 [==============================] - 25s 224ms/step - loss: 1.0832 - tp: 3855.0000 - fp: 2141.0000 - tn: 26111.0000 - fn: 3208.0000 - accuracy: 0.8485 - precision: 0.6429 - recall: 0.5458 - auc: 0.8448 - prc: 0.5685 - val_loss: 1.1225 - val_tp: 360.0000 - val_fp: 208.0000 - val_tn: 2932.0000 - val_fn: 425.0000 - val_accuracy: 0.8387 - val_precision: 0.6338 - val_recall: 0.4586 - val_auc: 0.8351 - val_prc: 0.5460 - lr: 0.0020\n",
            "Epoch 25/50\n",
            "111/111 [==============================] - 25s 224ms/step - loss: 1.0728 - tp: 3902.0000 - fp: 2132.0000 - tn: 26120.0000 - fn: 3161.0000 - accuracy: 0.8501 - precision: 0.6467 - recall: 0.5525 - auc: 0.8464 - prc: 0.5627 - val_loss: 1.1134 - val_tp: 385.0000 - val_fp: 223.0000 - val_tn: 2917.0000 - val_fn: 400.0000 - val_accuracy: 0.8413 - val_precision: 0.6332 - val_recall: 0.4904 - val_auc: 0.8380 - val_prc: 0.5558 - lr: 0.0020\n",
            "Epoch 26/50\n",
            "111/111 [==============================] - 25s 225ms/step - loss: 1.0678 - tp: 3924.0000 - fp: 2145.0000 - tn: 26107.0000 - fn: 3139.0000 - accuracy: 0.8504 - precision: 0.6466 - recall: 0.5556 - auc: 0.8485 - prc: 0.5709 - val_loss: 1.1057 - val_tp: 454.0000 - val_fp: 281.0000 - val_tn: 2859.0000 - val_fn: 331.0000 - val_accuracy: 0.8441 - val_precision: 0.6177 - val_recall: 0.5783 - val_auc: 0.8417 - val_prc: 0.5699 - lr: 0.0020\n",
            "Epoch 27/50\n",
            "111/111 [==============================] - 25s 225ms/step - loss: 1.0602 - tp: 3834.0000 - fp: 2054.0000 - tn: 26198.0000 - fn: 3229.0000 - accuracy: 0.8504 - precision: 0.6512 - recall: 0.5428 - auc: 0.8517 - prc: 0.5781 - val_loss: 1.1061 - val_tp: 442.0000 - val_fp: 265.0000 - val_tn: 2875.0000 - val_fn: 343.0000 - val_accuracy: 0.8451 - val_precision: 0.6252 - val_recall: 0.5631 - val_auc: 0.8392 - val_prc: 0.5670 - lr: 0.0020\n",
            "Epoch 28/50\n",
            "111/111 [==============================] - 25s 224ms/step - loss: 1.0463 - tp: 3904.0000 - fp: 2024.0000 - tn: 26228.0000 - fn: 3159.0000 - accuracy: 0.8532 - precision: 0.6586 - recall: 0.5527 - auc: 0.8545 - prc: 0.5844 - val_loss: 1.0670 - val_tp: 427.0000 - val_fp: 215.0000 - val_tn: 2925.0000 - val_fn: 358.0000 - val_accuracy: 0.8540 - val_precision: 0.6651 - val_recall: 0.5439 - val_auc: 0.8519 - val_prc: 0.5827 - lr: 0.0020\n",
            "Epoch 29/50\n",
            "111/111 [==============================] - 25s 224ms/step - loss: 1.0322 - tp: 4003.0000 - fp: 2041.0000 - tn: 26211.0000 - fn: 3060.0000 - accuracy: 0.8556 - precision: 0.6623 - recall: 0.5668 - auc: 0.8578 - prc: 0.5899 - val_loss: 1.0513 - val_tp: 428.0000 - val_fp: 239.0000 - val_tn: 2901.0000 - val_fn: 357.0000 - val_accuracy: 0.8482 - val_precision: 0.6417 - val_recall: 0.5452 - val_auc: 0.8567 - val_prc: 0.6232 - lr: 0.0020\n",
            "Epoch 30/50\n",
            "111/111 [==============================] - 25s 225ms/step - loss: 1.0056 - tp: 4084.0000 - fp: 1971.0000 - tn: 26281.0000 - fn: 2979.0000 - accuracy: 0.8598 - precision: 0.6745 - recall: 0.5782 - auc: 0.8654 - prc: 0.6139 - val_loss: 1.0441 - val_tp: 426.0000 - val_fp: 210.0000 - val_tn: 2930.0000 - val_fn: 359.0000 - val_accuracy: 0.8550 - val_precision: 0.6698 - val_recall: 0.5427 - val_auc: 0.8556 - val_prc: 0.5985 - lr: 0.0020\n",
            "Epoch 31/50\n",
            "111/111 [==============================] - 25s 226ms/step - loss: 0.9994 - tp: 4116.0000 - fp: 1962.0000 - tn: 26290.0000 - fn: 2947.0000 - accuracy: 0.8610 - precision: 0.6772 - recall: 0.5828 - auc: 0.8670 - prc: 0.6199 - val_loss: 1.0196 - val_tp: 469.0000 - val_fp: 234.0000 - val_tn: 2906.0000 - val_fn: 316.0000 - val_accuracy: 0.8599 - val_precision: 0.6671 - val_recall: 0.5975 - val_auc: 0.8637 - val_prc: 0.6194 - lr: 0.0020\n",
            "Epoch 32/50\n",
            "111/111 [==============================] - 25s 226ms/step - loss: 0.9925 - tp: 4078.0000 - fp: 1893.0000 - tn: 26359.0000 - fn: 2985.0000 - accuracy: 0.8619 - precision: 0.6830 - recall: 0.5774 - auc: 0.8673 - prc: 0.6175 - val_loss: 1.0468 - val_tp: 478.0000 - val_fp: 259.0000 - val_tn: 2881.0000 - val_fn: 307.0000 - val_accuracy: 0.8558 - val_precision: 0.6486 - val_recall: 0.6089 - val_auc: 0.8612 - val_prc: 0.6190 - lr: 0.0020\n",
            "Epoch 33/50\n",
            "111/111 [==============================] - 25s 226ms/step - loss: 0.9883 - tp: 4149.0000 - fp: 1889.0000 - tn: 26363.0000 - fn: 2914.0000 - accuracy: 0.8640 - precision: 0.6871 - recall: 0.5874 - auc: 0.8688 - prc: 0.6271 - val_loss: 1.0142 - val_tp: 456.0000 - val_fp: 230.0000 - val_tn: 2910.0000 - val_fn: 329.0000 - val_accuracy: 0.8576 - val_precision: 0.6647 - val_recall: 0.5809 - val_auc: 0.8665 - val_prc: 0.6183 - lr: 0.0020\n",
            "Epoch 34/50\n",
            "111/111 [==============================] - 25s 226ms/step - loss: 0.9539 - tp: 4311.0000 - fp: 1767.0000 - tn: 26485.0000 - fn: 2752.0000 - accuracy: 0.8720 - precision: 0.7093 - recall: 0.6104 - auc: 0.8766 - prc: 0.6450 - val_loss: 1.0331 - val_tp: 459.0000 - val_fp: 216.0000 - val_tn: 2924.0000 - val_fn: 326.0000 - val_accuracy: 0.8619 - val_precision: 0.6800 - val_recall: 0.5847 - val_auc: 0.8580 - val_prc: 0.6204 - lr: 0.0020\n",
            "Epoch 35/50\n",
            "111/111 [==============================] - 25s 226ms/step - loss: 0.9393 - tp: 4368.0000 - fp: 1745.0000 - tn: 26507.0000 - fn: 2695.0000 - accuracy: 0.8743 - precision: 0.7145 - recall: 0.6184 - auc: 0.8811 - prc: 0.6555 - val_loss: 1.0249 - val_tp: 395.0000 - val_fp: 154.0000 - val_tn: 2986.0000 - val_fn: 390.0000 - val_accuracy: 0.8614 - val_precision: 0.7195 - val_recall: 0.5032 - val_auc: 0.8688 - val_prc: 0.6328 - lr: 0.0020\n",
            "Epoch 36/50\n",
            "111/111 [==============================] - 25s 227ms/step - loss: 0.9264 - tp: 4440.0000 - fp: 1685.0000 - tn: 26567.0000 - fn: 2623.0000 - accuracy: 0.8780 - precision: 0.7249 - recall: 0.6286 - auc: 0.8851 - prc: 0.6659 - val_loss: 0.9650 - val_tp: 487.0000 - val_fp: 195.0000 - val_tn: 2945.0000 - val_fn: 298.0000 - val_accuracy: 0.8744 - val_precision: 0.7141 - val_recall: 0.6204 - val_auc: 0.8803 - val_prc: 0.6703 - lr: 0.0020\n",
            "Epoch 37/50\n",
            "111/111 [==============================] - 25s 227ms/step - loss: 0.8826 - tp: 4585.0000 - fp: 1613.0000 - tn: 26639.0000 - fn: 2478.0000 - accuracy: 0.8842 - precision: 0.7398 - recall: 0.6492 - auc: 0.8960 - prc: 0.7024 - val_loss: 0.8018 - val_tp: 555.0000 - val_fp: 156.0000 - val_tn: 2984.0000 - val_fn: 230.0000 - val_accuracy: 0.9017 - val_precision: 0.7806 - val_recall: 0.7070 - val_auc: 0.9150 - val_prc: 0.7599 - lr: 0.0020\n",
            "Epoch 38/50\n",
            "111/111 [==============================] - 25s 224ms/step - loss: 1.0670 - tp: 3817.0000 - fp: 2009.0000 - tn: 26243.0000 - fn: 3246.0000 - accuracy: 0.8512 - precision: 0.6552 - recall: 0.5404 - auc: 0.8497 - prc: 0.5888 - val_loss: 1.0851 - val_tp: 418.0000 - val_fp: 231.0000 - val_tn: 2909.0000 - val_fn: 367.0000 - val_accuracy: 0.8476 - val_precision: 0.6441 - val_recall: 0.5325 - val_auc: 0.8455 - val_prc: 0.5652 - lr: 0.0020\n",
            "Epoch 39/50\n",
            "111/111 [==============================] - 25s 223ms/step - loss: 1.0257 - tp: 3976.0000 - fp: 1950.0000 - tn: 26302.0000 - fn: 3087.0000 - accuracy: 0.8574 - precision: 0.6709 - recall: 0.5629 - auc: 0.8603 - prc: 0.6096 - val_loss: 1.0411 - val_tp: 429.0000 - val_fp: 218.0000 - val_tn: 2922.0000 - val_fn: 356.0000 - val_accuracy: 0.8538 - val_precision: 0.6631 - val_recall: 0.5465 - val_auc: 0.8625 - val_prc: 0.6182 - lr: 0.0020\n",
            "Epoch 40/50\n",
            "111/111 [==============================] - 25s 224ms/step - loss: 0.9770 - tp: 4075.0000 - fp: 1790.0000 - tn: 26462.0000 - fn: 2988.0000 - accuracy: 0.8647 - precision: 0.6948 - recall: 0.5770 - auc: 0.8740 - prc: 0.6462 - val_loss: 0.9821 - val_tp: 457.0000 - val_fp: 223.0000 - val_tn: 2917.0000 - val_fn: 328.0000 - val_accuracy: 0.8596 - val_precision: 0.6721 - val_recall: 0.5822 - val_auc: 0.8772 - val_prc: 0.6612 - lr: 0.0020\n",
            "Epoch 41/50\n",
            "111/111 [==============================] - 25s 225ms/step - loss: 0.9353 - tp: 4222.0000 - fp: 1711.0000 - tn: 26541.0000 - fn: 2841.0000 - accuracy: 0.8711 - precision: 0.7116 - recall: 0.5978 - auc: 0.8842 - prc: 0.6758 - val_loss: 1.0042 - val_tp: 481.0000 - val_fp: 229.0000 - val_tn: 2911.0000 - val_fn: 304.0000 - val_accuracy: 0.8642 - val_precision: 0.6775 - val_recall: 0.6127 - val_auc: 0.8731 - val_prc: 0.6470 - lr: 0.0020\n",
            "Epoch 42/50\n",
            "111/111 [==============================] - ETA: 0s - loss: 0.8930 - tp: 4502.0000 - fp: 1595.0000 - tn: 26657.0000 - fn: 2561.0000 - accuracy: 0.8823 - precision: 0.7384 - recall: 0.6374 - auc: 0.8944 - prc: 0.7016\n",
            "Epoch 42: ReduceLROnPlateau reducing learning rate to 0.0003999999724328518.\n",
            "111/111 [==============================] - 25s 226ms/step - loss: 0.8930 - tp: 4502.0000 - fp: 1595.0000 - tn: 26657.0000 - fn: 2561.0000 - accuracy: 0.8823 - precision: 0.7384 - recall: 0.6374 - auc: 0.8944 - prc: 0.7016 - val_loss: 0.8869 - val_tp: 528.0000 - val_fp: 198.0000 - val_tn: 2942.0000 - val_fn: 257.0000 - val_accuracy: 0.8841 - val_precision: 0.7273 - val_recall: 0.6726 - val_auc: 0.8967 - val_prc: 0.7097 - lr: 0.0020\n",
            "Epoch 43/50\n",
            "111/111 [==============================] - 25s 225ms/step - loss: 0.8134 - tp: 4715.0000 - fp: 1468.0000 - tn: 26784.0000 - fn: 2348.0000 - accuracy: 0.8919 - precision: 0.7626 - recall: 0.6676 - auc: 0.9133 - prc: 0.7510 - val_loss: 0.7912 - val_tp: 539.0000 - val_fp: 173.0000 - val_tn: 2967.0000 - val_fn: 246.0000 - val_accuracy: 0.8932 - val_precision: 0.7570 - val_recall: 0.6866 - val_auc: 0.9201 - val_prc: 0.7656 - lr: 4.0000e-04\n",
            "Epoch 44/50\n",
            "111/111 [==============================] - 25s 228ms/step - loss: 0.7570 - tp: 4885.0000 - fp: 1358.0000 - tn: 26894.0000 - fn: 2178.0000 - accuracy: 0.8999 - precision: 0.7825 - recall: 0.6916 - auc: 0.9255 - prc: 0.7825 - val_loss: 0.7459 - val_tp: 575.0000 - val_fp: 151.0000 - val_tn: 2989.0000 - val_fn: 210.0000 - val_accuracy: 0.9080 - val_precision: 0.7920 - val_recall: 0.7325 - val_auc: 0.9261 - val_prc: 0.7816 - lr: 4.0000e-04\n",
            "Epoch 45/50\n",
            "111/111 [==============================] - 25s 226ms/step - loss: 0.6975 - tp: 5073.0000 - fp: 1233.0000 - tn: 27019.0000 - fn: 1990.0000 - accuracy: 0.9087 - precision: 0.8045 - recall: 0.7183 - auc: 0.9368 - prc: 0.8103 - val_loss: 0.7412 - val_tp: 564.0000 - val_fp: 155.0000 - val_tn: 2985.0000 - val_fn: 221.0000 - val_accuracy: 0.9042 - val_precision: 0.7844 - val_recall: 0.7185 - val_auc: 0.9277 - val_prc: 0.7854 - lr: 4.0000e-04\n",
            "Epoch 46/50\n",
            "111/111 [==============================] - 25s 226ms/step - loss: 0.6785 - tp: 5161.0000 - fp: 1187.0000 - tn: 27065.0000 - fn: 1902.0000 - accuracy: 0.9125 - precision: 0.8130 - recall: 0.7307 - auc: 0.9396 - prc: 0.8168 - val_loss: 0.7091 - val_tp: 577.0000 - val_fp: 148.0000 - val_tn: 2992.0000 - val_fn: 208.0000 - val_accuracy: 0.9093 - val_precision: 0.7959 - val_recall: 0.7350 - val_auc: 0.9339 - val_prc: 0.8016 - lr: 4.0000e-04\n",
            "Epoch 47/50\n",
            "111/111 [==============================] - 25s 226ms/step - loss: 0.6523 - tp: 5240.0000 - fp: 1191.0000 - tn: 27061.0000 - fn: 1823.0000 - accuracy: 0.9147 - precision: 0.8148 - recall: 0.7419 - auc: 0.9444 - prc: 0.8265 - val_loss: 0.7518 - val_tp: 541.0000 - val_fp: 143.0000 - val_tn: 2997.0000 - val_fn: 244.0000 - val_accuracy: 0.9014 - val_precision: 0.7909 - val_recall: 0.6892 - val_auc: 0.9280 - val_prc: 0.7883 - lr: 4.0000e-04\n",
            "Epoch 48/50\n",
            "111/111 [==============================] - 25s 226ms/step - loss: 0.6628 - tp: 5201.0000 - fp: 1222.0000 - tn: 27030.0000 - fn: 1862.0000 - accuracy: 0.9127 - precision: 0.8097 - recall: 0.7364 - auc: 0.9425 - prc: 0.8238 - val_loss: 0.7068 - val_tp: 575.0000 - val_fp: 155.0000 - val_tn: 2985.0000 - val_fn: 210.0000 - val_accuracy: 0.9070 - val_precision: 0.7877 - val_recall: 0.7325 - val_auc: 0.9348 - val_prc: 0.7957 - lr: 4.0000e-04\n",
            "Epoch 49/50\n",
            "111/111 [==============================] - 25s 226ms/step - loss: 0.6133 - tp: 5323.0000 - fp: 1120.0000 - tn: 27132.0000 - fn: 1740.0000 - accuracy: 0.9190 - precision: 0.8262 - recall: 0.7536 - auc: 0.9508 - prc: 0.8435 - val_loss: 0.6702 - val_tp: 588.0000 - val_fp: 149.0000 - val_tn: 2991.0000 - val_fn: 197.0000 - val_accuracy: 0.9118 - val_precision: 0.7978 - val_recall: 0.7490 - val_auc: 0.9413 - val_prc: 0.8118 - lr: 4.0000e-04\n",
            "Epoch 50/50\n",
            "111/111 [==============================] - 25s 226ms/step - loss: 0.5962 - tp: 5368.0000 - fp: 1114.0000 - tn: 27138.0000 - fn: 1695.0000 - accuracy: 0.9205 - precision: 0.8281 - recall: 0.7600 - auc: 0.9537 - prc: 0.8518 - val_loss: 0.6625 - val_tp: 591.0000 - val_fp: 146.0000 - val_tn: 2994.0000 - val_fn: 194.0000 - val_accuracy: 0.9134 - val_precision: 0.8019 - val_recall: 0.7529 - val_auc: 0.9423 - val_prc: 0.8173 - lr: 4.0000e-04\n"
          ]
        }
      ]
    },
    {
      "cell_type": "code",
      "source": [
        "  model.save( \"/content/drive/MyDrive/cbpf/projeto_final/models\")"
      ],
      "metadata": {
        "colab": {
          "base_uri": "https://localhost:8080/"
        },
        "id": "-o7Z0xZ75_j_",
        "outputId": "5a7d8b6b-0fee-4b59-ce85-8bf03d986f5d"
      },
      "execution_count": 24,
      "outputs": [
        {
          "output_type": "stream",
          "name": "stderr",
          "text": [
            "WARNING:absl:Found untraced functions such as softmax_layer_call_fn, softmax_layer_call_and_return_conditional_losses, lstm_cell_1_layer_call_fn, lstm_cell_1_layer_call_and_return_conditional_losses, lstm_cell_2_layer_call_fn while saving (showing 5 of 10). These functions will not be directly callable after loading.\n"
          ]
        }
      ]
    },
    {
      "cell_type": "code",
      "source": [
        "# Recreate the exact same model, including its weights and the optimizer\n",
        "new_model = tf.keras.models.load_model('/content/drive/MyDrive/cbpf/projeto_final/models')\n",
        "\n",
        "# Show the model architecture\n",
        "new_model.summary()"
      ],
      "metadata": {
        "id": "Gw1whAa4JNmD"
      },
      "execution_count": null,
      "outputs": []
    },
    {
      "cell_type": "code",
      "source": [
        "plt.figure(figsize=(10,8))\n",
        "plt.plot(history.history['loss'], label='train')\n",
        "plt.plot(history.history['val_loss'], label='validation')\n",
        "\n",
        "plt.xlabel('epochs', fontsize=14)\n",
        "plt.ylabel('loss (binary_crossentropy)', fontsize=14)\n",
        "plt.legend()\n",
        "plt.show()"
      ],
      "metadata": {
        "colab": {
          "base_uri": "https://localhost:8080/",
          "height": 518
        },
        "id": "hM6jvv_Lpc6a",
        "outputId": "0c790682-0c2e-4308-bd49-c37eb0bde4b8"
      },
      "execution_count": 16,
      "outputs": [
        {
          "output_type": "execute_result",
          "data": {
            "text/plain": [
              "<matplotlib.legend.Legend at 0x7f9a7129a4f0>"
            ]
          },
          "metadata": {},
          "execution_count": 16
        },
        {
          "output_type": "display_data",
          "data": {
            "text/plain": [
              "<Figure size 720x576 with 1 Axes>"
            ],
            "image/png": "[encoded data removed]"
          },
          "metadata": {}
        }
      ]
    },
    {
      "cell_type": "markdown",
      "source": [],
      "metadata": {
        "id": "GvbqOtRquAiI"
      }
    },
    {
      "cell_type": "code",
      "source": [
        "from sklearn import metrics as met\n",
        "\n",
        "pred=model.predict(pad_x_test)\n",
        "pred_valid=model.predict(x_valid)\n",
        "pred_train=model.predict(x_train)"
      ],
      "metadata": {
        "colab": {
          "base_uri": "https://localhost:8080/"
        },
        "id": "6Eza9hEmmEz-",
        "outputId": "c815e501-11c4-4f6b-a5aa-b64187f7c906"
      },
      "execution_count": 17,
      "outputs": [
        {
          "output_type": "stream",
          "name": "stdout",
          "text": [
            "623/623 [==============================] - 26s 34ms/step\n",
            "25/25 [==============================] - 1s 58ms/step\n",
            "221/221 [==============================] - 12s 54ms/step\n"
          ]
        }
      ]
    },
    {
      "cell_type": "code",
      "source": [
        "-tespred.shape"
      ],
      "metadata": {
        "colab": {
          "base_uri": "https://localhost:8080/"
        },
        "id": "mFxj7Sr5V_O6",
        "outputId": "e7f1d6c1-52db-4e40-98f5-5c6143c55d37"
      },
      "execution_count": null,
      "outputs": [
        {
          "output_type": "execute_result",
          "data": {
            "text/plain": [
              "(785, 14)"
            ]
          },
          "metadata": {},
          "execution_count": 143
        }
      ]
    },
    {
      "cell_type": "code",
      "source": [
        "\n",
        "select_roc = 2\n",
        "\n",
        "\n",
        "\n",
        "met.RocCurveDisplay.from_predictions(y_test[:,0],pred[:,0])\n",
        "\n",
        "\n",
        "met.RocCurveDisplay.from_predictions(y_test[:,1],pred[:,1])\n",
        "\n",
        "met.RocCurveDisplay.from_predictions(y_test[:,2],pred[:,2])\n",
        "\n",
        "met.RocCurveDisplay.from_predictions(y_test[:,3],pred[:,3])\n",
        "\n",
        "met.RocCurveDisplay.from_predictions(y_test[:,4],pred[:,4])\n",
        "\n"
      ],
      "metadata": {
        "colab": {
          "base_uri": "https://localhost:8080/",
          "height": 1000
        },
        "id": "lPSs3IuskdfX",
        "outputId": "d4f15fad-2fd9-4244-9439-ad57e9dd7156"
      },
      "execution_count": 35,
      "outputs": [
        {
          "output_type": "execute_result",
          "data": {
            "text/plain": [
              "<sklearn.metrics._plot.roc_curve.RocCurveDisplay at 0x7f9aab4887f0>"
            ]
          },
          "metadata": {},
          "execution_count": 35
        },
        {
          "output_type": "display_data",
          "data": {
            "text/plain": [
              "<Figure size 432x288 with 1 Axes>"
            ],
            "image/png": "[encoded data removed]"
          },
          "metadata": {}
        },
        {
          "output_type": "display_data",
          "data": {
            "text/plain": [
              "<Figure size 432x288 with 1 Axes>"
            ],
            "image/png": "[encoded data removed]"
          },
          "metadata": {}
        },
        {
          "output_type": "display_data",
          "data": {
            "text/plain": [
              "<Figure size 432x288 with 1 Axes>"
            ],
            "image/png": "[encoded data removed]"
          },
          "metadata": {}
        },
        {
          "output_type": "display_data",
          "data": {
            "text/plain": [
              "<Figure size 432x288 with 1 Axes>"
            ],
            "image/png": "[encoded data removed]"
          },
          "metadata": {}
        },
        {
          "output_type": "display_data",
          "data": {
            "text/plain": [
              "<Figure size 432x288 with 1 Axes>"
            ],
            "image/png": "[encoded data removed]"
          },
          "metadata": {}
        }
      ]
    },
    {
      "cell_type": "code",
      "source": [
        "from sklearn.svm import SVC\n",
        "from sklearn.metrics import accuracy_score, confusion_matrix, precision_recall_fscore_support\n",
        "import seaborn as sns\n",
        "\n",
        "\n",
        "y_test_arg= np.argmax(y_test,axis=1)\n",
        "y_pred = np.argmax(model.predict(pad_x_test),axis=1)\n",
        "\n",
        "\n",
        "\n",
        "# Creates a confusion matrix\n",
        "cm = confusion_matrix(y_test_arg, y_pred) \n",
        "\n",
        "# Transform to df for easier plotting\n",
        "cm_df = pd.DataFrame(cm,\n",
        "                     index = ['0','1','2','3','4'], \n",
        "                     columns = ['0','1','2','3','4'])\n",
        "\n",
        "plt.figure(figsize=(5.5,4))\n",
        "sns.heatmap(cm_df, annot=True)\n",
        "plt.title('SVM Linear Kernel \\nAccuracy:{0:.3f}'.format(accuracy_score(y_test_arg, y_pred)))\n",
        "plt.ylabel('True label')\n",
        "plt.xlabel('Predicted label')\n",
        "plt.show()"
      ],
      "metadata": {
        "id": "rBlbPdv1cgSM",
        "outputId": "9456f6af-ef9e-4286-e050-ae1aa3449028",
        "colab": {
          "base_uri": "https://localhost:8080/",
          "height": 333
        }
      },
      "execution_count": 31,
      "outputs": [
        {
          "output_type": "stream",
          "name": "stdout",
          "text": [
            "623/623 [==============================] - 20s 32ms/step\n"
          ]
        },
        {
          "output_type": "display_data",
          "data": {
            "text/plain": [
              "<Figure size 396x288 with 2 Axes>"
            ],
            "image/png": "[encoded data removed]"
          },
          "metadata": {}
        }
      ]
    },
    {
      "cell_type": "code",
      "source": [
        "baseline_results = model.evaluate(x_test, y_test,\n",
        "                                  batch_size=BATCH_SIZE, verbose=0)\n",
        "for name, value in zip(model.metrics_names, baseline_results):\n",
        "  print(name, ': ', value)\n",
        "print()\n",
        "\n",
        "y_cm = metadata_train['target'].values\n",
        "my_dict={42: 0,\n",
        "        52: 0,\n",
        "        62: 0,\n",
        "        67: 0,\n",
        "        90: 0,\n",
        "        6: 1,\n",
        "       64: 1,\n",
        "       65: 1,\n",
        "       15: 2,\n",
        "       95: 2,\n",
        "       16: 3,\n",
        "        53: 3,\n",
        "        92: 3,\n",
        "        88:4\n",
        "        }\n",
        "y_cm=[my_dict[i] for i in y]\n",
        "\n",
        "plot_cm(y_cm, pred)\n"
      ],
      "metadata": {
        "colab": {
          "base_uri": "https://localhost:8080/",
          "height": 580
        },
        "id": "0-vziMyEcni0",
        "outputId": "6a5d272f-4ec5-474a-8869-80fa266bbf67"
      },
      "execution_count": null,
      "outputs": [
        {
          "output_type": "stream",
          "name": "stdout",
          "text": [
            "loss :  2.5695900917053223\n",
            "tp :  0.0\n",
            "fp :  0.0\n",
            "tn :  3140.0\n",
            "fn :  785.0\n",
            "accuracy :  0.800000011920929\n",
            "precision :  0.0\n",
            "recall :  0.0\n",
            "auc :  0.2611464858055115\n",
            "prc :  0.13001985847949982\n",
            "\n"
          ]
        },
        {
          "output_type": "error",
          "ename": "ValueError",
          "evalue": "ignored",
          "traceback": [
            "\u001b[0;31m---------------------------------------------------------------------------\u001b[0m",
            "\u001b[0;31mValueError\u001b[0m                                Traceback (most recent call last)",
            "\u001b[0;32m<ipython-input-275-2331786a93f1>\u001b[0m in \u001b[0;36m<module>\u001b[0;34m\u001b[0m\n\u001b[1;32m      5\u001b[0m \u001b[0mprint\u001b[0m\u001b[0;34m(\u001b[0m\u001b[0;34m)\u001b[0m\u001b[0;34m\u001b[0m\u001b[0;34m\u001b[0m\u001b[0m\n\u001b[1;32m      6\u001b[0m \u001b[0;34m\u001b[0m\u001b[0m\n\u001b[0;32m----> 7\u001b[0;31m \u001b[0mplot_cm\u001b[0m\u001b[0;34m(\u001b[0m\u001b[0my_test\u001b[0m\u001b[0;34m,\u001b[0m \u001b[0mpred\u001b[0m\u001b[0;34m)\u001b[0m\u001b[0;34m\u001b[0m\u001b[0;34m\u001b[0m\u001b[0m\n\u001b[0m",
            "\u001b[0;32m<ipython-input-273-9eb073317435>\u001b[0m in \u001b[0;36mplot_cm\u001b[0;34m(labels, predictions, p)\u001b[0m\n\u001b[1;32m      1\u001b[0m \u001b[0;32mfrom\u001b[0m \u001b[0msklearn\u001b[0m\u001b[0;34m.\u001b[0m\u001b[0mmetrics\u001b[0m \u001b[0;32mimport\u001b[0m \u001b[0mconfusion_matrix\u001b[0m\u001b[0;34m\u001b[0m\u001b[0;34m\u001b[0m\u001b[0m\n\u001b[1;32m      2\u001b[0m \u001b[0;32mdef\u001b[0m \u001b[0mplot_cm\u001b[0m\u001b[0;34m(\u001b[0m\u001b[0mlabels\u001b[0m\u001b[0;34m,\u001b[0m \u001b[0mpredictions\u001b[0m\u001b[0;34m,\u001b[0m \u001b[0mp\u001b[0m\u001b[0;34m=\u001b[0m\u001b[0;36m0.5\u001b[0m\u001b[0;34m)\u001b[0m\u001b[0;34m:\u001b[0m\u001b[0;34m\u001b[0m\u001b[0;34m\u001b[0m\u001b[0m\n\u001b[0;32m----> 3\u001b[0;31m   \u001b[0mcm\u001b[0m \u001b[0;34m=\u001b[0m \u001b[0mconfusion_matrix\u001b[0m\u001b[0;34m(\u001b[0m\u001b[0mlabels\u001b[0m\u001b[0;34m,\u001b[0m \u001b[0mpredictions\u001b[0m \u001b[0;34m>\u001b[0m \u001b[0mp\u001b[0m\u001b[0;34m)\u001b[0m\u001b[0;34m\u001b[0m\u001b[0;34m\u001b[0m\u001b[0m\n\u001b[0m\u001b[1;32m      4\u001b[0m   \u001b[0mplt\u001b[0m\u001b[0;34m.\u001b[0m\u001b[0mfigure\u001b[0m\u001b[0;34m(\u001b[0m\u001b[0mfigsize\u001b[0m\u001b[0;34m=\u001b[0m\u001b[0;34m(\u001b[0m\u001b[0;36m5\u001b[0m\u001b[0;34m,\u001b[0m\u001b[0;36m5\u001b[0m\u001b[0;34m)\u001b[0m\u001b[0;34m)\u001b[0m\u001b[0;34m\u001b[0m\u001b[0;34m\u001b[0m\u001b[0m\n\u001b[1;32m      5\u001b[0m   \u001b[0msns\u001b[0m\u001b[0;34m.\u001b[0m\u001b[0mheatmap\u001b[0m\u001b[0;34m(\u001b[0m\u001b[0mcm\u001b[0m\u001b[0;34m,\u001b[0m \u001b[0mannot\u001b[0m\u001b[0;34m=\u001b[0m\u001b[0;32mTrue\u001b[0m\u001b[0;34m,\u001b[0m \u001b[0mfmt\u001b[0m\u001b[0;34m=\u001b[0m\u001b[0;34m\"d\"\u001b[0m\u001b[0;34m)\u001b[0m\u001b[0;34m\u001b[0m\u001b[0;34m\u001b[0m\u001b[0m\n",
            "\u001b[0;32m/usr/local/lib/python3.8/dist-packages/sklearn/metrics/_classification.py\u001b[0m in \u001b[0;36mconfusion_matrix\u001b[0;34m(y_true, y_pred, labels, sample_weight, normalize)\u001b[0m\n\u001b[1;32m    307\u001b[0m     \u001b[0my_type\u001b[0m\u001b[0;34m,\u001b[0m \u001b[0my_true\u001b[0m\u001b[0;34m,\u001b[0m \u001b[0my_pred\u001b[0m \u001b[0;34m=\u001b[0m \u001b[0m_check_targets\u001b[0m\u001b[0;34m(\u001b[0m\u001b[0my_true\u001b[0m\u001b[0;34m,\u001b[0m \u001b[0my_pred\u001b[0m\u001b[0;34m)\u001b[0m\u001b[0;34m\u001b[0m\u001b[0;34m\u001b[0m\u001b[0m\n\u001b[1;32m    308\u001b[0m     \u001b[0;32mif\u001b[0m \u001b[0my_type\u001b[0m \u001b[0;32mnot\u001b[0m \u001b[0;32min\u001b[0m \u001b[0;34m(\u001b[0m\u001b[0;34m\"binary\"\u001b[0m\u001b[0;34m,\u001b[0m \u001b[0;34m\"multiclass\"\u001b[0m\u001b[0;34m)\u001b[0m\u001b[0;34m:\u001b[0m\u001b[0;34m\u001b[0m\u001b[0;34m\u001b[0m\u001b[0m\n\u001b[0;32m--> 309\u001b[0;31m         \u001b[0;32mraise\u001b[0m \u001b[0mValueError\u001b[0m\u001b[0;34m(\u001b[0m\u001b[0;34m\"%s is not supported\"\u001b[0m \u001b[0;34m%\u001b[0m \u001b[0my_type\u001b[0m\u001b[0;34m)\u001b[0m\u001b[0;34m\u001b[0m\u001b[0;34m\u001b[0m\u001b[0m\n\u001b[0m\u001b[1;32m    310\u001b[0m \u001b[0;34m\u001b[0m\u001b[0m\n\u001b[1;32m    311\u001b[0m     \u001b[0;32mif\u001b[0m \u001b[0mlabels\u001b[0m \u001b[0;32mis\u001b[0m \u001b[0;32mNone\u001b[0m\u001b[0;34m:\u001b[0m\u001b[0;34m\u001b[0m\u001b[0;34m\u001b[0m\u001b[0m\n",
            "\u001b[0;31mValueError\u001b[0m: multilabel-indicator is not supported"
          ]
        }
      ]
    },
    {
      "cell_type": "code",
      "source": [
        "met.RocCurveDisplay.from_predictions(y_valid[:,2],pred_valid[:,2])"
      ],
      "metadata": {
        "colab": {
          "base_uri": "https://localhost:8080/",
          "height": 300
        },
        "id": "jwIgMCtXfmX1",
        "outputId": "583bec0e-e861-41ca-8a48-7a5b706fb0df"
      },
      "execution_count": null,
      "outputs": [
        {
          "output_type": "execute_result",
          "data": {
            "text/plain": [
              "<sklearn.metrics._plot.roc_curve.RocCurveDisplay at 0x7ff3e058ce80>"
            ]
          },
          "metadata": {},
          "execution_count": 169
        },
        {
          "output_type": "display_data",
          "data": {
            "text/plain": [
              "<Figure size 432x288 with 1 Axes>"
            ],
            "image/png": "[encoded data removed]"
          },
          "metadata": {}
        }
      ]
    },
    {
      "cell_type": "code",
      "source": [
        "met.RocCurveDisplay.from_predictions(y_train[:,5],pred_train[:,5])"
      ],
      "metadata": {
        "colab": {
          "base_uri": "https://localhost:8080/",
          "height": 300
        },
        "id": "SNHoy8wtXD1n",
        "outputId": "e81f3b07-55a8-4e82-be09-c3a575ffc8aa"
      },
      "execution_count": null,
      "outputs": [
        {
          "output_type": "execute_result",
          "data": {
            "text/plain": [
              "<sklearn.metrics._plot.roc_curve.RocCurveDisplay at 0x7ff408647ac0>"
            ]
          },
          "metadata": {},
          "execution_count": 166
        },
        {
          "output_type": "display_data",
          "data": {
            "text/plain": [
              "<Figure size 432x288 with 1 Axes>"
            ],
            "image/png": "[encoded data removed]"
          },
          "metadata": {}
        }
      ]
    },
    {
      "cell_type": "code",
      "source": [
        "test=tf.convert_to_tensor(tables)"
      ],
      "metadata": {
        "colab": {
          "base_uri": "https://localhost:8080/",
          "height": 342
        },
        "id": "HUdQMOT3d-5s",
        "outputId": "370f8af8-3cd2-4e2d-afc2-7971ea1ed2b0"
      },
      "execution_count": null,
      "outputs": [
        {
          "output_type": "error",
          "ename": "ValueError",
          "evalue": "ignored",
          "traceback": [
            "\u001b[0;31m---------------------------------------------------------------------------\u001b[0m",
            "\u001b[0;31mValueError\u001b[0m                                Traceback (most recent call last)",
            "\u001b[0;32m<ipython-input-308-6e2bb7bae796>\u001b[0m in \u001b[0;36m<module>\u001b[0;34m\u001b[0m\n\u001b[0;32m----> 1\u001b[0;31m \u001b[0mtest\u001b[0m\u001b[0;34m=\u001b[0m\u001b[0mtf\u001b[0m\u001b[0;34m.\u001b[0m\u001b[0mconvert_to_tensor\u001b[0m\u001b[0;34m(\u001b[0m\u001b[0mtables\u001b[0m\u001b[0;34m)\u001b[0m\u001b[0;34m\u001b[0m\u001b[0;34m\u001b[0m\u001b[0m\n\u001b[0m",
            "\u001b[0;32m/usr/local/lib/python3.8/dist-packages/tensorflow/python/util/traceback_utils.py\u001b[0m in \u001b[0;36merror_handler\u001b[0;34m(*args, **kwargs)\u001b[0m\n\u001b[1;32m    151\u001b[0m     \u001b[0;32mexcept\u001b[0m \u001b[0mException\u001b[0m \u001b[0;32mas\u001b[0m \u001b[0me\u001b[0m\u001b[0;34m:\u001b[0m\u001b[0;34m\u001b[0m\u001b[0;34m\u001b[0m\u001b[0m\n\u001b[1;32m    152\u001b[0m       \u001b[0mfiltered_tb\u001b[0m \u001b[0;34m=\u001b[0m \u001b[0m_process_traceback_frames\u001b[0m\u001b[0;34m(\u001b[0m\u001b[0me\u001b[0m\u001b[0;34m.\u001b[0m\u001b[0m__traceback__\u001b[0m\u001b[0;34m)\u001b[0m\u001b[0;34m\u001b[0m\u001b[0;34m\u001b[0m\u001b[0m\n\u001b[0;32m--> 153\u001b[0;31m       \u001b[0;32mraise\u001b[0m \u001b[0me\u001b[0m\u001b[0;34m.\u001b[0m\u001b[0mwith_traceback\u001b[0m\u001b[0;34m(\u001b[0m\u001b[0mfiltered_tb\u001b[0m\u001b[0;34m)\u001b[0m \u001b[0;32mfrom\u001b[0m \u001b[0;32mNone\u001b[0m\u001b[0;34m\u001b[0m\u001b[0;34m\u001b[0m\u001b[0m\n\u001b[0m\u001b[1;32m    154\u001b[0m     \u001b[0;32mfinally\u001b[0m\u001b[0;34m:\u001b[0m\u001b[0;34m\u001b[0m\u001b[0;34m\u001b[0m\u001b[0m\n\u001b[1;32m    155\u001b[0m       \u001b[0;32mdel\u001b[0m \u001b[0mfiltered_tb\u001b[0m\u001b[0;34m\u001b[0m\u001b[0;34m\u001b[0m\u001b[0m\n",
            "\u001b[0;32m/usr/local/lib/python3.8/dist-packages/tensorflow/python/framework/constant_op.py\u001b[0m in \u001b[0;36mconvert_to_eager_tensor\u001b[0;34m(value, ctx, dtype)\u001b[0m\n\u001b[1;32m    100\u001b[0m       \u001b[0mdtype\u001b[0m \u001b[0;34m=\u001b[0m \u001b[0mdtypes\u001b[0m\u001b[0;34m.\u001b[0m\u001b[0mas_dtype\u001b[0m\u001b[0;34m(\u001b[0m\u001b[0mdtype\u001b[0m\u001b[0;34m)\u001b[0m\u001b[0;34m.\u001b[0m\u001b[0mas_datatype_enum\u001b[0m\u001b[0;34m\u001b[0m\u001b[0;34m\u001b[0m\u001b[0m\n\u001b[1;32m    101\u001b[0m   \u001b[0mctx\u001b[0m\u001b[0;34m.\u001b[0m\u001b[0mensure_initialized\u001b[0m\u001b[0;34m(\u001b[0m\u001b[0;34m)\u001b[0m\u001b[0;34m\u001b[0m\u001b[0;34m\u001b[0m\u001b[0m\n\u001b[0;32m--> 102\u001b[0;31m   \u001b[0;32mreturn\u001b[0m \u001b[0mops\u001b[0m\u001b[0;34m.\u001b[0m\u001b[0mEagerTensor\u001b[0m\u001b[0;34m(\u001b[0m\u001b[0mvalue\u001b[0m\u001b[0;34m,\u001b[0m \u001b[0mctx\u001b[0m\u001b[0;34m.\u001b[0m\u001b[0mdevice_name\u001b[0m\u001b[0;34m,\u001b[0m \u001b[0mdtype\u001b[0m\u001b[0;34m)\u001b[0m\u001b[0;34m\u001b[0m\u001b[0;34m\u001b[0m\u001b[0m\n\u001b[0m\u001b[1;32m    103\u001b[0m \u001b[0;34m\u001b[0m\u001b[0m\n\u001b[1;32m    104\u001b[0m \u001b[0;34m\u001b[0m\u001b[0m\n",
            "\u001b[0;31mValueError\u001b[0m: Can't convert non-rectangular Python sequence to Tensor."
          ]
        }
      ]
    },
    {
      "cell_type": "code",
      "source": [
        "test"
      ],
      "metadata": {
        "colab": {
          "base_uri": "https://localhost:8080/"
        },
        "id": "xoVCn0yXlk13",
        "outputId": "1147f368-f189-490e-8112-2aacd9801539"
      },
      "execution_count": null,
      "outputs": [
        {
          "output_type": "execute_result",
          "data": {
            "text/plain": [
              "<tf.Tensor: shape=(7063, 14), dtype=float32, numpy=\n",
              "array([[0., 0., 0., ..., 0., 0., 0.],\n",
              "       [0., 0., 0., ..., 0., 0., 0.],\n",
              "       [0., 0., 1., ..., 0., 0., 0.],\n",
              "       ...,\n",
              "       [0., 0., 0., ..., 0., 0., 0.],\n",
              "       [0., 1., 0., ..., 0., 0., 0.],\n",
              "       [0., 0., 0., ..., 0., 0., 0.]], dtype=float32)>"
            ]
          },
          "metadata": {},
          "execution_count": 303
        }
      ]
    },
    {
      "cell_type": "code",
      "source": [],
      "metadata": {
        "id": "BDB7zkPplllr"
      },
      "execution_count": null,
      "outputs": []
    }
  ]
}