{
  "nbformat": 4,
  "nbformat_minor": 0,
  "metadata": {
    "colab": {
      "provenance": [],
      "authorship_tag": "ABX9TyNII35PjCZTDPWuo6Tx3kjx",
      "include_colab_link": true
    },
    "kernelspec": {
      "name": "python3",
      "display_name": "Python 3"
    },
    "language_info": {
      "name": "python"
    },
    "accelerator": "GPU",
    "gpuClass": "standard"
  },
  "cells": [
    {
      "cell_type": "markdown",
      "metadata": {
        "id": "view-in-github",
        "colab_type": "text"
      },
      "source": [
        "<a href=\"https://colab.research.google.com/github/MarcoBarroca/VI_EAFEXP_Proj3/blob/main/projetos/marco.ipynb\" target=\"_parent\"><img src=\"https://colab.research.google.com/assets/colab-badge.svg\" alt=\"Open In Colab\"/></a>"
      ]
    },
    {
      "cell_type": "code",
      "execution_count": 2,
      "metadata": {
        "id": "LujkxF66Ablk"
      },
      "outputs": [],
      "source": [
        "\n",
        "import os\n",
        "import random\n",
        "import pandas as pd\n",
        "import numpy as np\n",
        "import matplotlib.pyplot as plt\n",
        "plt.style.use(\"ggplot\")\n",
        "\n",
        "from tqdm import tqdm, tnrange\n",
        "from itertools import chain\n",
        "from skimage.io import imread, imshow, concatenate_images\n",
        "from skimage.transform import resize\n",
        "from skimage.morphology import label\n",
        "from sklearn.model_selection import train_test_split\n",
        "\n",
        "import tensorflow as tf\n",
        "\n",
        "from tensorflow.keras.models import Model, load_model\n",
        "from tensorflow.keras.layers import Input, BatchNormalization, Activation, Dense, Dropout\n",
        "from tensorflow.keras.layers import Conv2D, Conv2DTranspose\n",
        "from tensorflow.keras.layers import MaxPooling2D, GlobalMaxPool2D\n",
        "from tensorflow.keras.layers import concatenate, add\n",
        "from tensorflow.keras.callbacks import EarlyStopping, ModelCheckpoint, ReduceLROnPlateau\n",
        "from tensorflow.keras.optimizers import Adam\n",
        "from tensorflow.keras.preprocessing.image import ImageDataGenerator, array_to_img, img_to_array, load_img\n",
        "from tensorflow.keras import backend as K"
      ]
    },
    {
      "cell_type": "code",
      "source": [
        "from google.colab import drive\n",
        "drive.mount('/content/drive')"
      ],
      "metadata": {
        "colab": {
          "base_uri": "https://localhost:8080/"
        },
        "id": "OsqXUHVgCeoM",
        "outputId": "547a18de-4a58-4f56-bc79-1675e46f0087"
      },
      "execution_count": 3,
      "outputs": [
        {
          "output_type": "stream",
          "name": "stdout",
          "text": [
            "Mounted at /content/drive\n"
          ]
        }
      ]
    },
    {
      "cell_type": "code",
      "source": [
        "WORK_DIR = '/content/drive/MyDrive/DataP03/'\n",
        "METADATA_TRAIN='/content/drive/MyDrive/DataP03/plasticc_train_metadata.csv.gz'\n",
        "DATA_TRAIN='/content/drive/MyDrive/DataP03/plasticc_train_lightcurves.csv.gz'\n",
        "DATA_TEST='/content/drive/MyDrive/DataP03/plasticc_test_metadata.csv.gz'\n",
        "DATA_EXTRA='/content/drive/MyDrive/DataP03/plasticc_lightcurves_extra.csv.gz'"
      ],
      "metadata": {
        "id": "VvzFbNs0CkgU"
      },
      "execution_count": 4,
      "outputs": []
    },
    {
      "cell_type": "code",
      "source": [
        "\n",
        "train_data = pd.read_csv(DATA_TRAIN,\n",
        ")\n",
        "\n",
        "metadata_test=pd.read_csv(DATA_TEST)\n",
        "test_data=pd.read_csv(DATA_EXTRA)\n",
        "metadata_train=pd.read_csv(METADATA_TRAIN)\n"
      ],
      "metadata": {
        "id": "tqwgC60MC5Wz"
      },
      "execution_count": 100,
      "outputs": []
    },
    {
      "cell_type": "code",
      "source": [
        "metadata_train"
      ],
      "metadata": {
        "colab": {
          "base_uri": "https://localhost:8080/",
          "height": 488
        },
        "id": "b3Lvzd4RFAKm",
        "outputId": "749d4dc8-815e-4287-ef5f-63743fae69cb"
      },
      "execution_count": 64,
      "outputs": [
        {
          "output_type": "execute_result",
          "data": {
            "text/plain": [
              "      object_id        ra     decl  ddf_bool  hostgal_specz  hostgal_photoz  \\\n",
              "0           615  349.0461 -61.9438         1          0.000           0.000   \n",
              "1           713   53.0859 -27.7844         1          1.818           1.627   \n",
              "2           730   33.5742  -6.5796         1          0.232           0.226   \n",
              "3           745    0.1899 -45.5867         1          0.304           0.281   \n",
              "4          1124  352.7113 -63.8237         1          0.193           0.241   \n",
              "...         ...       ...      ...       ...            ...             ...   \n",
              "7843  130739978   26.7188 -14.9403         0          0.000           0.000   \n",
              "7844  130755807  120.1013 -62.6967         0          0.172           2.561   \n",
              "7845  130762946  203.1081 -55.6821         0          0.000           0.000   \n",
              "7846  130772921   79.1016 -35.5018         0          0.000           0.000   \n",
              "7847  130779836  301.9922 -17.4263         0          0.000           0.000   \n",
              "\n",
              "      hostgal_photoz_err  distmod  mwebv  target  ...  true_rv  true_av  \\\n",
              "0                  0.000   -9.000  0.017      92  ...      0.0      0.0   \n",
              "1                  0.255   45.406  0.007      88  ...      0.0      0.0   \n",
              "2                  0.016   40.256  0.021      42  ...      0.0      0.0   \n",
              "3                  1.152   40.795  0.007      90  ...      0.0      0.0   \n",
              "4                  0.018   40.417  0.024      90  ...      0.0      0.0   \n",
              "...                  ...      ...    ...     ...  ...      ...      ...   \n",
              "7843               0.000   -9.000  0.013      65  ...      0.0      0.0   \n",
              "7844               1.115   46.611  0.136      90  ...      0.0      0.0   \n",
              "7845               0.000   -9.000  0.430      16  ...      0.0      0.0   \n",
              "7846               0.000   -9.000  0.034      65  ...      0.0      0.0   \n",
              "7847               0.000   -9.000  0.091       6  ...      0.0      0.0   \n",
              "\n",
              "      true_peakmjd  libid_cadence  tflux_u  tflux_g  tflux_r  tflux_i  \\\n",
              "0        59570.000             69    484.7   3286.7   3214.1   3039.7   \n",
              "1        59570.000             34    108.7    117.7    119.9    149.6   \n",
              "2        60444.379              9      0.0      0.0      0.0      0.0   \n",
              "3        60130.453             38      0.0      0.0      0.0      0.0   \n",
              "4        60452.641              1      0.0      0.0      0.0      0.0   \n",
              "...            ...            ...      ...      ...      ...      ...   \n",
              "7843     59570.000          18232     26.4    267.6    742.8   3295.1   \n",
              "7844     60056.809          14934      0.0      0.0      0.0      0.0   \n",
              "7845     59570.000          47805     83.8   1124.7   1445.1   1191.2   \n",
              "7846     59570.000          22240      1.9     14.4     49.4    244.3   \n",
              "7847     59905.160            305   6134.1  23008.9  36299.5  41257.7   \n",
              "\n",
              "      tflux_z  tflux_y  \n",
              "0      2854.5   2837.0  \n",
              "1       147.9    150.5  \n",
              "2         0.0      0.0  \n",
              "3         0.0      0.0  \n",
              "4         0.0      0.0  \n",
              "...       ...      ...  \n",
              "7843   6047.5   7955.2  \n",
              "7844      0.0      0.0  \n",
              "7845    848.9    382.5  \n",
              "7846    534.8    897.2  \n",
              "7847  43047.7  44230.7  \n",
              "\n",
              "[7848 rows x 26 columns]"
            ],
            "text/html": [
              "\n",
              "  <div id=\"df-53702ec1-f40b-4ab1-9d3c-1595819d0a09\">\n",
              "    <div class=\"colab-df-container\">\n",
              "      <div>\n",
              "<style scoped>\n",
              "    .dataframe tbody tr th:only-of-type {\n",
              "        vertical-align: middle;\n",
              "    }\n",
              "\n",
              "    .dataframe tbody tr th {\n",
              "        vertical-align: top;\n",
              "    }\n",
              "\n",
              "    .dataframe thead th {\n",
              "        text-align: right;\n",
              "    }\n",
              "</style>\n",
              "<table border=\"1\" class=\"dataframe\">\n",
              "  <thead>\n",
              "    <tr style=\"text-align: right;\">\n",
              "      <th></th>\n",
              "      <th>object_id</th>\n",
              "      <th>ra</th>\n",
              "      <th>decl</th>\n",
              "      <th>ddf_bool</th>\n",
              "      <th>hostgal_specz</th>\n",
              "      <th>hostgal_photoz</th>\n",
              "      <th>hostgal_photoz_err</th>\n",
              "      <th>distmod</th>\n",
              "      <th>mwebv</th>\n",
              "      <th>target</th>\n",
              "      <th>...</th>\n",
              "      <th>true_rv</th>\n",
              "      <th>true_av</th>\n",
              "      <th>true_peakmjd</th>\n",
              "      <th>libid_cadence</th>\n",
              "      <th>tflux_u</th>\n",
              "      <th>tflux_g</th>\n",
              "      <th>tflux_r</th>\n",
              "      <th>tflux_i</th>\n",
              "      <th>tflux_z</th>\n",
              "      <th>tflux_y</th>\n",
              "    </tr>\n",
              "  </thead>\n",
              "  <tbody>\n",
              "    <tr>\n",
              "      <th>0</th>\n",
              "      <td>615</td>\n",
              "      <td>349.0461</td>\n",
              "      <td>-61.9438</td>\n",
              "      <td>1</td>\n",
              "      <td>0.000</td>\n",
              "      <td>0.000</td>\n",
              "      <td>0.000</td>\n",
              "      <td>-9.000</td>\n",
              "      <td>0.017</td>\n",
              "      <td>92</td>\n",
              "      <td>...</td>\n",
              "      <td>0.0</td>\n",
              "      <td>0.0</td>\n",
              "      <td>59570.000</td>\n",
              "      <td>69</td>\n",
              "      <td>484.7</td>\n",
              "      <td>3286.7</td>\n",
              "      <td>3214.1</td>\n",
              "      <td>3039.7</td>\n",
              "      <td>2854.5</td>\n",
              "      <td>2837.0</td>\n",
              "    </tr>\n",
              "    <tr>\n",
              "      <th>1</th>\n",
              "      <td>713</td>\n",
              "      <td>53.0859</td>\n",
              "      <td>-27.7844</td>\n",
              "      <td>1</td>\n",
              "      <td>1.818</td>\n",
              "      <td>1.627</td>\n",
              "      <td>0.255</td>\n",
              "      <td>45.406</td>\n",
              "      <td>0.007</td>\n",
              "      <td>88</td>\n",
              "      <td>...</td>\n",
              "      <td>0.0</td>\n",
              "      <td>0.0</td>\n",
              "      <td>59570.000</td>\n",
              "      <td>34</td>\n",
              "      <td>108.7</td>\n",
              "      <td>117.7</td>\n",
              "      <td>119.9</td>\n",
              "      <td>149.6</td>\n",
              "      <td>147.9</td>\n",
              "      <td>150.5</td>\n",
              "    </tr>\n",
              "    <tr>\n",
              "      <th>2</th>\n",
              "      <td>730</td>\n",
              "      <td>33.5742</td>\n",
              "      <td>-6.5796</td>\n",
              "      <td>1</td>\n",
              "      <td>0.232</td>\n",
              "      <td>0.226</td>\n",
              "      <td>0.016</td>\n",
              "      <td>40.256</td>\n",
              "      <td>0.021</td>\n",
              "      <td>42</td>\n",
              "      <td>...</td>\n",
              "      <td>0.0</td>\n",
              "      <td>0.0</td>\n",
              "      <td>60444.379</td>\n",
              "      <td>9</td>\n",
              "      <td>0.0</td>\n",
              "      <td>0.0</td>\n",
              "      <td>0.0</td>\n",
              "      <td>0.0</td>\n",
              "      <td>0.0</td>\n",
              "      <td>0.0</td>\n",
              "    </tr>\n",
              "    <tr>\n",
              "      <th>3</th>\n",
              "      <td>745</td>\n",
              "      <td>0.1899</td>\n",
              "      <td>-45.5867</td>\n",
              "      <td>1</td>\n",
              "      <td>0.304</td>\n",
              "      <td>0.281</td>\n",
              "      <td>1.152</td>\n",
              "      <td>40.795</td>\n",
              "      <td>0.007</td>\n",
              "      <td>90</td>\n",
              "      <td>...</td>\n",
              "      <td>0.0</td>\n",
              "      <td>0.0</td>\n",
              "      <td>60130.453</td>\n",
              "      <td>38</td>\n",
              "      <td>0.0</td>\n",
              "      <td>0.0</td>\n",
              "      <td>0.0</td>\n",
              "      <td>0.0</td>\n",
              "      <td>0.0</td>\n",
              "      <td>0.0</td>\n",
              "    </tr>\n",
              "    <tr>\n",
              "      <th>4</th>\n",
              "      <td>1124</td>\n",
              "      <td>352.7113</td>\n",
              "      <td>-63.8237</td>\n",
              "      <td>1</td>\n",
              "      <td>0.193</td>\n",
              "      <td>0.241</td>\n",
              "      <td>0.018</td>\n",
              "      <td>40.417</td>\n",
              "      <td>0.024</td>\n",
              "      <td>90</td>\n",
              "      <td>...</td>\n",
              "      <td>0.0</td>\n",
              "      <td>0.0</td>\n",
              "      <td>60452.641</td>\n",
              "      <td>1</td>\n",
              "      <td>0.0</td>\n",
              "      <td>0.0</td>\n",
              "      <td>0.0</td>\n",
              "      <td>0.0</td>\n",
              "      <td>0.0</td>\n",
              "      <td>0.0</td>\n",
              "    </tr>\n",
              "    <tr>\n",
              "      <th>...</th>\n",
              "      <td>...</td>\n",
              "      <td>...</td>\n",
              "      <td>...</td>\n",
              "      <td>...</td>\n",
              "      <td>...</td>\n",
              "      <td>...</td>\n",
              "      <td>...</td>\n",
              "      <td>...</td>\n",
              "      <td>...</td>\n",
              "      <td>...</td>\n",
              "      <td>...</td>\n",
              "      <td>...</td>\n",
              "      <td>...</td>\n",
              "      <td>...</td>\n",
              "      <td>...</td>\n",
              "      <td>...</td>\n",
              "      <td>...</td>\n",
              "      <td>...</td>\n",
              "      <td>...</td>\n",
              "      <td>...</td>\n",
              "      <td>...</td>\n",
              "    </tr>\n",
              "    <tr>\n",
              "      <th>7843</th>\n",
              "      <td>130739978</td>\n",
              "      <td>26.7188</td>\n",
              "      <td>-14.9403</td>\n",
              "      <td>0</td>\n",
              "      <td>0.000</td>\n",
              "      <td>0.000</td>\n",
              "      <td>0.000</td>\n",
              "      <td>-9.000</td>\n",
              "      <td>0.013</td>\n",
              "      <td>65</td>\n",
              "      <td>...</td>\n",
              "      <td>0.0</td>\n",
              "      <td>0.0</td>\n",
              "      <td>59570.000</td>\n",
              "      <td>18232</td>\n",
              "      <td>26.4</td>\n",
              "      <td>267.6</td>\n",
              "      <td>742.8</td>\n",
              "      <td>3295.1</td>\n",
              "      <td>6047.5</td>\n",
              "      <td>7955.2</td>\n",
              "    </tr>\n",
              "    <tr>\n",
              "      <th>7844</th>\n",
              "      <td>130755807</td>\n",
              "      <td>120.1013</td>\n",
              "      <td>-62.6967</td>\n",
              "      <td>0</td>\n",
              "      <td>0.172</td>\n",
              "      <td>2.561</td>\n",
              "      <td>1.115</td>\n",
              "      <td>46.611</td>\n",
              "      <td>0.136</td>\n",
              "      <td>90</td>\n",
              "      <td>...</td>\n",
              "      <td>0.0</td>\n",
              "      <td>0.0</td>\n",
              "      <td>60056.809</td>\n",
              "      <td>14934</td>\n",
              "      <td>0.0</td>\n",
              "      <td>0.0</td>\n",
              "      <td>0.0</td>\n",
              "      <td>0.0</td>\n",
              "      <td>0.0</td>\n",
              "      <td>0.0</td>\n",
              "    </tr>\n",
              "    <tr>\n",
              "      <th>7845</th>\n",
              "      <td>130762946</td>\n",
              "      <td>203.1081</td>\n",
              "      <td>-55.6821</td>\n",
              "      <td>0</td>\n",
              "      <td>0.000</td>\n",
              "      <td>0.000</td>\n",
              "      <td>0.000</td>\n",
              "      <td>-9.000</td>\n",
              "      <td>0.430</td>\n",
              "      <td>16</td>\n",
              "      <td>...</td>\n",
              "      <td>0.0</td>\n",
              "      <td>0.0</td>\n",
              "      <td>59570.000</td>\n",
              "      <td>47805</td>\n",
              "      <td>83.8</td>\n",
              "      <td>1124.7</td>\n",
              "      <td>1445.1</td>\n",
              "      <td>1191.2</td>\n",
              "      <td>848.9</td>\n",
              "      <td>382.5</td>\n",
              "    </tr>\n",
              "    <tr>\n",
              "      <th>7846</th>\n",
              "      <td>130772921</td>\n",
              "      <td>79.1016</td>\n",
              "      <td>-35.5018</td>\n",
              "      <td>0</td>\n",
              "      <td>0.000</td>\n",
              "      <td>0.000</td>\n",
              "      <td>0.000</td>\n",
              "      <td>-9.000</td>\n",
              "      <td>0.034</td>\n",
              "      <td>65</td>\n",
              "      <td>...</td>\n",
              "      <td>0.0</td>\n",
              "      <td>0.0</td>\n",
              "      <td>59570.000</td>\n",
              "      <td>22240</td>\n",
              "      <td>1.9</td>\n",
              "      <td>14.4</td>\n",
              "      <td>49.4</td>\n",
              "      <td>244.3</td>\n",
              "      <td>534.8</td>\n",
              "      <td>897.2</td>\n",
              "    </tr>\n",
              "    <tr>\n",
              "      <th>7847</th>\n",
              "      <td>130779836</td>\n",
              "      <td>301.9922</td>\n",
              "      <td>-17.4263</td>\n",
              "      <td>0</td>\n",
              "      <td>0.000</td>\n",
              "      <td>0.000</td>\n",
              "      <td>0.000</td>\n",
              "      <td>-9.000</td>\n",
              "      <td>0.091</td>\n",
              "      <td>6</td>\n",
              "      <td>...</td>\n",
              "      <td>0.0</td>\n",
              "      <td>0.0</td>\n",
              "      <td>59905.160</td>\n",
              "      <td>305</td>\n",
              "      <td>6134.1</td>\n",
              "      <td>23008.9</td>\n",
              "      <td>36299.5</td>\n",
              "      <td>41257.7</td>\n",
              "      <td>43047.7</td>\n",
              "      <td>44230.7</td>\n",
              "    </tr>\n",
              "  </tbody>\n",
              "</table>\n",
              "<p>7848 rows × 26 columns</p>\n",
              "</div>\n",
              "      <button class=\"colab-df-convert\" onclick=\"convertToInteractive('df-53702ec1-f40b-4ab1-9d3c-1595819d0a09')\"\n",
              "              title=\"Convert this dataframe to an interactive table.\"\n",
              "              style=\"display:none;\">\n",
              "        \n",
              "  <svg xmlns=\"http://www.w3.org/2000/svg\" height=\"24px\"viewBox=\"0 0 24 24\"\n",
              "       width=\"24px\">\n",
              "    <path d=\"M0 0h24v24H0V0z\" fill=\"none\"/>\n",
              "    <path d=\"M18.56 5.44l.94 2.06.94-2.06 2.06-.94-2.06-.94-.94-2.06-.94 2.06-2.06.94zm-11 1L8.5 8.5l.94-2.06 2.06-.94-2.06-.94L8.5 2.5l-.94 2.06-2.06.94zm10 10l.94 2.06.94-2.06 2.06-.94-2.06-.94-.94-2.06-.94 2.06-2.06.94z\"/><path d=\"M17.41 7.96l-1.37-1.37c-.4-.4-.92-.59-1.43-.59-.52 0-1.04.2-1.43.59L10.3 9.45l-7.72 7.72c-.78.78-.78 2.05 0 2.83L4 21.41c.39.39.9.59 1.41.59.51 0 1.02-.2 1.41-.59l7.78-7.78 2.81-2.81c.8-.78.8-2.07 0-2.86zM5.41 20L4 18.59l7.72-7.72 1.47 1.35L5.41 20z\"/>\n",
              "  </svg>\n",
              "      </button>\n",
              "      \n",
              "  <style>\n",
              "    .colab-df-container {\n",
              "      display:flex;\n",
              "      flex-wrap:wrap;\n",
              "      gap: 12px;\n",
              "    }\n",
              "\n",
              "    .colab-df-convert {\n",
              "      background-color: #E8F0FE;\n",
              "      border: none;\n",
              "      border-radius: 50%;\n",
              "      cursor: pointer;\n",
              "      display: none;\n",
              "      fill: #1967D2;\n",
              "      height: 32px;\n",
              "      padding: 0 0 0 0;\n",
              "      width: 32px;\n",
              "    }\n",
              "\n",
              "    .colab-df-convert:hover {\n",
              "      background-color: #E2EBFA;\n",
              "      box-shadow: 0px 1px 2px rgba(60, 64, 67, 0.3), 0px 1px 3px 1px rgba(60, 64, 67, 0.15);\n",
              "      fill: #174EA6;\n",
              "    }\n",
              "\n",
              "    [theme=dark] .colab-df-convert {\n",
              "      background-color: #3B4455;\n",
              "      fill: #D2E3FC;\n",
              "    }\n",
              "\n",
              "    [theme=dark] .colab-df-convert:hover {\n",
              "      background-color: #434B5C;\n",
              "      box-shadow: 0px 1px 3px 1px rgba(0, 0, 0, 0.15);\n",
              "      filter: drop-shadow(0px 1px 2px rgba(0, 0, 0, 0.3));\n",
              "      fill: #FFFFFF;\n",
              "    }\n",
              "  </style>\n",
              "\n",
              "      <script>\n",
              "        const buttonEl =\n",
              "          document.querySelector('#df-53702ec1-f40b-4ab1-9d3c-1595819d0a09 button.colab-df-convert');\n",
              "        buttonEl.style.display =\n",
              "          google.colab.kernel.accessAllowed ? 'block' : 'none';\n",
              "\n",
              "        async function convertToInteractive(key) {\n",
              "          const element = document.querySelector('#df-53702ec1-f40b-4ab1-9d3c-1595819d0a09');\n",
              "          const dataTable =\n",
              "            await google.colab.kernel.invokeFunction('convertToInteractive',\n",
              "                                                     [key], {});\n",
              "          if (!dataTable) return;\n",
              "\n",
              "          const docLinkHtml = 'Like what you see? Visit the ' +\n",
              "            '<a target=\"_blank\" href=https://colab.research.google.com/notebooks/data_table.ipynb>data table notebook</a>'\n",
              "            + ' to learn more about interactive tables.';\n",
              "          element.innerHTML = '';\n",
              "          dataTable['output_type'] = 'display_data';\n",
              "          await google.colab.output.renderOutput(dataTable, element);\n",
              "          const docLink = document.createElement('div');\n",
              "          docLink.innerHTML = docLinkHtml;\n",
              "          element.appendChild(docLink);\n",
              "        }\n",
              "      </script>\n",
              "    </div>\n",
              "  </div>\n",
              "  "
            ]
          },
          "metadata": {},
          "execution_count": 64
        }
      ]
    },
    {
      "cell_type": "code",
      "source": [
        "train_data"
      ],
      "metadata": {
        "colab": {
          "base_uri": "https://localhost:8080/",
          "height": 424
        },
        "id": "jHojPqbQFFfs",
        "outputId": "0c238a92-da66-4a18-9a52-c16f0954f4fb"
      },
      "execution_count": 93,
      "outputs": [
        {
          "output_type": "execute_result",
          "data": {
            "text/plain": [
              "         object_id         mjd  passband        flux   flux_err  detected_bool\n",
              "0              615  59750.4229         2 -544.810303   3.622952              1\n",
              "1              615  59750.4306         1 -816.434326   5.553370              1\n",
              "2              615  59750.4383         3 -471.385529   3.801213              1\n",
              "3              615  59750.4450         4 -388.984985  11.395031              1\n",
              "4              615  59752.4070         2 -681.858887   4.041204              1\n",
              "...            ...         ...       ...         ...        ...            ...\n",
              "1421700  130779836  60555.9838         4  -39.881969  46.477093              0\n",
              "1421701  130779836  60560.0459         1   14.894439  18.947685              0\n",
              "1421702  130779836  60571.0225         5   30.593130  50.695290              0\n",
              "1421703  130779836  60585.9974         4  -23.471439  44.819859              0\n",
              "1421704  130779836  60588.0372         0  -41.214264  51.665123              0\n",
              "\n",
              "[1421705 rows x 6 columns]"
            ],
            "text/html": [
              "\n",
              "  <div id=\"df-e424459e-c7fb-4383-b947-07223f311716\">\n",
              "    <div class=\"colab-df-container\">\n",
              "      <div>\n",
              "<style scoped>\n",
              "    .dataframe tbody tr th:only-of-type {\n",
              "        vertical-align: middle;\n",
              "    }\n",
              "\n",
              "    .dataframe tbody tr th {\n",
              "        vertical-align: top;\n",
              "    }\n",
              "\n",
              "    .dataframe thead th {\n",
              "        text-align: right;\n",
              "    }\n",
              "</style>\n",
              "<table border=\"1\" class=\"dataframe\">\n",
              "  <thead>\n",
              "    <tr style=\"text-align: right;\">\n",
              "      <th></th>\n",
              "      <th>object_id</th>\n",
              "      <th>mjd</th>\n",
              "      <th>passband</th>\n",
              "      <th>flux</th>\n",
              "      <th>flux_err</th>\n",
              "      <th>detected_bool</th>\n",
              "    </tr>\n",
              "  </thead>\n",
              "  <tbody>\n",
              "    <tr>\n",
              "      <th>0</th>\n",
              "      <td>615</td>\n",
              "      <td>59750.4229</td>\n",
              "      <td>2</td>\n",
              "      <td>-544.810303</td>\n",
              "      <td>3.622952</td>\n",
              "      <td>1</td>\n",
              "    </tr>\n",
              "    <tr>\n",
              "      <th>1</th>\n",
              "      <td>615</td>\n",
              "      <td>59750.4306</td>\n",
              "      <td>1</td>\n",
              "      <td>-816.434326</td>\n",
              "      <td>5.553370</td>\n",
              "      <td>1</td>\n",
              "    </tr>\n",
              "    <tr>\n",
              "      <th>2</th>\n",
              "      <td>615</td>\n",
              "      <td>59750.4383</td>\n",
              "      <td>3</td>\n",
              "      <td>-471.385529</td>\n",
              "      <td>3.801213</td>\n",
              "      <td>1</td>\n",
              "    </tr>\n",
              "    <tr>\n",
              "      <th>3</th>\n",
              "      <td>615</td>\n",
              "      <td>59750.4450</td>\n",
              "      <td>4</td>\n",
              "      <td>-388.984985</td>\n",
              "      <td>11.395031</td>\n",
              "      <td>1</td>\n",
              "    </tr>\n",
              "    <tr>\n",
              "      <th>4</th>\n",
              "      <td>615</td>\n",
              "      <td>59752.4070</td>\n",
              "      <td>2</td>\n",
              "      <td>-681.858887</td>\n",
              "      <td>4.041204</td>\n",
              "      <td>1</td>\n",
              "    </tr>\n",
              "    <tr>\n",
              "      <th>...</th>\n",
              "      <td>...</td>\n",
              "      <td>...</td>\n",
              "      <td>...</td>\n",
              "      <td>...</td>\n",
              "      <td>...</td>\n",
              "      <td>...</td>\n",
              "    </tr>\n",
              "    <tr>\n",
              "      <th>1421700</th>\n",
              "      <td>130779836</td>\n",
              "      <td>60555.9838</td>\n",
              "      <td>4</td>\n",
              "      <td>-39.881969</td>\n",
              "      <td>46.477093</td>\n",
              "      <td>0</td>\n",
              "    </tr>\n",
              "    <tr>\n",
              "      <th>1421701</th>\n",
              "      <td>130779836</td>\n",
              "      <td>60560.0459</td>\n",
              "      <td>1</td>\n",
              "      <td>14.894439</td>\n",
              "      <td>18.947685</td>\n",
              "      <td>0</td>\n",
              "    </tr>\n",
              "    <tr>\n",
              "      <th>1421702</th>\n",
              "      <td>130779836</td>\n",
              "      <td>60571.0225</td>\n",
              "      <td>5</td>\n",
              "      <td>30.593130</td>\n",
              "      <td>50.695290</td>\n",
              "      <td>0</td>\n",
              "    </tr>\n",
              "    <tr>\n",
              "      <th>1421703</th>\n",
              "      <td>130779836</td>\n",
              "      <td>60585.9974</td>\n",
              "      <td>4</td>\n",
              "      <td>-23.471439</td>\n",
              "      <td>44.819859</td>\n",
              "      <td>0</td>\n",
              "    </tr>\n",
              "    <tr>\n",
              "      <th>1421704</th>\n",
              "      <td>130779836</td>\n",
              "      <td>60588.0372</td>\n",
              "      <td>0</td>\n",
              "      <td>-41.214264</td>\n",
              "      <td>51.665123</td>\n",
              "      <td>0</td>\n",
              "    </tr>\n",
              "  </tbody>\n",
              "</table>\n",
              "<p>1421705 rows × 6 columns</p>\n",
              "</div>\n",
              "      <button class=\"colab-df-convert\" onclick=\"convertToInteractive('df-e424459e-c7fb-4383-b947-07223f311716')\"\n",
              "              title=\"Convert this dataframe to an interactive table.\"\n",
              "              style=\"display:none;\">\n",
              "        \n",
              "  <svg xmlns=\"http://www.w3.org/2000/svg\" height=\"24px\"viewBox=\"0 0 24 24\"\n",
              "       width=\"24px\">\n",
              "    <path d=\"M0 0h24v24H0V0z\" fill=\"none\"/>\n",
              "    <path d=\"M18.56 5.44l.94 2.06.94-2.06 2.06-.94-2.06-.94-.94-2.06-.94 2.06-2.06.94zm-11 1L8.5 8.5l.94-2.06 2.06-.94-2.06-.94L8.5 2.5l-.94 2.06-2.06.94zm10 10l.94 2.06.94-2.06 2.06-.94-2.06-.94-.94-2.06-.94 2.06-2.06.94z\"/><path d=\"M17.41 7.96l-1.37-1.37c-.4-.4-.92-.59-1.43-.59-.52 0-1.04.2-1.43.59L10.3 9.45l-7.72 7.72c-.78.78-.78 2.05 0 2.83L4 21.41c.39.39.9.59 1.41.59.51 0 1.02-.2 1.41-.59l7.78-7.78 2.81-2.81c.8-.78.8-2.07 0-2.86zM5.41 20L4 18.59l7.72-7.72 1.47 1.35L5.41 20z\"/>\n",
              "  </svg>\n",
              "      </button>\n",
              "      \n",
              "  <style>\n",
              "    .colab-df-container {\n",
              "      display:flex;\n",
              "      flex-wrap:wrap;\n",
              "      gap: 12px;\n",
              "    }\n",
              "\n",
              "    .colab-df-convert {\n",
              "      background-color: #E8F0FE;\n",
              "      border: none;\n",
              "      border-radius: 50%;\n",
              "      cursor: pointer;\n",
              "      display: none;\n",
              "      fill: #1967D2;\n",
              "      height: 32px;\n",
              "      padding: 0 0 0 0;\n",
              "      width: 32px;\n",
              "    }\n",
              "\n",
              "    .colab-df-convert:hover {\n",
              "      background-color: #E2EBFA;\n",
              "      box-shadow: 0px 1px 2px rgba(60, 64, 67, 0.3), 0px 1px 3px 1px rgba(60, 64, 67, 0.15);\n",
              "      fill: #174EA6;\n",
              "    }\n",
              "\n",
              "    [theme=dark] .colab-df-convert {\n",
              "      background-color: #3B4455;\n",
              "      fill: #D2E3FC;\n",
              "    }\n",
              "\n",
              "    [theme=dark] .colab-df-convert:hover {\n",
              "      background-color: #434B5C;\n",
              "      box-shadow: 0px 1px 3px 1px rgba(0, 0, 0, 0.15);\n",
              "      filter: drop-shadow(0px 1px 2px rgba(0, 0, 0, 0.3));\n",
              "      fill: #FFFFFF;\n",
              "    }\n",
              "  </style>\n",
              "\n",
              "      <script>\n",
              "        const buttonEl =\n",
              "          document.querySelector('#df-e424459e-c7fb-4383-b947-07223f311716 button.colab-df-convert');\n",
              "        buttonEl.style.display =\n",
              "          google.colab.kernel.accessAllowed ? 'block' : 'none';\n",
              "\n",
              "        async function convertToInteractive(key) {\n",
              "          const element = document.querySelector('#df-e424459e-c7fb-4383-b947-07223f311716');\n",
              "          const dataTable =\n",
              "            await google.colab.kernel.invokeFunction('convertToInteractive',\n",
              "                                                     [key], {});\n",
              "          if (!dataTable) return;\n",
              "\n",
              "          const docLinkHtml = 'Like what you see? Visit the ' +\n",
              "            '<a target=\"_blank\" href=https://colab.research.google.com/notebooks/data_table.ipynb>data table notebook</a>'\n",
              "            + ' to learn more about interactive tables.';\n",
              "          element.innerHTML = '';\n",
              "          dataTable['output_type'] = 'display_data';\n",
              "          await google.colab.output.renderOutput(dataTable, element);\n",
              "          const docLink = document.createElement('div');\n",
              "          docLink.innerHTML = docLinkHtml;\n",
              "          element.appendChild(docLink);\n",
              "        }\n",
              "      </script>\n",
              "    </div>\n",
              "  </div>\n",
              "  "
            ]
          },
          "metadata": {},
          "execution_count": 93
        }
      ]
    },
    {
      "cell_type": "code",
      "source": [
        "test[0][0]"
      ],
      "metadata": {
        "colab": {
          "base_uri": "https://localhost:8080/"
        },
        "id": "bBDYEnVyKVua",
        "outputId": "2cc88ff9-0c25-4036-cc94-317b912b3f40"
      },
      "execution_count": 39,
      "outputs": [
        {
          "output_type": "execute_result",
          "data": {
            "text/plain": [
              "615.0"
            ]
          },
          "metadata": {},
          "execution_count": 39
        }
      ]
    },
    {
      "cell_type": "code",
      "source": [
        "time=[]\n",
        "flux=[]\n",
        "flux_error=[]\n",
        "for i in range(len(train_data_array)):\n",
        "  if train_data_array[i][0]==713 and train_data_array[i][2]==0:\n",
        "    time.append(test[i][1])\n",
        "    flux.append(test[i][3])\n",
        "    flux_error.append(test[i][4])"
      ],
      "metadata": {
        "id": "ESeVzEkILg6k"
      },
      "execution_count": 105,
      "outputs": []
    },
    {
      "cell_type": "code",
      "source": [
        "train_data.iloc[0]"
      ],
      "metadata": {
        "colab": {
          "base_uri": "https://localhost:8080/"
        },
        "id": "6-3RUNWZUjXM",
        "outputId": "e099f724-8f88-41a8-93ed-8c0c44bff90b"
      },
      "execution_count": 106,
      "outputs": [
        {
          "output_type": "execute_result",
          "data": {
            "text/plain": [
              "object_id          615.000000\n",
              "mjd              59750.422900\n",
              "passband             2.000000\n",
              "flux              -544.810303\n",
              "flux_err             3.622952\n",
              "detected_bool        1.000000\n",
              "Name: 0, dtype: float64"
            ]
          },
          "metadata": {},
          "execution_count": 106
        }
      ]
    },
    {
      "cell_type": "code",
      "source": [
        "time=time-np.min(time)"
      ],
      "metadata": {
        "id": "DkxJxHTwM1T7"
      },
      "execution_count": 107,
      "outputs": []
    },
    {
      "cell_type": "code",
      "source": [
        "end=600\n",
        "plt.figure(figsize=(10,8))\n",
        "#plt.plot(time[:end],flux[:end], label='train')\n",
        "plt.plot(time,flux, label='train')\n",
        "\n",
        "plt.xlabel('time', fontsize=14)\n",
        "plt.ylabel('flux', fontsize=14)\n",
        "plt.legend()"
      ],
      "metadata": {
        "colab": {
          "base_uri": "https://localhost:8080/",
          "height": 519
        },
        "id": "6t4GqImrM2-e",
        "outputId": "9bf5a7d8-d817-4c00-d217-2de970924055"
      },
      "execution_count": 108,
      "outputs": [
        {
          "output_type": "execute_result",
          "data": {
            "text/plain": [
              "<matplotlib.legend.Legend at 0x7f27dfef7370>"
            ]
          },
          "metadata": {},
          "execution_count": 108
        },
        {
          "output_type": "display_data",
          "data": {
            "text/plain": [
              "<Figure size 720x576 with 1 Axes>"
            ],
            "image/png": "[encoded data removed]"
          },
          "metadata": {}
        }
      ]
    },
    {
      "cell_type": "code",
      "source": [
        "metadata_train_array=np.array(metadata_train)[:,:-1]\n",
        "for  i in range(len(metadata_train_array)):\n",
        "  if metadata_train_array[i][0]==713:\n",
        "    print(metadata_train_array[i][11])\n"
      ],
      "metadata": {
        "colab": {
          "base_uri": "https://localhost:8080/"
        },
        "id": "vGMRZ5enNQQU",
        "outputId": "6381947d-c166-42a5-c432-c26f4dca7262"
      },
      "execution_count": 92,
      "outputs": [
        {
          "output_type": "stream",
          "name": "stdout",
          "text": [
            "1.0\n"
          ]
        }
      ]
    },
    {
      "cell_type": "code",
      "source": [
        "metadata_train_array=np.array(metadata_train)[:,:-1]"
      ],
      "metadata": {
        "id": "CetdYK--SWEt"
      },
      "execution_count": 88,
      "outputs": []
    },
    {
      "cell_type": "code",
      "source": [
        "metadata_train"
      ],
      "metadata": {
        "colab": {
          "base_uri": "https://localhost:8080/",
          "height": 488
        },
        "id": "b3CzpcYjXKE_",
        "outputId": "d06d1cf4-4ea8-44ca-8c87-f779a52ff154"
      },
      "execution_count": 109,
      "outputs": [
        {
          "output_type": "execute_result",
          "data": {
            "text/plain": [
              "      object_id        ra     decl  ddf_bool  hostgal_specz  hostgal_photoz  \\\n",
              "0           615  349.0461 -61.9438         1          0.000           0.000   \n",
              "1           713   53.0859 -27.7844         1          1.818           1.627   \n",
              "2           730   33.5742  -6.5796         1          0.232           0.226   \n",
              "3           745    0.1899 -45.5867         1          0.304           0.281   \n",
              "4          1124  352.7113 -63.8237         1          0.193           0.241   \n",
              "...         ...       ...      ...       ...            ...             ...   \n",
              "7843  130739978   26.7188 -14.9403         0          0.000           0.000   \n",
              "7844  130755807  120.1013 -62.6967         0          0.172           2.561   \n",
              "7845  130762946  203.1081 -55.6821         0          0.000           0.000   \n",
              "7846  130772921   79.1016 -35.5018         0          0.000           0.000   \n",
              "7847  130779836  301.9922 -17.4263         0          0.000           0.000   \n",
              "\n",
              "      hostgal_photoz_err  distmod  mwebv  target  ...  true_rv  true_av  \\\n",
              "0                  0.000   -9.000  0.017      92  ...      0.0      0.0   \n",
              "1                  0.255   45.406  0.007      88  ...      0.0      0.0   \n",
              "2                  0.016   40.256  0.021      42  ...      0.0      0.0   \n",
              "3                  1.152   40.795  0.007      90  ...      0.0      0.0   \n",
              "4                  0.018   40.417  0.024      90  ...      0.0      0.0   \n",
              "...                  ...      ...    ...     ...  ...      ...      ...   \n",
              "7843               0.000   -9.000  0.013      65  ...      0.0      0.0   \n",
              "7844               1.115   46.611  0.136      90  ...      0.0      0.0   \n",
              "7845               0.000   -9.000  0.430      16  ...      0.0      0.0   \n",
              "7846               0.000   -9.000  0.034      65  ...      0.0      0.0   \n",
              "7847               0.000   -9.000  0.091       6  ...      0.0      0.0   \n",
              "\n",
              "      true_peakmjd  libid_cadence  tflux_u  tflux_g  tflux_r  tflux_i  \\\n",
              "0        59570.000             69    484.7   3286.7   3214.1   3039.7   \n",
              "1        59570.000             34    108.7    117.7    119.9    149.6   \n",
              "2        60444.379              9      0.0      0.0      0.0      0.0   \n",
              "3        60130.453             38      0.0      0.0      0.0      0.0   \n",
              "4        60452.641              1      0.0      0.0      0.0      0.0   \n",
              "...            ...            ...      ...      ...      ...      ...   \n",
              "7843     59570.000          18232     26.4    267.6    742.8   3295.1   \n",
              "7844     60056.809          14934      0.0      0.0      0.0      0.0   \n",
              "7845     59570.000          47805     83.8   1124.7   1445.1   1191.2   \n",
              "7846     59570.000          22240      1.9     14.4     49.4    244.3   \n",
              "7847     59905.160            305   6134.1  23008.9  36299.5  41257.7   \n",
              "\n",
              "      tflux_z  tflux_y  \n",
              "0      2854.5   2837.0  \n",
              "1       147.9    150.5  \n",
              "2         0.0      0.0  \n",
              "3         0.0      0.0  \n",
              "4         0.0      0.0  \n",
              "...       ...      ...  \n",
              "7843   6047.5   7955.2  \n",
              "7844      0.0      0.0  \n",
              "7845    848.9    382.5  \n",
              "7846    534.8    897.2  \n",
              "7847  43047.7  44230.7  \n",
              "\n",
              "[7848 rows x 26 columns]"
            ],
            "text/html": [
              "\n",
              "  <div id=\"df-f36925ae-c525-4f52-b5e6-068f610385e8\">\n",
              "    <div class=\"colab-df-container\">\n",
              "      <div>\n",
              "<style scoped>\n",
              "    .dataframe tbody tr th:only-of-type {\n",
              "        vertical-align: middle;\n",
              "    }\n",
              "\n",
              "    .dataframe tbody tr th {\n",
              "        vertical-align: top;\n",
              "    }\n",
              "\n",
              "    .dataframe thead th {\n",
              "        text-align: right;\n",
              "    }\n",
              "</style>\n",
              "<table border=\"1\" class=\"dataframe\">\n",
              "  <thead>\n",
              "    <tr style=\"text-align: right;\">\n",
              "      <th></th>\n",
              "      <th>object_id</th>\n",
              "      <th>ra</th>\n",
              "      <th>decl</th>\n",
              "      <th>ddf_bool</th>\n",
              "      <th>hostgal_specz</th>\n",
              "      <th>hostgal_photoz</th>\n",
              "      <th>hostgal_photoz_err</th>\n",
              "      <th>distmod</th>\n",
              "      <th>mwebv</th>\n",
              "      <th>target</th>\n",
              "      <th>...</th>\n",
              "      <th>true_rv</th>\n",
              "      <th>true_av</th>\n",
              "      <th>true_peakmjd</th>\n",
              "      <th>libid_cadence</th>\n",
              "      <th>tflux_u</th>\n",
              "      <th>tflux_g</th>\n",
              "      <th>tflux_r</th>\n",
              "      <th>tflux_i</th>\n",
              "      <th>tflux_z</th>\n",
              "      <th>tflux_y</th>\n",
              "    </tr>\n",
              "  </thead>\n",
              "  <tbody>\n",
              "    <tr>\n",
              "      <th>0</th>\n",
              "      <td>615</td>\n",
              "      <td>349.0461</td>\n",
              "      <td>-61.9438</td>\n",
              "      <td>1</td>\n",
              "      <td>0.000</td>\n",
              "      <td>0.000</td>\n",
              "      <td>0.000</td>\n",
              "      <td>-9.000</td>\n",
              "      <td>0.017</td>\n",
              "      <td>92</td>\n",
              "      <td>...</td>\n",
              "      <td>0.0</td>\n",
              "      <td>0.0</td>\n",
              "      <td>59570.000</td>\n",
              "      <td>69</td>\n",
              "      <td>484.7</td>\n",
              "      <td>3286.7</td>\n",
              "      <td>3214.1</td>\n",
              "      <td>3039.7</td>\n",
              "      <td>2854.5</td>\n",
              "      <td>2837.0</td>\n",
              "    </tr>\n",
              "    <tr>\n",
              "      <th>1</th>\n",
              "      <td>713</td>\n",
              "      <td>53.0859</td>\n",
              "      <td>-27.7844</td>\n",
              "      <td>1</td>\n",
              "      <td>1.818</td>\n",
              "      <td>1.627</td>\n",
              "      <td>0.255</td>\n",
              "      <td>45.406</td>\n",
              "      <td>0.007</td>\n",
              "      <td>88</td>\n",
              "      <td>...</td>\n",
              "      <td>0.0</td>\n",
              "      <td>0.0</td>\n",
              "      <td>59570.000</td>\n",
              "      <td>34</td>\n",
              "      <td>108.7</td>\n",
              "      <td>117.7</td>\n",
              "      <td>119.9</td>\n",
              "      <td>149.6</td>\n",
              "      <td>147.9</td>\n",
              "      <td>150.5</td>\n",
              "    </tr>\n",
              "    <tr>\n",
              "      <th>2</th>\n",
              "      <td>730</td>\n",
              "      <td>33.5742</td>\n",
              "      <td>-6.5796</td>\n",
              "      <td>1</td>\n",
              "      <td>0.232</td>\n",
              "      <td>0.226</td>\n",
              "      <td>0.016</td>\n",
              "      <td>40.256</td>\n",
              "      <td>0.021</td>\n",
              "      <td>42</td>\n",
              "      <td>...</td>\n",
              "      <td>0.0</td>\n",
              "      <td>0.0</td>\n",
              "      <td>60444.379</td>\n",
              "      <td>9</td>\n",
              "      <td>0.0</td>\n",
              "      <td>0.0</td>\n",
              "      <td>0.0</td>\n",
              "      <td>0.0</td>\n",
              "      <td>0.0</td>\n",
              "      <td>0.0</td>\n",
              "    </tr>\n",
              "    <tr>\n",
              "      <th>3</th>\n",
              "      <td>745</td>\n",
              "      <td>0.1899</td>\n",
              "      <td>-45.5867</td>\n",
              "      <td>1</td>\n",
              "      <td>0.304</td>\n",
              "      <td>0.281</td>\n",
              "      <td>1.152</td>\n",
              "      <td>40.795</td>\n",
              "      <td>0.007</td>\n",
              "      <td>90</td>\n",
              "      <td>...</td>\n",
              "      <td>0.0</td>\n",
              "      <td>0.0</td>\n",
              "      <td>60130.453</td>\n",
              "      <td>38</td>\n",
              "      <td>0.0</td>\n",
              "      <td>0.0</td>\n",
              "      <td>0.0</td>\n",
              "      <td>0.0</td>\n",
              "      <td>0.0</td>\n",
              "      <td>0.0</td>\n",
              "    </tr>\n",
              "    <tr>\n",
              "      <th>4</th>\n",
              "      <td>1124</td>\n",
              "      <td>352.7113</td>\n",
              "      <td>-63.8237</td>\n",
              "      <td>1</td>\n",
              "      <td>0.193</td>\n",
              "      <td>0.241</td>\n",
              "      <td>0.018</td>\n",
              "      <td>40.417</td>\n",
              "      <td>0.024</td>\n",
              "      <td>90</td>\n",
              "      <td>...</td>\n",
              "      <td>0.0</td>\n",
              "      <td>0.0</td>\n",
              "      <td>60452.641</td>\n",
              "      <td>1</td>\n",
              "      <td>0.0</td>\n",
              "      <td>0.0</td>\n",
              "      <td>0.0</td>\n",
              "      <td>0.0</td>\n",
              "      <td>0.0</td>\n",
              "      <td>0.0</td>\n",
              "    </tr>\n",
              "    <tr>\n",
              "      <th>...</th>\n",
              "      <td>...</td>\n",
              "      <td>...</td>\n",
              "      <td>...</td>\n",
              "      <td>...</td>\n",
              "      <td>...</td>\n",
              "      <td>...</td>\n",
              "      <td>...</td>\n",
              "      <td>...</td>\n",
              "      <td>...</td>\n",
              "      <td>...</td>\n",
              "      <td>...</td>\n",
              "      <td>...</td>\n",
              "      <td>...</td>\n",
              "      <td>...</td>\n",
              "      <td>...</td>\n",
              "      <td>...</td>\n",
              "      <td>...</td>\n",
              "      <td>...</td>\n",
              "      <td>...</td>\n",
              "      <td>...</td>\n",
              "      <td>...</td>\n",
              "    </tr>\n",
              "    <tr>\n",
              "      <th>7843</th>\n",
              "      <td>130739978</td>\n",
              "      <td>26.7188</td>\n",
              "      <td>-14.9403</td>\n",
              "      <td>0</td>\n",
              "      <td>0.000</td>\n",
              "      <td>0.000</td>\n",
              "      <td>0.000</td>\n",
              "      <td>-9.000</td>\n",
              "      <td>0.013</td>\n",
              "      <td>65</td>\n",
              "      <td>...</td>\n",
              "      <td>0.0</td>\n",
              "      <td>0.0</td>\n",
              "      <td>59570.000</td>\n",
              "      <td>18232</td>\n",
              "      <td>26.4</td>\n",
              "      <td>267.6</td>\n",
              "      <td>742.8</td>\n",
              "      <td>3295.1</td>\n",
              "      <td>6047.5</td>\n",
              "      <td>7955.2</td>\n",
              "    </tr>\n",
              "    <tr>\n",
              "      <th>7844</th>\n",
              "      <td>130755807</td>\n",
              "      <td>120.1013</td>\n",
              "      <td>-62.6967</td>\n",
              "      <td>0</td>\n",
              "      <td>0.172</td>\n",
              "      <td>2.561</td>\n",
              "      <td>1.115</td>\n",
              "      <td>46.611</td>\n",
              "      <td>0.136</td>\n",
              "      <td>90</td>\n",
              "      <td>...</td>\n",
              "      <td>0.0</td>\n",
              "      <td>0.0</td>\n",
              "      <td>60056.809</td>\n",
              "      <td>14934</td>\n",
              "      <td>0.0</td>\n",
              "      <td>0.0</td>\n",
              "      <td>0.0</td>\n",
              "      <td>0.0</td>\n",
              "      <td>0.0</td>\n",
              "      <td>0.0</td>\n",
              "    </tr>\n",
              "    <tr>\n",
              "      <th>7845</th>\n",
              "      <td>130762946</td>\n",
              "      <td>203.1081</td>\n",
              "      <td>-55.6821</td>\n",
              "      <td>0</td>\n",
              "      <td>0.000</td>\n",
              "      <td>0.000</td>\n",
              "      <td>0.000</td>\n",
              "      <td>-9.000</td>\n",
              "      <td>0.430</td>\n",
              "      <td>16</td>\n",
              "      <td>...</td>\n",
              "      <td>0.0</td>\n",
              "      <td>0.0</td>\n",
              "      <td>59570.000</td>\n",
              "      <td>47805</td>\n",
              "      <td>83.8</td>\n",
              "      <td>1124.7</td>\n",
              "      <td>1445.1</td>\n",
              "      <td>1191.2</td>\n",
              "      <td>848.9</td>\n",
              "      <td>382.5</td>\n",
              "    </tr>\n",
              "    <tr>\n",
              "      <th>7846</th>\n",
              "      <td>130772921</td>\n",
              "      <td>79.1016</td>\n",
              "      <td>-35.5018</td>\n",
              "      <td>0</td>\n",
              "      <td>0.000</td>\n",
              "      <td>0.000</td>\n",
              "      <td>0.000</td>\n",
              "      <td>-9.000</td>\n",
              "      <td>0.034</td>\n",
              "      <td>65</td>\n",
              "      <td>...</td>\n",
              "      <td>0.0</td>\n",
              "      <td>0.0</td>\n",
              "      <td>59570.000</td>\n",
              "      <td>22240</td>\n",
              "      <td>1.9</td>\n",
              "      <td>14.4</td>\n",
              "      <td>49.4</td>\n",
              "      <td>244.3</td>\n",
              "      <td>534.8</td>\n",
              "      <td>897.2</td>\n",
              "    </tr>\n",
              "    <tr>\n",
              "      <th>7847</th>\n",
              "      <td>130779836</td>\n",
              "      <td>301.9922</td>\n",
              "      <td>-17.4263</td>\n",
              "      <td>0</td>\n",
              "      <td>0.000</td>\n",
              "      <td>0.000</td>\n",
              "      <td>0.000</td>\n",
              "      <td>-9.000</td>\n",
              "      <td>0.091</td>\n",
              "      <td>6</td>\n",
              "      <td>...</td>\n",
              "      <td>0.0</td>\n",
              "      <td>0.0</td>\n",
              "      <td>59905.160</td>\n",
              "      <td>305</td>\n",
              "      <td>6134.1</td>\n",
              "      <td>23008.9</td>\n",
              "      <td>36299.5</td>\n",
              "      <td>41257.7</td>\n",
              "      <td>43047.7</td>\n",
              "      <td>44230.7</td>\n",
              "    </tr>\n",
              "  </tbody>\n",
              "</table>\n",
              "<p>7848 rows × 26 columns</p>\n",
              "</div>\n",
              "      <button class=\"colab-df-convert\" onclick=\"convertToInteractive('df-f36925ae-c525-4f52-b5e6-068f610385e8')\"\n",
              "              title=\"Convert this dataframe to an interactive table.\"\n",
              "              style=\"display:none;\">\n",
              "        \n",
              "  <svg xmlns=\"http://www.w3.org/2000/svg\" height=\"24px\"viewBox=\"0 0 24 24\"\n",
              "       width=\"24px\">\n",
              "    <path d=\"M0 0h24v24H0V0z\" fill=\"none\"/>\n",
              "    <path d=\"M18.56 5.44l.94 2.06.94-2.06 2.06-.94-2.06-.94-.94-2.06-.94 2.06-2.06.94zm-11 1L8.5 8.5l.94-2.06 2.06-.94-2.06-.94L8.5 2.5l-.94 2.06-2.06.94zm10 10l.94 2.06.94-2.06 2.06-.94-2.06-.94-.94-2.06-.94 2.06-2.06.94z\"/><path d=\"M17.41 7.96l-1.37-1.37c-.4-.4-.92-.59-1.43-.59-.52 0-1.04.2-1.43.59L10.3 9.45l-7.72 7.72c-.78.78-.78 2.05 0 2.83L4 21.41c.39.39.9.59 1.41.59.51 0 1.02-.2 1.41-.59l7.78-7.78 2.81-2.81c.8-.78.8-2.07 0-2.86zM5.41 20L4 18.59l7.72-7.72 1.47 1.35L5.41 20z\"/>\n",
              "  </svg>\n",
              "      </button>\n",
              "      \n",
              "  <style>\n",
              "    .colab-df-container {\n",
              "      display:flex;\n",
              "      flex-wrap:wrap;\n",
              "      gap: 12px;\n",
              "    }\n",
              "\n",
              "    .colab-df-convert {\n",
              "      background-color: #E8F0FE;\n",
              "      border: none;\n",
              "      border-radius: 50%;\n",
              "      cursor: pointer;\n",
              "      display: none;\n",
              "      fill: #1967D2;\n",
              "      height: 32px;\n",
              "      padding: 0 0 0 0;\n",
              "      width: 32px;\n",
              "    }\n",
              "\n",
              "    .colab-df-convert:hover {\n",
              "      background-color: #E2EBFA;\n",
              "      box-shadow: 0px 1px 2px rgba(60, 64, 67, 0.3), 0px 1px 3px 1px rgba(60, 64, 67, 0.15);\n",
              "      fill: #174EA6;\n",
              "    }\n",
              "\n",
              "    [theme=dark] .colab-df-convert {\n",
              "      background-color: #3B4455;\n",
              "      fill: #D2E3FC;\n",
              "    }\n",
              "\n",
              "    [theme=dark] .colab-df-convert:hover {\n",
              "      background-color: #434B5C;\n",
              "      box-shadow: 0px 1px 3px 1px rgba(0, 0, 0, 0.15);\n",
              "      filter: drop-shadow(0px 1px 2px rgba(0, 0, 0, 0.3));\n",
              "      fill: #FFFFFF;\n",
              "    }\n",
              "  </style>\n",
              "\n",
              "      <script>\n",
              "        const buttonEl =\n",
              "          document.querySelector('#df-f36925ae-c525-4f52-b5e6-068f610385e8 button.colab-df-convert');\n",
              "        buttonEl.style.display =\n",
              "          google.colab.kernel.accessAllowed ? 'block' : 'none';\n",
              "\n",
              "        async function convertToInteractive(key) {\n",
              "          const element = document.querySelector('#df-f36925ae-c525-4f52-b5e6-068f610385e8');\n",
              "          const dataTable =\n",
              "            await google.colab.kernel.invokeFunction('convertToInteractive',\n",
              "                                                     [key], {});\n",
              "          if (!dataTable) return;\n",
              "\n",
              "          const docLinkHtml = 'Like what you see? Visit the ' +\n",
              "            '<a target=\"_blank\" href=https://colab.research.google.com/notebooks/data_table.ipynb>data table notebook</a>'\n",
              "            + ' to learn more about interactive tables.';\n",
              "          element.innerHTML = '';\n",
              "          dataTable['output_type'] = 'display_data';\n",
              "          await google.colab.output.renderOutput(dataTable, element);\n",
              "          const docLink = document.createElement('div');\n",
              "          docLink.innerHTML = docLinkHtml;\n",
              "          element.appendChild(docLink);\n",
              "        }\n",
              "      </script>\n",
              "    </div>\n",
              "  </div>\n",
              "  "
            ]
          },
          "metadata": {},
          "execution_count": 109
        }
      ]
    },
    {
      "cell_type": "code",
      "source": [
        "classes=[6,15,16,42,52,53,62,64,65,67,88,90,92,95]\n",
        "counts=[]\n",
        "for i in range(len(classes)):\n",
        "  count=np.array(metadata_train)==classes[i]\n",
        "  counts.append(np.sum(count))\n",
        "\n"
      ],
      "metadata": {
        "id": "XDO8ImlMihV3"
      },
      "execution_count": 116,
      "outputs": []
    },
    {
      "cell_type": "code",
      "source": [
        "counts"
      ],
      "metadata": {
        "colab": {
          "base_uri": "https://localhost:8080/"
        },
        "id": "ghjuhvToj3XC",
        "outputId": "7e20f92c-8596-4579-9b44-bfd9c5f435b3"
      },
      "execution_count": 117,
      "outputs": [
        {
          "output_type": "execute_result",
          "data": {
            "text/plain": [
              "[327, 1013, 1866, 2422, 381, 86, 984, 229, 1976, 434, 754, 4642, 498, 376]"
            ]
          },
          "metadata": {},
          "execution_count": 117
        }
      ]
    },
    {
      "cell_type": "code",
      "source": [
        "plt.bar(range(len(classes)),counts)\n",
        "plt.xlabel('counts')\n",
        "plt.ylabel('classes ')"
      ],
      "metadata": {
        "colab": {
          "base_uri": "https://localhost:8080/",
          "height": 300
        },
        "id": "F6j_h4M1lxBt",
        "outputId": "1febf216-4f45-4202-854f-162d6e044084"
      },
      "execution_count": 122,
      "outputs": [
        {
          "output_type": "execute_result",
          "data": {
            "text/plain": [
              "Text(0, 0.5, 'classes ')"
            ]
          },
          "metadata": {},
          "execution_count": 122
        },
        {
          "output_type": "display_data",
          "data": {
            "text/plain": [
              "<Figure size 432x288 with 1 Axes>"
            ],
            "image/png": "[encoded data removed]"
          },
          "metadata": {}
        }
      ]
    },
    {
      "cell_type": "code",
      "source": [
        "filters=[0,1,2,3,4,5]\n",
        "counts=[]\n",
        "for i in range(len(filters)):\n",
        "  count=np.array(train_data)==filters[i]\n",
        "  counts.append(np.sum(count))\n",
        "\n",
        "plt.bar(range(len(filters)),counts)\n",
        "plt.xlabel('counts')\n",
        "plt.ylabel('filters ')"
      ],
      "metadata": {
        "colab": {
          "base_uri": "https://localhost:8080/",
          "height": 311
        },
        "id": "Vx0i8S7jmNIQ",
        "outputId": "f7678eda-6fc9-4937-d5ab-7857abd53bad"
      },
      "execution_count": 129,
      "outputs": [
        {
          "output_type": "execute_result",
          "data": {
            "text/plain": [
              "Text(0, 0.5, 'filters ')"
            ]
          },
          "metadata": {},
          "execution_count": 129
        },
        {
          "output_type": "display_data",
          "data": {
            "text/plain": [
              "<Figure size 432x288 with 1 Axes>"
            ],
            "image/png": "[encoded data removed]"
          },
          "metadata": {}
        }
      ]
    },
    {
      "cell_type": "code",
      "source": [
        "counts"
      ],
      "metadata": {
        "colab": {
          "base_uri": "https://localhost:8080/"
        },
        "id": "J_CXATpInorT",
        "outputId": "16a7984e-fc06-4dfb-9db5-9fc6611fa764"
      },
      "execution_count": 128,
      "outputs": [
        {
          "output_type": "execute_result",
          "data": {
            "text/plain": [
              "[0, 299025]"
            ]
          },
          "metadata": {},
          "execution_count": 128
        }
      ]
    },
    {
      "cell_type": "code",
      "source": [
        "obj_ids=train_data['object_id'].values\n",
        "obj_ids_unique=np.unique(obj_ids)"
      ],
      "metadata": {
        "id": "rnXebp8an1g4"
      },
      "execution_count": 8,
      "outputs": []
    },
    {
      "cell_type": "code",
      "source": [
        "counts=[]\n",
        "for i in range(len(obj_ids_unique)):\n",
        "  count=np.array(train_data)==obj_ids_unique[i]\n",
        "  counts.append(np.sum(count))\n",
        "\n",
        "plt.bar(range(len(obj_ids_unique)),counts)\n",
        "plt.xlabel('counts')\n",
        "plt.ylabel('filters ')"
      ],
      "metadata": {
        "colab": {
          "base_uri": "https://localhost:8080/",
          "height": 300
        },
        "id": "xl7yB6l7ozYy",
        "outputId": "41901d19-51d0-433d-99b7-dc203d7b8404"
      },
      "execution_count": 137,
      "outputs": [
        {
          "output_type": "execute_result",
          "data": {
            "text/plain": [
              "Text(0, 0.5, 'filters ')"
            ]
          },
          "metadata": {},
          "execution_count": 137
        },
        {
          "output_type": "display_data",
          "data": {
            "text/plain": [
              "<Figure size 432x288 with 1 Axes>"
            ],
            "image/png": "[encoded data removed]"
          },
          "metadata": {}
        }
      ]
    },
    {
      "cell_type": "code",
      "source": [
        "plt.bar(range(len(obj_ids_unique)),counts)\n",
        "plt.xlabel('counts')\n",
        "plt.ylabel('obj_ids ')"
      ],
      "metadata": {
        "colab": {
          "base_uri": "https://localhost:8080/",
          "height": 300
        },
        "id": "8TuEWU7rpHSe",
        "outputId": "5016cec4-4647-4ed6-ca1d-816e8be28a14"
      },
      "execution_count": 140,
      "outputs": [
        {
          "output_type": "execute_result",
          "data": {
            "text/plain": [
              "Text(0, 0.5, 'obj_ids ')"
            ]
          },
          "metadata": {},
          "execution_count": 140
        },
        {
          "output_type": "display_data",
          "data": {
            "text/plain": [
              "<Figure size 432x288 with 1 Axes>"
            ],
            "image/png": "[encoded data removed]"
          },
          "metadata": {}
        }
      ]
    },
    {
      "cell_type": "code",
      "source": [
        "np.min(counts)"
      ],
      "metadata": {
        "colab": {
          "base_uri": "https://localhost:8080/"
        },
        "id": "TYEHLLXbpN4J",
        "outputId": "77869b60-5fd3-4386-e481-4143dcf3417c"
      },
      "execution_count": 141,
      "outputs": [
        {
          "output_type": "execute_result",
          "data": {
            "text/plain": [
              "255"
            ]
          },
          "metadata": {},
          "execution_count": 141
        }
      ]
    },
    {
      "cell_type": "code",
      "source": [
        "amplitudes=[]\n",
        "for i in range(len(obj_ids_unique)):\n",
        "  lines=train_data[train_data['object_id']==obj_ids_unique[i]]\n",
        "  flux=lines['flux'].values\n",
        "  amplitudes.append(abs(np.max(flux))+abs(np.min(flux)))"
      ],
      "metadata": {
        "id": "XZU7_v5sr1us"
      },
      "execution_count": 151,
      "outputs": []
    },
    {
      "cell_type": "code",
      "source": [
        "end=20\n",
        "plt.bar(range(len(obj_ids_unique[:end])),amplitudes[:end])\n",
        "#plt.bar(range(len(obj_ids_unique)),amplitudes)\n",
        "plt.xlabel('objs')\n",
        "plt.ylabel('amplitudes ')"
      ],
      "metadata": {
        "colab": {
          "base_uri": "https://localhost:8080/",
          "height": 302
        },
        "id": "KiZlD61Or4T0",
        "outputId": "8a806c7f-9112-475f-aa7f-64aaf8bada6b"
      },
      "execution_count": 166,
      "outputs": [
        {
          "output_type": "execute_result",
          "data": {
            "text/plain": [
              "Text(0, 0.5, 'amplitudes ')"
            ]
          },
          "metadata": {},
          "execution_count": 166
        },
        {
          "output_type": "display_data",
          "data": {
            "text/plain": [
              "<Figure size 432x288 with 1 Axes>"
            ],
            "image/png": "[encoded data removed]"
          },
          "metadata": {}
        }
      ]
    },
    {
      "cell_type": "code",
      "source": [
        "fluxes=[]\n",
        "for i in range(len(obj_ids_unique)):\n",
        "  lines=train_data[train_data['object_id']==obj_ids_unique[i]]\n",
        "  flux=lines['flux'].values\n",
        "  #fluxes.append([])\n",
        "  fluxes.append(flux)"
      ],
      "metadata": {
        "id": "oF1TRzGUvD2x"
      },
      "execution_count": 84,
      "outputs": []
    },
    {
      "cell_type": "code",
      "source": [
        "import sklearn.preprocessing as pre\n",
        "fluxes[0] = fluxes[0].reshape(-1, 1)\n",
        "\n",
        "x_norm = pre.MinMaxScaler(feature_range=(-1,1)).fit_transform(fluxes[0])"
      ],
      "metadata": {
        "id": "BGe4iMmyxQmt"
      },
      "execution_count": 36,
      "outputs": []
    },
    {
      "cell_type": "code",
      "source": [
        "np.array(len(fluxes[i]))"
      ],
      "metadata": {
        "colab": {
          "base_uri": "https://localhost:8080/"
        },
        "id": "IiiCcCJrxYRG",
        "outputId": "4c0dfb4a-6909-4c28-b462-89513ff19b8e"
      },
      "execution_count": 39,
      "outputs": [
        {
          "output_type": "execute_result",
          "data": {
            "text/plain": [
              "array(7848)"
            ]
          },
          "metadata": {},
          "execution_count": 39
        }
      ]
    },
    {
      "cell_type": "code",
      "source": [
        "u=[]\n",
        "g=[]\n",
        "r=[]\n",
        "i=[]\n",
        "z=[]\n",
        "Y=[]\n",
        "\n",
        "for j in range(len(filters)):\n",
        "  u=\n",
        "\n",
        "for i in range(len(obj_ids_unique)):\n",
        "  for j in range(len(filters)):\n",
        "\n",
        "    fluxes[i] = fluxes[i].reshape(-1, 1)\n",
        "    x_norm = pre.MinMaxScaler(feature_range=(-1,1)).fit_transform(fluxes[i])"
      ],
      "metadata": {
        "id": "4YNm3GWQWpHN"
      },
      "execution_count": null,
      "outputs": []
    },
    {
      "cell_type": "code",
      "source": [
        "rt=tf.ragged.constant(fluxes)\n",
        "rt = rt.to_tensor()"
      ],
      "metadata": {
        "id": "3HEkGxarayu_"
      },
      "execution_count": 65,
      "outputs": []
    },
    {
      "cell_type": "code",
      "source": [
        "np.max(rt[0])"
      ],
      "metadata": {
        "colab": {
          "base_uri": "https://localhost:8080/"
        },
        "id": "LFt3uiJXa2X-",
        "outputId": "1e72bc0c-a4f0-410b-f9ca-87753dff31a0"
      },
      "execution_count": 62,
      "outputs": [
        {
          "output_type": "execute_result",
          "data": {
            "text/plain": [
              "0.32104570497163804"
            ]
          },
          "metadata": {},
          "execution_count": 62
        }
      ]
    },
    {
      "cell_type": "code",
      "source": [
        "test=tf.reduce_min(rt[0])\n",
        "test"
      ],
      "metadata": {
        "colab": {
          "base_uri": "https://localhost:8080/"
        },
        "id": "yzkPPdG7a9Rq",
        "outputId": "268b9861-6d06-4032-f0fc-972223a6ed17"
      },
      "execution_count": 71,
      "outputs": [
        {
          "output_type": "execute_result",
          "data": {
            "text/plain": [
              "<tf.Tensor: shape=(), dtype=float64, numpy=-1100.440063>"
            ]
          },
          "metadata": {},
          "execution_count": 71
        }
      ]
    },
    {
      "cell_type": "code",
      "source": [
        "x_train = tf.keras.preprocessing.sequence.pad_sequences(fluxes, maxlen=352, padding='post')\n",
        "x_norm = pre.MinMaxScaler(feature_range=(-1,1)).fit_transform(x_norm)"
      ],
      "metadata": {
        "id": "TCTWdDE4f6GG"
      },
      "execution_count": 86,
      "outputs": []
    },
    {
      "cell_type": "code",
      "source": [
        "x_train"
      ],
      "metadata": {
        "colab": {
          "base_uri": "https://localhost:8080/"
        },
        "id": "DOPE_xNyhEvO",
        "outputId": "2f198a7c-9bcd-408c-b6cd-c00d1d123bdd"
      },
      "execution_count": 87,
      "outputs": [
        {
          "output_type": "execute_result",
          "data": {
            "text/plain": [
              "array([[-544, -816, -471, ...,  296,  235,  157],\n",
              "       [   9,    7,    6, ...,   -8,    0,    0],\n",
              "       [   1,    2,    2, ...,    0,    0,    0],\n",
              "       ...,\n",
              "       [  59,  -14,    7, ...,    0,    0,    0],\n",
              "       [   8,  -10,   -2, ...,    0,    0,    0],\n",
              "       [ 571,  749,  811, ...,    0,    0,    0]], dtype=int32)"
            ]
          },
          "metadata": {},
          "execution_count": 87
        }
      ]
    },
    {
      "cell_type": "code",
      "source": [
        "x_norm = pre.MinMaxScaler(feature_range=(-1,1)).fit_transform(x_norm)"
      ],
      "metadata": {
        "id": "-CUXTfEVhIl6"
      },
      "execution_count": 88,
      "outputs": []
    },
    {
      "cell_type": "code",
      "source": [
        "np.min(x_norm[2])"
      ],
      "metadata": {
        "colab": {
          "base_uri": "https://localhost:8080/"
        },
        "id": "kmowTaB6hfL2",
        "outputId": "660da876-386b-4479-822b-4d8851aebd0e"
      },
      "execution_count": 91,
      "outputs": [
        {
          "output_type": "execute_result",
          "data": {
            "text/plain": [
              "-0.979298306561611"
            ]
          },
          "metadata": {},
          "execution_count": 91
        }
      ]
    },
    {
      "cell_type": "code",
      "source": [
        "metadata_train['target'].values"
      ],
      "metadata": {
        "colab": {
          "base_uri": "https://localhost:8080/"
        },
        "id": "66lN5h2KhgUQ",
        "outputId": "3f2aaa56-0629-4f00-fd6a-ab98a003b778"
      },
      "execution_count": 93,
      "outputs": [
        {
          "output_type": "execute_result",
          "data": {
            "text/plain": [
              "array([92, 88, 42, ..., 16, 65,  6])"
            ]
          },
          "metadata": {},
          "execution_count": 93
        }
      ]
    },
    {
      "cell_type": "code",
      "source": [
        "metadata_train['object_id']"
      ],
      "metadata": {
        "colab": {
          "base_uri": "https://localhost:8080/"
        },
        "id": "PXBVnnb7w8l6",
        "outputId": "3f7ecaf5-d8c2-47b4-8c8e-e2ebf2a0757a"
      },
      "execution_count": 94,
      "outputs": [
        {
          "output_type": "execute_result",
          "data": {
            "text/plain": [
              "0             615\n",
              "1             713\n",
              "2             730\n",
              "3             745\n",
              "4            1124\n",
              "          ...    \n",
              "7843    130739978\n",
              "7844    130755807\n",
              "7845    130762946\n",
              "7846    130772921\n",
              "7847    130779836\n",
              "Name: object_id, Length: 7848, dtype: int64"
            ]
          },
          "metadata": {},
          "execution_count": 94
        }
      ]
    },
    {
      "cell_type": "code",
      "source": [
        "obj_ids_unique"
      ],
      "metadata": {
        "colab": {
          "base_uri": "https://localhost:8080/"
        },
        "id": "neEfiTcnxCyN",
        "outputId": "12470e3e-1b14-46c2-db6c-4d1b788131de"
      },
      "execution_count": 96,
      "outputs": [
        {
          "output_type": "execute_result",
          "data": {
            "text/plain": [
              "array([      615,       713,       730, ..., 130762946, 130772921,\n",
              "       130779836])"
            ]
          },
          "metadata": {},
          "execution_count": 96
        }
      ]
    },
    {
      "cell_type": "code",
      "source": [
        "obj_ids=metadata_train['object_id'].values\n",
        "tables=[]\n",
        "for i in range(len(obj_ids)):\n",
        "  lines=train_data[train_data['object_id']==obj_ids[i]]\n",
        "  flux=lines['flux'].values\n",
        "  error=lines['flux_err'].values\n",
        "  mjd=lines['mjd'].values\n",
        "  filter=lines['passband'].values\n",
        "  fluxes.append(flux)\n",
        "  errors.append(error)\n",
        "  mjds.append(mjd)\n",
        "  filters.append(filter)\n",
        "  table=np.array([mjd,fluxes,errors,filters])\n",
        "  tables.append(table)\n",
        "\n",
        "x = tf.keras.preprocessing.sequence.pad_sequences(fluxes, maxlen=352, padding='post')\n",
        "y = metadata_train['target'].values\n",
        "y = pre.LabelBinarizer().fit_transform(y)\n",
        "\n",
        "x_train, x_valid, y_train, y_valid = train_test_split(x, y, test_size=0.1, random_state=42)\n",
        "\n",
        "scaler=pre.MinMaxScaler(feature_range=(-1,1)).fit(x_train)\n",
        "\n",
        "x_train = scaler.transform(x_train)\n",
        "x_valid = scaler.transform(x_train)"
      ],
      "metadata": {
        "colab": {
          "base_uri": "https://localhost:8080/",
          "height": 244
        },
        "id": "1kMLQUGhiW_h",
        "outputId": "51153ad4-74f6-49da-ca4b-585a71b1b535"
      },
      "execution_count": 6,
      "outputs": [
        {
          "output_type": "error",
          "ename": "NameError",
          "evalue": "ignored",
          "traceback": [
            "\u001b[0;31m---------------------------------------------------------------------------\u001b[0m",
            "\u001b[0;31mNameError\u001b[0m                                 Traceback (most recent call last)",
            "\u001b[0;32m<ipython-input-6-8dd8c2175ac6>\u001b[0m in \u001b[0;36m<module>\u001b[0;34m\u001b[0m\n\u001b[1;32m      7\u001b[0m   \u001b[0mmjd\u001b[0m\u001b[0;34m=\u001b[0m\u001b[0mlines\u001b[0m\u001b[0;34m[\u001b[0m\u001b[0;34m'mjd'\u001b[0m\u001b[0;34m]\u001b[0m\u001b[0;34m.\u001b[0m\u001b[0mvalues\u001b[0m\u001b[0;34m\u001b[0m\u001b[0;34m\u001b[0m\u001b[0m\n\u001b[1;32m      8\u001b[0m   \u001b[0mfilter\u001b[0m\u001b[0;34m=\u001b[0m\u001b[0mlines\u001b[0m\u001b[0;34m[\u001b[0m\u001b[0;34m'passband'\u001b[0m\u001b[0;34m]\u001b[0m\u001b[0;34m.\u001b[0m\u001b[0mvalues\u001b[0m\u001b[0;34m\u001b[0m\u001b[0;34m\u001b[0m\u001b[0m\n\u001b[0;32m----> 9\u001b[0;31m   \u001b[0mfluxes\u001b[0m\u001b[0;34m.\u001b[0m\u001b[0mappend\u001b[0m\u001b[0;34m(\u001b[0m\u001b[0mflux\u001b[0m\u001b[0;34m)\u001b[0m\u001b[0;34m\u001b[0m\u001b[0;34m\u001b[0m\u001b[0m\n\u001b[0m\u001b[1;32m     10\u001b[0m   \u001b[0merrors\u001b[0m\u001b[0;34m.\u001b[0m\u001b[0mappend\u001b[0m\u001b[0;34m(\u001b[0m\u001b[0merror\u001b[0m\u001b[0;34m)\u001b[0m\u001b[0;34m\u001b[0m\u001b[0;34m\u001b[0m\u001b[0m\n\u001b[1;32m     11\u001b[0m   \u001b[0mmjds\u001b[0m\u001b[0;34m.\u001b[0m\u001b[0mappend\u001b[0m\u001b[0;34m(\u001b[0m\u001b[0mmjd\u001b[0m\u001b[0;34m)\u001b[0m\u001b[0;34m\u001b[0m\u001b[0;34m\u001b[0m\u001b[0m\n",
            "\u001b[0;31mNameError\u001b[0m: name 'fluxes' is not defined"
          ]
        }
      ]
    },
    {
      "cell_type": "code",
      "source": [
        "import sklearn.preprocessing as pre\n",
        "\n",
        "obj_ids=metadata_train['object_id']\n",
        "tables=[]\n",
        "for i in range(len(obj_ids)):\n",
        "  lines=train_data[train_data['object_id']==obj_ids[i]]\n",
        "  flux=np.array(lines['flux'].values)\n",
        "  error=np.array(lines['flux_err'].values)\n",
        "  mjd=np.array(lines['mjd'].values)\n",
        "  filter=np.array(lines['passband'].values)\n",
        "  table=np.array([mjd,flux,error,filter],dtype=np.float32).T\n",
        "  table=normalize_table(table)\n",
        "  tables.append(table)"
      ],
      "metadata": {
        "id": "ax9CxldSxyV2"
      },
      "execution_count": 60,
      "outputs": []
    },
    {
      "cell_type": "code",
      "source": [
        "def normalize_table(tab):\n",
        "  f_scaler=pre.MinMaxScaler(feature_range=(0,1)).fit(tab[:,1:3])\n",
        "  #e_scaler=pre.MinMaxScaler(feature_range=(-1,1)).fit(tab[:,2])\n",
        "  tab[:,1:3]=f_scaler.transform(tab[:,1:3])\n",
        "  #tab[:,2]=e_scaler.transform(tab[:,2])\n",
        "  tab[:,0]=tab[:,0]-np.min(tab[:,0])\n",
        "\n",
        "  return tab\n",
        "\n",
        "def pre_process(data_df,metadata_df):\n",
        "  obj_ids=metadata_df['object_id']\n",
        "  tables=[]\n",
        "  for i in range(len(obj_ids)):\n",
        "    if obj_ids[i]!=99:\n",
        "      lines=data_df[data_df['object_id']==obj_ids[i]]\n",
        "      flux=np.array(lines['flux'].values)\n",
        "      error=np.array(lines['flux_err'].values)\n",
        "      mjd=np.array(lines['mjd'].values)\n",
        "      filter=np.array(lines['passband'].values)\n",
        "      table=np.array([mjd,flux,error,filter],dtype=np.float32).T\n",
        "      table=normalize_table(table)\n",
        "      tables.append(table)\n",
        "  if obj_ids[i]!=99:\n",
        "    y = metadata_train['target'].values\n",
        "    y = pre.LabelBinarizer().fit_transform(y)\n",
        "\n",
        "    \n",
        "\n",
        "  return tables,y"
      ],
      "metadata": {
        "id": "89tSpR0Dw0tp"
      },
      "execution_count": 121,
      "outputs": []
    },
    {
      "cell_type": "code",
      "source": [
        "x,y=pre_process(train_data,metadata_train)\n"
      ],
      "metadata": {
        "id": "UfYSrWw_x3I8"
      },
      "execution_count": 130,
      "outputs": []
    },
    {
      "cell_type": "code",
      "source": [
        "counts_obj=[]\n",
        "for i in range(len(obj_ids)):\n",
        "  lines=train_data[train_data['object_id']==obj_ids[i]]\n",
        "  counts_obj.append(len(lines))"
      ],
      "metadata": {
        "id": "l6fFjOVvfqaK"
      },
      "execution_count": 34,
      "outputs": []
    },
    {
      "cell_type": "code",
      "source": [
        "pad_x=tf.keras.preprocessing.sequence.pad_sequences(x,value=-99 ,maxlen=352, padding='post')\n",
        "\n",
        "#x_train = tf.RaggedTensor.from_row_lengths(values=tf.concat(x_train, axis=0), row_lengths=[a.shape[0] for a in x_train])\n",
        "#input_lc = tfkl.Input(inputs['lc'].shape[1:], name='lc')"
      ],
      "metadata": {
        "id": "iQEl2C8yphWQ"
      },
      "execution_count": 131,
      "outputs": []
    },
    {
      "cell_type": "code",
      "source": [
        "np_tables=np.array(tables)"
      ],
      "metadata": {
        "colab": {
          "base_uri": "https://localhost:8080/"
        },
        "id": "ogdAZRDbMimb",
        "outputId": "06ca7e31-92b5-4c8c-80e1-d1d2f540d204"
      },
      "execution_count": 16,
      "outputs": [
        {
          "output_type": "stream",
          "name": "stderr",
          "text": [
            "<ipython-input-16-5d6980616005>:1: VisibleDeprecationWarning: Creating an ndarray from ragged nested sequences (which is a list-or-tuple of lists-or-tuples-or ndarrays with different lengths or shapes) is deprecated. If you meant to do this, you must specify 'dtype=object' when creating the ndarray.\n",
            "  np_tables=np.array(tables)\n"
          ]
        }
      ]
    },
    {
      "cell_type": "code",
      "source": [
        "y = metadata_train['target'].values\n",
        "y = pre.LabelBinarizer().fit_transform(y)\n",
        "\n",
        "x_train, x_test, y_train, y_test = train_test_split(pad_tables, y, test_size=0.1, random_state=42)\n",
        "x_train, x_valid, y_train, y_valid = train_test_split(x_train, y_train, test_size=0.09, random_state=42)\n",
        "\n",
        "#x_train=np.array([xn.astype('float32') for xn in x_train])#x_train.astype('float32')\n",
        "#y_train=y_train.astype('float32')"
      ],
      "metadata": {
        "id": "Sp472jYMVVAs"
      },
      "execution_count": 132,
      "outputs": []
    },
    {
      "cell_type": "code",
      "source": [
        "x_train.shape"
      ],
      "metadata": {
        "id": "ZCiVsp_EG8UI",
        "outputId": "64a2e078-9a78-4f3a-9f2c-921df498bffa",
        "colab": {
          "base_uri": "https://localhost:8080/"
        }
      },
      "execution_count": 133,
      "outputs": [
        {
          "output_type": "execute_result",
          "data": {
            "text/plain": [
              "(6427, 352, 4)"
            ]
          },
          "metadata": {},
          "execution_count": 133
        }
      ]
    },
    {
      "cell_type": "code",
      "source": [
        "x_test.shape"
      ],
      "metadata": {
        "id": "oEk4qMPXHAAS",
        "outputId": "f1aee800-c7a3-4916-8865-fab5d27e723f",
        "colab": {
          "base_uri": "https://localhost:8080/"
        }
      },
      "execution_count": 134,
      "outputs": [
        {
          "output_type": "execute_result",
          "data": {
            "text/plain": [
              "(785, 352, 4)"
            ]
          },
          "metadata": {},
          "execution_count": 134
        }
      ]
    },
    {
      "cell_type": "code",
      "source": [
        "x_valid.shape"
      ],
      "metadata": {
        "id": "gwN-TZ8sHCro",
        "outputId": "06aed46b-544f-47c7-d72f-7b12017cd9e1",
        "colab": {
          "base_uri": "https://localhost:8080/"
        }
      },
      "execution_count": 135,
      "outputs": [
        {
          "output_type": "execute_result",
          "data": {
            "text/plain": [
              "(636, 352, 4)"
            ]
          },
          "metadata": {},
          "execution_count": 135
        }
      ]
    },
    {
      "cell_type": "code",
      "source": [
        "np.expand_dims(x_train[0], axis=0).shape"
      ],
      "metadata": {
        "colab": {
          "base_uri": "https://localhost:8080/"
        },
        "id": "F81UBSa3YBSe",
        "outputId": "73d1132a-4a3e-4134-a25d-9d5f70ccc1b3"
      },
      "execution_count": 192,
      "outputs": [
        {
          "output_type": "execute_result",
          "data": {
            "text/plain": [
              "(1, 351, 4)"
            ]
          },
          "metadata": {},
          "execution_count": 192
        }
      ]
    },
    {
      "cell_type": "code",
      "source": [
        "list(x_train)[:2]"
      ],
      "metadata": {
        "colab": {
          "base_uri": "https://localhost:8080/",
          "height": 378
        },
        "id": "jSdhxURfY6Rk",
        "outputId": "7af81dc7-154e-4c30-9046-dc1da4bde711"
      },
      "execution_count": 311,
      "outputs": [
        {
          "output_type": "error",
          "ename": "KeyboardInterrupt",
          "evalue": "ignored",
          "traceback": [
            "\u001b[0;31m---------------------------------------------------------------------------\u001b[0m",
            "\u001b[0;31mKeyboardInterrupt\u001b[0m                         Traceback (most recent call last)",
            "\u001b[0;32m<ipython-input-311-df319a811e40>\u001b[0m in \u001b[0;36m<module>\u001b[0;34m\u001b[0m\n\u001b[0;32m----> 1\u001b[0;31m \u001b[0mlist\u001b[0m\u001b[0;34m(\u001b[0m\u001b[0mx_train\u001b[0m\u001b[0;34m)\u001b[0m\u001b[0;34m\u001b[0m\u001b[0;34m\u001b[0m\u001b[0m\n\u001b[0m",
            "\u001b[0;32m/usr/local/lib/python3.8/dist-packages/IPython/core/displayhook.py\u001b[0m in \u001b[0;36m__call__\u001b[0;34m(self, result)\u001b[0m\n\u001b[1;32m    260\u001b[0m             \u001b[0mself\u001b[0m\u001b[0;34m.\u001b[0m\u001b[0mstart_displayhook\u001b[0m\u001b[0;34m(\u001b[0m\u001b[0;34m)\u001b[0m\u001b[0;34m\u001b[0m\u001b[0;34m\u001b[0m\u001b[0m\n\u001b[1;32m    261\u001b[0m             \u001b[0mself\u001b[0m\u001b[0;34m.\u001b[0m\u001b[0mwrite_output_prompt\u001b[0m\u001b[0;34m(\u001b[0m\u001b[0;34m)\u001b[0m\u001b[0;34m\u001b[0m\u001b[0;34m\u001b[0m\u001b[0m\n\u001b[0;32m--> 262\u001b[0;31m             \u001b[0mformat_dict\u001b[0m\u001b[0;34m,\u001b[0m \u001b[0mmd_dict\u001b[0m \u001b[0;34m=\u001b[0m \u001b[0mself\u001b[0m\u001b[0;34m.\u001b[0m\u001b[0mcompute_format_data\u001b[0m\u001b[0;34m(\u001b[0m\u001b[0mresult\u001b[0m\u001b[0;34m)\u001b[0m\u001b[0;34m\u001b[0m\u001b[0;34m\u001b[0m\u001b[0m\n\u001b[0m\u001b[1;32m    263\u001b[0m             \u001b[0mself\u001b[0m\u001b[0;34m.\u001b[0m\u001b[0mupdate_user_ns\u001b[0m\u001b[0;34m(\u001b[0m\u001b[0mresult\u001b[0m\u001b[0;34m)\u001b[0m\u001b[0;34m\u001b[0m\u001b[0;34m\u001b[0m\u001b[0m\n\u001b[1;32m    264\u001b[0m             \u001b[0mself\u001b[0m\u001b[0;34m.\u001b[0m\u001b[0mfill_exec_result\u001b[0m\u001b[0;34m(\u001b[0m\u001b[0mresult\u001b[0m\u001b[0;34m)\u001b[0m\u001b[0;34m\u001b[0m\u001b[0;34m\u001b[0m\u001b[0m\n",
            "\u001b[0;32m/usr/local/lib/python3.8/dist-packages/IPython/core/displayhook.py\u001b[0m in \u001b[0;36mcompute_format_data\u001b[0;34m(self, result)\u001b[0m\n\u001b[1;32m    149\u001b[0m \u001b[0;34m\u001b[0m\u001b[0m\n\u001b[1;32m    150\u001b[0m         \"\"\"\n\u001b[0;32m--> 151\u001b[0;31m         \u001b[0;32mreturn\u001b[0m \u001b[0mself\u001b[0m\u001b[0;34m.\u001b[0m\u001b[0mshell\u001b[0m\u001b[0;34m.\u001b[0m\u001b[0mdisplay_formatter\u001b[0m\u001b[0;34m.\u001b[0m\u001b[0mformat\u001b[0m\u001b[0;34m(\u001b[0m\u001b[0mresult\u001b[0m\u001b[0;34m)\u001b[0m\u001b[0;34m\u001b[0m\u001b[0;34m\u001b[0m\u001b[0m\n\u001b[0m\u001b[1;32m    152\u001b[0m \u001b[0;34m\u001b[0m\u001b[0m\n\u001b[1;32m    153\u001b[0m     \u001b[0;31m# This can be set to True by the write_output_prompt method in a subclass\u001b[0m\u001b[0;34m\u001b[0m\u001b[0;34m\u001b[0m\u001b[0;34m\u001b[0m\u001b[0m\n",
            "\u001b[0;32m/usr/local/lib/python3.8/dist-packages/IPython/core/formatters.py\u001b[0m in \u001b[0;36mformat\u001b[0;34m(self, obj, include, exclude)\u001b[0m\n\u001b[1;32m    178\u001b[0m             \u001b[0mmd\u001b[0m \u001b[0;34m=\u001b[0m \u001b[0;32mNone\u001b[0m\u001b[0;34m\u001b[0m\u001b[0;34m\u001b[0m\u001b[0m\n\u001b[1;32m    179\u001b[0m             \u001b[0;32mtry\u001b[0m\u001b[0;34m:\u001b[0m\u001b[0;34m\u001b[0m\u001b[0;34m\u001b[0m\u001b[0m\n\u001b[0;32m--> 180\u001b[0;31m                 \u001b[0mdata\u001b[0m \u001b[0;34m=\u001b[0m \u001b[0mformatter\u001b[0m\u001b[0;34m(\u001b[0m\u001b[0mobj\u001b[0m\u001b[0;34m)\u001b[0m\u001b[0;34m\u001b[0m\u001b[0;34m\u001b[0m\u001b[0m\n\u001b[0m\u001b[1;32m    181\u001b[0m             \u001b[0;32mexcept\u001b[0m\u001b[0;34m:\u001b[0m\u001b[0;34m\u001b[0m\u001b[0;34m\u001b[0m\u001b[0m\n\u001b[1;32m    182\u001b[0m                 \u001b[0;31m# FIXME: log the exception\u001b[0m\u001b[0;34m\u001b[0m\u001b[0;34m\u001b[0m\u001b[0;34m\u001b[0m\u001b[0m\n",
            "\u001b[0;32m<decorator-gen-3>\u001b[0m in \u001b[0;36m__call__\u001b[0;34m(self, obj)\u001b[0m\n",
            "\u001b[0;32m/usr/local/lib/python3.8/dist-packages/IPython/core/formatters.py\u001b[0m in \u001b[0;36mcatch_format_error\u001b[0;34m(method, self, *args, **kwargs)\u001b[0m\n\u001b[1;32m    222\u001b[0m     \u001b[0;34m\"\"\"show traceback on failed format call\"\"\"\u001b[0m\u001b[0;34m\u001b[0m\u001b[0;34m\u001b[0m\u001b[0m\n\u001b[1;32m    223\u001b[0m     \u001b[0;32mtry\u001b[0m\u001b[0;34m:\u001b[0m\u001b[0;34m\u001b[0m\u001b[0;34m\u001b[0m\u001b[0m\n\u001b[0;32m--> 224\u001b[0;31m         \u001b[0mr\u001b[0m \u001b[0;34m=\u001b[0m \u001b[0mmethod\u001b[0m\u001b[0;34m(\u001b[0m\u001b[0mself\u001b[0m\u001b[0;34m,\u001b[0m \u001b[0;34m*\u001b[0m\u001b[0margs\u001b[0m\u001b[0;34m,\u001b[0m \u001b[0;34m**\u001b[0m\u001b[0mkwargs\u001b[0m\u001b[0;34m)\u001b[0m\u001b[0;34m\u001b[0m\u001b[0;34m\u001b[0m\u001b[0m\n\u001b[0m\u001b[1;32m    225\u001b[0m     \u001b[0;32mexcept\u001b[0m \u001b[0mNotImplementedError\u001b[0m\u001b[0;34m:\u001b[0m\u001b[0;34m\u001b[0m\u001b[0;34m\u001b[0m\u001b[0m\n\u001b[1;32m    226\u001b[0m         \u001b[0;31m# don't warn on NotImplementedErrors\u001b[0m\u001b[0;34m\u001b[0m\u001b[0;34m\u001b[0m\u001b[0;34m\u001b[0m\u001b[0m\n",
            "\u001b[0;32m/usr/local/lib/python3.8/dist-packages/IPython/core/formatters.py\u001b[0m in \u001b[0;36m__call__\u001b[0;34m(self, obj)\u001b[0m\n\u001b[1;32m    700\u001b[0m                 \u001b[0mtype_pprinters\u001b[0m\u001b[0;34m=\u001b[0m\u001b[0mself\u001b[0m\u001b[0;34m.\u001b[0m\u001b[0mtype_printers\u001b[0m\u001b[0;34m,\u001b[0m\u001b[0;34m\u001b[0m\u001b[0;34m\u001b[0m\u001b[0m\n\u001b[1;32m    701\u001b[0m                 deferred_pprinters=self.deferred_printers)\n\u001b[0;32m--> 702\u001b[0;31m             \u001b[0mprinter\u001b[0m\u001b[0;34m.\u001b[0m\u001b[0mpretty\u001b[0m\u001b[0;34m(\u001b[0m\u001b[0mobj\u001b[0m\u001b[0;34m)\u001b[0m\u001b[0;34m\u001b[0m\u001b[0;34m\u001b[0m\u001b[0m\n\u001b[0m\u001b[1;32m    703\u001b[0m             \u001b[0mprinter\u001b[0m\u001b[0;34m.\u001b[0m\u001b[0mflush\u001b[0m\u001b[0;34m(\u001b[0m\u001b[0;34m)\u001b[0m\u001b[0;34m\u001b[0m\u001b[0;34m\u001b[0m\u001b[0m\n\u001b[1;32m    704\u001b[0m             \u001b[0;32mreturn\u001b[0m \u001b[0mstream\u001b[0m\u001b[0;34m.\u001b[0m\u001b[0mgetvalue\u001b[0m\u001b[0;34m(\u001b[0m\u001b[0;34m)\u001b[0m\u001b[0;34m\u001b[0m\u001b[0;34m\u001b[0m\u001b[0m\n",
            "\u001b[0;32m/usr/local/lib/python3.8/dist-packages/IPython/lib/pretty.py\u001b[0m in \u001b[0;36mpretty\u001b[0;34m(self, obj)\u001b[0m\n\u001b[1;32m    383\u001b[0m                 \u001b[0;32mif\u001b[0m \u001b[0mcls\u001b[0m \u001b[0;32min\u001b[0m \u001b[0mself\u001b[0m\u001b[0;34m.\u001b[0m\u001b[0mtype_pprinters\u001b[0m\u001b[0;34m:\u001b[0m\u001b[0;34m\u001b[0m\u001b[0;34m\u001b[0m\u001b[0m\n\u001b[1;32m    384\u001b[0m                     \u001b[0;31m# printer registered in self.type_pprinters\u001b[0m\u001b[0;34m\u001b[0m\u001b[0;34m\u001b[0m\u001b[0;34m\u001b[0m\u001b[0m\n\u001b[0;32m--> 385\u001b[0;31m                     \u001b[0;32mreturn\u001b[0m \u001b[0mself\u001b[0m\u001b[0;34m.\u001b[0m\u001b[0mtype_pprinters\u001b[0m\u001b[0;34m[\u001b[0m\u001b[0mcls\u001b[0m\u001b[0;34m]\u001b[0m\u001b[0;34m(\u001b[0m\u001b[0mobj\u001b[0m\u001b[0;34m,\u001b[0m \u001b[0mself\u001b[0m\u001b[0;34m,\u001b[0m \u001b[0mcycle\u001b[0m\u001b[0;34m)\u001b[0m\u001b[0;34m\u001b[0m\u001b[0;34m\u001b[0m\u001b[0m\n\u001b[0m\u001b[1;32m    386\u001b[0m                 \u001b[0;32melse\u001b[0m\u001b[0;34m:\u001b[0m\u001b[0;34m\u001b[0m\u001b[0;34m\u001b[0m\u001b[0m\n\u001b[1;32m    387\u001b[0m                     \u001b[0;31m# deferred printer\u001b[0m\u001b[0;34m\u001b[0m\u001b[0;34m\u001b[0m\u001b[0;34m\u001b[0m\u001b[0m\n",
            "\u001b[0;32m/usr/local/lib/python3.8/dist-packages/IPython/lib/pretty.py\u001b[0m in \u001b[0;36minner\u001b[0;34m(obj, p, cycle)\u001b[0m\n\u001b[1;32m    561\u001b[0m                 \u001b[0mp\u001b[0m\u001b[0;34m.\u001b[0m\u001b[0mtext\u001b[0m\u001b[0;34m(\u001b[0m\u001b[0;34m','\u001b[0m\u001b[0;34m)\u001b[0m\u001b[0;34m\u001b[0m\u001b[0;34m\u001b[0m\u001b[0m\n\u001b[1;32m    562\u001b[0m                 \u001b[0mp\u001b[0m\u001b[0;34m.\u001b[0m\u001b[0mbreakable\u001b[0m\u001b[0;34m(\u001b[0m\u001b[0;34m)\u001b[0m\u001b[0;34m\u001b[0m\u001b[0;34m\u001b[0m\u001b[0m\n\u001b[0;32m--> 563\u001b[0;31m             \u001b[0mp\u001b[0m\u001b[0;34m.\u001b[0m\u001b[0mpretty\u001b[0m\u001b[0;34m(\u001b[0m\u001b[0mx\u001b[0m\u001b[0;34m)\u001b[0m\u001b[0;34m\u001b[0m\u001b[0;34m\u001b[0m\u001b[0m\n\u001b[0m\u001b[1;32m    564\u001b[0m         \u001b[0;32mif\u001b[0m \u001b[0mlen\u001b[0m\u001b[0;34m(\u001b[0m\u001b[0mobj\u001b[0m\u001b[0;34m)\u001b[0m \u001b[0;34m==\u001b[0m \u001b[0;36m1\u001b[0m \u001b[0;32mand\u001b[0m \u001b[0mtype\u001b[0m\u001b[0;34m(\u001b[0m\u001b[0mobj\u001b[0m\u001b[0;34m)\u001b[0m \u001b[0;32mis\u001b[0m \u001b[0mtuple\u001b[0m\u001b[0;34m:\u001b[0m\u001b[0;34m\u001b[0m\u001b[0;34m\u001b[0m\u001b[0m\n\u001b[1;32m    565\u001b[0m             \u001b[0;31m# Special case for 1-item tuples.\u001b[0m\u001b[0;34m\u001b[0m\u001b[0;34m\u001b[0m\u001b[0;34m\u001b[0m\u001b[0m\n",
            "\u001b[0;32m/usr/local/lib/python3.8/dist-packages/IPython/lib/pretty.py\u001b[0m in \u001b[0;36mpretty\u001b[0;34m(self, obj)\u001b[0m\n\u001b[1;32m    400\u001b[0m                         \u001b[0;32mif\u001b[0m \u001b[0mcls\u001b[0m \u001b[0;32mis\u001b[0m \u001b[0;32mnot\u001b[0m \u001b[0mobject\u001b[0m\u001b[0;31m \u001b[0m\u001b[0;31m\\\u001b[0m\u001b[0;34m\u001b[0m\u001b[0;34m\u001b[0m\u001b[0m\n\u001b[1;32m    401\u001b[0m                                 \u001b[0;32mand\u001b[0m \u001b[0mcallable\u001b[0m\u001b[0;34m(\u001b[0m\u001b[0mcls\u001b[0m\u001b[0;34m.\u001b[0m\u001b[0m__dict__\u001b[0m\u001b[0;34m.\u001b[0m\u001b[0mget\u001b[0m\u001b[0;34m(\u001b[0m\u001b[0;34m'__repr__'\u001b[0m\u001b[0;34m)\u001b[0m\u001b[0;34m)\u001b[0m\u001b[0;34m:\u001b[0m\u001b[0;34m\u001b[0m\u001b[0;34m\u001b[0m\u001b[0m\n\u001b[0;32m--> 402\u001b[0;31m                             \u001b[0;32mreturn\u001b[0m \u001b[0m_repr_pprint\u001b[0m\u001b[0;34m(\u001b[0m\u001b[0mobj\u001b[0m\u001b[0;34m,\u001b[0m \u001b[0mself\u001b[0m\u001b[0;34m,\u001b[0m \u001b[0mcycle\u001b[0m\u001b[0;34m)\u001b[0m\u001b[0;34m\u001b[0m\u001b[0;34m\u001b[0m\u001b[0m\n\u001b[0m\u001b[1;32m    403\u001b[0m \u001b[0;34m\u001b[0m\u001b[0m\n\u001b[1;32m    404\u001b[0m             \u001b[0;32mreturn\u001b[0m \u001b[0m_default_pprint\u001b[0m\u001b[0;34m(\u001b[0m\u001b[0mobj\u001b[0m\u001b[0;34m,\u001b[0m \u001b[0mself\u001b[0m\u001b[0;34m,\u001b[0m \u001b[0mcycle\u001b[0m\u001b[0;34m)\u001b[0m\u001b[0;34m\u001b[0m\u001b[0;34m\u001b[0m\u001b[0m\n",
            "\u001b[0;32m/usr/local/lib/python3.8/dist-packages/IPython/lib/pretty.py\u001b[0m in \u001b[0;36m_repr_pprint\u001b[0;34m(obj, p, cycle)\u001b[0m\n\u001b[1;32m    695\u001b[0m     \u001b[0;34m\"\"\"A pprint that just redirects to the normal repr function.\"\"\"\u001b[0m\u001b[0;34m\u001b[0m\u001b[0;34m\u001b[0m\u001b[0m\n\u001b[1;32m    696\u001b[0m     \u001b[0;31m# Find newlines and replace them with p.break_()\u001b[0m\u001b[0;34m\u001b[0m\u001b[0;34m\u001b[0m\u001b[0;34m\u001b[0m\u001b[0m\n\u001b[0;32m--> 697\u001b[0;31m     \u001b[0moutput\u001b[0m \u001b[0;34m=\u001b[0m \u001b[0mrepr\u001b[0m\u001b[0;34m(\u001b[0m\u001b[0mobj\u001b[0m\u001b[0;34m)\u001b[0m\u001b[0;34m\u001b[0m\u001b[0;34m\u001b[0m\u001b[0m\n\u001b[0m\u001b[1;32m    698\u001b[0m     \u001b[0;32mfor\u001b[0m \u001b[0midx\u001b[0m\u001b[0;34m,\u001b[0m\u001b[0moutput_line\u001b[0m \u001b[0;32min\u001b[0m \u001b[0menumerate\u001b[0m\u001b[0;34m(\u001b[0m\u001b[0moutput\u001b[0m\u001b[0;34m.\u001b[0m\u001b[0msplitlines\u001b[0m\u001b[0;34m(\u001b[0m\u001b[0;34m)\u001b[0m\u001b[0;34m)\u001b[0m\u001b[0;34m:\u001b[0m\u001b[0;34m\u001b[0m\u001b[0;34m\u001b[0m\u001b[0m\n\u001b[1;32m    699\u001b[0m         \u001b[0;32mif\u001b[0m \u001b[0midx\u001b[0m\u001b[0;34m:\u001b[0m\u001b[0;34m\u001b[0m\u001b[0;34m\u001b[0m\u001b[0m\n",
            "\u001b[0;32m/usr/local/lib/python3.8/dist-packages/numpy/core/arrayprint.py\u001b[0m in \u001b[0;36m_array_repr_implementation\u001b[0;34m(arr, max_line_width, precision, suppress_small, array2string)\u001b[0m\n\u001b[1;32m   1445\u001b[0m         \u001b[0mlst\u001b[0m \u001b[0;34m=\u001b[0m \u001b[0mrepr\u001b[0m\u001b[0;34m(\u001b[0m\u001b[0marr\u001b[0m\u001b[0;34m.\u001b[0m\u001b[0mitem\u001b[0m\u001b[0;34m(\u001b[0m\u001b[0;34m)\u001b[0m\u001b[0;34m)\u001b[0m\u001b[0;34m\u001b[0m\u001b[0;34m\u001b[0m\u001b[0m\n\u001b[1;32m   1446\u001b[0m     \u001b[0;32melif\u001b[0m \u001b[0marr\u001b[0m\u001b[0;34m.\u001b[0m\u001b[0msize\u001b[0m \u001b[0;34m>\u001b[0m \u001b[0;36m0\u001b[0m \u001b[0;32mor\u001b[0m \u001b[0marr\u001b[0m\u001b[0;34m.\u001b[0m\u001b[0mshape\u001b[0m \u001b[0;34m==\u001b[0m \u001b[0;34m(\u001b[0m\u001b[0;36m0\u001b[0m\u001b[0;34m,\u001b[0m\u001b[0;34m)\u001b[0m\u001b[0;34m:\u001b[0m\u001b[0;34m\u001b[0m\u001b[0;34m\u001b[0m\u001b[0m\n\u001b[0;32m-> 1447\u001b[0;31m         lst = array2string(arr, max_line_width, precision, suppress_small,\n\u001b[0m\u001b[1;32m   1448\u001b[0m                            ', ', prefix, suffix=suffix)\n\u001b[1;32m   1449\u001b[0m     \u001b[0;32melse\u001b[0m\u001b[0;34m:\u001b[0m  \u001b[0;31m# show zero-length shape unless it is (0,)\u001b[0m\u001b[0;34m\u001b[0m\u001b[0;34m\u001b[0m\u001b[0m\n",
            "\u001b[0;32m/usr/local/lib/python3.8/dist-packages/numpy/core/arrayprint.py\u001b[0m in \u001b[0;36marray2string\u001b[0;34m(a, max_line_width, precision, suppress_small, separator, prefix, style, formatter, threshold, edgeitems, sign, floatmode, suffix, legacy)\u001b[0m\n\u001b[1;32m    696\u001b[0m         \u001b[0;32mreturn\u001b[0m \u001b[0;34m\"[]\"\u001b[0m\u001b[0;34m\u001b[0m\u001b[0;34m\u001b[0m\u001b[0m\n\u001b[1;32m    697\u001b[0m \u001b[0;34m\u001b[0m\u001b[0m\n\u001b[0;32m--> 698\u001b[0;31m     \u001b[0;32mreturn\u001b[0m \u001b[0m_array2string\u001b[0m\u001b[0;34m(\u001b[0m\u001b[0ma\u001b[0m\u001b[0;34m,\u001b[0m \u001b[0moptions\u001b[0m\u001b[0;34m,\u001b[0m \u001b[0mseparator\u001b[0m\u001b[0;34m,\u001b[0m \u001b[0mprefix\u001b[0m\u001b[0;34m)\u001b[0m\u001b[0;34m\u001b[0m\u001b[0;34m\u001b[0m\u001b[0m\n\u001b[0m\u001b[1;32m    699\u001b[0m \u001b[0;34m\u001b[0m\u001b[0m\n\u001b[1;32m    700\u001b[0m \u001b[0;34m\u001b[0m\u001b[0m\n",
            "\u001b[0;32m/usr/local/lib/python3.8/dist-packages/numpy/core/arrayprint.py\u001b[0m in \u001b[0;36mwrapper\u001b[0;34m(self, *args, **kwargs)\u001b[0m\n\u001b[1;32m    473\u001b[0m             \u001b[0mrepr_running\u001b[0m\u001b[0;34m.\u001b[0m\u001b[0madd\u001b[0m\u001b[0;34m(\u001b[0m\u001b[0mkey\u001b[0m\u001b[0;34m)\u001b[0m\u001b[0;34m\u001b[0m\u001b[0;34m\u001b[0m\u001b[0m\n\u001b[1;32m    474\u001b[0m             \u001b[0;32mtry\u001b[0m\u001b[0;34m:\u001b[0m\u001b[0;34m\u001b[0m\u001b[0;34m\u001b[0m\u001b[0m\n\u001b[0;32m--> 475\u001b[0;31m                 \u001b[0;32mreturn\u001b[0m \u001b[0mf\u001b[0m\u001b[0;34m(\u001b[0m\u001b[0mself\u001b[0m\u001b[0;34m,\u001b[0m \u001b[0;34m*\u001b[0m\u001b[0margs\u001b[0m\u001b[0;34m,\u001b[0m \u001b[0;34m**\u001b[0m\u001b[0mkwargs\u001b[0m\u001b[0;34m)\u001b[0m\u001b[0;34m\u001b[0m\u001b[0;34m\u001b[0m\u001b[0m\n\u001b[0m\u001b[1;32m    476\u001b[0m             \u001b[0;32mfinally\u001b[0m\u001b[0;34m:\u001b[0m\u001b[0;34m\u001b[0m\u001b[0;34m\u001b[0m\u001b[0m\n\u001b[1;32m    477\u001b[0m                 \u001b[0mrepr_running\u001b[0m\u001b[0;34m.\u001b[0m\u001b[0mdiscard\u001b[0m\u001b[0;34m(\u001b[0m\u001b[0mkey\u001b[0m\u001b[0;34m)\u001b[0m\u001b[0;34m\u001b[0m\u001b[0;34m\u001b[0m\u001b[0m\n",
            "\u001b[0;32m/usr/local/lib/python3.8/dist-packages/numpy/core/arrayprint.py\u001b[0m in \u001b[0;36m_array2string\u001b[0;34m(a, options, separator, prefix)\u001b[0m\n\u001b[1;32m    499\u001b[0m \u001b[0;34m\u001b[0m\u001b[0m\n\u001b[1;32m    500\u001b[0m     \u001b[0;31m# find the right formatting function for the array\u001b[0m\u001b[0;34m\u001b[0m\u001b[0;34m\u001b[0m\u001b[0;34m\u001b[0m\u001b[0m\n\u001b[0;32m--> 501\u001b[0;31m     \u001b[0mformat_function\u001b[0m \u001b[0;34m=\u001b[0m \u001b[0m_get_format_function\u001b[0m\u001b[0;34m(\u001b[0m\u001b[0mdata\u001b[0m\u001b[0;34m,\u001b[0m \u001b[0;34m**\u001b[0m\u001b[0moptions\u001b[0m\u001b[0;34m)\u001b[0m\u001b[0;34m\u001b[0m\u001b[0;34m\u001b[0m\u001b[0m\n\u001b[0m\u001b[1;32m    502\u001b[0m \u001b[0;34m\u001b[0m\u001b[0m\n\u001b[1;32m    503\u001b[0m     \u001b[0;31m# skip over \"[\"\u001b[0m\u001b[0;34m\u001b[0m\u001b[0;34m\u001b[0m\u001b[0;34m\u001b[0m\u001b[0m\n",
            "\u001b[0;32m/usr/local/lib/python3.8/dist-packages/numpy/core/arrayprint.py\u001b[0m in \u001b[0;36m_get_format_function\u001b[0;34m(data, **options)\u001b[0m\n\u001b[1;32m    432\u001b[0m             \u001b[0;32mreturn\u001b[0m \u001b[0mformatdict\u001b[0m\u001b[0;34m[\u001b[0m\u001b[0;34m'longfloat'\u001b[0m\u001b[0;34m]\u001b[0m\u001b[0;34m(\u001b[0m\u001b[0;34m)\u001b[0m\u001b[0;34m\u001b[0m\u001b[0;34m\u001b[0m\u001b[0m\n\u001b[1;32m    433\u001b[0m         \u001b[0;32melse\u001b[0m\u001b[0;34m:\u001b[0m\u001b[0;34m\u001b[0m\u001b[0;34m\u001b[0m\u001b[0m\n\u001b[0;32m--> 434\u001b[0;31m             \u001b[0;32mreturn\u001b[0m \u001b[0mformatdict\u001b[0m\u001b[0;34m[\u001b[0m\u001b[0;34m'float'\u001b[0m\u001b[0;34m]\u001b[0m\u001b[0;34m(\u001b[0m\u001b[0;34m)\u001b[0m\u001b[0;34m\u001b[0m\u001b[0;34m\u001b[0m\u001b[0m\n\u001b[0m\u001b[1;32m    435\u001b[0m     \u001b[0;32melif\u001b[0m \u001b[0missubclass\u001b[0m\u001b[0;34m(\u001b[0m\u001b[0mdtypeobj\u001b[0m\u001b[0;34m,\u001b[0m \u001b[0m_nt\u001b[0m\u001b[0;34m.\u001b[0m\u001b[0mcomplexfloating\u001b[0m\u001b[0;34m)\u001b[0m\u001b[0;34m:\u001b[0m\u001b[0;34m\u001b[0m\u001b[0;34m\u001b[0m\u001b[0m\n\u001b[1;32m    436\u001b[0m         \u001b[0;32mif\u001b[0m \u001b[0missubclass\u001b[0m\u001b[0;34m(\u001b[0m\u001b[0mdtypeobj\u001b[0m\u001b[0;34m,\u001b[0m \u001b[0m_nt\u001b[0m\u001b[0;34m.\u001b[0m\u001b[0mclongfloat\u001b[0m\u001b[0;34m)\u001b[0m\u001b[0;34m:\u001b[0m\u001b[0;34m\u001b[0m\u001b[0;34m\u001b[0m\u001b[0m\n",
            "\u001b[0;32m/usr/local/lib/python3.8/dist-packages/numpy/core/arrayprint.py\u001b[0m in \u001b[0;36m<lambda>\u001b[0;34m()\u001b[0m\n\u001b[1;32m    373\u001b[0m         \u001b[0;34m'bool'\u001b[0m\u001b[0;34m:\u001b[0m \u001b[0;32mlambda\u001b[0m\u001b[0;34m:\u001b[0m \u001b[0mBoolFormat\u001b[0m\u001b[0;34m(\u001b[0m\u001b[0mdata\u001b[0m\u001b[0;34m)\u001b[0m\u001b[0;34m,\u001b[0m\u001b[0;34m\u001b[0m\u001b[0;34m\u001b[0m\u001b[0m\n\u001b[1;32m    374\u001b[0m         \u001b[0;34m'int'\u001b[0m\u001b[0;34m:\u001b[0m \u001b[0;32mlambda\u001b[0m\u001b[0;34m:\u001b[0m \u001b[0mIntegerFormat\u001b[0m\u001b[0;34m(\u001b[0m\u001b[0mdata\u001b[0m\u001b[0;34m)\u001b[0m\u001b[0;34m,\u001b[0m\u001b[0;34m\u001b[0m\u001b[0;34m\u001b[0m\u001b[0m\n\u001b[0;32m--> 375\u001b[0;31m         'float': lambda: FloatingFormat(\n\u001b[0m\u001b[1;32m    376\u001b[0m             data, precision, floatmode, suppress, sign, legacy=legacy),\n\u001b[1;32m    377\u001b[0m         'longfloat': lambda: FloatingFormat(\n",
            "\u001b[0;32m/usr/local/lib/python3.8/dist-packages/numpy/core/arrayprint.py\u001b[0m in \u001b[0;36m__init__\u001b[0;34m(self, data, precision, floatmode, suppress_small, sign, legacy)\u001b[0m\n\u001b[1;32m    892\u001b[0m         \u001b[0mself\u001b[0m\u001b[0;34m.\u001b[0m\u001b[0mlarge_exponent\u001b[0m \u001b[0;34m=\u001b[0m \u001b[0;32mFalse\u001b[0m\u001b[0;34m\u001b[0m\u001b[0;34m\u001b[0m\u001b[0m\n\u001b[1;32m    893\u001b[0m \u001b[0;34m\u001b[0m\u001b[0m\n\u001b[0;32m--> 894\u001b[0;31m         \u001b[0mself\u001b[0m\u001b[0;34m.\u001b[0m\u001b[0mfillFormat\u001b[0m\u001b[0;34m(\u001b[0m\u001b[0mdata\u001b[0m\u001b[0;34m)\u001b[0m\u001b[0;34m\u001b[0m\u001b[0;34m\u001b[0m\u001b[0m\n\u001b[0m\u001b[1;32m    895\u001b[0m \u001b[0;34m\u001b[0m\u001b[0m\n\u001b[1;32m    896\u001b[0m     \u001b[0;32mdef\u001b[0m \u001b[0mfillFormat\u001b[0m\u001b[0;34m(\u001b[0m\u001b[0mself\u001b[0m\u001b[0;34m,\u001b[0m \u001b[0mdata\u001b[0m\u001b[0;34m)\u001b[0m\u001b[0;34m:\u001b[0m\u001b[0;34m\u001b[0m\u001b[0;34m\u001b[0m\u001b[0m\n",
            "\u001b[0;32m/usr/local/lib/python3.8/dist-packages/numpy/core/arrayprint.py\u001b[0m in \u001b[0;36mfillFormat\u001b[0;34m(self, data)\u001b[0m\n\u001b[1;32m    924\u001b[0m                     for x in finite_vals)\n\u001b[1;32m    925\u001b[0m             \u001b[0mfrac_strs\u001b[0m\u001b[0;34m,\u001b[0m \u001b[0m_\u001b[0m\u001b[0;34m,\u001b[0m \u001b[0mexp_strs\u001b[0m \u001b[0;34m=\u001b[0m \u001b[0mzip\u001b[0m\u001b[0;34m(\u001b[0m\u001b[0;34m*\u001b[0m\u001b[0;34m(\u001b[0m\u001b[0ms\u001b[0m\u001b[0;34m.\u001b[0m\u001b[0mpartition\u001b[0m\u001b[0;34m(\u001b[0m\u001b[0;34m'e'\u001b[0m\u001b[0;34m)\u001b[0m \u001b[0;32mfor\u001b[0m \u001b[0ms\u001b[0m \u001b[0;32min\u001b[0m \u001b[0mstrs\u001b[0m\u001b[0;34m)\u001b[0m\u001b[0;34m)\u001b[0m\u001b[0;34m\u001b[0m\u001b[0;34m\u001b[0m\u001b[0m\n\u001b[0;32m--> 926\u001b[0;31m             \u001b[0mint_part\u001b[0m\u001b[0;34m,\u001b[0m \u001b[0mfrac_part\u001b[0m \u001b[0;34m=\u001b[0m \u001b[0mzip\u001b[0m\u001b[0;34m(\u001b[0m\u001b[0;34m*\u001b[0m\u001b[0;34m(\u001b[0m\u001b[0ms\u001b[0m\u001b[0;34m.\u001b[0m\u001b[0msplit\u001b[0m\u001b[0;34m(\u001b[0m\u001b[0;34m'.'\u001b[0m\u001b[0;34m)\u001b[0m \u001b[0;32mfor\u001b[0m \u001b[0ms\u001b[0m \u001b[0;32min\u001b[0m \u001b[0mfrac_strs\u001b[0m\u001b[0;34m)\u001b[0m\u001b[0;34m)\u001b[0m\u001b[0;34m\u001b[0m\u001b[0;34m\u001b[0m\u001b[0m\n\u001b[0m\u001b[1;32m    927\u001b[0m             \u001b[0mself\u001b[0m\u001b[0;34m.\u001b[0m\u001b[0mexp_size\u001b[0m \u001b[0;34m=\u001b[0m \u001b[0mmax\u001b[0m\u001b[0;34m(\u001b[0m\u001b[0mlen\u001b[0m\u001b[0;34m(\u001b[0m\u001b[0ms\u001b[0m\u001b[0;34m)\u001b[0m \u001b[0;32mfor\u001b[0m \u001b[0ms\u001b[0m \u001b[0;32min\u001b[0m \u001b[0mexp_strs\u001b[0m\u001b[0;34m)\u001b[0m \u001b[0;34m-\u001b[0m \u001b[0;36m1\u001b[0m\u001b[0;34m\u001b[0m\u001b[0;34m\u001b[0m\u001b[0m\n\u001b[1;32m    928\u001b[0m \u001b[0;34m\u001b[0m\u001b[0m\n",
            "\u001b[0;31mKeyboardInterrupt\u001b[0m: "
          ]
        }
      ]
    },
    {
      "cell_type": "code",
      "source": [
        "from tensorflow.keras.models import Sequential\n",
        "from tensorflow.keras.layers import LSTM, RepeatVector, TimeDistributed, GlobalMaxPool1D\n",
        "from tensorflow.keras.layers import Dense, Masking, Bidirectional, Conv1D,MaxPool1D\n",
        "import keras\n",
        "\n",
        "\n",
        "model = Sequential()\n",
        "#model.add(Masking(mask_value=-99, input_shape=(352, 4)))\n",
        "\n",
        "model.add(Conv1D(filters=32,kernel_size=2,activation='tanh',input_shape=(352, 4)))\n",
        "model.add(MaxPool1D())\n",
        "model.add(Conv1D(filters=64,kernel_size=2,activation='tanh'))\n",
        "model.add(MaxPool1D())\n",
        "\n",
        "model.add(Bidirectional(LSTM(312, activation='tanh', return_sequences=True),merge_mode='concat'))\n",
        "#model.add(Dropout(0.2))\n",
        "model.add(Bidirectional(LSTM(256, activation='tanh', return_sequences=True),merge_mode='concat'))\n",
        "\n",
        "model.add(GlobalMaxPool1D())\n",
        "#model.add(Dropout(0.2))\n",
        "\n",
        "model.add(Dense(128, activation='tanh'))\n",
        "model.add(Dropout(0.2))\n",
        "model.add(Dense(14, activation='Softmax'))\n",
        "\n",
        "optimizer = keras.optimizers.Adam(lr=0.01)\n",
        "model.compile(optimizer=optimizer, loss='categorical_crossentropy', metrics = ['accuracy'])\n",
        "# fit model\n",
        "EPOCHS = 20\n",
        "BATCH_SIZE = 64\n",
        "\n",
        "\n",
        "\n",
        "\n",
        "\n",
        "callbacks = [\n",
        "    EarlyStopping(patience=10, verbose=1,restore_best_weights=True),\n",
        "    #ModelCheckpoint('model_teste01.h5', verbose=1, save_best_only=True, save_weights_only=True),\n",
        "    ReduceLROnPlateau(monitor='val_loss', verbose=1,factor=0.20,\n",
        "                              patience=5, min_lr=0.00001)\n",
        "]\n",
        "\n",
        "\n",
        "\n",
        "\n",
        "\n",
        "\n",
        "# fit model\n",
        "EPOCHS = 50\n",
        "BATCH_SIZE = 64\n",
        "\n",
        "history = model.fit(x=x_train,\n",
        "                    y=y_train,\n",
        "                        validation_data=(x_valid, y_valid),\n",
        "                        epochs=EPOCHS,\n",
        "                      callbacks=callbacks,\n",
        "                        batch_size=BATCH_SIZE)\n",
        "     \n"
      ],
      "metadata": {
        "colab": {
          "base_uri": "https://localhost:8080/"
        },
        "id": "l1I3SF3WVf9v",
        "outputId": "c3ad28b8-98f4-4a4a-a97e-16cb7d4710fd"
      },
      "execution_count": 96,
      "outputs": [
        {
          "output_type": "stream",
          "name": "stdout",
          "text": [
            "Epoch 1/50\n"
          ]
        },
        {
          "output_type": "stream",
          "name": "stderr",
          "text": [
            "/usr/local/lib/python3.8/dist-packages/keras/optimizers/optimizer_v2/adam.py:110: UserWarning: The `lr` argument is deprecated, use `learning_rate` instead.\n",
            "  super(Adam, self).__init__(name, **kwargs)\n"
          ]
        },
        {
          "output_type": "stream",
          "name": "stdout",
          "text": [
            "111/111 [==============================] - 13s 63ms/step - loss: 2.4478 - accuracy: 0.2289 - val_loss: 2.2167 - val_accuracy: 0.2917 - lr: 0.0100\n",
            "Epoch 2/50\n",
            "111/111 [==============================] - 5s 45ms/step - loss: 2.3467 - accuracy: 0.2418 - val_loss: 2.2950 - val_accuracy: 0.2917 - lr: 0.0100\n",
            "Epoch 3/50\n",
            "111/111 [==============================] - 5s 46ms/step - loss: 2.3080 - accuracy: 0.2660 - val_loss: 2.3101 - val_accuracy: 0.2917 - lr: 0.0100\n",
            "Epoch 4/50\n",
            "111/111 [==============================] - 5s 47ms/step - loss: 2.3103 - accuracy: 0.2696 - val_loss: 2.2700 - val_accuracy: 0.2917 - lr: 0.0100\n",
            "Epoch 5/50\n",
            "111/111 [==============================] - 5s 45ms/step - loss: 2.3212 - accuracy: 0.2567 - val_loss: 2.3291 - val_accuracy: 0.2917 - lr: 0.0100\n",
            "Epoch 6/50\n",
            "110/111 [============================>.] - ETA: 0s - loss: 2.2827 - accuracy: 0.2672\n",
            "Epoch 6: ReduceLROnPlateau reducing learning rate to 0.0019999999552965165.\n",
            "111/111 [==============================] - 5s 47ms/step - loss: 2.2828 - accuracy: 0.2673 - val_loss: 2.3024 - val_accuracy: 0.2917 - lr: 0.0100\n",
            "Epoch 7/50\n",
            "111/111 [==============================] - 5s 47ms/step - loss: 2.2180 - accuracy: 0.2885 - val_loss: 2.2040 - val_accuracy: 0.2917 - lr: 0.0020\n",
            "Epoch 8/50\n",
            "111/111 [==============================] - 5s 45ms/step - loss: 2.2159 - accuracy: 0.2911 - val_loss: 2.2084 - val_accuracy: 0.2917 - lr: 0.0020\n",
            "Epoch 9/50\n",
            "111/111 [==============================] - 5s 48ms/step - loss: 2.2129 - accuracy: 0.2945 - val_loss: 2.2102 - val_accuracy: 0.2917 - lr: 0.0020\n",
            "Epoch 10/50\n",
            "111/111 [==============================] - 5s 46ms/step - loss: 2.2070 - accuracy: 0.2917 - val_loss: 2.2070 - val_accuracy: 0.2917 - lr: 0.0020\n",
            "Epoch 11/50\n",
            "111/111 [==============================] - 5s 46ms/step - loss: 2.2009 - accuracy: 0.2939 - val_loss: 2.2168 - val_accuracy: 0.2917 - lr: 0.0020\n",
            "Epoch 12/50\n",
            "111/111 [==============================] - 5s 48ms/step - loss: 2.1905 - accuracy: 0.2938 - val_loss: 2.1982 - val_accuracy: 0.2917 - lr: 0.0020\n",
            "Epoch 13/50\n",
            "111/111 [==============================] - 5s 46ms/step - loss: 2.1894 - accuracy: 0.2924 - val_loss: 2.2030 - val_accuracy: 0.2917 - lr: 0.0020\n",
            "Epoch 14/50\n",
            "111/111 [==============================] - 5s 48ms/step - loss: 2.1850 - accuracy: 0.2935 - val_loss: 2.2159 - val_accuracy: 0.2917 - lr: 0.0020\n",
            "Epoch 15/50\n",
            "111/111 [==============================] - 5s 47ms/step - loss: 2.1919 - accuracy: 0.2945 - val_loss: 2.2065 - val_accuracy: 0.2917 - lr: 0.0020\n",
            "Epoch 16/50\n",
            "111/111 [==============================] - 5s 46ms/step - loss: 2.1852 - accuracy: 0.2917 - val_loss: 2.1891 - val_accuracy: 0.2917 - lr: 0.0020\n",
            "Epoch 17/50\n",
            "111/111 [==============================] - 5s 48ms/step - loss: 2.1849 - accuracy: 0.2884 - val_loss: 2.2131 - val_accuracy: 0.2917 - lr: 0.0020\n",
            "Epoch 18/50\n",
            "111/111 [==============================] - 5s 47ms/step - loss: 2.1797 - accuracy: 0.2945 - val_loss: 2.1905 - val_accuracy: 0.2917 - lr: 0.0020\n",
            "Epoch 19/50\n",
            "111/111 [==============================] - 5s 47ms/step - loss: 2.1852 - accuracy: 0.2928 - val_loss: 2.1831 - val_accuracy: 0.2917 - lr: 0.0020\n",
            "Epoch 20/50\n",
            "111/111 [==============================] - 5s 49ms/step - loss: 2.1833 - accuracy: 0.2918 - val_loss: 2.1955 - val_accuracy: 0.2917 - lr: 0.0020\n",
            "Epoch 21/50\n",
            "111/111 [==============================] - 5s 47ms/step - loss: 2.1822 - accuracy: 0.2918 - val_loss: 2.2155 - val_accuracy: 0.2917 - lr: 0.0020\n",
            "Epoch 22/50\n",
            "111/111 [==============================] - 5s 48ms/step - loss: 2.1798 - accuracy: 0.2928 - val_loss: 2.1924 - val_accuracy: 0.2917 - lr: 0.0020\n",
            "Epoch 23/50\n",
            "111/111 [==============================] - 5s 49ms/step - loss: 2.1803 - accuracy: 0.2941 - val_loss: 2.1921 - val_accuracy: 0.2917 - lr: 0.0020\n",
            "Epoch 24/50\n",
            "111/111 [==============================] - ETA: 0s - loss: 2.1800 - accuracy: 0.2900\n",
            "Epoch 24: ReduceLROnPlateau reducing learning rate to 0.0003999999724328518.\n",
            "111/111 [==============================] - 5s 47ms/step - loss: 2.1800 - accuracy: 0.2900 - val_loss: 2.2031 - val_accuracy: 0.2917 - lr: 0.0020\n",
            "Epoch 25/50\n",
            "111/111 [==============================] - 5s 49ms/step - loss: 2.1679 - accuracy: 0.2952 - val_loss: 2.1825 - val_accuracy: 0.2917 - lr: 4.0000e-04\n",
            "Epoch 26/50\n",
            "111/111 [==============================] - 5s 47ms/step - loss: 2.1657 - accuracy: 0.2951 - val_loss: 2.1831 - val_accuracy: 0.2917 - lr: 4.0000e-04\n",
            "Epoch 27/50\n",
            "111/111 [==============================] - 5s 47ms/step - loss: 2.1660 - accuracy: 0.2951 - val_loss: 2.1903 - val_accuracy: 0.2917 - lr: 4.0000e-04\n",
            "Epoch 28/50\n",
            "111/111 [==============================] - 5s 49ms/step - loss: 2.1654 - accuracy: 0.2951 - val_loss: 2.1824 - val_accuracy: 0.2917 - lr: 4.0000e-04\n",
            "Epoch 29/50\n",
            "111/111 [==============================] - 5s 47ms/step - loss: 2.1652 - accuracy: 0.2949 - val_loss: 2.1818 - val_accuracy: 0.2917 - lr: 4.0000e-04\n",
            "Epoch 30/50\n",
            "111/111 [==============================] - 5s 48ms/step - loss: 2.1647 - accuracy: 0.2949 - val_loss: 2.1916 - val_accuracy: 0.2917 - lr: 4.0000e-04\n",
            "Epoch 31/50\n",
            "111/111 [==============================] - 5s 48ms/step - loss: 2.1636 - accuracy: 0.2951 - val_loss: 2.1810 - val_accuracy: 0.2917 - lr: 4.0000e-04\n",
            "Epoch 32/50\n",
            "111/111 [==============================] - 5s 47ms/step - loss: 2.1612 - accuracy: 0.2951 - val_loss: 2.1843 - val_accuracy: 0.2917 - lr: 4.0000e-04\n",
            "Epoch 33/50\n",
            "111/111 [==============================] - 5s 49ms/step - loss: 2.1614 - accuracy: 0.2951 - val_loss: 2.1844 - val_accuracy: 0.2917 - lr: 4.0000e-04\n",
            "Epoch 34/50\n",
            "111/111 [==============================] - 5s 47ms/step - loss: 2.1619 - accuracy: 0.2951 - val_loss: 2.1863 - val_accuracy: 0.2917 - lr: 4.0000e-04\n",
            "Epoch 35/50\n",
            "111/111 [==============================] - 5s 48ms/step - loss: 2.1648 - accuracy: 0.2951 - val_loss: 2.1850 - val_accuracy: 0.2917 - lr: 4.0000e-04\n",
            "Epoch 36/50\n",
            "110/111 [============================>.] - ETA: 0s - loss: 2.1634 - accuracy: 0.2956\n",
            "Epoch 36: ReduceLROnPlateau reducing learning rate to 7.999999215826393e-05.\n",
            "111/111 [==============================] - 5s 49ms/step - loss: 2.1633 - accuracy: 0.2951 - val_loss: 2.1900 - val_accuracy: 0.2917 - lr: 4.0000e-04\n",
            "Epoch 37/50\n",
            "111/111 [==============================] - 5s 48ms/step - loss: 2.1583 - accuracy: 0.2951 - val_loss: 2.1848 - val_accuracy: 0.2917 - lr: 8.0000e-05\n",
            "Epoch 38/50\n",
            "111/111 [==============================] - 6s 58ms/step - loss: 2.1628 - accuracy: 0.2951 - val_loss: 2.1836 - val_accuracy: 0.2917 - lr: 8.0000e-05\n",
            "Epoch 39/50\n",
            "111/111 [==============================] - 7s 59ms/step - loss: 2.1615 - accuracy: 0.2951 - val_loss: 2.1836 - val_accuracy: 0.2917 - lr: 8.0000e-05\n",
            "Epoch 40/50\n",
            "111/111 [==============================] - 6s 52ms/step - loss: 2.1602 - accuracy: 0.2951 - val_loss: 2.1829 - val_accuracy: 0.2917 - lr: 8.0000e-05\n",
            "Epoch 41/50\n",
            "111/111 [==============================] - ETA: 0s - loss: 2.1604 - accuracy: 0.2951Restoring model weights from the end of the best epoch: 31.\n",
            "\n",
            "Epoch 41: ReduceLROnPlateau reducing learning rate to 1.599999814061448e-05.\n",
            "111/111 [==============================] - 7s 65ms/step - loss: 2.1604 - accuracy: 0.2951 - val_loss: 2.1824 - val_accuracy: 0.2917 - lr: 8.0000e-05\n",
            "Epoch 41: early stopping\n"
          ]
        }
      ]
    },
    {
      "cell_type": "code",
      "source": [
        "plt.figure(figsize=(10,8))\n",
        "plt.plot(history.history['loss'], label='train')\n",
        "plt.plot(history.history['val_loss'], label='validation')\n",
        "\n",
        "plt.xlabel('epochs', fontsize=14)\n",
        "plt.ylabel('loss (binary_crossentropy)', fontsize=14)\n",
        "plt.legend()"
      ],
      "metadata": {
        "colab": {
          "base_uri": "https://localhost:8080/",
          "height": 519
        },
        "id": "hM6jvv_Lpc6a",
        "outputId": "df760521-839b-4870-d965-100c5b8882a1"
      },
      "execution_count": 91,
      "outputs": [
        {
          "output_type": "execute_result",
          "data": {
            "text/plain": [
              "<matplotlib.legend.Legend at 0x7ff3f422dc40>"
            ]
          },
          "metadata": {},
          "execution_count": 91
        },
        {
          "output_type": "display_data",
          "data": {
            "text/plain": [
              "<Figure size 720x576 with 1 Axes>"
            ],
            "image/png": "[encoded data removed]"
          },
          "metadata": {}
        }
      ]
    },
    {
      "cell_type": "markdown",
      "source": [],
      "metadata": {
        "id": "GvbqOtRquAiI"
      }
    },
    {
      "cell_type": "code",
      "source": [
        "from sklearn import metrics as met\n",
        "\n",
        "pred_train=model.predict(x_train)"
      ],
      "metadata": {
        "colab": {
          "base_uri": "https://localhost:8080/"
        },
        "id": "6Eza9hEmmEz-",
        "outputId": "a5f41fe8-1915-4b6d-afdf-e486d78589a4"
      },
      "execution_count": 92,
      "outputs": [
        {
          "output_type": "stream",
          "name": "stdout",
          "text": [
            "221/221 [==============================] - 6s 20ms/step\n"
          ]
        }
      ]
    },
    {
      "cell_type": "code",
      "source": [
        "pred_train.shape"
      ],
      "metadata": {
        "colab": {
          "base_uri": "https://localhost:8080/"
        },
        "id": "mFxj7Sr5V_O6",
        "outputId": "b1642dfb-3f3e-4bf6-a0c7-0c985581ed01"
      },
      "execution_count": 67,
      "outputs": [
        {
          "output_type": "execute_result",
          "data": {
            "text/plain": [
              "(7063, 14)"
            ]
          },
          "metadata": {},
          "execution_count": 67
        }
      ]
    },
    {
      "cell_type": "code",
      "source": [
        "y_test = test_data['target'].values\n",
        "y_test = pre.LabelBinarizer().fit_transform(y)\n",
        "met.RocCurveDisplay.from_predictions(y_train[:,5],pred_train[:,5])"
      ],
      "metadata": {
        "colab": {
          "base_uri": "https://localhost:8080/",
          "height": 300
        },
        "id": "lPSs3IuskdfX",
        "outputId": "ad4415fb-99e9-4a5e-fd24-4a7d5c7e7eca"
      },
      "execution_count": 95,
      "outputs": [
        {
          "output_type": "execute_result",
          "data": {
            "text/plain": [
              "<sklearn.metrics._plot.roc_curve.RocCurveDisplay at 0x7ff3f421bd30>"
            ]
          },
          "metadata": {},
          "execution_count": 95
        },
        {
          "output_type": "display_data",
          "data": {
            "text/plain": [
              "<Figure size 432x288 with 1 Axes>"
            ],
            "image/png": "[encoded data removed]"
          },
          "metadata": {}
        }
      ]
    },
    {
      "cell_type": "code",
      "source": [
        "x_train[]].dtype"
      ],
      "metadata": {
        "colab": {
          "base_uri": "https://localhost:8080/"
        },
        "id": "jwIgMCtXfmX1",
        "outputId": "25f9429e-c508-462f-c98d-f8de08b24047"
      },
      "execution_count": 278,
      "outputs": [
        {
          "output_type": "execute_result",
          "data": {
            "text/plain": [
              "dtype('float32')"
            ]
          },
          "metadata": {},
          "execution_count": 278
        }
      ]
    },
    {
      "cell_type": "code",
      "source": [
        "y_train"
      ],
      "metadata": {
        "colab": {
          "base_uri": "https://localhost:8080/"
        },
        "id": "SNHoy8wtXD1n",
        "outputId": "9b0508de-e1c1-47f1-c99e-a9600b0997f0"
      },
      "execution_count": 244,
      "outputs": [
        {
          "output_type": "execute_result",
          "data": {
            "text/plain": [
              "(7063, 14)"
            ]
          },
          "metadata": {},
          "execution_count": 244
        }
      ]
    },
    {
      "cell_type": "code",
      "source": [
        "test=tf.convert_to_tensor(tables)"
      ],
      "metadata": {
        "colab": {
          "base_uri": "https://localhost:8080/",
          "height": 342
        },
        "id": "HUdQMOT3d-5s",
        "outputId": "370f8af8-3cd2-4e2d-afc2-7971ea1ed2b0"
      },
      "execution_count": 308,
      "outputs": [
        {
          "output_type": "error",
          "ename": "ValueError",
          "evalue": "ignored",
          "traceback": [
            "\u001b[0;31m---------------------------------------------------------------------------\u001b[0m",
            "\u001b[0;31mValueError\u001b[0m                                Traceback (most recent call last)",
            "\u001b[0;32m<ipython-input-308-6e2bb7bae796>\u001b[0m in \u001b[0;36m<module>\u001b[0;34m\u001b[0m\n\u001b[0;32m----> 1\u001b[0;31m \u001b[0mtest\u001b[0m\u001b[0;34m=\u001b[0m\u001b[0mtf\u001b[0m\u001b[0;34m.\u001b[0m\u001b[0mconvert_to_tensor\u001b[0m\u001b[0;34m(\u001b[0m\u001b[0mtables\u001b[0m\u001b[0;34m)\u001b[0m\u001b[0;34m\u001b[0m\u001b[0;34m\u001b[0m\u001b[0m\n\u001b[0m",
            "\u001b[0;32m/usr/local/lib/python3.8/dist-packages/tensorflow/python/util/traceback_utils.py\u001b[0m in \u001b[0;36merror_handler\u001b[0;34m(*args, **kwargs)\u001b[0m\n\u001b[1;32m    151\u001b[0m     \u001b[0;32mexcept\u001b[0m \u001b[0mException\u001b[0m \u001b[0;32mas\u001b[0m \u001b[0me\u001b[0m\u001b[0;34m:\u001b[0m\u001b[0;34m\u001b[0m\u001b[0;34m\u001b[0m\u001b[0m\n\u001b[1;32m    152\u001b[0m       \u001b[0mfiltered_tb\u001b[0m \u001b[0;34m=\u001b[0m \u001b[0m_process_traceback_frames\u001b[0m\u001b[0;34m(\u001b[0m\u001b[0me\u001b[0m\u001b[0;34m.\u001b[0m\u001b[0m__traceback__\u001b[0m\u001b[0;34m)\u001b[0m\u001b[0;34m\u001b[0m\u001b[0;34m\u001b[0m\u001b[0m\n\u001b[0;32m--> 153\u001b[0;31m       \u001b[0;32mraise\u001b[0m \u001b[0me\u001b[0m\u001b[0;34m.\u001b[0m\u001b[0mwith_traceback\u001b[0m\u001b[0;34m(\u001b[0m\u001b[0mfiltered_tb\u001b[0m\u001b[0;34m)\u001b[0m \u001b[0;32mfrom\u001b[0m \u001b[0;32mNone\u001b[0m\u001b[0;34m\u001b[0m\u001b[0;34m\u001b[0m\u001b[0m\n\u001b[0m\u001b[1;32m    154\u001b[0m     \u001b[0;32mfinally\u001b[0m\u001b[0;34m:\u001b[0m\u001b[0;34m\u001b[0m\u001b[0;34m\u001b[0m\u001b[0m\n\u001b[1;32m    155\u001b[0m       \u001b[0;32mdel\u001b[0m \u001b[0mfiltered_tb\u001b[0m\u001b[0;34m\u001b[0m\u001b[0;34m\u001b[0m\u001b[0m\n",
            "\u001b[0;32m/usr/local/lib/python3.8/dist-packages/tensorflow/python/framework/constant_op.py\u001b[0m in \u001b[0;36mconvert_to_eager_tensor\u001b[0;34m(value, ctx, dtype)\u001b[0m\n\u001b[1;32m    100\u001b[0m       \u001b[0mdtype\u001b[0m \u001b[0;34m=\u001b[0m \u001b[0mdtypes\u001b[0m\u001b[0;34m.\u001b[0m\u001b[0mas_dtype\u001b[0m\u001b[0;34m(\u001b[0m\u001b[0mdtype\u001b[0m\u001b[0;34m)\u001b[0m\u001b[0;34m.\u001b[0m\u001b[0mas_datatype_enum\u001b[0m\u001b[0;34m\u001b[0m\u001b[0;34m\u001b[0m\u001b[0m\n\u001b[1;32m    101\u001b[0m   \u001b[0mctx\u001b[0m\u001b[0;34m.\u001b[0m\u001b[0mensure_initialized\u001b[0m\u001b[0;34m(\u001b[0m\u001b[0;34m)\u001b[0m\u001b[0;34m\u001b[0m\u001b[0;34m\u001b[0m\u001b[0m\n\u001b[0;32m--> 102\u001b[0;31m   \u001b[0;32mreturn\u001b[0m \u001b[0mops\u001b[0m\u001b[0;34m.\u001b[0m\u001b[0mEagerTensor\u001b[0m\u001b[0;34m(\u001b[0m\u001b[0mvalue\u001b[0m\u001b[0;34m,\u001b[0m \u001b[0mctx\u001b[0m\u001b[0;34m.\u001b[0m\u001b[0mdevice_name\u001b[0m\u001b[0;34m,\u001b[0m \u001b[0mdtype\u001b[0m\u001b[0;34m)\u001b[0m\u001b[0;34m\u001b[0m\u001b[0;34m\u001b[0m\u001b[0m\n\u001b[0m\u001b[1;32m    103\u001b[0m \u001b[0;34m\u001b[0m\u001b[0m\n\u001b[1;32m    104\u001b[0m \u001b[0;34m\u001b[0m\u001b[0m\n",
            "\u001b[0;31mValueError\u001b[0m: Can't convert non-rectangular Python sequence to Tensor."
          ]
        }
      ]
    },
    {
      "cell_type": "code",
      "source": [
        "test"
      ],
      "metadata": {
        "colab": {
          "base_uri": "https://localhost:8080/"
        },
        "id": "xoVCn0yXlk13",
        "outputId": "1147f368-f189-490e-8112-2aacd9801539"
      },
      "execution_count": 303,
      "outputs": [
        {
          "output_type": "execute_result",
          "data": {
            "text/plain": [
              "<tf.Tensor: shape=(7063, 14), dtype=float32, numpy=\n",
              "array([[0., 0., 0., ..., 0., 0., 0.],\n",
              "       [0., 0., 0., ..., 0., 0., 0.],\n",
              "       [0., 0., 1., ..., 0., 0., 0.],\n",
              "       ...,\n",
              "       [0., 0., 0., ..., 0., 0., 0.],\n",
              "       [0., 1., 0., ..., 0., 0., 0.],\n",
              "       [0., 0., 0., ..., 0., 0., 0.]], dtype=float32)>"
            ]
          },
          "metadata": {},
          "execution_count": 303
        }
      ]
    },
    {
      "cell_type": "code",
      "source": [],
      "metadata": {
        "id": "BDB7zkPplllr"
      },
      "execution_count": null,
      "outputs": []
    }
  ]
}